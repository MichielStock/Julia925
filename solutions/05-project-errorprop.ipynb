{
 "cells": [
  {
   "cell_type": "markdown",
   "metadata": {},
   "source": [
    "# Project: automatic error propagation\n",
    "### Michiel Stock, Bram De Jaegher, Daan Van Hauwermeiren\n",
    "### 18 December 2019\n",
    "# What is error propagation?\n",
    "\n",
    "During my first year of college, I really liked the physics lectures because everything was exact. In my first year of physics, I really disliked the physics labs, because everything was messy. First-year physics labs are generally disliked partially because of the uninspiring topics (measuring resistance in a wire! determining a heat transfer coefficient! measuring chirality of sugar!) and partly because this was the only lab in which 'exact' measurements had to be performed. These labs introduced the complex and unexplained rules for measurement error propagation. Without any prior statistics or probability courses, it was lost on me where these strange rules originated from, as sharp contrast to nearly everything else in physics.\n",
    "\n",
    "A year later, after plowing through a basic probability course, error propagation is less mysterious. Almost all these rules to account for the error can be derived from a simple principle:\n",
    "\n",
    "> Given two **independent** random variables $$X$$ and $$Y$$, the variance of a linear combination $$\\text{Var}[aX+bY]=a^2\\text{Var}[X] + b^2\\text{Var}[Y]$$.\n",
    "\n",
    "Measurement errors are usually given by a standard deviation, the square root of the variance. Given this principle, error propagation is merely bookkeeping of the standard error on the measurement for various computations. This [table on error propagation](https://en.wikipedia.org/wiki/Propagation_of_uncertainty#Example_formulae) might be useful.\n",
    "\n",
    "For nonlinear functions, we can compute an approximate uncertainty propagation using a first-order Taylor approximation. We have, for any function $f(x)$:\n",
    "\n",
    "$$\n",
    "f(x\\pm \\sigma) \\approx f(x) \\pm |f'(x)|\\sigma\\,.\n",
    "$$\n",
    "\n",
    "For example, for squaring a function, we have\n",
    "\n",
    "$$\n",
    "(x\\pm\\sigma)^2 = x^2 \\pm 2|x|\\sigma\\,.\n",
    "$$\n",
    "\n",
    "Note that this is consistent with the above rules for multiplication. Let us implement the general formula for raising a measurement to the power $p$.\n",
    "\n",
    "We can implement this for all the standard mathematical functions one by one. However, Julia provides use with two efficient tools to do this in one swoop: automatic differentiation and metaprogramming. We just loop a list of functions of interest and automatically generate the correct approximate rule.\n",
    "\n",
    "\n",
    "Instead of processing the measurements and the standard error separately, suppose we could just make a new type of number which contains both the observed value and its uncertainty. And suppose we could just compute something with these numbers, plugging them into our formulas where the error is automatically accounted for using the standard error propagation rules. In Julia, it is dead simple to construct such new numbers and just overload existing functions such that they compute in the correct way.\n",
    "\n",
    "# Goal of this project\n",
    "\n",
    "We will implement a binary operator `±`, which can be used to add the standard error to a measurement.\n",
    "The result is a new type `Measurement` containing both the value and the standard error. Standard functions will be overloaded to process this structure correctly.\n",
    "\n",
    "# Assignments\n",
    "\n",
    "1. Make an `Measurement` structure with two fields: the measured value `x` and its standard deviation `σ` (`\\sigma<TAB>`). Make sure that both `x` and `σ` are of the same type and a subtype of `Real`.\n",
    "2. Make a constructor for `Measurement`, such that an error is returned when a negative standard error is given.\n",
    "3. Make two functions `val` and `err`, which respecitivly return the value and the standard error of a measurement.\n",
    "4. Make a binary operator `±` (`\\pm<TAB>`), such that `x ± σ` returns a new instance of the type `Measurement`. Try it on a value 4.0 with a standard error of 1.2.\n",
    "5. Overload all functions of scalar multiplication, adding and substracting measurements and adding a constant such that they correctly process measurements. Try some examples.\n",
    "6. Overload the power function `^` such that one can raise `Measurement`s to a power. Note the special case `(x ± σ)^0` = `one(x) ± zero(σ)`.\n",
    "7. Run example to generate error functions for a whole range of functions using metaprogramming.\n",
    "8. Solve the small exercise using data.\n",
    "\n",
    "**Assignment 1 and 2**"
   ]
  },
  {
   "cell_type": "code",
   "execution_count": 1,
   "metadata": {},
   "outputs": [],
   "source": [
    "struct Measurement{T<:AbstractFloat}\n",
    "    x::T\n",
    "    σ::T\n",
    "    function Measurement(x::T, σ::T) where {T <: AbstractFloat}\n",
    "        @assert σ ≥ 0\n",
    "        new{T}(x, σ)\n",
    "    end\n",
    "end"
   ]
  },
  {
   "cell_type": "markdown",
   "metadata": {},
   "source": [
    "**Assignment 3**"
   ]
  },
  {
   "cell_type": "code",
   "execution_count": 2,
   "metadata": {},
   "outputs": [
    {
     "data": {
      "text/plain": [
       "err (generic function with 1 method)"
      ]
     },
     "execution_count": 2,
     "metadata": {},
     "output_type": "execute_result"
    }
   ],
   "source": [
    "val(m::Measurement) = m.x\n",
    "err(m::Measurement) = m.σ"
   ]
  },
  {
   "cell_type": "markdown",
   "metadata": {},
   "source": [
    "**Assignment 4**\n",
    "\n",
    "Don't forget to add type annotations!"
   ]
  },
  {
   "cell_type": "code",
   "execution_count": 3,
   "metadata": {},
   "outputs": [
    {
     "data": {
      "text/plain": [
       "± (generic function with 1 method)"
      ]
     },
     "execution_count": 3,
     "metadata": {},
     "output_type": "execute_result"
    }
   ],
   "source": [
    "±(x::AbstractFloat, σ::AbstractFloat) = Measurement(x, σ)"
   ]
  },
  {
   "cell_type": "code",
   "execution_count": 4,
   "metadata": {},
   "outputs": [],
   "source": [
    "Base.show(io::IO, m::Measurement) = print(\"$(m.x) ± $(m.σ)\")"
   ]
  },
  {
   "cell_type": "code",
   "execution_count": 5,
   "metadata": {},
   "outputs": [
    {
     "data": {
      "text/plain": []
     },
     "execution_count": 5,
     "metadata": {},
     "output_type": "execute_result"
    },
    {
     "name": "stdout",
     "output_type": "stream",
     "text": [
      "3.0 ± 4.0"
     ]
    }
   ],
   "source": [
    "3.0 ± 4.0"
   ]
  },
  {
   "cell_type": "markdown",
   "metadata": {},
   "source": [
    "**Assignment 5**"
   ]
  },
  {
   "cell_type": "code",
   "execution_count": 6,
   "metadata": {},
   "outputs": [],
   "source": [
    "# scalar multiplication\n",
    "Base.:*(a::Real, m::Measurement) = a * m.x ± abs(a) * m.σ\n",
    "Base.:/(m::Measurement, a::Real) = a * m\n",
    "# adding and substracting measurements\n",
    "Base.:+(m1::Measurement, m2::Measurement) = (m1.x + m2.x) ± sqrt(m1.σ^2 + m2.σ^2)\n",
    "Base.:-(m1::Measurement, m2::Measurement) = (m1.x + m2.x) ± sqrt(m1.σ^2 - m2.σ^2)\n",
    "Base.:-(m::Measurement) = -m.x ± m.σ\n",
    "# adding a constant\n",
    "Base.:+(m::Measurement, a::Real) = (m.x + a) ± m.σ\n",
    "Base.:+(a::Real, m::Measurement) = (m.x + a) ± m.σ\n",
    "# multiplying two measurments\n",
    "Base.:*(m1::Measurement, m2::Measurement) = (m1.x * m2.x) ± (m1.x * m2.x) * sqrt((m1.σ/m1.x)^2 + (m2.σ/m2.x)^2)"
   ]
  },
  {
   "cell_type": "code",
   "execution_count": 7,
   "metadata": {},
   "outputs": [
    {
     "data": {
      "text/plain": []
     },
     "execution_count": 7,
     "metadata": {},
     "output_type": "execute_result"
    },
    {
     "name": "stdout",
     "output_type": "stream",
     "text": [
      "2.1 ± 1.5"
     ]
    }
   ],
   "source": [
    "m1 = 1.2 ± 0.6\n",
    "m2 = 2.1 ± 1.5"
   ]
  },
  {
   "cell_type": "code",
   "execution_count": 8,
   "metadata": {},
   "outputs": [
    {
     "data": {
      "text/plain": []
     },
     "execution_count": 8,
     "metadata": {},
     "output_type": "execute_result"
    },
    {
     "name": "stdout",
     "output_type": "stream",
     "text": [
      "2.4 ± 1.2"
     ]
    }
   ],
   "source": [
    "2m1"
   ]
  },
  {
   "cell_type": "code",
   "execution_count": 9,
   "metadata": {},
   "outputs": [
    {
     "data": {
      "text/plain": []
     },
     "execution_count": 9,
     "metadata": {},
     "output_type": "execute_result"
    },
    {
     "name": "stdout",
     "output_type": "stream",
     "text": [
      "3.3 ± 1.6155494421403511"
     ]
    }
   ],
   "source": [
    "m1 + m2"
   ]
  },
  {
   "cell_type": "code",
   "execution_count": 10,
   "metadata": {},
   "outputs": [
    {
     "data": {
      "text/plain": []
     },
     "execution_count": 10,
     "metadata": {},
     "output_type": "execute_result"
    },
    {
     "name": "stdout",
     "output_type": "stream",
     "text": [
      "2.52 ± 2.1971800108320667"
     ]
    }
   ],
   "source": [
    "m1 * m2"
   ]
  },
  {
   "cell_type": "markdown",
   "metadata": {},
   "source": [
    "**Assignment 6**"
   ]
  },
  {
   "cell_type": "code",
   "execution_count": 11,
   "metadata": {},
   "outputs": [],
   "source": [
    "Base.:^(m::Measurement{T}, p::Integer) where {T} = p == 0 ? one(T) ± zero(T) : m.x^p ± p*abs(m.x^(p-1)) * m.σ"
   ]
  },
  {
   "cell_type": "markdown",
   "metadata": {},
   "source": [
    "We might just as well define division."
   ]
  },
  {
   "cell_type": "code",
   "execution_count": 12,
   "metadata": {},
   "outputs": [],
   "source": [
    "Base.:/(m1::Measurement, m2::Measurement) = m1 * (m2)^-1"
   ]
  },
  {
   "cell_type": "code",
   "execution_count": 13,
   "metadata": {},
   "outputs": [
    {
     "data": {
      "text/plain": []
     },
     "execution_count": 13,
     "metadata": {},
     "output_type": "execute_result"
    },
    {
     "name": "stdout",
     "output_type": "stream",
     "text": [
      "1.44 ± 1.44"
     ]
    }
   ],
   "source": [
    "m1^2"
   ]
  },
  {
   "cell_type": "code",
   "execution_count": 14,
   "metadata": {},
   "outputs": [
    {
     "data": {
      "text/plain": []
     },
     "execution_count": 14,
     "metadata": {},
     "output_type": "execute_result"
    },
    {
     "name": "stdout",
     "output_type": "stream",
     "text": [
      "1.0 ± 0.0"
     ]
    }
   ],
   "source": [
    "m2^0"
   ]
  },
  {
   "cell_type": "markdown",
   "metadata": {},
   "source": [
    "**Assignment 7**"
   ]
  },
  {
   "cell_type": "code",
   "execution_count": 15,
   "metadata": {},
   "outputs": [],
   "source": [
    "using ForwardDiff\n",
    "\n",
    "for f in [:sin, :cos, :tan, :exp, :log, :log2, :log10, :sqrt, :inv]\n",
    "    eval(quote\n",
    "        # this is a line of code generated using string interpolation\n",
    "        Base.$f(m::Measurement) = $f(m.x) ± abs(ForwardDiff.derivative($f, m.x) * m.σ)\n",
    "    end)\n",
    "end"
   ]
  },
  {
   "cell_type": "markdown",
   "metadata": {},
   "source": [
    "**Assignment 8**\n",
    "\n",
    "Let's apply this to in a somewhat realistic setting. Many methods in analytical chemistry are based on the law of [Beer-Lambert](https://en.wikipedia.org/wiki/Beer%E2%80%93Lambert_law). This law relates the absorption of a ray of light passing through a cuvet with the concentration of a solution. For a given reference intensity $I_0$ at concentration of 0 and a lower intensity $I$ when it passes through a solution of concentration $c$, we have\n",
    "\n",
    "$$\n",
    "\\log \\left(\\frac{I_0}{I}\\right) = \\varepsilon c l\\,,\n",
    "$$\n",
    "\n",
    "with $\\varepsilon$ the molar extinction coefficient and $$l$$ the thickness of the cuvet.\n",
    "\n",
    "Suppose we want to determine the extinction coefficient for some substance, using a cuvet of thickness $0.02\\pm 0.001$ and a reference solution of a concentration of $0.73\\pm 0.02$ M.\n",
    "\n",
    "We perform some intensity measurements, with associated measurement errors.\n",
    "\n",
    "| $I0$ | $\\sigma_{I0}$ | $I1$ | $\\sigma_{I1}$ |\n",
    "|------|---------------|------|---------------|\n",
    "| 0.8  | 0.14          | 0.2  | 0.12          |\n",
    "| 1.1  | 0.11          | 0.3  | 0.07          |\n",
    "| 1.2  | 0.08          | 0.4  | 0.101         |\n",
    "\n",
    "\n",
    "**Estimate the molecular extinction coefficient.**"
   ]
  },
  {
   "cell_type": "code",
   "execution_count": 16,
   "metadata": {
    "scrolled": true
   },
   "outputs": [
    {
     "data": {
      "text/plain": [
       "3-element Array{Measurement{Float64},1}:\n",
       " \n",
       " \n",
       " "
      ]
     },
     "execution_count": 16,
     "metadata": {},
     "output_type": "execute_result"
    },
    {
     "name": "stdout",
     "output_type": "stream",
     "text": [
      "0.8 ± 0.141.1 ± 0.111.2 ± 0.080.8 ± 0.140.8 ± 0.141.1 ± 0.111.1 ± 0.111.2 ± 0.081.2 ± 0.08"
     ]
    }
   ],
   "source": [
    "I0 = [0.8, 1.1, 1.2] .± [0.14, 0.11, 0.08]"
   ]
  },
  {
   "cell_type": "code",
   "execution_count": 17,
   "metadata": {},
   "outputs": [
    {
     "data": {
      "text/plain": [
       "3-element Array{Measurement{Float64},1}:\n",
       " \n",
       " \n",
       " "
      ]
     },
     "execution_count": 17,
     "metadata": {},
     "output_type": "execute_result"
    },
    {
     "name": "stdout",
     "output_type": "stream",
     "text": [
      "0.2 ± 0.120.3 ± 0.070.4 ± 0.1010.2 ± 0.120.2 ± 0.120.3 ± 0.070.3 ± 0.070.4 ± 0.1010.4 ± 0.101"
     ]
    }
   ],
   "source": [
    "I1 = [0.2, 0.3, 0.4] .± [0.12, 0.07, 0.101]"
   ]
  },
  {
   "cell_type": "code",
   "execution_count": 18,
   "metadata": {},
   "outputs": [
    {
     "data": {
      "text/plain": []
     },
     "execution_count": 18,
     "metadata": {},
     "output_type": "execute_result"
    },
    {
     "name": "stdout",
     "output_type": "stream",
     "text": [
      "0.73 ± 0.02"
     ]
    }
   ],
   "source": [
    "l = 0.02 ± 0.001\n",
    "c = 0.73 ± 0.02"
   ]
  },
  {
   "cell_type": "code",
   "execution_count": 19,
   "metadata": {},
   "outputs": [
    {
     "data": {
      "text/plain": []
     },
     "execution_count": 19,
     "metadata": {},
     "output_type": "execute_result"
    },
    {
     "name": "stdout",
     "output_type": "stream",
     "text": [
      "84.70976898280321 ± 14.587221174862679"
     ]
    }
   ],
   "source": [
    "mean(x) = sum(x) / length(x)\n",
    "\n",
    "ϵ = log(mean(I0) / mean(I1)) / (c*l)"
   ]
  },
  {
   "cell_type": "code",
   "execution_count": null,
   "metadata": {},
   "outputs": [],
   "source": []
  }
 ],
 "metadata": {
  "@webio": {
   "lastCommId": null,
   "lastKernelId": null
  },
  "kernelspec": {
   "display_name": "Julia 1.0.4",
   "language": "julia",
   "name": "julia-1.0"
  },
  "language_info": {
   "file_extension": ".jl",
   "mimetype": "application/julia",
   "name": "julia",
   "version": "1.0.4"
  }
 },
 "nbformat": 4,
 "nbformat_minor": 2
}
