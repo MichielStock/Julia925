{
 "cells": [
  {
   "cell_type": "markdown",
   "metadata": {},
   "source": [
    "# The type system and multiple dispatch\n",
    "### Michiel Stock, Bram De Jaegher, Daan Van Hauwermeiren\n",
    "### 18 December 2019\n",
    "# Everything has a type\n",
    "\n",
    "All Julia objects, both those already defined as well as those you might make yourself, have a type. The type system is the secret sauce, allowing Julia to be fast because code can be specialized for a particular combination of types. It is also supremely useful in conjunction with *multiple dispatch*, in which functions work differently depending on which types you feed into them.\n",
    "\n",
    "# Checking the type\n",
    "\n",
    "The type of objects can be assessed using the function `typeof`. For collections, `eltype` gives the types of individual elements. Try the following examples. Note that types are always capitalized!"
   ]
  },
  {
   "cell_type": "code",
   "execution_count": 1,
   "metadata": {},
   "outputs": [],
   "source": [
    "a = 42; s = \"mice\"; n = 0.9; A = [1 2; 3 4];"
   ]
  },
  {
   "cell_type": "code",
   "execution_count": 2,
   "metadata": {},
   "outputs": [
    {
     "data": {
      "text/plain": [
       "Int64"
      ]
     },
     "execution_count": 2,
     "metadata": {},
     "output_type": "execute_result"
    }
   ],
   "source": [
    "typeof(a)"
   ]
  },
  {
   "cell_type": "code",
   "execution_count": 3,
   "metadata": {},
   "outputs": [
    {
     "data": {
      "text/plain": [
       "String"
      ]
     },
     "execution_count": 3,
     "metadata": {},
     "output_type": "execute_result"
    }
   ],
   "source": [
    "typeof(s)"
   ]
  },
  {
   "cell_type": "code",
   "execution_count": 4,
   "metadata": {},
   "outputs": [
    {
     "data": {
      "text/plain": [
       "Float64"
      ]
     },
     "execution_count": 4,
     "metadata": {},
     "output_type": "execute_result"
    }
   ],
   "source": [
    "typeof(n)"
   ]
  },
  {
   "cell_type": "code",
   "execution_count": 5,
   "metadata": {},
   "outputs": [
    {
     "data": {
      "text/plain": [
       "Array{Int64,2}"
      ]
     },
     "execution_count": 5,
     "metadata": {},
     "output_type": "execute_result"
    }
   ],
   "source": [
    "typeof(A)"
   ]
  },
  {
   "cell_type": "markdown",
   "metadata": {},
   "source": [
    "These are all *concrete types*. Julia types are part of a hierarchical type system, forming a single, fully connected type graph. The concrete types are the leaves of this tree, whereas the inner nodes are *abstract types*. As hinted by the name, these are abstract and cannot be instantiated. They, however, help with conceptually ordering the type system.\n",
    "\n",
    "We can find the supertype of a concrete or abstract type using the function `supertype`."
   ]
  },
  {
   "cell_type": "code",
   "execution_count": 6,
   "metadata": {},
   "outputs": [
    {
     "data": {
      "text/plain": [
       "Signed"
      ]
     },
     "execution_count": 6,
     "metadata": {},
     "output_type": "execute_result"
    }
   ],
   "source": [
    "supertype(Int8)"
   ]
  },
  {
   "cell_type": "code",
   "execution_count": 7,
   "metadata": {},
   "outputs": [
    {
     "data": {
      "text/plain": [
       "AbstractFloat"
      ]
     },
     "execution_count": 7,
     "metadata": {},
     "output_type": "execute_result"
    }
   ],
   "source": [
    "supertype(Float64)"
   ]
  },
  {
   "cell_type": "code",
   "execution_count": 8,
   "metadata": {},
   "outputs": [
    {
     "data": {
      "text/plain": [
       "Real"
      ]
     },
     "execution_count": 8,
     "metadata": {},
     "output_type": "execute_result"
    }
   ],
   "source": [
    "supertype(AbstractFloat)"
   ]
  },
  {
   "cell_type": "code",
   "execution_count": 9,
   "metadata": {},
   "outputs": [
    {
     "data": {
      "text/plain": [
       "Number"
      ]
     },
     "execution_count": 9,
     "metadata": {},
     "output_type": "execute_result"
    }
   ],
   "source": [
    "supertype(Real)"
   ]
  },
  {
   "cell_type": "code",
   "execution_count": 10,
   "metadata": {},
   "outputs": [
    {
     "data": {
      "text/plain": [
       "Any"
      ]
     },
     "execution_count": 10,
     "metadata": {},
     "output_type": "execute_result"
    }
   ],
   "source": [
    "supertype(Number)"
   ]
  },
  {
   "cell_type": "code",
   "execution_count": 11,
   "metadata": {},
   "outputs": [
    {
     "data": {
      "text/plain": [
       "Any"
      ]
     },
     "execution_count": 11,
     "metadata": {},
     "output_type": "execute_result"
    }
   ],
   "source": [
    "supertype(Any)"
   ]
  },
  {
   "cell_type": "markdown",
   "metadata": {},
   "source": [
    "See how all the numbers are hierarchically represented? Note that any type is always a subtype of `Any`. We can check if an object is (sub)type using the function `isa`."
   ]
  },
  {
   "cell_type": "code",
   "execution_count": 12,
   "metadata": {},
   "outputs": [
    {
     "data": {
      "text/plain": [
       "true"
      ]
     },
     "execution_count": 12,
     "metadata": {},
     "output_type": "execute_result"
    }
   ],
   "source": [
    "a isa Int  # Int is concrete type Int64"
   ]
  },
  {
   "cell_type": "code",
   "execution_count": 13,
   "metadata": {},
   "outputs": [
    {
     "data": {
      "text/plain": [
       "true"
      ]
     },
     "execution_count": 13,
     "metadata": {},
     "output_type": "execute_result"
    }
   ],
   "source": [
    "a isa Integer  # Integer is abstract"
   ]
  },
  {
   "cell_type": "code",
   "execution_count": 14,
   "metadata": {},
   "outputs": [
    {
     "data": {
      "text/plain": [
       "false"
      ]
     },
     "execution_count": 14,
     "metadata": {},
     "output_type": "execute_result"
    }
   ],
   "source": [
    "a isa Int8"
   ]
  },
  {
   "cell_type": "code",
   "execution_count": 15,
   "metadata": {},
   "outputs": [
    {
     "data": {
      "text/plain": [
       "true"
      ]
     },
     "execution_count": 15,
     "metadata": {},
     "output_type": "execute_result"
    }
   ],
   "source": [
    "a isa Number\n"
   ]
  },
  {
   "cell_type": "markdown",
   "metadata": {},
   "source": [
    "Concrete types always have a fixed representation whereas abstract types can be anything. Concrete subtypes of `AbstractFloat` can be 16 bits (`Float16`), 32 bits (`Float32`), 64 bits (`Float64`) or arbitrary large (`BigFloat`).\n",
    "\n",
    "We can check if one type is a subtype of the second one using the binary operator `<:`."
   ]
  },
  {
   "cell_type": "code",
   "execution_count": 16,
   "metadata": {},
   "outputs": [
    {
     "data": {
      "text/plain": [
       "true"
      ]
     },
     "execution_count": 16,
     "metadata": {},
     "output_type": "execute_result"
    }
   ],
   "source": [
    "Float64 <: AbstractFloat"
   ]
  },
  {
   "cell_type": "code",
   "execution_count": 17,
   "metadata": {},
   "outputs": [
    {
     "data": {
      "text/plain": [
       "true"
      ]
     },
     "execution_count": 17,
     "metadata": {},
     "output_type": "execute_result"
    }
   ],
   "source": [
    "Float16 <: AbstractFloat"
   ]
  },
  {
   "cell_type": "code",
   "execution_count": 18,
   "metadata": {},
   "outputs": [
    {
     "data": {
      "text/plain": [
       "true"
      ]
     },
     "execution_count": 18,
     "metadata": {},
     "output_type": "execute_result"
    }
   ],
   "source": [
    "AbstractFloat <: Number"
   ]
  },
  {
   "cell_type": "code",
   "execution_count": 19,
   "metadata": {},
   "outputs": [
    {
     "data": {
      "text/plain": [
       "true"
      ]
     },
     "execution_count": 19,
     "metadata": {},
     "output_type": "execute_result"
    }
   ],
   "source": [
    "Int <: Number"
   ]
  },
  {
   "cell_type": "code",
   "execution_count": 20,
   "metadata": {},
   "outputs": [
    {
     "data": {
      "text/plain": [
       "false"
      ]
     },
     "execution_count": 20,
     "metadata": {},
     "output_type": "execute_result"
    }
   ],
   "source": [
    "Int <: AbstractFloat"
   ]
  },
  {
   "cell_type": "code",
   "execution_count": 21,
   "metadata": {},
   "outputs": [
    {
     "data": {
      "text/plain": [
       "false"
      ]
     },
     "execution_count": 21,
     "metadata": {},
     "output_type": "execute_result"
    }
   ],
   "source": [
    "Integer <: Int"
   ]
  },
  {
   "cell_type": "markdown",
   "metadata": {},
   "source": [
    "# Methods and dispatch\n",
    "\n",
    "When a function is run for the first time with a particular combination of type inputs, it gets compiled by the LLVM compiler. Such a specific function is referred to as a `method`. Every time a function is run with a new combination of types of arguments, a suitable method is compiled. This is noticeable when measuring the running time. Compare"
   ]
  },
  {
   "cell_type": "code",
   "execution_count": 22,
   "metadata": {},
   "outputs": [],
   "source": [
    "mynewfun(x) = x^2 + x\n",
    "\n",
    "A = [1 2; 3 4];"
   ]
  },
  {
   "cell_type": "code",
   "execution_count": 23,
   "metadata": {},
   "outputs": [
    {
     "name": "stdout",
     "output_type": "stream",
     "text": [
      "  0.434393 seconds (1.47 M allocations: 70.785 MiB, 5.14% gc time)\n"
     ]
    },
    {
     "data": {
      "text/plain": [
       "2×2 Array{Int64,2}:\n",
       "  8  12\n",
       " 18  26"
      ]
     },
     "execution_count": 23,
     "metadata": {},
     "output_type": "execute_result"
    }
   ],
   "source": [
    "# first run\n",
    "@time mynewfun(A)"
   ]
  },
  {
   "cell_type": "code",
   "execution_count": 24,
   "metadata": {},
   "outputs": [
    {
     "name": "stdout",
     "output_type": "stream",
     "text": [
      "  0.000006 seconds (6 allocations: 384 bytes)\n"
     ]
    },
    {
     "data": {
      "text/plain": [
       "2×2 Array{Int64,2}:\n",
       "  8  12\n",
       " 18  26"
      ]
     },
     "execution_count": 24,
     "metadata": {},
     "output_type": "execute_result"
    }
   ],
   "source": [
    "# second run\n",
    "@time mynewfun(A)"
   ]
  },
  {
   "cell_type": "code",
   "execution_count": 25,
   "metadata": {},
   "outputs": [
    {
     "name": "stdout",
     "output_type": "stream",
     "text": [
      "  0.003149 seconds (1.92 k allocations: 107.533 KiB)\n"
     ]
    },
    {
     "data": {
      "text/plain": [
       "2"
      ]
     },
     "execution_count": 25,
     "metadata": {},
     "output_type": "execute_result"
    }
   ],
   "source": [
    "# now with a float\n",
    "@time mynewfun(1)"
   ]
  },
  {
   "cell_type": "code",
   "execution_count": 26,
   "metadata": {},
   "outputs": [
    {
     "name": "stdout",
     "output_type": "stream",
     "text": [
      "  0.000002 seconds (4 allocations: 160 bytes)\n"
     ]
    },
    {
     "data": {
      "text/plain": [
       "156"
      ]
     },
     "execution_count": 26,
     "metadata": {},
     "output_type": "execute_result"
    }
   ],
   "source": [
    "# new value, same type\n",
    "@time mynewfun(12)"
   ]
  },
  {
   "cell_type": "markdown",
   "metadata": {},
   "source": [
    "The known methods can be found using the function `methods`. For example, check how many methods there are associated with the humble multiplication operator `*`."
   ]
  },
  {
   "cell_type": "code",
   "execution_count": 27,
   "metadata": {},
   "outputs": [
    {
     "data": {
      "text/html": [
       "339 methods for generic function <b>*</b>:<ul><li> *(x::<b>Bool</b>, z::<b>Complex{Bool}</b>) in Base at <a href=\"https://github.com/JuliaLang/julia/tree/38e9fb7f809621e27c9a650be473e26b4c871465/base/complex.jl#L281\" target=\"_blank\">complex.jl:281</a></li> <li> *(x::<b>Bool</b>, y::<b>Bool</b>) in Base at <a href=\"https://github.com/JuliaLang/julia/tree/38e9fb7f809621e27c9a650be473e26b4c871465/base/bool.jl#L106\" target=\"_blank\">bool.jl:106</a></li> <li> *<i>{T<:AbstractFloat}</i>(x::<b>Bool</b>, y::<b>T</b>) in Base at <a href=\"https://github.com/JuliaLang/julia/tree/38e9fb7f809621e27c9a650be473e26b4c871465/base/bool.jl#L118\" target=\"_blank\">bool.jl:118</a></li> <li> *(x::<b>Bool</b>, z::<b>Complex</b>) in Base at <a href=\"https://github.com/JuliaLang/julia/tree/38e9fb7f809621e27c9a650be473e26b4c871465/base/complex.jl#L288\" target=\"_blank\">complex.jl:288</a></li> <li> *(x::<b>Bool</b>, y::<b>AbstractIrrational</b>) in Base at <a href=\"https://github.com/JuliaLang/julia/tree/38e9fb7f809621e27c9a650be473e26b4c871465/base/irrationals.jl#L135\" target=\"_blank\">irrationals.jl:135</a></li> <li> *(a::<b>Float16</b>, b::<b>Float16</b>) in Base at <a href=\"https://github.com/JuliaLang/julia/tree/38e9fb7f809621e27c9a650be473e26b4c871465/base/float.jl#L392\" target=\"_blank\">float.jl:392</a></li> <li> *(x::<b>Float32</b>, y::<b>Float32</b>) in Base at <a href=\"https://github.com/JuliaLang/julia/tree/38e9fb7f809621e27c9a650be473e26b4c871465/base/float.jl#L398\" target=\"_blank\">float.jl:398</a></li> <li> *(x::<b>Float64</b>, y::<b>Float64</b>) in Base at <a href=\"https://github.com/JuliaLang/julia/tree/38e9fb7f809621e27c9a650be473e26b4c871465/base/float.jl#L399\" target=\"_blank\">float.jl:399</a></li> <li> *(z::<b>Complex{Bool}</b>, x::<b>Bool</b>) in Base at <a href=\"https://github.com/JuliaLang/julia/tree/38e9fb7f809621e27c9a650be473e26b4c871465/base/complex.jl#L282\" target=\"_blank\">complex.jl:282</a></li> <li> *(z::<b>Complex{Bool}</b>, x::<b>Real</b>) in Base at <a href=\"https://github.com/JuliaLang/julia/tree/38e9fb7f809621e27c9a650be473e26b4c871465/base/complex.jl#L300\" target=\"_blank\">complex.jl:300</a></li> <li> *(::<b>Missing</b>, ::<b>Missing</b>) in Base at <a href=\"https://github.com/JuliaLang/julia/tree/38e9fb7f809621e27c9a650be473e26b4c871465/base/missing.jl#L92\" target=\"_blank\">missing.jl:92</a></li> <li> *(::<b>Missing</b>, ::<b>Number</b>) in Base at <a href=\"https://github.com/JuliaLang/julia/tree/38e9fb7f809621e27c9a650be473e26b4c871465/base/missing.jl#L93\" target=\"_blank\">missing.jl:93</a></li> <li> *(d::<b>Missing</b>, x::<b>AbstractString</b>) in Base at <a href=\"https://github.com/JuliaLang/julia/tree/38e9fb7f809621e27c9a650be473e26b4c871465/base/missing.jl#L139\" target=\"_blank\">missing.jl:139</a></li> <li> *(this::<b>Base.Grisu.Float</b>, other::<b>Base.Grisu.Float</b>) in Base.Grisu at <a href=\"https://github.com/JuliaLang/julia/tree/38e9fb7f809621e27c9a650be473e26b4c871465/base/grisu/float.jl#L140\" target=\"_blank\">grisu/float.jl:140</a></li> <li> *(c::<b>BigInt</b>, x::<b>BigFloat</b>) in Base.MPFR at <a href=\"https://github.com/JuliaLang/julia/tree/38e9fb7f809621e27c9a650be473e26b4c871465/base/mpfr.jl#L353\" target=\"_blank\">mpfr.jl:353</a></li> <li> *(a::<b>BigInt</b>, b::<b>BigInt</b>, c::<b>BigInt</b>, d::<b>BigInt</b>, e::<b>BigInt</b>) in Base.GMP at <a href=\"https://github.com/JuliaLang/julia/tree/38e9fb7f809621e27c9a650be473e26b4c871465/base/gmp.jl#L443\" target=\"_blank\">gmp.jl:443</a></li> <li> *(a::<b>BigInt</b>, b::<b>BigInt</b>, c::<b>BigInt</b>, d::<b>BigInt</b>) in Base.GMP at <a href=\"https://github.com/JuliaLang/julia/tree/38e9fb7f809621e27c9a650be473e26b4c871465/base/gmp.jl#L442\" target=\"_blank\">gmp.jl:442</a></li> <li> *(a::<b>BigInt</b>, b::<b>BigInt</b>, c::<b>BigInt</b>) in Base.GMP at <a href=\"https://github.com/JuliaLang/julia/tree/38e9fb7f809621e27c9a650be473e26b4c871465/base/gmp.jl#L441\" target=\"_blank\">gmp.jl:441</a></li> <li> *(x::<b>BigInt</b>, y::<b>BigInt</b>) in Base.GMP at <a href=\"https://github.com/JuliaLang/julia/tree/38e9fb7f809621e27c9a650be473e26b4c871465/base/gmp.jl#L412\" target=\"_blank\">gmp.jl:412</a></li> <li> *(x::<b>BigInt</b>, c::<b>Union{UInt16, UInt32, UInt64, UInt8}</b>) in Base.GMP at <a href=\"https://github.com/JuliaLang/julia/tree/38e9fb7f809621e27c9a650be473e26b4c871465/base/gmp.jl#L460\" target=\"_blank\">gmp.jl:460</a></li> <li> *(x::<b>BigInt</b>, c::<b>Union{Int16, Int32, Int64, Int8}</b>) in Base.GMP at <a href=\"https://github.com/JuliaLang/julia/tree/38e9fb7f809621e27c9a650be473e26b4c871465/base/gmp.jl#L462\" target=\"_blank\">gmp.jl:462</a></li> <li> *(a::<b>BigFloat</b>, b::<b>BigFloat</b>, c::<b>BigFloat</b>, d::<b>BigFloat</b>, e::<b>BigFloat</b>) in Base.MPFR at <a href=\"https://github.com/JuliaLang/julia/tree/38e9fb7f809621e27c9a650be473e26b4c871465/base/mpfr.jl#L503\" target=\"_blank\">mpfr.jl:503</a></li> <li> *(a::<b>BigFloat</b>, b::<b>BigFloat</b>, c::<b>BigFloat</b>, d::<b>BigFloat</b>) in Base.MPFR at <a href=\"https://github.com/JuliaLang/julia/tree/38e9fb7f809621e27c9a650be473e26b4c871465/base/mpfr.jl#L496\" target=\"_blank\">mpfr.jl:496</a></li> <li> *(a::<b>BigFloat</b>, b::<b>BigFloat</b>, c::<b>BigFloat</b>) in Base.MPFR at <a href=\"https://github.com/JuliaLang/julia/tree/38e9fb7f809621e27c9a650be473e26b4c871465/base/mpfr.jl#L490\" target=\"_blank\">mpfr.jl:490</a></li> <li> *(x::<b>BigFloat</b>, c::<b>BigInt</b>) in Base.MPFR at <a href=\"https://github.com/JuliaLang/julia/tree/38e9fb7f809621e27c9a650be473e26b4c871465/base/mpfr.jl#L349\" target=\"_blank\">mpfr.jl:349</a></li> <li> *(x::<b>BigFloat</b>, y::<b>BigFloat</b>) in Base.MPFR at <a href=\"https://github.com/JuliaLang/julia/tree/38e9fb7f809621e27c9a650be473e26b4c871465/base/mpfr.jl#L318\" target=\"_blank\">mpfr.jl:318</a></li> <li> *(x::<b>BigFloat</b>, c::<b>Union{UInt16, UInt32, UInt64, UInt8}</b>) in Base.MPFR at <a href=\"https://github.com/JuliaLang/julia/tree/38e9fb7f809621e27c9a650be473e26b4c871465/base/mpfr.jl#L325\" target=\"_blank\">mpfr.jl:325</a></li> <li> *(x::<b>BigFloat</b>, c::<b>Union{Int16, Int32, Int64, Int8}</b>) in Base.MPFR at <a href=\"https://github.com/JuliaLang/julia/tree/38e9fb7f809621e27c9a650be473e26b4c871465/base/mpfr.jl#L333\" target=\"_blank\">mpfr.jl:333</a></li> <li> *(x::<b>BigFloat</b>, c::<b>Union{Float16, Float32, Float64}</b>) in Base.MPFR at <a href=\"https://github.com/JuliaLang/julia/tree/38e9fb7f809621e27c9a650be473e26b4c871465/base/mpfr.jl#L341\" target=\"_blank\">mpfr.jl:341</a></li> <li> *(B::<b>BitArray{2}</b>, J::<b>LinearAlgebra.UniformScaling</b>) in LinearAlgebra at <a href=\"file:///Users/julia/buildbot/worker/package_macos64/build/usr/share/julia/stdlib/v1.0/LinearAlgebra/src/uniformscaling.jl\" target=\"_blank\">/Users/julia/buildbot/worker/package_macos64/build/usr/share/julia/stdlib/v1.0/LinearAlgebra/src/uniformscaling.jl:145</a></li> <li> *(y::<b>AbstractFloat</b>, x::<b>Bool</b>) in Base at <a href=\"https://github.com/JuliaLang/julia/tree/38e9fb7f809621e27c9a650be473e26b4c871465/base/bool.jl#L120\" target=\"_blank\">bool.jl:120</a></li> <li> *<i>{T<:Union{Int128, UInt128}}</i>(x::<b>T</b>, y::<b>T</b>) in Base at <a href=\"https://github.com/JuliaLang/julia/tree/38e9fb7f809621e27c9a650be473e26b4c871465/base/int.jl#L788\" target=\"_blank\">int.jl:788</a></li> <li> *<i>{T<:Union{Int128, Int16, Int32, Int64, Int8, UInt128, UInt16, UInt32, UInt64, UInt8}}</i>(x::<b>T</b>, y::<b>T</b>) in Base at <a href=\"https://github.com/JuliaLang/julia/tree/38e9fb7f809621e27c9a650be473e26b4c871465/base/int.jl#L54\" target=\"_blank\">int.jl:54</a></li> <li> *(c::<b>Union{UInt16, UInt32, UInt64, UInt8}</b>, x::<b>BigInt</b>) in Base.GMP at <a href=\"https://github.com/JuliaLang/julia/tree/38e9fb7f809621e27c9a650be473e26b4c871465/base/gmp.jl#L461\" target=\"_blank\">gmp.jl:461</a></li> <li> *(c::<b>Union{Int16, Int32, Int64, Int8}</b>, x::<b>BigInt</b>) in Base.GMP at <a href=\"https://github.com/JuliaLang/julia/tree/38e9fb7f809621e27c9a650be473e26b4c871465/base/gmp.jl#L463\" target=\"_blank\">gmp.jl:463</a></li> <li> *(a::<b>Integer</b>, b::<b>Integer</b>) in Base at <a href=\"https://github.com/JuliaLang/julia/tree/38e9fb7f809621e27c9a650be473e26b4c871465/base/int.jl#L800\" target=\"_blank\">int.jl:800</a></li> <li> *(x::<b>Real</b>, r::<b>StepRangeLen{#s57,#s56,S} where S where #s56<:Base.TwicePrecision where #s57<:Real</b>) in Base at <a href=\"https://github.com/JuliaLang/julia/tree/38e9fb7f809621e27c9a650be473e26b4c871465/base/twiceprecision.jl#L479\" target=\"_blank\">twiceprecision.jl:479</a></li> <li> *(z::<b>Complex</b>, w::<b>Complex</b>) in Base at <a href=\"https://github.com/JuliaLang/julia/tree/38e9fb7f809621e27c9a650be473e26b4c871465/base/complex.jl#L268\" target=\"_blank\">complex.jl:268</a></li> <li> *(z::<b>Complex</b>, x::<b>Bool</b>) in Base at <a href=\"https://github.com/JuliaLang/julia/tree/38e9fb7f809621e27c9a650be473e26b4c871465/base/complex.jl#L289\" target=\"_blank\">complex.jl:289</a></li> <li> *(x::<b>Real</b>, z::<b>Complex{Bool}</b>) in Base at <a href=\"https://github.com/JuliaLang/julia/tree/38e9fb7f809621e27c9a650be473e26b4c871465/base/complex.jl#L299\" target=\"_blank\">complex.jl:299</a></li> <li> *(x::<b>Real</b>, z::<b>Complex</b>) in Base at <a href=\"https://github.com/JuliaLang/julia/tree/38e9fb7f809621e27c9a650be473e26b4c871465/base/complex.jl#L311\" target=\"_blank\">complex.jl:311</a></li> <li> *(z::<b>Complex</b>, x::<b>Real</b>) in Base at <a href=\"https://github.com/JuliaLang/julia/tree/38e9fb7f809621e27c9a650be473e26b4c871465/base/complex.jl#L312\" target=\"_blank\">complex.jl:312</a></li> <li> *(x::<b>Rational</b>, y::<b>Rational</b>) in Base at <a href=\"https://github.com/JuliaLang/julia/tree/38e9fb7f809621e27c9a650be473e26b4c871465/base/rational.jl#L259\" target=\"_blank\">rational.jl:259</a></li> <li> *<i>{N}</i>(a::<b>Integer</b>, index::<b>CartesianIndex{N}</b>) in Base.IteratorsMD at <a href=\"https://github.com/JuliaLang/julia/tree/38e9fb7f809621e27c9a650be473e26b4c871465/base/multidimensional.jl#L115\" target=\"_blank\">multidimensional.jl:115</a></li> <li> *(c::<b>Union{UInt16, UInt32, UInt64, UInt8}</b>, x::<b>BigFloat</b>) in Base.MPFR at <a href=\"https://github.com/JuliaLang/julia/tree/38e9fb7f809621e27c9a650be473e26b4c871465/base/mpfr.jl#L329\" target=\"_blank\">mpfr.jl:329</a></li> <li> *(c::<b>Union{Int16, Int32, Int64, Int8}</b>, x::<b>BigFloat</b>) in Base.MPFR at <a href=\"https://github.com/JuliaLang/julia/tree/38e9fb7f809621e27c9a650be473e26b4c871465/base/mpfr.jl#L337\" target=\"_blank\">mpfr.jl:337</a></li> <li> *(c::<b>Union{Float16, Float32, Float64}</b>, x::<b>BigFloat</b>) in Base.MPFR at <a href=\"https://github.com/JuliaLang/julia/tree/38e9fb7f809621e27c9a650be473e26b4c871465/base/mpfr.jl#L345\" target=\"_blank\">mpfr.jl:345</a></li> <li> *(x::<b>AbstractIrrational</b>, y::<b>AbstractIrrational</b>) in Base at <a href=\"https://github.com/JuliaLang/julia/tree/38e9fb7f809621e27c9a650be473e26b4c871465/base/irrationals.jl#L133\" target=\"_blank\">irrationals.jl:133</a></li> <li> *(y::<b>Real</b>, x::<b>Dates.Period</b>) in Dates at <a href=\"file:///Users/julia/buildbot/worker/package_macos64/build/usr/share/julia/stdlib/v1.0/Dates/src/periods.jl\" target=\"_blank\">/Users/julia/buildbot/worker/package_macos64/build/usr/share/julia/stdlib/v1.0/Dates/src/periods.jl:93</a></li> <li> *(x::<b>Number</b>) in Base at <a href=\"https://github.com/JuliaLang/julia/tree/38e9fb7f809621e27c9a650be473e26b4c871465/base/operators.jl#L478\" target=\"_blank\">operators.jl:478</a></li> <li> *<i>{T<:Number}</i>(x::<b>T</b>, y::<b>T</b>) in Base at <a href=\"https://github.com/JuliaLang/julia/tree/38e9fb7f809621e27c9a650be473e26b4c871465/base/promotion.jl#L412\" target=\"_blank\">promotion.jl:412</a></li> <li> *(x::<b>Number</b>, y::<b>Number</b>) in Base at <a href=\"https://github.com/JuliaLang/julia/tree/38e9fb7f809621e27c9a650be473e26b4c871465/base/promotion.jl#L314\" target=\"_blank\">promotion.jl:314</a></li> <li> *(x::<b>Base.TwicePrecision{#s57} where #s57<:Union{Float16, Float32, Float64}</b>, v::<b>Integer</b>) in Base at <a href=\"https://github.com/JuliaLang/julia/tree/38e9fb7f809621e27c9a650be473e26b4c871465/base/twiceprecision.jl#L286\" target=\"_blank\">twiceprecision.jl:286</a></li> <li> *(x::<b>Base.TwicePrecision</b>, v::<b>Number</b>) in Base at <a href=\"https://github.com/JuliaLang/julia/tree/38e9fb7f809621e27c9a650be473e26b4c871465/base/twiceprecision.jl#L282\" target=\"_blank\">twiceprecision.jl:282</a></li> <li> *(v::<b>Number</b>, x::<b>Base.TwicePrecision</b>) in Base at <a href=\"https://github.com/JuliaLang/julia/tree/38e9fb7f809621e27c9a650be473e26b4c871465/base/twiceprecision.jl#L291\" target=\"_blank\">twiceprecision.jl:291</a></li> <li> *<i>{T}</i>(x::<b>Base.TwicePrecision{T}</b>, y::<b>Base.TwicePrecision{T}</b>) in Base at <a href=\"https://github.com/JuliaLang/julia/tree/38e9fb7f809621e27c9a650be473e26b4c871465/base/twiceprecision.jl#L294\" target=\"_blank\">twiceprecision.jl:294</a></li> <li> *(x::<b>Base.TwicePrecision</b>, y::<b>Base.TwicePrecision</b>) in Base at <a href=\"https://github.com/JuliaLang/julia/tree/38e9fb7f809621e27c9a650be473e26b4c871465/base/twiceprecision.jl#L298\" target=\"_blank\">twiceprecision.jl:298</a></li> <li> *(r::<b>StepRangeLen{#s57,#s56,S} where S where #s56<:Base.TwicePrecision where #s57<:Real</b>, x::<b>Real</b>) in Base at <a href=\"https://github.com/JuliaLang/julia/tree/38e9fb7f809621e27c9a650be473e26b4c871465/base/twiceprecision.jl#L481\" target=\"_blank\">twiceprecision.jl:481</a></li> <li> *<i>{P<:Period}</i>(X::<b>Union{DenseArray{P,N}, ReinterpretArray{P,N,S,A} where S where A<:Union{SubArray{T,N,A,I,true} where I<:Tuple{AbstractUnitRange,Vararg{Any,N} where N} where A<:DenseArray where N where T, DenseArray}, ReshapedArray{P,N,A,MI} where MI<:Tuple{Vararg{SignedMultiplicativeInverse{Int64},N} where N} where A<:Union{ReinterpretArray{T,N,S,A} where S where A<:Union{SubArray{T,N,A,I,true} where I<:Tuple{AbstractUnitRange,Vararg{Any,N} where N} where A<:DenseArray where N where T, DenseArray} where N where T, SubArray{T,N,A,I,true} where I<:Tuple{AbstractUnitRange,Vararg{Any,N} where N} where A<:DenseArray where N where T, DenseArray}, SubArray{P,N,A,I,L} where L where I<:Tuple{Vararg{Union{Int64, AbstractRange{Int64}, AbstractCartesianIndex},N} where N} where A<:Union{ReinterpretArray{T,N,S,A} where S where A<:Union{SubArray{T,N,A,I,true} where I<:Tuple{AbstractUnitRange,Vararg{Any,N} where N} where A<:DenseArray where N where T, DenseArray} where N where T, ReshapedArray{T,N,A,MI} where MI<:Tuple{Vararg{SignedMultiplicativeInverse{Int64},N} where N} where A<:Union{ReinterpretArray{T,N,S,A} where S where A<:Union{SubArray{T,N,A,I,true} where I<:Tuple{AbstractUnitRange,Vararg{Any,N} where N} where A<:DenseArray where N where T, DenseArray} where N where T, SubArray{T,N,A,I,true} where I<:Tuple{AbstractUnitRange,Vararg{Any,N} where N} where A<:DenseArray where N where T, DenseArray} where N where T, DenseArray}} where N</b>, y::<b>Real</b>) in Dates at <a href=\"file:///Users/julia/buildbot/worker/package_macos64/build/usr/share/julia/stdlib/v1.0/Dates/src/periods.jl\" target=\"_blank\">/Users/julia/buildbot/worker/package_macos64/build/usr/share/julia/stdlib/v1.0/Dates/src/periods.jl:98</a></li> <li> *(u::<b>LinearAlgebra.Adjoint{T,#s576} where #s576<:(AbstractArray{T,1} where T) where T</b>, v::<b>LinearAlgebra.Adjoint{#s576,#s575} where #s575<:(LinearAlgebra.Transpose{T,#s576} where #s576<:(AbstractArray{T,1} where T) where T) where #s576</b>) in LinearAlgebra at <a href=\"file:///Users/julia/buildbot/worker/package_macos64/build/usr/share/julia/stdlib/v1.0/LinearAlgebra/src/adjtrans.jl\" target=\"_blank\">/Users/julia/buildbot/worker/package_macos64/build/usr/share/julia/stdlib/v1.0/LinearAlgebra/src/adjtrans.jl:215</a></li> <li> *(A::<b>LinearAlgebra.Adjoint{#s576,#s575} where #s575<:LinearAlgebra.AbstractTriangular where #s576</b>, B::<b>LinearAlgebra.Adjoint{#s574,#s573} where #s573<:LinearAlgebra.AbstractTriangular where #s574</b>) in LinearAlgebra at <a href=\"file:///Users/julia/buildbot/worker/package_macos64/build/usr/share/julia/stdlib/v1.0/LinearAlgebra/src/triangular.jl\" target=\"_blank\">/Users/julia/buildbot/worker/package_macos64/build/usr/share/julia/stdlib/v1.0/LinearAlgebra/src/triangular.jl:1967</a></li> <li> *(A::<b>LinearAlgebra.Adjoint{#s576,#s575} where #s575<:(Union{Hermitian{T,S}, Hermitian{Complex{T},S}, Symmetric{T,S}} where S where T<:Real) where #s576</b>, B::<b>LinearAlgebra.Adjoint{#s574,#s573} where #s573<:LinearAlgebra.AbstractTriangular where #s574</b>) in LinearAlgebra at <a href=\"file:///Users/julia/buildbot/worker/package_macos64/build/usr/share/julia/stdlib/v1.0/LinearAlgebra/src/symmetric.jl\" target=\"_blank\">/Users/julia/buildbot/worker/package_macos64/build/usr/share/julia/stdlib/v1.0/LinearAlgebra/src/symmetric.jl:862</a></li> <li> *(v::<b>LinearAlgebra.Adjoint{T,#s576} where #s576<:(AbstractArray{T,1} where T) where T</b>, A::<b>LinearAlgebra.Adjoint{#s576,#s575} where #s575<:LinearAlgebra.AbstractTriangular where #s576</b>) in LinearAlgebra at <a href=\"file:///Users/julia/buildbot/worker/package_macos64/build/usr/share/julia/stdlib/v1.0/LinearAlgebra/src/triangular.jl\" target=\"_blank\">/Users/julia/buildbot/worker/package_macos64/build/usr/share/julia/stdlib/v1.0/LinearAlgebra/src/triangular.jl:1954</a></li> <li> *(A::<b>LinearAlgebra.Adjoint{#s576,#s575} where #s575<:LinearAlgebra.AbstractTriangular where #s576</b>, B::<b>LinearAlgebra.Adjoint{#s574,#s573} where #s573<:(Union{Hermitian{T,S}, Hermitian{Complex{T},S}, Symmetric{T,S}} where S where T<:Real) where #s574</b>) in LinearAlgebra at <a href=\"file:///Users/julia/buildbot/worker/package_macos64/build/usr/share/julia/stdlib/v1.0/LinearAlgebra/src/symmetric.jl\" target=\"_blank\">/Users/julia/buildbot/worker/package_macos64/build/usr/share/julia/stdlib/v1.0/LinearAlgebra/src/symmetric.jl:858</a></li> <li> *(A::<b>LinearAlgebra.Adjoint{#s576,#s575} where #s575<:LinearAlgebra.AbstractTriangular where #s576</b>, B::<b>LinearAlgebra.Adjoint{#s574,#s573} where #s573<:(AbstractArray{T,1} where T) where #s574</b>) in LinearAlgebra at <a href=\"file:///Users/julia/buildbot/worker/package_macos64/build/usr/share/julia/stdlib/v1.0/LinearAlgebra/src/triangular.jl\" target=\"_blank\">/Users/julia/buildbot/worker/package_macos64/build/usr/share/julia/stdlib/v1.0/LinearAlgebra/src/triangular.jl:2484</a></li> <li> *(adjQ::<b>LinearAlgebra.Adjoint{#s576,#s575} where #s575<:LinearAlgebra.AbstractQ where #s576</b>, adjB::<b>LinearAlgebra.Adjoint{#s574,#s573} where #s573<:(Union{DenseArray{T,1}, DenseArray{T,2}, ReinterpretArray{T,2,S,A} where S where A<:Union{SubArray{T,N,A,I,true} where I<:Tuple{AbstractUnitRange,Vararg{Any,N} where N} where A<:DenseArray where N where T, DenseArray}, ReinterpretArray{T,1,S,A} where S where A<:Union{SubArray{T,N,A,I,true} where I<:Tuple{AbstractUnitRange,Vararg{Any,N} where N} where A<:DenseArray where N where T, DenseArray}, ReshapedArray{T,1,A,MI} where MI<:Tuple{Vararg{SignedMultiplicativeInverse{Int64},N} where N} where A<:Union{ReinterpretArray{T,N,S,A} where S where A<:Union{SubArray{T,N,A,I,true} where I<:Tuple{AbstractUnitRange,Vararg{Any,N} where N} where A<:DenseArray where N where T, DenseArray} where N where T, SubArray{T,N,A,I,true} where I<:Tuple{AbstractUnitRange,Vararg{Any,N} where N} where A<:DenseArray where N where T, DenseArray}, ReshapedArray{T,2,A,MI} where MI<:Tuple{Vararg{SignedMultiplicativeInverse{Int64},N} where N} where A<:Union{ReinterpretArray{T,N,S,A} where S where A<:Union{SubArray{T,N,A,I,true} where I<:Tuple{AbstractUnitRange,Vararg{Any,N} where N} where A<:DenseArray where N where T, DenseArray} where N where T, SubArray{T,N,A,I,true} where I<:Tuple{AbstractUnitRange,Vararg{Any,N} where N} where A<:DenseArray where N where T, DenseArray}, SubArray{T,1,A,I,L} where L where I<:Tuple{Vararg{Union{Int64, AbstractRange{Int64}, AbstractCartesianIndex},N} where N} where A<:Union{ReinterpretArray{T,N,S,A} where S where A<:Union{SubArray{T,N,A,I,true} where I<:Tuple{AbstractUnitRange,Vararg{Any,N} where N} where A<:DenseArray where N where T, DenseArray} where N where T, ReshapedArray{T,N,A,MI} where MI<:Tuple{Vararg{SignedMultiplicativeInverse{Int64},N} where N} where A<:Union{ReinterpretArray{T,N,S,A} where S where A<:Union{SubArray{T,N,A,I,true} where I<:Tuple{AbstractUnitRange,Vararg{Any,N} where N} where A<:DenseArray where N where T, DenseArray} where N where T, SubArray{T,N,A,I,true} where I<:Tuple{AbstractUnitRange,Vararg{Any,N} where N} where A<:DenseArray where N where T, DenseArray} where N where T, DenseArray}, SubArray{T,2,A,I,L} where L where I<:Tuple{Vararg{Union{Int64, AbstractRange{Int64}, AbstractCartesianIndex},N} where N} where A<:Union{ReinterpretArray{T,N,S,A} where S where A<:Union{SubArray{T,N,A,I,true} where I<:Tuple{AbstractUnitRange,Vararg{Any,N} where N} where A<:DenseArray where N where T, DenseArray} where N where T, ReshapedArray{T,N,A,MI} where MI<:Tuple{Vararg{SignedMultiplicativeInverse{Int64},N} where N} where A<:Union{ReinterpretArray{T,N,S,A} where S where A<:Union{SubArray{T,N,A,I,true} where I<:Tuple{AbstractUnitRange,Vararg{Any,N} where N} where A<:DenseArray where N where T, DenseArray} where N where T, SubArray{T,N,A,I,true} where I<:Tuple{AbstractUnitRange,Vararg{Any,N} where N} where A<:DenseArray where N where T, DenseArray} where N where T, DenseArray}} where T) where #s574</b>) in LinearAlgebra at <a href=\"file:///Users/julia/buildbot/worker/package_macos64/build/usr/share/julia/stdlib/v1.0/LinearAlgebra/src/qr.jl\" target=\"_blank\">/Users/julia/buildbot/worker/package_macos64/build/usr/share/julia/stdlib/v1.0/LinearAlgebra/src/qr.jl:631</a></li> <li> *(adjA::<b>LinearAlgebra.Adjoint{#s576,#s575} where #s575<:(Union{DenseArray{T,1}, DenseArray{T,2}, ReinterpretArray{T,2,S,A} where S where A<:Union{SubArray{T,N,A,I,true} where I<:Tuple{AbstractUnitRange,Vararg{Any,N} where N} where A<:DenseArray where N where T, DenseArray}, ReinterpretArray{T,1,S,A} where S where A<:Union{SubArray{T,N,A,I,true} where I<:Tuple{AbstractUnitRange,Vararg{Any,N} where N} where A<:DenseArray where N where T, DenseArray}, ReshapedArray{T,1,A,MI} where MI<:Tuple{Vararg{SignedMultiplicativeInverse{Int64},N} where N} where A<:Union{ReinterpretArray{T,N,S,A} where S where A<:Union{SubArray{T,N,A,I,true} where I<:Tuple{AbstractUnitRange,Vararg{Any,N} where N} where A<:DenseArray where N where T, DenseArray} where N where T, SubArray{T,N,A,I,true} where I<:Tuple{AbstractUnitRange,Vararg{Any,N} where N} where A<:DenseArray where N where T, DenseArray}, ReshapedArray{T,2,A,MI} where MI<:Tuple{Vararg{SignedMultiplicativeInverse{Int64},N} where N} where A<:Union{ReinterpretArray{T,N,S,A} where S where A<:Union{SubArray{T,N,A,I,true} where I<:Tuple{AbstractUnitRange,Vararg{Any,N} where N} where A<:DenseArray where N where T, DenseArray} where N where T, SubArray{T,N,A,I,true} where I<:Tuple{AbstractUnitRange,Vararg{Any,N} where N} where A<:DenseArray where N where T, DenseArray}, SubArray{T,1,A,I,L} where L where I<:Tuple{Vararg{Union{Int64, AbstractRange{Int64}, AbstractCartesianIndex},N} where N} where A<:Union{ReinterpretArray{T,N,S,A} where S where A<:Union{SubArray{T,N,A,I,true} where I<:Tuple{AbstractUnitRange,Vararg{Any,N} where N} where A<:DenseArray where N where T, DenseArray} where N where T, ReshapedArray{T,N,A,MI} where MI<:Tuple{Vararg{SignedMultiplicativeInverse{Int64},N} where N} where A<:Union{ReinterpretArray{T,N,S,A} where S where A<:Union{SubArray{T,N,A,I,true} where I<:Tuple{AbstractUnitRange,Vararg{Any,N} where N} where A<:DenseArray where N where T, DenseArray} where N where T, SubArray{T,N,A,I,true} where I<:Tuple{AbstractUnitRange,Vararg{Any,N} where N} where A<:DenseArray where N where T, DenseArray} where N where T, DenseArray}, SubArray{T,2,A,I,L} where L where I<:Tuple{Vararg{Union{Int64, AbstractRange{Int64}, AbstractCartesianIndex},N} where N} where A<:Union{ReinterpretArray{T,N,S,A} where S where A<:Union{SubArray{T,N,A,I,true} where I<:Tuple{AbstractUnitRange,Vararg{Any,N} where N} where A<:DenseArray where N where T, DenseArray} where N where T, ReshapedArray{T,N,A,MI} where MI<:Tuple{Vararg{SignedMultiplicativeInverse{Int64},N} where N} where A<:Union{ReinterpretArray{T,N,S,A} where S where A<:Union{SubArray{T,N,A,I,true} where I<:Tuple{AbstractUnitRange,Vararg{Any,N} where N} where A<:DenseArray where N where T, DenseArray} where N where T, SubArray{T,N,A,I,true} where I<:Tuple{AbstractUnitRange,Vararg{Any,N} where N} where A<:DenseArray where N where T, DenseArray} where N where T, DenseArray}} where T) where #s576</b>, adjQ::<b>LinearAlgebra.Adjoint{#s574,#s573} where #s573<:LinearAlgebra.AbstractQ where #s574</b>) in LinearAlgebra at <a href=\"file:///Users/julia/buildbot/worker/package_macos64/build/usr/share/julia/stdlib/v1.0/LinearAlgebra/src/qr.jl\" target=\"_blank\">/Users/julia/buildbot/worker/package_macos64/build/usr/share/julia/stdlib/v1.0/LinearAlgebra/src/qr.jl:734</a></li> <li> *(u::<b>LinearAlgebra.Adjoint{T,#s576} where #s576<:(AbstractArray{T,1} where T) where T</b>, A::<b>LinearAlgebra.Adjoint{#s576,#s575} where #s575<:LinearAlgebra.AbstractQ where #s576</b>) in LinearAlgebra at <a href=\"file:///Users/julia/buildbot/worker/package_macos64/build/usr/share/julia/stdlib/v1.0/LinearAlgebra/src/qr.jl\" target=\"_blank\">/Users/julia/buildbot/worker/package_macos64/build/usr/share/julia/stdlib/v1.0/LinearAlgebra/src/qr.jl:722</a></li> <li> *(adjA::<b>LinearAlgebra.Adjoint{#s576,#s575} where #s575<:LinearAlgebra.LQPackedQ where #s576</b>, adjB::<b>LinearAlgebra.Adjoint{#s574,#s573} where #s573<:(Union{DenseArray{T,1}, DenseArray{T,2}, ReinterpretArray{T,2,S,A} where S where A<:Union{SubArray{T,N,A,I,true} where I<:Tuple{AbstractUnitRange,Vararg{Any,N} where N} where A<:DenseArray where N where T, DenseArray}, ReinterpretArray{T,1,S,A} where S where A<:Union{SubArray{T,N,A,I,true} where I<:Tuple{AbstractUnitRange,Vararg{Any,N} where N} where A<:DenseArray where N where T, DenseArray}, ReshapedArray{T,1,A,MI} where MI<:Tuple{Vararg{SignedMultiplicativeInverse{Int64},N} where N} where A<:Union{ReinterpretArray{T,N,S,A} where S where A<:Union{SubArray{T,N,A,I,true} where I<:Tuple{AbstractUnitRange,Vararg{Any,N} where N} where A<:DenseArray where N where T, DenseArray} where N where T, SubArray{T,N,A,I,true} where I<:Tuple{AbstractUnitRange,Vararg{Any,N} where N} where A<:DenseArray where N where T, DenseArray}, ReshapedArray{T,2,A,MI} where MI<:Tuple{Vararg{SignedMultiplicativeInverse{Int64},N} where N} where A<:Union{ReinterpretArray{T,N,S,A} where S where A<:Union{SubArray{T,N,A,I,true} where I<:Tuple{AbstractUnitRange,Vararg{Any,N} where N} where A<:DenseArray where N where T, DenseArray} where N where T, SubArray{T,N,A,I,true} where I<:Tuple{AbstractUnitRange,Vararg{Any,N} where N} where A<:DenseArray where N where T, DenseArray}, SubArray{T,1,A,I,L} where L where I<:Tuple{Vararg{Union{Int64, AbstractRange{Int64}, AbstractCartesianIndex},N} where N} where A<:Union{ReinterpretArray{T,N,S,A} where S where A<:Union{SubArray{T,N,A,I,true} where I<:Tuple{AbstractUnitRange,Vararg{Any,N} where N} where A<:DenseArray where N where T, DenseArray} where N where T, ReshapedArray{T,N,A,MI} where MI<:Tuple{Vararg{SignedMultiplicativeInverse{Int64},N} where N} where A<:Union{ReinterpretArray{T,N,S,A} where S where A<:Union{SubArray{T,N,A,I,true} where I<:Tuple{AbstractUnitRange,Vararg{Any,N} where N} where A<:DenseArray where N where T, DenseArray} where N where T, SubArray{T,N,A,I,true} where I<:Tuple{AbstractUnitRange,Vararg{Any,N} where N} where A<:DenseArray where N where T, DenseArray} where N where T, DenseArray}, SubArray{T,2,A,I,L} where L where I<:Tuple{Vararg{Union{Int64, AbstractRange{Int64}, AbstractCartesianIndex},N} where N} where A<:Union{ReinterpretArray{T,N,S,A} where S where A<:Union{SubArray{T,N,A,I,true} where I<:Tuple{AbstractUnitRange,Vararg{Any,N} where N} where A<:DenseArray where N where T, DenseArray} where N where T, ReshapedArray{T,N,A,MI} where MI<:Tuple{Vararg{SignedMultiplicativeInverse{Int64},N} where N} where A<:Union{ReinterpretArray{T,N,S,A} where S where A<:Union{SubArray{T,N,A,I,true} where I<:Tuple{AbstractUnitRange,Vararg{Any,N} where N} where A<:DenseArray where N where T, DenseArray} where N where T, SubArray{T,N,A,I,true} where I<:Tuple{AbstractUnitRange,Vararg{Any,N} where N} where A<:DenseArray where N where T, DenseArray} where N where T, DenseArray}} where T) where #s574</b>) in LinearAlgebra at <a href=\"file:///Users/julia/buildbot/worker/package_macos64/build/usr/share/julia/stdlib/v1.0/LinearAlgebra/src/lq.jl\" target=\"_blank\">/Users/julia/buildbot/worker/package_macos64/build/usr/share/julia/stdlib/v1.0/LinearAlgebra/src/lq.jl:183</a></li> <li> *(adjA::<b>LinearAlgebra.Adjoint{#s576,#s575} where #s575<:(Union{DenseArray{T,2}, ReinterpretArray{T,2,S,A} where S where A<:Union{SubArray{T,N,A,I,true} where I<:Tuple{AbstractUnitRange,Vararg{Any,N} where N} where A<:DenseArray where N where T, DenseArray}, ReshapedArray{T,2,A,MI} where MI<:Tuple{Vararg{SignedMultiplicativeInverse{Int64},N} where N} where A<:Union{ReinterpretArray{T,N,S,A} where S where A<:Union{SubArray{T,N,A,I,true} where I<:Tuple{AbstractUnitRange,Vararg{Any,N} where N} where A<:DenseArray where N where T, DenseArray} where N where T, SubArray{T,N,A,I,true} where I<:Tuple{AbstractUnitRange,Vararg{Any,N} where N} where A<:DenseArray where N where T, DenseArray}, SubArray{T,2,A,I,L} where L where I<:Tuple{Vararg{Union{Int64, AbstractRange{Int64}, AbstractCartesianIndex},N} where N} where A<:Union{ReinterpretArray{T,N,S,A} where S where A<:Union{SubArray{T,N,A,I,true} where I<:Tuple{AbstractUnitRange,Vararg{Any,N} where N} where A<:DenseArray where N where T, DenseArray} where N where T, ReshapedArray{T,N,A,MI} where MI<:Tuple{Vararg{SignedMultiplicativeInverse{Int64},N} where N} where A<:Union{ReinterpretArray{T,N,S,A} where S where A<:Union{SubArray{T,N,A,I,true} where I<:Tuple{AbstractUnitRange,Vararg{Any,N} where N} where A<:DenseArray where N where T, DenseArray} where N where T, SubArray{T,N,A,I,true} where I<:Tuple{AbstractUnitRange,Vararg{Any,N} where N} where A<:DenseArray where N where T, DenseArray} where N where T, DenseArray}} where T) where #s576</b>, adjQ::<b>LinearAlgebra.Adjoint{#s574,#s573} where #s573<:LinearAlgebra.LQPackedQ where #s574</b>) in LinearAlgebra at <a href=\"file:///Users/julia/buildbot/worker/package_macos64/build/usr/share/julia/stdlib/v1.0/LinearAlgebra/src/lq.jl\" target=\"_blank\">/Users/julia/buildbot/worker/package_macos64/build/usr/share/julia/stdlib/v1.0/LinearAlgebra/src/lq.jl:220</a></li> <li> *(adjA::<b>LinearAlgebra.Adjoint{#s576,#s575} where #s575<:(Union{Hermitian{T,S}, Hermitian{Complex{T},S}, Symmetric{T,S}} where S where T<:Real) where #s576</b>, adjB::<b>LinearAlgebra.Adjoint{#s574,#s573} where #s573<:(Union{Hermitian{T,S}, Hermitian{Complex{T},S}, Symmetric{T,S}} where S where T<:Real) where #s574</b>) in LinearAlgebra at <a href=\"file:///Users/julia/buildbot/worker/package_macos64/build/usr/share/julia/stdlib/v1.0/LinearAlgebra/src/symmetric.jl\" target=\"_blank\">/Users/julia/buildbot/worker/package_macos64/build/usr/share/julia/stdlib/v1.0/LinearAlgebra/src/symmetric.jl:433</a></li> <li> *(adjA::<b>LinearAlgebra.Adjoint{#s576,#s575} where #s575<:(Union{Hermitian{T,S}, Symmetric{T,S}, Symmetric{Complex{T},S}} where S where T<:Real) where #s576</b>, adjB::<b>LinearAlgebra.Adjoint{#s574,#s573} where #s573<:(Union{Hermitian{T,S}, Hermitian{Complex{T},S}, Symmetric{T,S}} where S where T<:Real) where #s574</b>) in LinearAlgebra at <a href=\"file:///Users/julia/buildbot/worker/package_macos64/build/usr/share/julia/stdlib/v1.0/LinearAlgebra/src/symmetric.jl\" target=\"_blank\">/Users/julia/buildbot/worker/package_macos64/build/usr/share/julia/stdlib/v1.0/LinearAlgebra/src/symmetric.jl:434</a></li> <li> *(adjA::<b>LinearAlgebra.Adjoint{#s576,#s575} where #s575<:(Union{Hermitian{T,S}, Hermitian{Complex{T},S}, Symmetric{T,S}} where S where T<:Real) where #s576</b>, adjB::<b>LinearAlgebra.Adjoint{#s574,#s573} where #s573<:(Union{Hermitian{T,S}, Symmetric{T,S}, Symmetric{Complex{T},S}} where S where T<:Real) where #s574</b>) in LinearAlgebra at <a href=\"file:///Users/julia/buildbot/worker/package_macos64/build/usr/share/julia/stdlib/v1.0/LinearAlgebra/src/symmetric.jl\" target=\"_blank\">/Users/julia/buildbot/worker/package_macos64/build/usr/share/julia/stdlib/v1.0/LinearAlgebra/src/symmetric.jl:435</a></li> <li> *(adjD::<b>LinearAlgebra.Adjoint{#s576,#s575} where #s575<:LinearAlgebra.Diagonal where #s576</b>, adjA::<b>LinearAlgebra.Adjoint{#s574,#s573} where #s573<:(Union{Hermitian{T,S}, Hermitian{Complex{T},S}, Symmetric{T,S}} where S where T<:Real) where #s574</b>) in LinearAlgebra at <a href=\"file:///Users/julia/buildbot/worker/package_macos64/build/usr/share/julia/stdlib/v1.0/LinearAlgebra/src/diagonal.jl\" target=\"_blank\">/Users/julia/buildbot/worker/package_macos64/build/usr/share/julia/stdlib/v1.0/LinearAlgebra/src/diagonal.jl:293</a></li> <li> *(A::<b>LinearAlgebra.Adjoint{#s576,#s575} where #s575<:(AbstractArray{T,1} where T) where #s576</b>, B::<b>LinearAlgebra.Adjoint{#s574,#s573} where #s573<:(Union{Hermitian{T,S}, Hermitian{Complex{T},S}, Symmetric{T,S}} where S where T<:Real) where #s574</b>) in LinearAlgebra at <a href=\"file:///Users/julia/buildbot/worker/package_macos64/build/usr/share/julia/stdlib/v1.0/LinearAlgebra/src/symmetric.jl\" target=\"_blank\">/Users/julia/buildbot/worker/package_macos64/build/usr/share/julia/stdlib/v1.0/LinearAlgebra/src/symmetric.jl:839</a></li> <li> *(adjA::<b>LinearAlgebra.Adjoint{#s576,#s575} where #s575<:(Union{Hermitian{T,S}, Hermitian{Complex{T},S}, Symmetric{T,S}} where S where T<:Real) where #s576</b>, adjD::<b>LinearAlgebra.Adjoint{#s574,#s573} where #s573<:LinearAlgebra.Diagonal where #s574</b>) in LinearAlgebra at <a href=\"file:///Users/julia/buildbot/worker/package_macos64/build/usr/share/julia/stdlib/v1.0/LinearAlgebra/src/diagonal.jl\" target=\"_blank\">/Users/julia/buildbot/worker/package_macos64/build/usr/share/julia/stdlib/v1.0/LinearAlgebra/src/diagonal.jl:292</a></li> <li> *(A::<b>LinearAlgebra.Adjoint{#s576,#s575} where #s575<:(Union{Hermitian{T,S}, Hermitian{Complex{T},S}, Symmetric{T,S}} where S where T<:Real) where #s576</b>, B::<b>LinearAlgebra.Adjoint{#s574,#s573} where #s573<:(AbstractArray{T,1} where T) where #s574</b>) in LinearAlgebra at <a href=\"file:///Users/julia/buildbot/worker/package_macos64/build/usr/share/julia/stdlib/v1.0/LinearAlgebra/src/symmetric.jl\" target=\"_blank\">/Users/julia/buildbot/worker/package_macos64/build/usr/share/julia/stdlib/v1.0/LinearAlgebra/src/symmetric.jl:848</a></li> <li> *(D::<b>LinearAlgebra.Adjoint{#s576,#s575} where #s575<:LinearAlgebra.Diagonal where #s576</b>, B::<b>LinearAlgebra.Adjoint{#s574,#s573} where #s573<:LinearAlgebra.Diagonal where #s574</b>) in LinearAlgebra at <a href=\"file:///Users/julia/buildbot/worker/package_macos64/build/usr/share/julia/stdlib/v1.0/LinearAlgebra/src/diagonal.jl\" target=\"_blank\">/Users/julia/buildbot/worker/package_macos64/build/usr/share/julia/stdlib/v1.0/LinearAlgebra/src/diagonal.jl:249</a></li> <li> *<i>{Tv, Ti}</i>(A::<b>LinearAlgebra.Adjoint{#s576,#s575} where #s575<:SparseArrays.SparseMatrixCSC{Tv,Ti} where #s576</b>, B::<b>LinearAlgebra.Adjoint{#s574,#s573} where #s573<:SparseArrays.SparseMatrixCSC{Tv,Ti} where #s574</b>) in SparseArrays at <a href=\"file:///Users/julia/buildbot/worker/package_macos64/build/usr/share/julia/stdlib/v1.0/SparseArrays/src/linalg.jl\" target=\"_blank\">/Users/julia/buildbot/worker/package_macos64/build/usr/share/julia/stdlib/v1.0/SparseArrays/src/linalg.jl:146</a></li> <li> *<i>{TvA, TiA, TvB, TiB}</i>(adjA::<b>LinearAlgebra.Adjoint{#s576,#s575} where #s575<:SparseArrays.SparseMatrixCSC{TvA,TiA} where #s576</b>, adjB::<b>LinearAlgebra.Adjoint{#s574,#s573} where #s573<:SparseArrays.SparseMatrixCSC{TvB,TiB} where #s574</b>) in SparseArrays at <a href=\"file:///Users/julia/buildbot/worker/package_macos64/build/usr/share/julia/stdlib/v1.0/SparseArrays/src/linalg.jl\" target=\"_blank\">/Users/julia/buildbot/worker/package_macos64/build/usr/share/julia/stdlib/v1.0/SparseArrays/src/linalg.jl:19</a></li> <li> *(u::<b>LinearAlgebra.Adjoint{T,#s576} where #s576<:(AbstractArray{T,1} where T) where T</b>, v::<b>LinearAlgebra.Adjoint{T,#s576} where #s576<:(AbstractArray{T,1} where T) where T</b>) in LinearAlgebra at <a href=\"file:///Users/julia/buildbot/worker/package_macos64/build/usr/share/julia/stdlib/v1.0/LinearAlgebra/src/adjtrans.jl\" target=\"_blank\">/Users/julia/buildbot/worker/package_macos64/build/usr/share/julia/stdlib/v1.0/LinearAlgebra/src/adjtrans.jl:208</a></li> <li> *(u::<b>LinearAlgebra.Adjoint{T,#s576} where #s576<:(AbstractArray{T,1} where T) where T</b>, v::<b>LinearAlgebra.Transpose{#s576,#s575} where #s575<:(LinearAlgebra.Adjoint{T,#s576} where #s576<:(AbstractArray{T,1} where T) where T) where #s576</b>) in LinearAlgebra at <a href=\"file:///Users/julia/buildbot/worker/package_macos64/build/usr/share/julia/stdlib/v1.0/LinearAlgebra/src/adjtrans.jl\" target=\"_blank\">/Users/julia/buildbot/worker/package_macos64/build/usr/share/julia/stdlib/v1.0/LinearAlgebra/src/adjtrans.jl:219</a></li> <li> *<i>{T<:Union{Complex{Float32}, Complex{Float64}, Float32, Float64}, S}</i>(adjA::<b>LinearAlgebra.Adjoint{#s576,#s575} where #s575<:Union{DenseArray{T,2}, ReinterpretArray{T,2,S,A} where S where A<:Union{SubArray{T,N,A,I,true} where I<:Tuple{AbstractUnitRange,Vararg{Any,N} where N} where A<:DenseArray where N where T, DenseArray}, ReshapedArray{T,2,A,MI} where MI<:Tuple{Vararg{SignedMultiplicativeInverse{Int64},N} where N} where A<:Union{ReinterpretArray{T,N,S,A} where S where A<:Union{SubArray{T,N,A,I,true} where I<:Tuple{AbstractUnitRange,Vararg{Any,N} where N} where A<:DenseArray where N where T, DenseArray} where N where T, SubArray{T,N,A,I,true} where I<:Tuple{AbstractUnitRange,Vararg{Any,N} where N} where A<:DenseArray where N where T, DenseArray}, SubArray{T,2,A,I,L} where L where I<:Tuple{Vararg{Union{Int64, AbstractRange{Int64}, AbstractCartesianIndex},N} where N} where A<:Union{ReinterpretArray{T,N,S,A} where S where A<:Union{SubArray{T,N,A,I,true} where I<:Tuple{AbstractUnitRange,Vararg{Any,N} where N} where A<:DenseArray where N where T, DenseArray} where N where T, ReshapedArray{T,N,A,MI} where MI<:Tuple{Vararg{SignedMultiplicativeInverse{Int64},N} where N} where A<:Union{ReinterpretArray{T,N,S,A} where S where A<:Union{SubArray{T,N,A,I,true} where I<:Tuple{AbstractUnitRange,Vararg{Any,N} where N} where A<:DenseArray where N where T, DenseArray} where N where T, SubArray{T,N,A,I,true} where I<:Tuple{AbstractUnitRange,Vararg{Any,N} where N} where A<:DenseArray where N where T, DenseArray} where N where T, DenseArray}} where #s576</b>, x::<b>Union{DenseArray{S,1}, ReinterpretArray{S,1,S1,A} where S1 where A<:Union{SubArray{T,N,A,I,true} where I<:Tuple{AbstractUnitRange,Vararg{Any,N} where N} where A<:DenseArray where N where T, DenseArray}, ReshapedArray{S,1,A,MI} where MI<:Tuple{Vararg{SignedMultiplicativeInverse{Int64},N} where N} where A<:Union{ReinterpretArray{T,N,S,A} where S where A<:Union{SubArray{T,N,A,I,true} where I<:Tuple{AbstractUnitRange,Vararg{Any,N} where N} where A<:DenseArray where N where T, DenseArray} where N where T, SubArray{T,N,A,I,true} where I<:Tuple{AbstractUnitRange,Vararg{Any,N} where N} where A<:DenseArray where N where T, DenseArray}, SubArray{S,1,A,I,L} where L where I<:Tuple{Vararg{Union{Int64, AbstractRange{Int64}, AbstractCartesianIndex},N} where N} where A<:Union{ReinterpretArray{T,N,S,A} where S where A<:Union{SubArray{T,N,A,I,true} where I<:Tuple{AbstractUnitRange,Vararg{Any,N} where N} where A<:DenseArray where N where T, DenseArray} where N where T, ReshapedArray{T,N,A,MI} where MI<:Tuple{Vararg{SignedMultiplicativeInverse{Int64},N} where N} where A<:Union{ReinterpretArray{T,N,S,A} where S where A<:Union{SubArray{T,N,A,I,true} where I<:Tuple{AbstractUnitRange,Vararg{Any,N} where N} where A<:DenseArray where N where T, DenseArray} where N where T, SubArray{T,N,A,I,true} where I<:Tuple{AbstractUnitRange,Vararg{Any,N} where N} where A<:DenseArray where N where T, DenseArray} where N where T, DenseArray}}</b>) in LinearAlgebra at <a href=\"file:///Users/julia/buildbot/worker/package_macos64/build/usr/share/julia/stdlib/v1.0/LinearAlgebra/src/matmul.jl\" target=\"_blank\">/Users/julia/buildbot/worker/package_macos64/build/usr/share/julia/stdlib/v1.0/LinearAlgebra/src/matmul.jl:98</a></li> <li> *(xformA::<b>LinearAlgebra.Adjoint{#s576,#s575} where #s575<:LinearAlgebra.UpperTriangular where #s576</b>, B::<b>LinearAlgebra.LowerTriangular</b>) in LinearAlgebra at <a href=\"file:///Users/julia/buildbot/worker/package_macos64/build/usr/share/julia/stdlib/v1.0/LinearAlgebra/src/triangular.jl\" target=\"_blank\">/Users/julia/buildbot/worker/package_macos64/build/usr/share/julia/stdlib/v1.0/LinearAlgebra/src/triangular.jl:1647</a></li> <li> *(xformA::<b>LinearAlgebra.Adjoint{#s574,#s573} where #s573<:LinearAlgebra.UnitUpperTriangular where #s574</b>, B::<b>LinearAlgebra.LowerTriangular</b>) in LinearAlgebra at <a href=\"file:///Users/julia/buildbot/worker/package_macos64/build/usr/share/julia/stdlib/v1.0/LinearAlgebra/src/triangular.jl\" target=\"_blank\">/Users/julia/buildbot/worker/package_macos64/build/usr/share/julia/stdlib/v1.0/LinearAlgebra/src/triangular.jl:1656</a></li> <li> *(xformA::<b>LinearAlgebra.Adjoint{#s572,#s571} where #s571<:LinearAlgebra.LowerTriangular where #s572</b>, B::<b>LinearAlgebra.UpperTriangular</b>) in LinearAlgebra at <a href=\"file:///Users/julia/buildbot/worker/package_macos64/build/usr/share/julia/stdlib/v1.0/LinearAlgebra/src/triangular.jl\" target=\"_blank\">/Users/julia/buildbot/worker/package_macos64/build/usr/share/julia/stdlib/v1.0/LinearAlgebra/src/triangular.jl:1665</a></li> <li> *(xformA::<b>LinearAlgebra.Adjoint{#s570,#s569} where #s569<:LinearAlgebra.UnitLowerTriangular where #s570</b>, B::<b>LinearAlgebra.UpperTriangular</b>) in LinearAlgebra at <a href=\"file:///Users/julia/buildbot/worker/package_macos64/build/usr/share/julia/stdlib/v1.0/LinearAlgebra/src/triangular.jl\" target=\"_blank\">/Users/julia/buildbot/worker/package_macos64/build/usr/share/julia/stdlib/v1.0/LinearAlgebra/src/triangular.jl:1674</a></li> <li> *(adjA::<b>LinearAlgebra.Adjoint{#s576,#s575} where #s575<:LinearAlgebra.AbstractTriangular where #s576</b>, B::<b>LinearAlgebra.AbstractTriangular</b>) in LinearAlgebra at <a href=\"file:///Users/julia/buildbot/worker/package_macos64/build/usr/share/julia/stdlib/v1.0/LinearAlgebra/src/triangular.jl\" target=\"_blank\">/Users/julia/buildbot/worker/package_macos64/build/usr/share/julia/stdlib/v1.0/LinearAlgebra/src/triangular.jl:1765</a></li> <li> *(A::<b>LinearAlgebra.Adjoint{#s576,#s575} where #s575<:LinearAlgebra.AbstractTriangular where #s576</b>, B::<b>LinearAlgebra.Adjoint{#s574,#s573} where #s573<:(AbstractArray{T,2} where T) where #s574</b>) in LinearAlgebra at <a href=\"file:///Users/julia/buildbot/worker/package_macos64/build/usr/share/julia/stdlib/v1.0/LinearAlgebra/src/triangular.jl\" target=\"_blank\">/Users/julia/buildbot/worker/package_macos64/build/usr/share/julia/stdlib/v1.0/LinearAlgebra/src/triangular.jl:1968</a></li> <li> *(A::<b>LinearAlgebra.Adjoint{#s576,#s575} where #s575<:LinearAlgebra.AbstractTriangular where #s576</b>, B::<b>LinearAlgebra.Transpose{#s574,#s573} where #s573<:LinearAlgebra.AbstractTriangular where #s574</b>) in LinearAlgebra at <a href=\"file:///Users/julia/buildbot/worker/package_macos64/build/usr/share/julia/stdlib/v1.0/LinearAlgebra/src/triangular.jl\" target=\"_blank\">/Users/julia/buildbot/worker/package_macos64/build/usr/share/julia/stdlib/v1.0/LinearAlgebra/src/triangular.jl:2481</a></li> <li> *(A::<b>LinearAlgebra.Adjoint{#s576,#s575} where #s575<:LinearAlgebra.AbstractTriangular where #s576</b>, B::<b>LinearAlgebra.Transpose{#s574,#s573} where #s573<:(Union{Hermitian{T,S}, Symmetric{T,S}, Symmetric{Complex{T},S}} where S where T<:Real) where #s574</b>) in LinearAlgebra at <a href=\"file:///Users/julia/buildbot/worker/package_macos64/build/usr/share/julia/stdlib/v1.0/LinearAlgebra/src/symmetric.jl\" target=\"_blank\">/Users/julia/buildbot/worker/package_macos64/build/usr/share/julia/stdlib/v1.0/LinearAlgebra/src/symmetric.jl:859</a></li> <li> *(A::<b>LinearAlgebra.Adjoint{#s576,#s575} where #s575<:LinearAlgebra.AbstractTriangular where #s576</b>, B::<b>LinearAlgebra.Transpose{#s574,#s573} where #s573<:(AbstractArray{T,2} where T) where #s574</b>) in LinearAlgebra at <a href=\"file:///Users/julia/buildbot/worker/package_macos64/build/usr/share/julia/stdlib/v1.0/LinearAlgebra/src/triangular.jl\" target=\"_blank\">/Users/julia/buildbot/worker/package_macos64/build/usr/share/julia/stdlib/v1.0/LinearAlgebra/src/triangular.jl:2485</a></li> <li> *(A::<b>LinearAlgebra.Adjoint{#s576,#s575} where #s575<:LinearAlgebra.AbstractTriangular where #s576</b>, B::<b>LinearAlgebra.Transpose{#s574,#s573} where #s573<:(AbstractArray{T,1} where T) where #s574</b>) in LinearAlgebra at <a href=\"file:///Users/julia/buildbot/worker/package_macos64/build/usr/share/julia/stdlib/v1.0/LinearAlgebra/src/triangular.jl\" target=\"_blank\">/Users/julia/buildbot/worker/package_macos64/build/usr/share/julia/stdlib/v1.0/LinearAlgebra/src/triangular.jl:2486</a></li> <li> *(A::<b>LinearAlgebra.Adjoint{#s576,#s575} where #s575<:LinearAlgebra.AbstractTriangular where #s576</b>, D::<b>LinearAlgebra.Diagonal</b>) in LinearAlgebra at <a href=\"file:///Users/julia/buildbot/worker/package_macos64/build/usr/share/julia/stdlib/v1.0/LinearAlgebra/src/diagonal.jl\" target=\"_blank\">/Users/julia/buildbot/worker/package_macos64/build/usr/share/julia/stdlib/v1.0/LinearAlgebra/src/diagonal.jl:213</a></li> <li> *(A::<b>LinearAlgebra.Adjoint{#s576,#s575} where #s575<:LinearAlgebra.AbstractTriangular where #s576</b>, B::<b>LinearAlgebra.Adjoint{#s574,#s573} where #s573<:LinearAlgebra.AbstractRotation where #s574</b>) in LinearAlgebra at <a href=\"file:///Users/julia/buildbot/worker/package_macos64/build/usr/share/julia/stdlib/v1.0/LinearAlgebra/src/givens.jl\" target=\"_blank\">/Users/julia/buildbot/worker/package_macos64/build/usr/share/julia/stdlib/v1.0/LinearAlgebra/src/givens.jl:392</a></li> <li> *(adjA::<b>LinearAlgebra.Adjoint{#s576,#s575} where #s575<:LinearAlgebra.AbstractTriangular where #s576</b>, B::<b>AbstractArray{T,1} where T</b>) in LinearAlgebra at <a href=\"file:///Users/julia/buildbot/worker/package_macos64/build/usr/share/julia/stdlib/v1.0/LinearAlgebra/src/triangular.jl\" target=\"_blank\">/Users/julia/buildbot/worker/package_macos64/build/usr/share/julia/stdlib/v1.0/LinearAlgebra/src/triangular.jl:1805</a></li> <li> *(adjA::<b>LinearAlgebra.Adjoint{#s576,#s575} where #s575<:(Union{Hermitian{T,S}, Hermitian{Complex{T},S}, Symmetric{T,S}} where S where T<:Real) where #s576</b>, B::<b>LinearAlgebra.AbstractTriangular</b>) in LinearAlgebra at <a href=\"file:///Users/julia/buildbot/worker/package_macos64/build/usr/share/julia/stdlib/v1.0/LinearAlgebra/src/symmetric.jl\" target=\"_blank\">/Users/julia/buildbot/worker/package_macos64/build/usr/share/julia/stdlib/v1.0/LinearAlgebra/src/symmetric.jl:440</a></li> <li> *(v::<b>LinearAlgebra.Adjoint{T,#s576} where #s576<:(AbstractArray{T,1} where T) where T</b>, A::<b>LinearAlgebra.AbstractTriangular</b>) in LinearAlgebra at <a href=\"file:///Users/julia/buildbot/worker/package_macos64/build/usr/share/julia/stdlib/v1.0/LinearAlgebra/src/triangular.jl\" target=\"_blank\">/Users/julia/buildbot/worker/package_macos64/build/usr/share/julia/stdlib/v1.0/LinearAlgebra/src/triangular.jl:1952</a></li> <li> *(A::<b>LinearAlgebra.Adjoint{#s576,#s575} where #s575<:(Union{Hermitian{T,S}, Hermitian{Complex{T},S}, Symmetric{T,S}} where S where T<:Real) where #s576</b>, B::<b>LinearAlgebra.Transpose{#s574,#s573} where #s573<:LinearAlgebra.AbstractTriangular where #s574</b>) in LinearAlgebra at <a href=\"file:///Users/julia/buildbot/worker/package_macos64/build/usr/share/julia/stdlib/v1.0/LinearAlgebra/src/symmetric.jl\" target=\"_blank\">/Users/julia/buildbot/worker/package_macos64/build/usr/share/julia/stdlib/v1.0/LinearAlgebra/src/symmetric.jl:863</a></li> <li> *(A::<b>LinearAlgebra.Adjoint{#s576,#s575} where #s575<:(AbstractArray{T,1} where T) where #s576</b>, B::<b>LinearAlgebra.Transpose{#s574,#s573} where #s573<:LinearAlgebra.AbstractTriangular where #s574</b>) in LinearAlgebra at <a href=\"file:///Users/julia/buildbot/worker/package_macos64/build/usr/share/julia/stdlib/v1.0/LinearAlgebra/src/triangular.jl\" target=\"_blank\">/Users/julia/buildbot/worker/package_macos64/build/usr/share/julia/stdlib/v1.0/LinearAlgebra/src/triangular.jl:2491</a></li> <li> *(adjQ::<b>LinearAlgebra.Adjoint{#s576,#s575} where #s575<:LinearAlgebra.AbstractQ where #s576</b>, B::<b>Union{DenseArray{T,1}, DenseArray{T,2}, ReinterpretArray{T,2,S,A} where S where A<:Union{SubArray{T,N,A,I,true} where I<:Tuple{AbstractUnitRange,Vararg{Any,N} where N} where A<:DenseArray where N where T, DenseArray}, ReinterpretArray{T,1,S,A} where S where A<:Union{SubArray{T,N,A,I,true} where I<:Tuple{AbstractUnitRange,Vararg{Any,N} where N} where A<:DenseArray where N where T, DenseArray}, ReshapedArray{T,1,A,MI} where MI<:Tuple{Vararg{SignedMultiplicativeInverse{Int64},N} where N} where A<:Union{ReinterpretArray{T,N,S,A} where S where A<:Union{SubArray{T,N,A,I,true} where I<:Tuple{AbstractUnitRange,Vararg{Any,N} where N} where A<:DenseArray where N where T, DenseArray} where N where T, SubArray{T,N,A,I,true} where I<:Tuple{AbstractUnitRange,Vararg{Any,N} where N} where A<:DenseArray where N where T, DenseArray}, ReshapedArray{T,2,A,MI} where MI<:Tuple{Vararg{SignedMultiplicativeInverse{Int64},N} where N} where A<:Union{ReinterpretArray{T,N,S,A} where S where A<:Union{SubArray{T,N,A,I,true} where I<:Tuple{AbstractUnitRange,Vararg{Any,N} where N} where A<:DenseArray where N where T, DenseArray} where N where T, SubArray{T,N,A,I,true} where I<:Tuple{AbstractUnitRange,Vararg{Any,N} where N} where A<:DenseArray where N where T, DenseArray}, SubArray{T,1,A,I,L} where L where I<:Tuple{Vararg{Union{Int64, AbstractRange{Int64}, AbstractCartesianIndex},N} where N} where A<:Union{ReinterpretArray{T,N,S,A} where S where A<:Union{SubArray{T,N,A,I,true} where I<:Tuple{AbstractUnitRange,Vararg{Any,N} where N} where A<:DenseArray where N where T, DenseArray} where N where T, ReshapedArray{T,N,A,MI} where MI<:Tuple{Vararg{SignedMultiplicativeInverse{Int64},N} where N} where A<:Union{ReinterpretArray{T,N,S,A} where S where A<:Union{SubArray{T,N,A,I,true} where I<:Tuple{AbstractUnitRange,Vararg{Any,N} where N} where A<:DenseArray where N where T, DenseArray} where N where T, SubArray{T,N,A,I,true} where I<:Tuple{AbstractUnitRange,Vararg{Any,N} where N} where A<:DenseArray where N where T, DenseArray} where N where T, DenseArray}, SubArray{T,2,A,I,L} where L where I<:Tuple{Vararg{Union{Int64, AbstractRange{Int64}, AbstractCartesianIndex},N} where N} where A<:Union{ReinterpretArray{T,N,S,A} where S where A<:Union{SubArray{T,N,A,I,true} where I<:Tuple{AbstractUnitRange,Vararg{Any,N} where N} where A<:DenseArray where N where T, DenseArray} where N where T, ReshapedArray{T,N,A,MI} where MI<:Tuple{Vararg{SignedMultiplicativeInverse{Int64},N} where N} where A<:Union{ReinterpretArray{T,N,S,A} where S where A<:Union{SubArray{T,N,A,I,true} where I<:Tuple{AbstractUnitRange,Vararg{Any,N} where N} where A<:DenseArray where N where T, DenseArray} where N where T, SubArray{T,N,A,I,true} where I<:Tuple{AbstractUnitRange,Vararg{Any,N} where N} where A<:DenseArray where N where T, DenseArray} where N where T, DenseArray}} where T</b>) in LinearAlgebra at <a href=\"file:///Users/julia/buildbot/worker/package_macos64/build/usr/share/julia/stdlib/v1.0/LinearAlgebra/src/qr.jl\" target=\"_blank\">/Users/julia/buildbot/worker/package_macos64/build/usr/share/julia/stdlib/v1.0/LinearAlgebra/src/qr.jl:617</a></li> <li> *(adjA::<b>LinearAlgebra.Adjoint{#s576,#s575} where #s575<:(Union{DenseArray{T,1}, DenseArray{T,2}, ReinterpretArray{T,2,S,A} where S where A<:Union{SubArray{T,N,A,I,true} where I<:Tuple{AbstractUnitRange,Vararg{Any,N} where N} where A<:DenseArray where N where T, DenseArray}, ReinterpretArray{T,1,S,A} where S where A<:Union{SubArray{T,N,A,I,true} where I<:Tuple{AbstractUnitRange,Vararg{Any,N} where N} where A<:DenseArray where N where T, DenseArray}, ReshapedArray{T,1,A,MI} where MI<:Tuple{Vararg{SignedMultiplicativeInverse{Int64},N} where N} where A<:Union{ReinterpretArray{T,N,S,A} where S where A<:Union{SubArray{T,N,A,I,true} where I<:Tuple{AbstractUnitRange,Vararg{Any,N} where N} where A<:DenseArray where N where T, DenseArray} where N where T, SubArray{T,N,A,I,true} where I<:Tuple{AbstractUnitRange,Vararg{Any,N} where N} where A<:DenseArray where N where T, DenseArray}, ReshapedArray{T,2,A,MI} where MI<:Tuple{Vararg{SignedMultiplicativeInverse{Int64},N} where N} where A<:Union{ReinterpretArray{T,N,S,A} where S where A<:Union{SubArray{T,N,A,I,true} where I<:Tuple{AbstractUnitRange,Vararg{Any,N} where N} where A<:DenseArray where N where T, DenseArray} where N where T, SubArray{T,N,A,I,true} where I<:Tuple{AbstractUnitRange,Vararg{Any,N} where N} where A<:DenseArray where N where T, DenseArray}, SubArray{T,1,A,I,L} where L where I<:Tuple{Vararg{Union{Int64, AbstractRange{Int64}, AbstractCartesianIndex},N} where N} where A<:Union{ReinterpretArray{T,N,S,A} where S where A<:Union{SubArray{T,N,A,I,true} where I<:Tuple{AbstractUnitRange,Vararg{Any,N} where N} where A<:DenseArray where N where T, DenseArray} where N where T, ReshapedArray{T,N,A,MI} where MI<:Tuple{Vararg{SignedMultiplicativeInverse{Int64},N} where N} where A<:Union{ReinterpretArray{T,N,S,A} where S where A<:Union{SubArray{T,N,A,I,true} where I<:Tuple{AbstractUnitRange,Vararg{Any,N} where N} where A<:DenseArray where N where T, DenseArray} where N where T, SubArray{T,N,A,I,true} where I<:Tuple{AbstractUnitRange,Vararg{Any,N} where N} where A<:DenseArray where N where T, DenseArray} where N where T, DenseArray}, SubArray{T,2,A,I,L} where L where I<:Tuple{Vararg{Union{Int64, AbstractRange{Int64}, AbstractCartesianIndex},N} where N} where A<:Union{ReinterpretArray{T,N,S,A} where S where A<:Union{SubArray{T,N,A,I,true} where I<:Tuple{AbstractUnitRange,Vararg{Any,N} where N} where A<:DenseArray where N where T, DenseArray} where N where T, ReshapedArray{T,N,A,MI} where MI<:Tuple{Vararg{SignedMultiplicativeInverse{Int64},N} where N} where A<:Union{ReinterpretArray{T,N,S,A} where S where A<:Union{SubArray{T,N,A,I,true} where I<:Tuple{AbstractUnitRange,Vararg{Any,N} where N} where A<:DenseArray where N where T, DenseArray} where N where T, SubArray{T,N,A,I,true} where I<:Tuple{AbstractUnitRange,Vararg{Any,N} where N} where A<:DenseArray where N where T, DenseArray} where N where T, DenseArray}} where T) where #s576</b>, Q::<b>LinearAlgebra.AbstractQ</b>) in LinearAlgebra at <a href=\"file:///Users/julia/buildbot/worker/package_macos64/build/usr/share/julia/stdlib/v1.0/LinearAlgebra/src/qr.jl\" target=\"_blank\">/Users/julia/buildbot/worker/package_macos64/build/usr/share/julia/stdlib/v1.0/LinearAlgebra/src/qr.jl:727</a></li> <li> *(adjA::<b>LinearAlgebra.Adjoint{#s576,#s575} where #s575<:LinearAlgebra.LQPackedQ where #s576</b>, B::<b>Union{DenseArray{T,1}, DenseArray{T,2}, ReinterpretArray{T,2,S,A} where S where A<:Union{SubArray{T,N,A,I,true} where I<:Tuple{AbstractUnitRange,Vararg{Any,N} where N} where A<:DenseArray where N where T, DenseArray}, ReinterpretArray{T,1,S,A} where S where A<:Union{SubArray{T,N,A,I,true} where I<:Tuple{AbstractUnitRange,Vararg{Any,N} where N} where A<:DenseArray where N where T, DenseArray}, ReshapedArray{T,1,A,MI} where MI<:Tuple{Vararg{SignedMultiplicativeInverse{Int64},N} where N} where A<:Union{ReinterpretArray{T,N,S,A} where S where A<:Union{SubArray{T,N,A,I,true} where I<:Tuple{AbstractUnitRange,Vararg{Any,N} where N} where A<:DenseArray where N where T, DenseArray} where N where T, SubArray{T,N,A,I,true} where I<:Tuple{AbstractUnitRange,Vararg{Any,N} where N} where A<:DenseArray where N where T, DenseArray}, ReshapedArray{T,2,A,MI} where MI<:Tuple{Vararg{SignedMultiplicativeInverse{Int64},N} where N} where A<:Union{ReinterpretArray{T,N,S,A} where S where A<:Union{SubArray{T,N,A,I,true} where I<:Tuple{AbstractUnitRange,Vararg{Any,N} where N} where A<:DenseArray where N where T, DenseArray} where N where T, SubArray{T,N,A,I,true} where I<:Tuple{AbstractUnitRange,Vararg{Any,N} where N} where A<:DenseArray where N where T, DenseArray}, SubArray{T,1,A,I,L} where L where I<:Tuple{Vararg{Union{Int64, AbstractRange{Int64}, AbstractCartesianIndex},N} where N} where A<:Union{ReinterpretArray{T,N,S,A} where S where A<:Union{SubArray{T,N,A,I,true} where I<:Tuple{AbstractUnitRange,Vararg{Any,N} where N} where A<:DenseArray where N where T, DenseArray} where N where T, ReshapedArray{T,N,A,MI} where MI<:Tuple{Vararg{SignedMultiplicativeInverse{Int64},N} where N} where A<:Union{ReinterpretArray{T,N,S,A} where S where A<:Union{SubArray{T,N,A,I,true} where I<:Tuple{AbstractUnitRange,Vararg{Any,N} where N} where A<:DenseArray where N where T, DenseArray} where N where T, SubArray{T,N,A,I,true} where I<:Tuple{AbstractUnitRange,Vararg{Any,N} where N} where A<:DenseArray where N where T, DenseArray} where N where T, DenseArray}, SubArray{T,2,A,I,L} where L where I<:Tuple{Vararg{Union{Int64, AbstractRange{Int64}, AbstractCartesianIndex},N} where N} where A<:Union{ReinterpretArray{T,N,S,A} where S where A<:Union{SubArray{T,N,A,I,true} where I<:Tuple{AbstractUnitRange,Vararg{Any,N} where N} where A<:DenseArray where N where T, DenseArray} where N where T, ReshapedArray{T,N,A,MI} where MI<:Tuple{Vararg{SignedMultiplicativeInverse{Int64},N} where N} where A<:Union{ReinterpretArray{T,N,S,A} where S where A<:Union{SubArray{T,N,A,I,true} where I<:Tuple{AbstractUnitRange,Vararg{Any,N} where N} where A<:DenseArray where N where T, DenseArray} where N where T, SubArray{T,N,A,I,true} where I<:Tuple{AbstractUnitRange,Vararg{Any,N} where N} where A<:DenseArray where N where T, DenseArray} where N where T, DenseArray}} where T</b>) in LinearAlgebra at <a href=\"file:///Users/julia/buildbot/worker/package_macos64/build/usr/share/julia/stdlib/v1.0/LinearAlgebra/src/lq.jl\" target=\"_blank\">/Users/julia/buildbot/worker/package_macos64/build/usr/share/julia/stdlib/v1.0/LinearAlgebra/src/lq.jl:163</a></li> <li> *(adjA::<b>LinearAlgebra.Adjoint{#s576,#s575} where #s575<:(Union{DenseArray{T,2}, ReinterpretArray{T,2,S,A} where S where A<:Union{SubArray{T,N,A,I,true} where I<:Tuple{AbstractUnitRange,Vararg{Any,N} where N} where A<:DenseArray where N where T, DenseArray}, ReshapedArray{T,2,A,MI} where MI<:Tuple{Vararg{SignedMultiplicativeInverse{Int64},N} where N} where A<:Union{ReinterpretArray{T,N,S,A} where S where A<:Union{SubArray{T,N,A,I,true} where I<:Tuple{AbstractUnitRange,Vararg{Any,N} where N} where A<:DenseArray where N where T, DenseArray} where N where T, SubArray{T,N,A,I,true} where I<:Tuple{AbstractUnitRange,Vararg{Any,N} where N} where A<:DenseArray where N where T, DenseArray}, SubArray{T,2,A,I,L} where L where I<:Tuple{Vararg{Union{Int64, AbstractRange{Int64}, AbstractCartesianIndex},N} where N} where A<:Union{ReinterpretArray{T,N,S,A} where S where A<:Union{SubArray{T,N,A,I,true} where I<:Tuple{AbstractUnitRange,Vararg{Any,N} where N} where A<:DenseArray where N where T, DenseArray} where N where T, ReshapedArray{T,N,A,MI} where MI<:Tuple{Vararg{SignedMultiplicativeInverse{Int64},N} where N} where A<:Union{ReinterpretArray{T,N,S,A} where S where A<:Union{SubArray{T,N,A,I,true} where I<:Tuple{AbstractUnitRange,Vararg{Any,N} where N} where A<:DenseArray where N where T, DenseArray} where N where T, SubArray{T,N,A,I,true} where I<:Tuple{AbstractUnitRange,Vararg{Any,N} where N} where A<:DenseArray where N where T, DenseArray} where N where T, DenseArray}} where T) where #s576</b>, Q::<b>LinearAlgebra.LQPackedQ</b>) in LinearAlgebra at <a href=\"file:///Users/julia/buildbot/worker/package_macos64/build/usr/share/julia/stdlib/v1.0/LinearAlgebra/src/lq.jl\" target=\"_blank\">/Users/julia/buildbot/worker/package_macos64/build/usr/share/julia/stdlib/v1.0/LinearAlgebra/src/lq.jl:251</a></li> <li> *(A::<b>LinearAlgebra.Adjoint{#s576,#s575} where #s575<:(Union{Hermitian{T,S}, Hermitian{Complex{T},S}, Symmetric{T,S}} where S where T<:Real) where #s576</b>, B::<b>LinearAlgebra.Transpose{#s574,#s573} where #s573<:(Union{Hermitian{T,S}, Symmetric{T,S}, Symmetric{Complex{T},S}} where S where T<:Real) where #s574</b>) in LinearAlgebra at <a href=\"file:///Users/julia/buildbot/worker/package_macos64/build/usr/share/julia/stdlib/v1.0/LinearAlgebra/src/symmetric.jl\" target=\"_blank\">/Users/julia/buildbot/worker/package_macos64/build/usr/share/julia/stdlib/v1.0/LinearAlgebra/src/symmetric.jl:836</a></li> <li> *(A::<b>LinearAlgebra.Adjoint{#s576,#s575} where #s575<:(Union{Hermitian{T,S}, Hermitian{Complex{T},S}, Symmetric{T,S}} where S where T<:Real) where #s576</b>, B::<b>LinearAlgebra.Adjoint{#s574,#s573} where #s573<:(AbstractArray{T,2} where T) where #s574</b>) in LinearAlgebra at <a href=\"file:///Users/julia/buildbot/worker/package_macos64/build/usr/share/julia/stdlib/v1.0/LinearAlgebra/src/symmetric.jl\" target=\"_blank\">/Users/julia/buildbot/worker/package_macos64/build/usr/share/julia/stdlib/v1.0/LinearAlgebra/src/symmetric.jl:849</a></li> <li> *(A::<b>LinearAlgebra.Adjoint{#s576,#s575} where #s575<:(Union{Hermitian{T,S}, Hermitian{Complex{T},S}, Symmetric{T,S}} where S where T<:Real) where #s576</b>, B::<b>LinearAlgebra.Transpose{#s574,#s573} where #s573<:(AbstractArray{T,1} where T) where #s574</b>) in LinearAlgebra at <a href=\"file:///Users/julia/buildbot/worker/package_macos64/build/usr/share/julia/stdlib/v1.0/LinearAlgebra/src/symmetric.jl\" target=\"_blank\">/Users/julia/buildbot/worker/package_macos64/build/usr/share/julia/stdlib/v1.0/LinearAlgebra/src/symmetric.jl:850</a></li> <li> *(A::<b>LinearAlgebra.Adjoint{#s576,#s575} where #s575<:(Union{Hermitian{T,S}, Hermitian{Complex{T},S}, Symmetric{T,S}} where S where T<:Real) where #s576</b>, B::<b>LinearAlgebra.Transpose{#s574,#s573} where #s573<:(AbstractArray{T,2} where T) where #s574</b>) in LinearAlgebra at <a href=\"file:///Users/julia/buildbot/worker/package_macos64/build/usr/share/julia/stdlib/v1.0/LinearAlgebra/src/symmetric.jl\" target=\"_blank\">/Users/julia/buildbot/worker/package_macos64/build/usr/share/julia/stdlib/v1.0/LinearAlgebra/src/symmetric.jl:851</a></li> <li> *(adjA::<b>LinearAlgebra.Adjoint{#s576,#s575} where #s575<:(Union{Hermitian{T,S}, Hermitian{Complex{T},S}, Symmetric{T,S}} where S where T<:Real) where #s576</b>, B::<b>LinearAlgebra.Diagonal</b>) in LinearAlgebra at <a href=\"file:///Users/julia/buildbot/worker/package_macos64/build/usr/share/julia/stdlib/v1.0/LinearAlgebra/src/diagonal.jl\" target=\"_blank\">/Users/julia/buildbot/worker/package_macos64/build/usr/share/julia/stdlib/v1.0/LinearAlgebra/src/diagonal.jl:289</a></li> <li> *(A::<b>LinearAlgebra.Adjoint{#s576,#s575} where #s575<:(Union{Hermitian{T,S}, Hermitian{Complex{T},S}, Symmetric{T,S}} where S where T<:Real) where #s576</b>, B::<b>LinearAlgebra.Adjoint{#s574,#s573} where #s573<:LinearAlgebra.AbstractRotation where #s574</b>) in LinearAlgebra at <a href=\"file:///Users/julia/buildbot/worker/package_macos64/build/usr/share/julia/stdlib/v1.0/LinearAlgebra/src/givens.jl\" target=\"_blank\">/Users/julia/buildbot/worker/package_macos64/build/usr/share/julia/stdlib/v1.0/LinearAlgebra/src/givens.jl:394</a></li> <li> *(adjA::<b>LinearAlgebra.Adjoint{#s576,#s575} where #s575<:(Union{Hermitian{T,S}, Hermitian{Complex{T},S}, Symmetric{T,S}} where S where T<:Real) where #s576</b>, B::<b>AbstractArray{T,1} where T</b>) in LinearAlgebra at <a href=\"file:///Users/julia/buildbot/worker/package_macos64/build/usr/share/julia/stdlib/v1.0/LinearAlgebra/src/symmetric.jl\" target=\"_blank\">/Users/julia/buildbot/worker/package_macos64/build/usr/share/julia/stdlib/v1.0/LinearAlgebra/src/symmetric.jl:425</a></li> <li> *(A::<b>LinearAlgebra.Adjoint{#s576,#s575} where #s575<:(AbstractArray{T,1} where T) where #s576</b>, B::<b>LinearAlgebra.Transpose{#s574,#s573} where #s573<:(Union{Hermitian{T,S}, Symmetric{T,S}, Symmetric{Complex{T},S}} where S where T<:Real) where #s574</b>) in LinearAlgebra at <a href=\"file:///Users/julia/buildbot/worker/package_macos64/build/usr/share/julia/stdlib/v1.0/LinearAlgebra/src/symmetric.jl\" target=\"_blank\">/Users/julia/buildbot/worker/package_macos64/build/usr/share/julia/stdlib/v1.0/LinearAlgebra/src/symmetric.jl:841</a></li> <li> *(D::<b>LinearAlgebra.Adjoint{#s576,#s575} where #s575<:LinearAlgebra.Diagonal where #s576</b>, B::<b>LinearAlgebra.Diagonal</b>) in LinearAlgebra at <a href=\"file:///Users/julia/buildbot/worker/package_macos64/build/usr/share/julia/stdlib/v1.0/LinearAlgebra/src/diagonal.jl\" target=\"_blank\">/Users/julia/buildbot/worker/package_macos64/build/usr/share/julia/stdlib/v1.0/LinearAlgebra/src/diagonal.jl:212</a></li> <li> *(x::<b>LinearAlgebra.Adjoint{#s576,#s575} where #s575<:(AbstractArray{T,1} where T) where #s576</b>, D::<b>LinearAlgebra.Diagonal</b>) in LinearAlgebra at <a href=\"file:///Users/julia/buildbot/worker/package_macos64/build/usr/share/julia/stdlib/v1.0/LinearAlgebra/src/diagonal.jl\" target=\"_blank\">/Users/julia/buildbot/worker/package_macos64/build/usr/share/julia/stdlib/v1.0/LinearAlgebra/src/diagonal.jl:508</a></li> <li> *(x::<b>LinearAlgebra.Adjoint{#s576,#s575} where #s575<:(AbstractArray{T,1} where T) where #s576</b>, D::<b>LinearAlgebra.Diagonal</b>, y::<b>AbstractArray{T,1} where T</b>) in LinearAlgebra at <a href=\"file:///Users/julia/buildbot/worker/package_macos64/build/usr/share/julia/stdlib/v1.0/LinearAlgebra/src/diagonal.jl\" target=\"_blank\">/Users/julia/buildbot/worker/package_macos64/build/usr/share/julia/stdlib/v1.0/LinearAlgebra/src/diagonal.jl:509</a></li> <li> *<i>{T}</i>(adjA::<b>LinearAlgebra.Adjoint{#s576,#s575} where #s575<:(LinearAlgebra.Bidiagonal{T,V} where V<:AbstractArray{T,1}) where #s576</b>, B::<b>AbstractArray{T,1}</b>) in LinearAlgebra at <a href=\"file:///Users/julia/buildbot/worker/package_macos64/build/usr/share/julia/stdlib/v1.0/LinearAlgebra/src/bidiag.jl\" target=\"_blank\">/Users/julia/buildbot/worker/package_macos64/build/usr/share/julia/stdlib/v1.0/LinearAlgebra/src/bidiag.jl:496</a></li> <li> *(A::<b>LinearAlgebra.Adjoint{#s576,#s575} where #s575<:(AbstractArray{T,1} where T) where #s576</b>, B::<b>LinearAlgebra.Adjoint{#s574,#s573} where #s573<:LinearAlgebra.AbstractRotation where #s574</b>) in LinearAlgebra at <a href=\"file:///Users/julia/buildbot/worker/package_macos64/build/usr/share/julia/stdlib/v1.0/LinearAlgebra/src/givens.jl\" target=\"_blank\">/Users/julia/buildbot/worker/package_macos64/build/usr/share/julia/stdlib/v1.0/LinearAlgebra/src/givens.jl:387</a></li> <li> *(adjA::<b>LinearAlgebra.Adjoint{#s576,#s575} where #s575<:SparseArrays.SparseMatrixCSC where #s576</b>, x::<b>SparseArrays.AbstractSparseArray{Tv,Ti,1} where Ti where Tv</b>) in SparseArrays at <a href=\"file:///Users/julia/buildbot/worker/package_macos64/build/usr/share/julia/stdlib/v1.0/SparseArrays/src/sparsevector.jl\" target=\"_blank\">/Users/julia/buildbot/worker/package_macos64/build/usr/share/julia/stdlib/v1.0/SparseArrays/src/sparsevector.jl:1676</a></li> <li> *<i>{Tv, Ti}</i>(A::<b>LinearAlgebra.Adjoint{#s576,#s575} where #s575<:SparseArrays.SparseMatrixCSC{Tv,Ti} where #s576</b>, B::<b>SparseArrays.SparseMatrixCSC{Tv,Ti}</b>) in SparseArrays at <a href=\"file:///Users/julia/buildbot/worker/package_macos64/build/usr/share/julia/stdlib/v1.0/SparseArrays/src/linalg.jl\" target=\"_blank\">/Users/julia/buildbot/worker/package_macos64/build/usr/share/julia/stdlib/v1.0/SparseArrays/src/linalg.jl:145</a></li> <li> *<i>{TvA, TiA, TvB, TiB}</i>(adjA::<b>LinearAlgebra.Adjoint{#s576,#s575} where #s575<:SparseArrays.SparseMatrixCSC{TvA,TiA} where #s576</b>, B::<b>SparseArrays.SparseMatrixCSC{TvB,TiB}</b>) in SparseArrays at <a href=\"file:///Users/julia/buildbot/worker/package_macos64/build/usr/share/julia/stdlib/v1.0/SparseArrays/src/linalg.jl\" target=\"_blank\">/Users/julia/buildbot/worker/package_macos64/build/usr/share/julia/stdlib/v1.0/SparseArrays/src/linalg.jl:15</a></li> <li> *<i>{TA, S, Tx}</i>(adjA::<b>LinearAlgebra.Adjoint{#s576,#s575} where #s575<:SparseArrays.SparseMatrixCSC{TA,S} where #s576</b>, x::<b>Union{DenseArray{Tx,1}, ReinterpretArray{Tx,1,S,A} where S where A<:Union{SubArray{T,N,A,I,true} where I<:Tuple{AbstractUnitRange,Vararg{Any,N} where N} where A<:DenseArray where N where T, DenseArray}, ReshapedArray{Tx,1,A,MI} where MI<:Tuple{Vararg{SignedMultiplicativeInverse{Int64},N} where N} where A<:Union{ReinterpretArray{T,N,S,A} where S where A<:Union{SubArray{T,N,A,I,true} where I<:Tuple{AbstractUnitRange,Vararg{Any,N} where N} where A<:DenseArray where N where T, DenseArray} where N where T, SubArray{T,N,A,I,true} where I<:Tuple{AbstractUnitRange,Vararg{Any,N} where N} where A<:DenseArray where N where T, DenseArray}, SubArray{Tx,1,A,I,L} where L where I<:Tuple{Vararg{Union{Int64, AbstractRange{Int64}, AbstractCartesianIndex},N} where N} where A<:Union{ReinterpretArray{T,N,S,A} where S where A<:Union{SubArray{T,N,A,I,true} where I<:Tuple{AbstractUnitRange,Vararg{Any,N} where N} where A<:DenseArray where N where T, DenseArray} where N where T, ReshapedArray{T,N,A,MI} where MI<:Tuple{Vararg{SignedMultiplicativeInverse{Int64},N} where N} where A<:Union{ReinterpretArray{T,N,S,A} where S where A<:Union{SubArray{T,N,A,I,true} where I<:Tuple{AbstractUnitRange,Vararg{Any,N} where N} where A<:DenseArray where N where T, DenseArray} where N where T, SubArray{T,N,A,I,true} where I<:Tuple{AbstractUnitRange,Vararg{Any,N} where N} where A<:DenseArray where N where T, DenseArray} where N where T, DenseArray}}</b>) in SparseArrays at <a href=\"file:///Users/julia/buildbot/worker/package_macos64/build/usr/share/julia/stdlib/v1.0/SparseArrays/src/linalg.jl\" target=\"_blank\">/Users/julia/buildbot/worker/package_macos64/build/usr/share/julia/stdlib/v1.0/SparseArrays/src/linalg.jl:77</a></li> <li> *<i>{TA, S, Tx}</i>(adjA::<b>LinearAlgebra.Adjoint{#s576,#s575} where #s575<:SparseArrays.SparseMatrixCSC{TA,S} where #s576</b>, B::<b>Union{DenseArray{Tx,2}, ReinterpretArray{Tx,2,S,A} where S where A<:Union{SubArray{T,N,A,I,true} where I<:Tuple{AbstractUnitRange,Vararg{Any,N} where N} where A<:DenseArray where N where T, DenseArray}, ReshapedArray{Tx,2,A,MI} where MI<:Tuple{Vararg{SignedMultiplicativeInverse{Int64},N} where N} where A<:Union{ReinterpretArray{T,N,S,A} where S where A<:Union{SubArray{T,N,A,I,true} where I<:Tuple{AbstractUnitRange,Vararg{Any,N} where N} where A<:DenseArray where N where T, DenseArray} where N where T, SubArray{T,N,A,I,true} where I<:Tuple{AbstractUnitRange,Vararg{Any,N} where N} where A<:DenseArray where N where T, DenseArray}, SubArray{Tx,2,A,I,L} where L where I<:Tuple{Vararg{Union{Int64, AbstractRange{Int64}, AbstractCartesianIndex},N} where N} where A<:Union{ReinterpretArray{T,N,S,A} where S where A<:Union{SubArray{T,N,A,I,true} where I<:Tuple{AbstractUnitRange,Vararg{Any,N} where N} where A<:DenseArray where N where T, DenseArray} where N where T, ReshapedArray{T,N,A,MI} where MI<:Tuple{Vararg{SignedMultiplicativeInverse{Int64},N} where N} where A<:Union{ReinterpretArray{T,N,S,A} where S where A<:Union{SubArray{T,N,A,I,true} where I<:Tuple{AbstractUnitRange,Vararg{Any,N} where N} where A<:DenseArray where N where T, DenseArray} where N where T, SubArray{T,N,A,I,true} where I<:Tuple{AbstractUnitRange,Vararg{Any,N} where N} where A<:DenseArray where N where T, DenseArray} where N where T, DenseArray}}</b>) in SparseArrays at <a href=\"file:///Users/julia/buildbot/worker/package_macos64/build/usr/share/julia/stdlib/v1.0/SparseArrays/src/linalg.jl\" target=\"_blank\">/Users/julia/buildbot/worker/package_macos64/build/usr/share/julia/stdlib/v1.0/SparseArrays/src/linalg.jl:79</a></li> <li> *(adjA::<b>LinearAlgebra.Adjoint{#s576,#s575} where #s575<:SuiteSparse.CHOLMOD.Sparse where #s576</b>, B::<b>SuiteSparse.CHOLMOD.Sparse</b>) in SuiteSparse.CHOLMOD at <a href=\"file:///Users/julia/buildbot/worker/package_macos64/build/usr/share/julia/stdlib/v1.0/SuiteSparse/src/cholmod.jl\" target=\"_blank\">/Users/julia/buildbot/worker/package_macos64/build/usr/share/julia/stdlib/v1.0/SuiteSparse/src/cholmod.jl:1332</a></li> <li> *(adjA::<b>LinearAlgebra.Adjoint{#s576,#s575} where #s575<:SuiteSparse.CHOLMOD.Sparse where #s576</b>, B::<b>SuiteSparse.CHOLMOD.Dense</b>) in SuiteSparse.CHOLMOD at <a href=\"file:///Users/julia/buildbot/worker/package_macos64/build/usr/share/julia/stdlib/v1.0/SuiteSparse/src/cholmod.jl\" target=\"_blank\">/Users/julia/buildbot/worker/package_macos64/build/usr/share/julia/stdlib/v1.0/SuiteSparse/src/cholmod.jl:1341</a></li> <li> *(adjA::<b>LinearAlgebra.Adjoint{#s576,#s575} where #s575<:SuiteSparse.CHOLMOD.Sparse where #s576</b>, B::<b>Union{Array{T,1}, Array{T,2}} where T</b>) in SuiteSparse.CHOLMOD at <a href=\"file:///Users/julia/buildbot/worker/package_macos64/build/usr/share/julia/stdlib/v1.0/SuiteSparse/src/cholmod.jl\" target=\"_blank\">/Users/julia/buildbot/worker/package_macos64/build/usr/share/julia/stdlib/v1.0/SuiteSparse/src/cholmod.jl:1343</a></li> <li> *(u::<b>LinearAlgebra.Adjoint{T,#s576} where #s576<:(AbstractArray{T,1} where T) where T</b>, v::<b>AbstractArray{T,1} where T</b>) in LinearAlgebra at <a href=\"file:///Users/julia/buildbot/worker/package_macos64/build/usr/share/julia/stdlib/v1.0/LinearAlgebra/src/adjtrans.jl\" target=\"_blank\">/Users/julia/buildbot/worker/package_macos64/build/usr/share/julia/stdlib/v1.0/LinearAlgebra/src/adjtrans.jl:197</a></li> <li> *<i>{T<:Real}</i>(u::<b>LinearAlgebra.Transpose{T,#s576} where #s576<:(AbstractArray{T,1} where T)</b>, v::<b>AbstractArray{T,1}</b>) in LinearAlgebra at <a href=\"file:///Users/julia/buildbot/worker/package_macos64/build/usr/share/julia/stdlib/v1.0/LinearAlgebra/src/adjtrans.jl\" target=\"_blank\">/Users/julia/buildbot/worker/package_macos64/build/usr/share/julia/stdlib/v1.0/LinearAlgebra/src/adjtrans.jl:198</a></li> <li> *(u::<b>LinearAlgebra.Transpose{T,#s576} where #s576<:(AbstractArray{T,1} where T) where T</b>, v::<b>LinearAlgebra.Transpose{#s576,#s575} where #s575<:(LinearAlgebra.Adjoint{T,#s576} where #s576<:(AbstractArray{T,1} where T) where T) where #s576</b>) in LinearAlgebra at <a href=\"file:///Users/julia/buildbot/worker/package_macos64/build/usr/share/julia/stdlib/v1.0/LinearAlgebra/src/adjtrans.jl\" target=\"_blank\">/Users/julia/buildbot/worker/package_macos64/build/usr/share/julia/stdlib/v1.0/LinearAlgebra/src/adjtrans.jl:217</a></li> <li> *(A::<b>LinearAlgebra.Transpose{#s576,#s575} where #s575<:LinearAlgebra.AbstractTriangular where #s576</b>, B::<b>LinearAlgebra.Transpose{#s574,#s573} where #s573<:LinearAlgebra.AbstractTriangular where #s574</b>) in LinearAlgebra at <a href=\"file:///Users/julia/buildbot/worker/package_macos64/build/usr/share/julia/stdlib/v1.0/LinearAlgebra/src/triangular.jl\" target=\"_blank\">/Users/julia/buildbot/worker/package_macos64/build/usr/share/julia/stdlib/v1.0/LinearAlgebra/src/triangular.jl:1970</a></li> <li> *(A::<b>LinearAlgebra.Transpose{#s576,#s575} where #s575<:(Union{Hermitian{T,S}, Symmetric{T,S}, Symmetric{Complex{T},S}} where S where T<:Real) where #s576</b>, B::<b>LinearAlgebra.Transpose{#s574,#s573} where #s573<:LinearAlgebra.AbstractTriangular where #s574</b>) in LinearAlgebra at <a href=\"file:///Users/julia/buildbot/worker/package_macos64/build/usr/share/julia/stdlib/v1.0/LinearAlgebra/src/symmetric.jl\" target=\"_blank\">/Users/julia/buildbot/worker/package_macos64/build/usr/share/julia/stdlib/v1.0/LinearAlgebra/src/symmetric.jl:865</a></li> <li> *(v::<b>LinearAlgebra.Transpose{T,#s576} where #s576<:(AbstractArray{T,1} where T) where T</b>, A::<b>LinearAlgebra.Transpose{#s576,#s575} where #s575<:LinearAlgebra.AbstractTriangular where #s576</b>) in LinearAlgebra at <a href=\"file:///Users/julia/buildbot/worker/package_macos64/build/usr/share/julia/stdlib/v1.0/LinearAlgebra/src/triangular.jl\" target=\"_blank\">/Users/julia/buildbot/worker/package_macos64/build/usr/share/julia/stdlib/v1.0/LinearAlgebra/src/triangular.jl:1955</a></li> <li> *(A::<b>LinearAlgebra.Transpose{#s576,#s575} where #s575<:LinearAlgebra.AbstractTriangular where #s576</b>, B::<b>LinearAlgebra.Transpose{#s574,#s573} where #s573<:(Union{Hermitian{T,S}, Symmetric{T,S}, Symmetric{Complex{T},S}} where S where T<:Real) where #s574</b>) in LinearAlgebra at <a href=\"file:///Users/julia/buildbot/worker/package_macos64/build/usr/share/julia/stdlib/v1.0/LinearAlgebra/src/symmetric.jl\" target=\"_blank\">/Users/julia/buildbot/worker/package_macos64/build/usr/share/julia/stdlib/v1.0/LinearAlgebra/src/symmetric.jl:861</a></li> <li> *(A::<b>LinearAlgebra.Transpose{#s576,#s575} where #s575<:LinearAlgebra.AbstractTriangular where #s576</b>, B::<b>LinearAlgebra.Transpose{#s574,#s573} where #s573<:(AbstractArray{T,1} where T) where #s574</b>) in LinearAlgebra at <a href=\"file:///Users/julia/buildbot/worker/package_macos64/build/usr/share/julia/stdlib/v1.0/LinearAlgebra/src/triangular.jl\" target=\"_blank\">/Users/julia/buildbot/worker/package_macos64/build/usr/share/julia/stdlib/v1.0/LinearAlgebra/src/triangular.jl:2487</a></li> <li> *(transA::<b>LinearAlgebra.Transpose{#s576,#s575} where #s575<:(Union{Hermitian{T,S}, Symmetric{T,S}, Symmetric{Complex{T},S}} where S where T<:Real) where #s576</b>, transB::<b>LinearAlgebra.Transpose{#s574,#s573} where #s573<:(Union{Hermitian{T,S}, Symmetric{T,S}, Symmetric{Complex{T},S}} where S where T<:Real) where #s574</b>) in LinearAlgebra at <a href=\"file:///Users/julia/buildbot/worker/package_macos64/build/usr/share/julia/stdlib/v1.0/LinearAlgebra/src/symmetric.jl\" target=\"_blank\">/Users/julia/buildbot/worker/package_macos64/build/usr/share/julia/stdlib/v1.0/LinearAlgebra/src/symmetric.jl:430</a></li> <li> *(transA::<b>LinearAlgebra.Transpose{#s576,#s575} where #s575<:(Union{Hermitian{T,S}, Symmetric{T,S}, Symmetric{Complex{T},S}} where S where T<:Real) where #s576</b>, transB::<b>LinearAlgebra.Transpose{#s574,#s573} where #s573<:(Union{Hermitian{T,S}, Hermitian{Complex{T},S}, Symmetric{T,S}} where S where T<:Real) where #s574</b>) in LinearAlgebra at <a href=\"file:///Users/julia/buildbot/worker/package_macos64/build/usr/share/julia/stdlib/v1.0/LinearAlgebra/src/symmetric.jl\" target=\"_blank\">/Users/julia/buildbot/worker/package_macos64/build/usr/share/julia/stdlib/v1.0/LinearAlgebra/src/symmetric.jl:431</a></li> <li> *(transA::<b>LinearAlgebra.Transpose{#s576,#s575} where #s575<:(Union{Hermitian{T,S}, Hermitian{Complex{T},S}, Symmetric{T,S}} where S where T<:Real) where #s576</b>, transB::<b>LinearAlgebra.Transpose{#s574,#s573} where #s573<:(Union{Hermitian{T,S}, Symmetric{T,S}, Symmetric{Complex{T},S}} where S where T<:Real) where #s574</b>) in LinearAlgebra at <a href=\"file:///Users/julia/buildbot/worker/package_macos64/build/usr/share/julia/stdlib/v1.0/LinearAlgebra/src/symmetric.jl\" target=\"_blank\">/Users/julia/buildbot/worker/package_macos64/build/usr/share/julia/stdlib/v1.0/LinearAlgebra/src/symmetric.jl:432</a></li> <li> *(transD::<b>LinearAlgebra.Transpose{#s576,#s575} where #s575<:LinearAlgebra.Diagonal where #s576</b>, transA::<b>LinearAlgebra.Transpose{#s574,#s573} where #s573<:(Union{Hermitian{T,S}, Symmetric{T,S}, Symmetric{Complex{T},S}} where S where T<:Real) where #s574</b>) in LinearAlgebra at <a href=\"file:///Users/julia/buildbot/worker/package_macos64/build/usr/share/julia/stdlib/v1.0/LinearAlgebra/src/diagonal.jl\" target=\"_blank\">/Users/julia/buildbot/worker/package_macos64/build/usr/share/julia/stdlib/v1.0/LinearAlgebra/src/diagonal.jl:291</a></li> <li> *(A::<b>LinearAlgebra.Transpose{#s576,#s575} where #s575<:(AbstractArray{T,1} where T) where #s576</b>, B::<b>LinearAlgebra.Transpose{#s574,#s573} where #s573<:(Union{Hermitian{T,S}, Symmetric{T,S}, Symmetric{Complex{T},S}} where S where T<:Real) where #s574</b>) in LinearAlgebra at <a href=\"file:///Users/julia/buildbot/worker/package_macos64/build/usr/share/julia/stdlib/v1.0/LinearAlgebra/src/symmetric.jl\" target=\"_blank\">/Users/julia/buildbot/worker/package_macos64/build/usr/share/julia/stdlib/v1.0/LinearAlgebra/src/symmetric.jl:845</a></li> <li> *(transA::<b>LinearAlgebra.Transpose{#s576,#s575} where #s575<:(Union{Hermitian{T,S}, Symmetric{T,S}, Symmetric{Complex{T},S}} where S where T<:Real) where #s576</b>, transD::<b>LinearAlgebra.Transpose{#s574,#s573} where #s573<:LinearAlgebra.Diagonal where #s574</b>) in LinearAlgebra at <a href=\"file:///Users/julia/buildbot/worker/package_macos64/build/usr/share/julia/stdlib/v1.0/LinearAlgebra/src/diagonal.jl\" target=\"_blank\">/Users/julia/buildbot/worker/package_macos64/build/usr/share/julia/stdlib/v1.0/LinearAlgebra/src/diagonal.jl:290</a></li> <li> *(A::<b>LinearAlgebra.Transpose{#s576,#s575} where #s575<:(Union{Hermitian{T,S}, Symmetric{T,S}, Symmetric{Complex{T},S}} where S where T<:Real) where #s576</b>, B::<b>LinearAlgebra.Transpose{#s574,#s573} where #s573<:(AbstractArray{T,1} where T) where #s574</b>) in LinearAlgebra at <a href=\"file:///Users/julia/buildbot/worker/package_macos64/build/usr/share/julia/stdlib/v1.0/LinearAlgebra/src/symmetric.jl\" target=\"_blank\">/Users/julia/buildbot/worker/package_macos64/build/usr/share/julia/stdlib/v1.0/LinearAlgebra/src/symmetric.jl:854</a></li> <li> *(D::<b>LinearAlgebra.Transpose{#s576,#s575} where #s575<:LinearAlgebra.Diagonal where #s576</b>, B::<b>LinearAlgebra.Transpose{#s574,#s573} where #s573<:LinearAlgebra.Diagonal where #s574</b>) in LinearAlgebra at <a href=\"file:///Users/julia/buildbot/worker/package_macos64/build/usr/share/julia/stdlib/v1.0/LinearAlgebra/src/diagonal.jl\" target=\"_blank\">/Users/julia/buildbot/worker/package_macos64/build/usr/share/julia/stdlib/v1.0/LinearAlgebra/src/diagonal.jl:251</a></li> <li> *<i>{Tv, Ti}</i>(A::<b>LinearAlgebra.Transpose{#s576,#s575} where #s575<:SparseArrays.SparseMatrixCSC{Tv,Ti} where #s576</b>, B::<b>LinearAlgebra.Transpose{#s574,#s573} where #s573<:SparseArrays.SparseMatrixCSC{Tv,Ti} where #s574</b>) in SparseArrays at <a href=\"file:///Users/julia/buildbot/worker/package_macos64/build/usr/share/julia/stdlib/v1.0/SparseArrays/src/linalg.jl\" target=\"_blank\">/Users/julia/buildbot/worker/package_macos64/build/usr/share/julia/stdlib/v1.0/SparseArrays/src/linalg.jl:147</a></li> <li> *<i>{TvA, TiA, TvB, TiB}</i>(transA::<b>LinearAlgebra.Transpose{#s576,#s575} where #s575<:SparseArrays.SparseMatrixCSC{TvA,TiA} where #s576</b>, transB::<b>LinearAlgebra.Transpose{#s574,#s573} where #s573<:SparseArrays.SparseMatrixCSC{TvB,TiB} where #s574</b>) in SparseArrays at <a href=\"file:///Users/julia/buildbot/worker/package_macos64/build/usr/share/julia/stdlib/v1.0/SparseArrays/src/linalg.jl\" target=\"_blank\">/Users/julia/buildbot/worker/package_macos64/build/usr/share/julia/stdlib/v1.0/SparseArrays/src/linalg.jl:17</a></li> <li> *(u::<b>LinearAlgebra.Transpose{T,#s576} where #s576<:(AbstractArray{T,1} where T) where T</b>, v::<b>LinearAlgebra.Transpose{T,#s576} where #s576<:(AbstractArray{T,1} where T) where T</b>) in LinearAlgebra at <a href=\"file:///Users/julia/buildbot/worker/package_macos64/build/usr/share/julia/stdlib/v1.0/LinearAlgebra/src/adjtrans.jl\" target=\"_blank\">/Users/julia/buildbot/worker/package_macos64/build/usr/share/julia/stdlib/v1.0/LinearAlgebra/src/adjtrans.jl:209</a></li> <li> *(u::<b>LinearAlgebra.Transpose{T,#s576} where #s576<:(AbstractArray{T,1} where T) where T</b>, v::<b>LinearAlgebra.Adjoint{#s576,#s575} where #s575<:(LinearAlgebra.Transpose{T,#s576} where #s576<:(AbstractArray{T,1} where T) where T) where #s576</b>) in LinearAlgebra at <a href=\"file:///Users/julia/buildbot/worker/package_macos64/build/usr/share/julia/stdlib/v1.0/LinearAlgebra/src/adjtrans.jl\" target=\"_blank\">/Users/julia/buildbot/worker/package_macos64/build/usr/share/julia/stdlib/v1.0/LinearAlgebra/src/adjtrans.jl:213</a></li> <li> *<i>{T<:Union{Complex{Float32}, Complex{Float64}}}</i>(transx::<b>LinearAlgebra.Transpose{#s576,#s575} where #s575<:Union{DenseArray{T,1}, ReinterpretArray{T,1,S,A} where S where A<:Union{SubArray{T,N,A,I,true} where I<:Tuple{AbstractUnitRange,Vararg{Any,N} where N} where A<:DenseArray where N where T, DenseArray}, ReshapedArray{T,1,A,MI} where MI<:Tuple{Vararg{SignedMultiplicativeInverse{Int64},N} where N} where A<:Union{ReinterpretArray{T,N,S,A} where S where A<:Union{SubArray{T,N,A,I,true} where I<:Tuple{AbstractUnitRange,Vararg{Any,N} where N} where A<:DenseArray where N where T, DenseArray} where N where T, SubArray{T,N,A,I,true} where I<:Tuple{AbstractUnitRange,Vararg{Any,N} where N} where A<:DenseArray where N where T, DenseArray}, SubArray{T,1,A,I,L} where L where I<:Tuple{Vararg{Union{Int64, AbstractRange{Int64}, AbstractCartesianIndex},N} where N} where A<:Union{ReinterpretArray{T,N,S,A} where S where A<:Union{SubArray{T,N,A,I,true} where I<:Tuple{AbstractUnitRange,Vararg{Any,N} where N} where A<:DenseArray where N where T, DenseArray} where N where T, ReshapedArray{T,N,A,MI} where MI<:Tuple{Vararg{SignedMultiplicativeInverse{Int64},N} where N} where A<:Union{ReinterpretArray{T,N,S,A} where S where A<:Union{SubArray{T,N,A,I,true} where I<:Tuple{AbstractUnitRange,Vararg{Any,N} where N} where A<:DenseArray where N where T, DenseArray} where N where T, SubArray{T,N,A,I,true} where I<:Tuple{AbstractUnitRange,Vararg{Any,N} where N} where A<:DenseArray where N where T, DenseArray} where N where T, DenseArray}} where #s576</b>, y::<b>Union{DenseArray{T,1}, ReinterpretArray{T,1,S,A} where S where A<:Union{SubArray{T,N,A,I,true} where I<:Tuple{AbstractUnitRange,Vararg{Any,N} where N} where A<:DenseArray where N where T, DenseArray}, ReshapedArray{T,1,A,MI} where MI<:Tuple{Vararg{SignedMultiplicativeInverse{Int64},N} where N} where A<:Union{ReinterpretArray{T,N,S,A} where S where A<:Union{SubArray{T,N,A,I,true} where I<:Tuple{AbstractUnitRange,Vararg{Any,N} where N} where A<:DenseArray where N where T, DenseArray} where N where T, SubArray{T,N,A,I,true} where I<:Tuple{AbstractUnitRange,Vararg{Any,N} where N} where A<:DenseArray where N where T, DenseArray}, SubArray{T,1,A,I,L} where L where I<:Tuple{Vararg{Union{Int64, AbstractRange{Int64}, AbstractCartesianIndex},N} where N} where A<:Union{ReinterpretArray{T,N,S,A} where S where A<:Union{SubArray{T,N,A,I,true} where I<:Tuple{AbstractUnitRange,Vararg{Any,N} where N} where A<:DenseArray where N where T, DenseArray} where N where T, ReshapedArray{T,N,A,MI} where MI<:Tuple{Vararg{SignedMultiplicativeInverse{Int64},N} where N} where A<:Union{ReinterpretArray{T,N,S,A} where S where A<:Union{SubArray{T,N,A,I,true} where I<:Tuple{AbstractUnitRange,Vararg{Any,N} where N} where A<:DenseArray where N where T, DenseArray} where N where T, SubArray{T,N,A,I,true} where I<:Tuple{AbstractUnitRange,Vararg{Any,N} where N} where A<:DenseArray where N where T, DenseArray} where N where T, DenseArray}}</b>) in LinearAlgebra at <a href=\"file:///Users/julia/buildbot/worker/package_macos64/build/usr/share/julia/stdlib/v1.0/LinearAlgebra/src/matmul.jl\" target=\"_blank\">/Users/julia/buildbot/worker/package_macos64/build/usr/share/julia/stdlib/v1.0/LinearAlgebra/src/matmul.jl:39</a></li> <li> *<i>{T<:Union{Complex{Float32}, Complex{Float64}, Float32, Float64}, S}</i>(transA::<b>LinearAlgebra.Transpose{#s576,#s575} where #s575<:Union{DenseArray{T,2}, ReinterpretArray{T,2,S,A} where S where A<:Union{SubArray{T,N,A,I,true} where I<:Tuple{AbstractUnitRange,Vararg{Any,N} where N} where A<:DenseArray where N where T, DenseArray}, ReshapedArray{T,2,A,MI} where MI<:Tuple{Vararg{SignedMultiplicativeInverse{Int64},N} where N} where A<:Union{ReinterpretArray{T,N,S,A} where S where A<:Union{SubArray{T,N,A,I,true} where I<:Tuple{AbstractUnitRange,Vararg{Any,N} where N} where A<:DenseArray where N where T, DenseArray} where N where T, SubArray{T,N,A,I,true} where I<:Tuple{AbstractUnitRange,Vararg{Any,N} where N} where A<:DenseArray where N where T, DenseArray}, SubArray{T,2,A,I,L} where L where I<:Tuple{Vararg{Union{Int64, AbstractRange{Int64}, AbstractCartesianIndex},N} where N} where A<:Union{ReinterpretArray{T,N,S,A} where S where A<:Union{SubArray{T,N,A,I,true} where I<:Tuple{AbstractUnitRange,Vararg{Any,N} where N} where A<:DenseArray where N where T, DenseArray} where N where T, ReshapedArray{T,N,A,MI} where MI<:Tuple{Vararg{SignedMultiplicativeInverse{Int64},N} where N} where A<:Union{ReinterpretArray{T,N,S,A} where S where A<:Union{SubArray{T,N,A,I,true} where I<:Tuple{AbstractUnitRange,Vararg{Any,N} where N} where A<:DenseArray where N where T, DenseArray} where N where T, SubArray{T,N,A,I,true} where I<:Tuple{AbstractUnitRange,Vararg{Any,N} where N} where A<:DenseArray where N where T, DenseArray} where N where T, DenseArray}} where #s576</b>, x::<b>Union{DenseArray{S,1}, ReinterpretArray{S,1,S1,A} where S1 where A<:Union{SubArray{T,N,A,I,true} where I<:Tuple{AbstractUnitRange,Vararg{Any,N} where N} where A<:DenseArray where N where T, DenseArray}, ReshapedArray{S,1,A,MI} where MI<:Tuple{Vararg{SignedMultiplicativeInverse{Int64},N} where N} where A<:Union{ReinterpretArray{T,N,S,A} where S where A<:Union{SubArray{T,N,A,I,true} where I<:Tuple{AbstractUnitRange,Vararg{Any,N} where N} where A<:DenseArray where N where T, DenseArray} where N where T, SubArray{T,N,A,I,true} where I<:Tuple{AbstractUnitRange,Vararg{Any,N} where N} where A<:DenseArray where N where T, DenseArray}, SubArray{S,1,A,I,L} where L where I<:Tuple{Vararg{Union{Int64, AbstractRange{Int64}, AbstractCartesianIndex},N} where N} where A<:Union{ReinterpretArray{T,N,S,A} where S where A<:Union{SubArray{T,N,A,I,true} where I<:Tuple{AbstractUnitRange,Vararg{Any,N} where N} where A<:DenseArray where N where T, DenseArray} where N where T, ReshapedArray{T,N,A,MI} where MI<:Tuple{Vararg{SignedMultiplicativeInverse{Int64},N} where N} where A<:Union{ReinterpretArray{T,N,S,A} where S where A<:Union{SubArray{T,N,A,I,true} where I<:Tuple{AbstractUnitRange,Vararg{Any,N} where N} where A<:DenseArray where N where T, DenseArray} where N where T, SubArray{T,N,A,I,true} where I<:Tuple{AbstractUnitRange,Vararg{Any,N} where N} where A<:DenseArray where N where T, DenseArray} where N where T, DenseArray}}</b>) in LinearAlgebra at <a href=\"file:///Users/julia/buildbot/worker/package_macos64/build/usr/share/julia/stdlib/v1.0/LinearAlgebra/src/matmul.jl\" target=\"_blank\">/Users/julia/buildbot/worker/package_macos64/build/usr/share/julia/stdlib/v1.0/LinearAlgebra/src/matmul.jl:79</a></li> <li> *(xformA::<b>LinearAlgebra.Transpose{#s576,#s575} where #s575<:LinearAlgebra.UpperTriangular where #s576</b>, B::<b>LinearAlgebra.LowerTriangular</b>) in LinearAlgebra at <a href=\"file:///Users/julia/buildbot/worker/package_macos64/build/usr/share/julia/stdlib/v1.0/LinearAlgebra/src/triangular.jl\" target=\"_blank\">/Users/julia/buildbot/worker/package_macos64/build/usr/share/julia/stdlib/v1.0/LinearAlgebra/src/triangular.jl:1647</a></li> <li> *(xformA::<b>LinearAlgebra.Transpose{#s574,#s573} where #s573<:LinearAlgebra.UnitUpperTriangular where #s574</b>, B::<b>LinearAlgebra.LowerTriangular</b>) in LinearAlgebra at <a href=\"file:///Users/julia/buildbot/worker/package_macos64/build/usr/share/julia/stdlib/v1.0/LinearAlgebra/src/triangular.jl\" target=\"_blank\">/Users/julia/buildbot/worker/package_macos64/build/usr/share/julia/stdlib/v1.0/LinearAlgebra/src/triangular.jl:1656</a></li> <li> *(xformA::<b>LinearAlgebra.Transpose{#s572,#s571} where #s571<:LinearAlgebra.LowerTriangular where #s572</b>, B::<b>LinearAlgebra.UpperTriangular</b>) in LinearAlgebra at <a href=\"file:///Users/julia/buildbot/worker/package_macos64/build/usr/share/julia/stdlib/v1.0/LinearAlgebra/src/triangular.jl\" target=\"_blank\">/Users/julia/buildbot/worker/package_macos64/build/usr/share/julia/stdlib/v1.0/LinearAlgebra/src/triangular.jl:1665</a></li> <li> *(xformA::<b>LinearAlgebra.Transpose{#s570,#s569} where #s569<:LinearAlgebra.UnitLowerTriangular where #s570</b>, B::<b>LinearAlgebra.UpperTriangular</b>) in LinearAlgebra at <a href=\"file:///Users/julia/buildbot/worker/package_macos64/build/usr/share/julia/stdlib/v1.0/LinearAlgebra/src/triangular.jl\" target=\"_blank\">/Users/julia/buildbot/worker/package_macos64/build/usr/share/julia/stdlib/v1.0/LinearAlgebra/src/triangular.jl:1674</a></li> <li> *(transA::<b>LinearAlgebra.Transpose{#s576,#s575} where #s575<:LinearAlgebra.AbstractTriangular where #s576</b>, B::<b>LinearAlgebra.AbstractTriangular</b>) in LinearAlgebra at <a href=\"file:///Users/julia/buildbot/worker/package_macos64/build/usr/share/julia/stdlib/v1.0/LinearAlgebra/src/triangular.jl\" target=\"_blank\">/Users/julia/buildbot/worker/package_macos64/build/usr/share/julia/stdlib/v1.0/LinearAlgebra/src/triangular.jl:1772</a></li> <li> *(A::<b>LinearAlgebra.Transpose{#s576,#s575} where #s575<:LinearAlgebra.AbstractTriangular where #s576</b>, B::<b>LinearAlgebra.Transpose{#s574,#s573} where #s573<:(AbstractArray{T,2} where T) where #s574</b>) in LinearAlgebra at <a href=\"file:///Users/julia/buildbot/worker/package_macos64/build/usr/share/julia/stdlib/v1.0/LinearAlgebra/src/triangular.jl\" target=\"_blank\">/Users/julia/buildbot/worker/package_macos64/build/usr/share/julia/stdlib/v1.0/LinearAlgebra/src/triangular.jl:1971</a></li> <li> *(A::<b>LinearAlgebra.Transpose{#s576,#s575} where #s575<:LinearAlgebra.AbstractTriangular where #s576</b>, B::<b>LinearAlgebra.Adjoint{#s574,#s573} where #s573<:LinearAlgebra.AbstractTriangular where #s574</b>) in LinearAlgebra at <a href=\"file:///Users/julia/buildbot/worker/package_macos64/build/usr/share/julia/stdlib/v1.0/LinearAlgebra/src/triangular.jl\" target=\"_blank\">/Users/julia/buildbot/worker/package_macos64/build/usr/share/julia/stdlib/v1.0/LinearAlgebra/src/triangular.jl:2482</a></li> <li> *(A::<b>LinearAlgebra.Transpose{#s576,#s575} where #s575<:LinearAlgebra.AbstractTriangular where #s576</b>, B::<b>LinearAlgebra.Adjoint{#s574,#s573} where #s573<:(Union{Hermitian{T,S}, Hermitian{Complex{T},S}, Symmetric{T,S}} where S where T<:Real) where #s574</b>) in LinearAlgebra at <a href=\"file:///Users/julia/buildbot/worker/package_macos64/build/usr/share/julia/stdlib/v1.0/LinearAlgebra/src/symmetric.jl\" target=\"_blank\">/Users/julia/buildbot/worker/package_macos64/build/usr/share/julia/stdlib/v1.0/LinearAlgebra/src/symmetric.jl:860</a></li> <li> *(A::<b>LinearAlgebra.Transpose{#s576,#s575} where #s575<:LinearAlgebra.AbstractTriangular where #s576</b>, B::<b>LinearAlgebra.Adjoint{#s574,#s573} where #s573<:(AbstractArray{T,1} where T) where #s574</b>) in LinearAlgebra at <a href=\"file:///Users/julia/buildbot/worker/package_macos64/build/usr/share/julia/stdlib/v1.0/LinearAlgebra/src/triangular.jl\" target=\"_blank\">/Users/julia/buildbot/worker/package_macos64/build/usr/share/julia/stdlib/v1.0/LinearAlgebra/src/triangular.jl:2488</a></li> <li> *(A::<b>LinearAlgebra.Transpose{#s576,#s575} where #s575<:LinearAlgebra.AbstractTriangular where #s576</b>, B::<b>LinearAlgebra.Adjoint{#s574,#s573} where #s573<:(AbstractArray{T,2} where T) where #s574</b>) in LinearAlgebra at <a href=\"file:///Users/julia/buildbot/worker/package_macos64/build/usr/share/julia/stdlib/v1.0/LinearAlgebra/src/triangular.jl\" target=\"_blank\">/Users/julia/buildbot/worker/package_macos64/build/usr/share/julia/stdlib/v1.0/LinearAlgebra/src/triangular.jl:2489</a></li> <li> *(A::<b>LinearAlgebra.Transpose{#s576,#s575} where #s575<:LinearAlgebra.AbstractTriangular where #s576</b>, D::<b>LinearAlgebra.Diagonal</b>) in LinearAlgebra at <a href=\"file:///Users/julia/buildbot/worker/package_macos64/build/usr/share/julia/stdlib/v1.0/LinearAlgebra/src/diagonal.jl\" target=\"_blank\">/Users/julia/buildbot/worker/package_macos64/build/usr/share/julia/stdlib/v1.0/LinearAlgebra/src/diagonal.jl:222</a></li> <li> *(A::<b>LinearAlgebra.Transpose{#s576,#s575} where #s575<:LinearAlgebra.AbstractTriangular where #s576</b>, B::<b>LinearAlgebra.Adjoint{#s574,#s573} where #s573<:LinearAlgebra.AbstractRotation where #s574</b>) in LinearAlgebra at <a href=\"file:///Users/julia/buildbot/worker/package_macos64/build/usr/share/julia/stdlib/v1.0/LinearAlgebra/src/givens.jl\" target=\"_blank\">/Users/julia/buildbot/worker/package_macos64/build/usr/share/julia/stdlib/v1.0/LinearAlgebra/src/givens.jl:393</a></li> <li> *(transA::<b>LinearAlgebra.Transpose{#s574,#s573} where #s573<:LinearAlgebra.AbstractTriangular where #s574</b>, B::<b>AbstractArray{T,1} where T</b>) in LinearAlgebra at <a href=\"file:///Users/julia/buildbot/worker/package_macos64/build/usr/share/julia/stdlib/v1.0/LinearAlgebra/src/triangular.jl\" target=\"_blank\">/Users/julia/buildbot/worker/package_macos64/build/usr/share/julia/stdlib/v1.0/LinearAlgebra/src/triangular.jl:1813</a></li> <li> *(transA::<b>LinearAlgebra.Transpose{#s576,#s575} where #s575<:(Union{Hermitian{T,S}, Symmetric{T,S}, Symmetric{Complex{T},S}} where S where T<:Real) where #s576</b>, B::<b>LinearAlgebra.AbstractTriangular</b>) in LinearAlgebra at <a href=\"file:///Users/julia/buildbot/worker/package_macos64/build/usr/share/julia/stdlib/v1.0/LinearAlgebra/src/symmetric.jl\" target=\"_blank\">/Users/julia/buildbot/worker/package_macos64/build/usr/share/julia/stdlib/v1.0/LinearAlgebra/src/symmetric.jl:438</a></li> <li> *(v::<b>LinearAlgebra.Transpose{T,#s576} where #s576<:(AbstractArray{T,1} where T) where T</b>, A::<b>LinearAlgebra.AbstractTriangular</b>) in LinearAlgebra at <a href=\"file:///Users/julia/buildbot/worker/package_macos64/build/usr/share/julia/stdlib/v1.0/LinearAlgebra/src/triangular.jl\" target=\"_blank\">/Users/julia/buildbot/worker/package_macos64/build/usr/share/julia/stdlib/v1.0/LinearAlgebra/src/triangular.jl:1953</a></li> <li> *(A::<b>LinearAlgebra.Transpose{#s576,#s575} where #s575<:(Union{Hermitian{T,S}, Symmetric{T,S}, Symmetric{Complex{T},S}} where S where T<:Real) where #s576</b>, B::<b>LinearAlgebra.Adjoint{#s574,#s573} where #s573<:LinearAlgebra.AbstractTriangular where #s574</b>) in LinearAlgebra at <a href=\"file:///Users/julia/buildbot/worker/package_macos64/build/usr/share/julia/stdlib/v1.0/LinearAlgebra/src/symmetric.jl\" target=\"_blank\">/Users/julia/buildbot/worker/package_macos64/build/usr/share/julia/stdlib/v1.0/LinearAlgebra/src/symmetric.jl:864</a></li> <li> *(A::<b>LinearAlgebra.Transpose{#s576,#s575} where #s575<:(AbstractArray{T,1} where T) where #s576</b>, B::<b>LinearAlgebra.Adjoint{#s574,#s573} where #s573<:LinearAlgebra.AbstractTriangular where #s574</b>) in LinearAlgebra at <a href=\"file:///Users/julia/buildbot/worker/package_macos64/build/usr/share/julia/stdlib/v1.0/LinearAlgebra/src/triangular.jl\" target=\"_blank\">/Users/julia/buildbot/worker/package_macos64/build/usr/share/julia/stdlib/v1.0/LinearAlgebra/src/triangular.jl:2493</a></li> <li> *(A::<b>LinearAlgebra.Transpose{#s576,#s575} where #s575<:(Union{Hermitian{T,S}, Symmetric{T,S}, Symmetric{Complex{T},S}} where S where T<:Real) where #s576</b>, B::<b>LinearAlgebra.Adjoint{#s574,#s573} where #s573<:(Union{Hermitian{T,S}, Hermitian{Complex{T},S}, Symmetric{T,S}} where S where T<:Real) where #s574</b>) in LinearAlgebra at <a href=\"file:///Users/julia/buildbot/worker/package_macos64/build/usr/share/julia/stdlib/v1.0/LinearAlgebra/src/symmetric.jl\" target=\"_blank\">/Users/julia/buildbot/worker/package_macos64/build/usr/share/julia/stdlib/v1.0/LinearAlgebra/src/symmetric.jl:837</a></li> <li> *(A::<b>LinearAlgebra.Transpose{#s576,#s575} where #s575<:(Union{Hermitian{T,S}, Symmetric{T,S}, Symmetric{Complex{T},S}} where S where T<:Real) where #s576</b>, B::<b>LinearAlgebra.Adjoint{#s574,#s573} where #s573<:(AbstractArray{T,1} where T) where #s574</b>) in LinearAlgebra at <a href=\"file:///Users/julia/buildbot/worker/package_macos64/build/usr/share/julia/stdlib/v1.0/LinearAlgebra/src/symmetric.jl\" target=\"_blank\">/Users/julia/buildbot/worker/package_macos64/build/usr/share/julia/stdlib/v1.0/LinearAlgebra/src/symmetric.jl:852</a></li> <li> *(A::<b>LinearAlgebra.Transpose{#s576,#s575} where #s575<:(Union{Hermitian{T,S}, Symmetric{T,S}, Symmetric{Complex{T},S}} where S where T<:Real) where #s576</b>, B::<b>LinearAlgebra.Adjoint{#s574,#s573} where #s573<:(AbstractArray{T,2} where T) where #s574</b>) in LinearAlgebra at <a href=\"file:///Users/julia/buildbot/worker/package_macos64/build/usr/share/julia/stdlib/v1.0/LinearAlgebra/src/symmetric.jl\" target=\"_blank\">/Users/julia/buildbot/worker/package_macos64/build/usr/share/julia/stdlib/v1.0/LinearAlgebra/src/symmetric.jl:853</a></li> <li> *(A::<b>LinearAlgebra.Transpose{#s576,#s575} where #s575<:(Union{Hermitian{T,S}, Symmetric{T,S}, Symmetric{Complex{T},S}} where S where T<:Real) where #s576</b>, B::<b>LinearAlgebra.Transpose{#s574,#s573} where #s573<:(AbstractArray{T,2} where T) where #s574</b>) in LinearAlgebra at <a href=\"file:///Users/julia/buildbot/worker/package_macos64/build/usr/share/julia/stdlib/v1.0/LinearAlgebra/src/symmetric.jl\" target=\"_blank\">/Users/julia/buildbot/worker/package_macos64/build/usr/share/julia/stdlib/v1.0/LinearAlgebra/src/symmetric.jl:855</a></li> <li> *(transA::<b>LinearAlgebra.Transpose{#s576,#s575} where #s575<:(Union{Hermitian{T,S}, Symmetric{T,S}, Symmetric{Complex{T},S}} where S where T<:Real) where #s576</b>, B::<b>LinearAlgebra.Diagonal</b>) in LinearAlgebra at <a href=\"file:///Users/julia/buildbot/worker/package_macos64/build/usr/share/julia/stdlib/v1.0/LinearAlgebra/src/diagonal.jl\" target=\"_blank\">/Users/julia/buildbot/worker/package_macos64/build/usr/share/julia/stdlib/v1.0/LinearAlgebra/src/diagonal.jl:287</a></li> <li> *(A::<b>LinearAlgebra.Transpose{#s576,#s575} where #s575<:(Union{Hermitian{T,S}, Symmetric{T,S}, Symmetric{Complex{T},S}} where S where T<:Real) where #s576</b>, B::<b>LinearAlgebra.Adjoint{#s574,#s573} where #s573<:LinearAlgebra.AbstractRotation where #s574</b>) in LinearAlgebra at <a href=\"file:///Users/julia/buildbot/worker/package_macos64/build/usr/share/julia/stdlib/v1.0/LinearAlgebra/src/givens.jl\" target=\"_blank\">/Users/julia/buildbot/worker/package_macos64/build/usr/share/julia/stdlib/v1.0/LinearAlgebra/src/givens.jl:395</a></li> <li> *(transA::<b>LinearAlgebra.Transpose{#s576,#s575} where #s575<:(Union{Hermitian{T,S}, Symmetric{T,S}, Symmetric{Complex{T},S}} where S where T<:Real) where #s576</b>, B::<b>AbstractArray{T,1} where T</b>) in LinearAlgebra at <a href=\"file:///Users/julia/buildbot/worker/package_macos64/build/usr/share/julia/stdlib/v1.0/LinearAlgebra/src/symmetric.jl\" target=\"_blank\">/Users/julia/buildbot/worker/package_macos64/build/usr/share/julia/stdlib/v1.0/LinearAlgebra/src/symmetric.jl:421</a></li> <li> *(A::<b>LinearAlgebra.Transpose{#s576,#s575} where #s575<:(AbstractArray{T,1} where T) where #s576</b>, B::<b>LinearAlgebra.Adjoint{#s574,#s573} where #s573<:(Union{Hermitian{T,S}, Hermitian{Complex{T},S}, Symmetric{T,S}} where S where T<:Real) where #s574</b>) in LinearAlgebra at <a href=\"file:///Users/julia/buildbot/worker/package_macos64/build/usr/share/julia/stdlib/v1.0/LinearAlgebra/src/symmetric.jl\" target=\"_blank\">/Users/julia/buildbot/worker/package_macos64/build/usr/share/julia/stdlib/v1.0/LinearAlgebra/src/symmetric.jl:843</a></li> <li> *(D::<b>LinearAlgebra.Transpose{#s576,#s575} where #s575<:LinearAlgebra.Diagonal where #s576</b>, B::<b>LinearAlgebra.Diagonal</b>) in LinearAlgebra at <a href=\"file:///Users/julia/buildbot/worker/package_macos64/build/usr/share/julia/stdlib/v1.0/LinearAlgebra/src/diagonal.jl\" target=\"_blank\">/Users/julia/buildbot/worker/package_macos64/build/usr/share/julia/stdlib/v1.0/LinearAlgebra/src/diagonal.jl:221</a></li> <li> *(x::<b>LinearAlgebra.Transpose{#s576,#s575} where #s575<:(AbstractArray{T,1} where T) where #s576</b>, D::<b>LinearAlgebra.Diagonal</b>) in LinearAlgebra at <a href=\"file:///Users/julia/buildbot/worker/package_macos64/build/usr/share/julia/stdlib/v1.0/LinearAlgebra/src/diagonal.jl\" target=\"_blank\">/Users/julia/buildbot/worker/package_macos64/build/usr/share/julia/stdlib/v1.0/LinearAlgebra/src/diagonal.jl:511</a></li> <li> *(x::<b>LinearAlgebra.Transpose{#s576,#s575} where #s575<:(AbstractArray{T,1} where T) where #s576</b>, D::<b>LinearAlgebra.Diagonal</b>, y::<b>AbstractArray{T,1} where T</b>) in LinearAlgebra at <a href=\"file:///Users/julia/buildbot/worker/package_macos64/build/usr/share/julia/stdlib/v1.0/LinearAlgebra/src/diagonal.jl\" target=\"_blank\">/Users/julia/buildbot/worker/package_macos64/build/usr/share/julia/stdlib/v1.0/LinearAlgebra/src/diagonal.jl:512</a></li> <li> *(A::<b>LinearAlgebra.Transpose{#s576,#s575} where #s575<:(AbstractArray{T,1} where T) where #s576</b>, B::<b>LinearAlgebra.Adjoint{#s574,#s573} where #s573<:LinearAlgebra.AbstractRotation where #s574</b>) in LinearAlgebra at <a href=\"file:///Users/julia/buildbot/worker/package_macos64/build/usr/share/julia/stdlib/v1.0/LinearAlgebra/src/givens.jl\" target=\"_blank\">/Users/julia/buildbot/worker/package_macos64/build/usr/share/julia/stdlib/v1.0/LinearAlgebra/src/givens.jl:389</a></li> <li> *<i>{Ta, Tx}</i>(transA::<b>LinearAlgebra.Transpose{#s576,#s575} where #s575<:Union{DenseArray{Ta,2}, ReinterpretArray{Ta,2,S,A} where S where A<:Union{SubArray{T,N,A,I,true} where I<:Tuple{AbstractUnitRange,Vararg{Any,N} where N} where A<:DenseArray where N where T, DenseArray}, ReshapedArray{Ta,2,A,MI} where MI<:Tuple{Vararg{SignedMultiplicativeInverse{Int64},N} where N} where A<:Union{ReinterpretArray{T,N,S,A} where S where A<:Union{SubArray{T,N,A,I,true} where I<:Tuple{AbstractUnitRange,Vararg{Any,N} where N} where A<:DenseArray where N where T, DenseArray} where N where T, SubArray{T,N,A,I,true} where I<:Tuple{AbstractUnitRange,Vararg{Any,N} where N} where A<:DenseArray where N where T, DenseArray}, SubArray{Ta,2,A,I,L} where L where I<:Tuple{Vararg{Union{Int64, AbstractRange{Int64}, AbstractCartesianIndex},N} where N} where A<:Union{ReinterpretArray{T,N,S,A} where S where A<:Union{SubArray{T,N,A,I,true} where I<:Tuple{AbstractUnitRange,Vararg{Any,N} where N} where A<:DenseArray where N where T, DenseArray} where N where T, ReshapedArray{T,N,A,MI} where MI<:Tuple{Vararg{SignedMultiplicativeInverse{Int64},N} where N} where A<:Union{ReinterpretArray{T,N,S,A} where S where A<:Union{SubArray{T,N,A,I,true} where I<:Tuple{AbstractUnitRange,Vararg{Any,N} where N} where A<:DenseArray where N where T, DenseArray} where N where T, SubArray{T,N,A,I,true} where I<:Tuple{AbstractUnitRange,Vararg{Any,N} where N} where A<:DenseArray where N where T, DenseArray} where N where T, DenseArray}} where #s576</b>, x::<b>SparseArrays.AbstractSparseArray{Tx,Ti,1} where Ti</b>) in SparseArrays at <a href=\"file:///Users/julia/buildbot/worker/package_macos64/build/usr/share/julia/stdlib/v1.0/SparseArrays/src/sparsevector.jl\" target=\"_blank\">/Users/julia/buildbot/worker/package_macos64/build/usr/share/julia/stdlib/v1.0/SparseArrays/src/sparsevector.jl:1519</a></li> <li> *(transA::<b>LinearAlgebra.Transpose{#s576,#s575} where #s575<:SparseArrays.SparseMatrixCSC where #s576</b>, x::<b>SparseArrays.AbstractSparseArray{Tv,Ti,1} where Ti where Tv</b>) in SparseArrays at <a href=\"file:///Users/julia/buildbot/worker/package_macos64/build/usr/share/julia/stdlib/v1.0/SparseArrays/src/sparsevector.jl\" target=\"_blank\">/Users/julia/buildbot/worker/package_macos64/build/usr/share/julia/stdlib/v1.0/SparseArrays/src/sparsevector.jl:1673</a></li> <li> *<i>{Tv, Ti}</i>(A::<b>LinearAlgebra.Transpose{#s576,#s575} where #s575<:SparseArrays.SparseMatrixCSC{Tv,Ti} where #s576</b>, B::<b>SparseArrays.SparseMatrixCSC{Tv,Ti}</b>) in SparseArrays at <a href=\"file:///Users/julia/buildbot/worker/package_macos64/build/usr/share/julia/stdlib/v1.0/SparseArrays/src/linalg.jl\" target=\"_blank\">/Users/julia/buildbot/worker/package_macos64/build/usr/share/julia/stdlib/v1.0/SparseArrays/src/linalg.jl:144</a></li> <li> *<i>{TvA, TiA, TvB, TiB}</i>(transA::<b>LinearAlgebra.Transpose{#s576,#s575} where #s575<:SparseArrays.SparseMatrixCSC{TvA,TiA} where #s576</b>, B::<b>SparseArrays.SparseMatrixCSC{TvB,TiB}</b>) in SparseArrays at <a href=\"file:///Users/julia/buildbot/worker/package_macos64/build/usr/share/julia/stdlib/v1.0/SparseArrays/src/linalg.jl\" target=\"_blank\">/Users/julia/buildbot/worker/package_macos64/build/usr/share/julia/stdlib/v1.0/SparseArrays/src/linalg.jl:13</a></li> <li> *<i>{TA, S, Tx}</i>(transA::<b>LinearAlgebra.Transpose{#s576,#s575} where #s575<:SparseArrays.SparseMatrixCSC{TA,S} where #s576</b>, x::<b>Union{DenseArray{Tx,1}, ReinterpretArray{Tx,1,S,A} where S where A<:Union{SubArray{T,N,A,I,true} where I<:Tuple{AbstractUnitRange,Vararg{Any,N} where N} where A<:DenseArray where N where T, DenseArray}, ReshapedArray{Tx,1,A,MI} where MI<:Tuple{Vararg{SignedMultiplicativeInverse{Int64},N} where N} where A<:Union{ReinterpretArray{T,N,S,A} where S where A<:Union{SubArray{T,N,A,I,true} where I<:Tuple{AbstractUnitRange,Vararg{Any,N} where N} where A<:DenseArray where N where T, DenseArray} where N where T, SubArray{T,N,A,I,true} where I<:Tuple{AbstractUnitRange,Vararg{Any,N} where N} where A<:DenseArray where N where T, DenseArray}, SubArray{Tx,1,A,I,L} where L where I<:Tuple{Vararg{Union{Int64, AbstractRange{Int64}, AbstractCartesianIndex},N} where N} where A<:Union{ReinterpretArray{T,N,S,A} where S where A<:Union{SubArray{T,N,A,I,true} where I<:Tuple{AbstractUnitRange,Vararg{Any,N} where N} where A<:DenseArray where N where T, DenseArray} where N where T, ReshapedArray{T,N,A,MI} where MI<:Tuple{Vararg{SignedMultiplicativeInverse{Int64},N} where N} where A<:Union{ReinterpretArray{T,N,S,A} where S where A<:Union{SubArray{T,N,A,I,true} where I<:Tuple{AbstractUnitRange,Vararg{Any,N} where N} where A<:DenseArray where N where T, DenseArray} where N where T, SubArray{T,N,A,I,true} where I<:Tuple{AbstractUnitRange,Vararg{Any,N} where N} where A<:DenseArray where N where T, DenseArray} where N where T, DenseArray}}</b>) in SparseArrays at <a href=\"file:///Users/julia/buildbot/worker/package_macos64/build/usr/share/julia/stdlib/v1.0/SparseArrays/src/linalg.jl\" target=\"_blank\">/Users/julia/buildbot/worker/package_macos64/build/usr/share/julia/stdlib/v1.0/SparseArrays/src/linalg.jl:103</a></li> <li> *<i>{TA, S, Tx}</i>(transA::<b>LinearAlgebra.Transpose{#s576,#s575} where #s575<:SparseArrays.SparseMatrixCSC{TA,S} where #s576</b>, B::<b>Union{DenseArray{Tx,2}, ReinterpretArray{Tx,2,S,A} where S where A<:Union{SubArray{T,N,A,I,true} where I<:Tuple{AbstractUnitRange,Vararg{Any,N} where N} where A<:DenseArray where N where T, DenseArray}, ReshapedArray{Tx,2,A,MI} where MI<:Tuple{Vararg{SignedMultiplicativeInverse{Int64},N} where N} where A<:Union{ReinterpretArray{T,N,S,A} where S where A<:Union{SubArray{T,N,A,I,true} where I<:Tuple{AbstractUnitRange,Vararg{Any,N} where N} where A<:DenseArray where N where T, DenseArray} where N where T, SubArray{T,N,A,I,true} where I<:Tuple{AbstractUnitRange,Vararg{Any,N} where N} where A<:DenseArray where N where T, DenseArray}, SubArray{Tx,2,A,I,L} where L where I<:Tuple{Vararg{Union{Int64, AbstractRange{Int64}, AbstractCartesianIndex},N} where N} where A<:Union{ReinterpretArray{T,N,S,A} where S where A<:Union{SubArray{T,N,A,I,true} where I<:Tuple{AbstractUnitRange,Vararg{Any,N} where N} where A<:DenseArray where N where T, DenseArray} where N where T, ReshapedArray{T,N,A,MI} where MI<:Tuple{Vararg{SignedMultiplicativeInverse{Int64},N} where N} where A<:Union{ReinterpretArray{T,N,S,A} where S where A<:Union{SubArray{T,N,A,I,true} where I<:Tuple{AbstractUnitRange,Vararg{Any,N} where N} where A<:DenseArray where N where T, DenseArray} where N where T, SubArray{T,N,A,I,true} where I<:Tuple{AbstractUnitRange,Vararg{Any,N} where N} where A<:DenseArray where N where T, DenseArray} where N where T, DenseArray}}</b>) in SparseArrays at <a href=\"file:///Users/julia/buildbot/worker/package_macos64/build/usr/share/julia/stdlib/v1.0/SparseArrays/src/linalg.jl\" target=\"_blank\">/Users/julia/buildbot/worker/package_macos64/build/usr/share/julia/stdlib/v1.0/SparseArrays/src/linalg.jl:105</a></li> <li> *(u::<b>LinearAlgebra.Transpose{T,#s576} where #s576<:(AbstractArray{T,1} where T) where T</b>, v::<b>AbstractArray{T,1} where T</b>) in LinearAlgebra at <a href=\"file:///Users/julia/buildbot/worker/package_macos64/build/usr/share/julia/stdlib/v1.0/LinearAlgebra/src/adjtrans.jl\" target=\"_blank\">/Users/julia/buildbot/worker/package_macos64/build/usr/share/julia/stdlib/v1.0/LinearAlgebra/src/adjtrans.jl:200</a></li> <li> *<i>{T<:Union{Complex{Float32}, Complex{Float64}, Float32, Float64}, S}</i>(A::<b>Union{DenseArray{T,2}, ReinterpretArray{T,2,S,A} where S where A<:Union{SubArray{T,N,A,I,true} where I<:Tuple{AbstractUnitRange,Vararg{Any,N} where N} where A<:DenseArray where N where T, DenseArray}, ReshapedArray{T,2,A,MI} where MI<:Tuple{Vararg{SignedMultiplicativeInverse{Int64},N} where N} where A<:Union{ReinterpretArray{T,N,S,A} where S where A<:Union{SubArray{T,N,A,I,true} where I<:Tuple{AbstractUnitRange,Vararg{Any,N} where N} where A<:DenseArray where N where T, DenseArray} where N where T, SubArray{T,N,A,I,true} where I<:Tuple{AbstractUnitRange,Vararg{Any,N} where N} where A<:DenseArray where N where T, DenseArray}, SubArray{T,2,A,I,L} where L where I<:Tuple{Vararg{Union{Int64, AbstractRange{Int64}, AbstractCartesianIndex},N} where N} where A<:Union{ReinterpretArray{T,N,S,A} where S where A<:Union{SubArray{T,N,A,I,true} where I<:Tuple{AbstractUnitRange,Vararg{Any,N} where N} where A<:DenseArray where N where T, DenseArray} where N where T, ReshapedArray{T,N,A,MI} where MI<:Tuple{Vararg{SignedMultiplicativeInverse{Int64},N} where N} where A<:Union{ReinterpretArray{T,N,S,A} where S where A<:Union{SubArray{T,N,A,I,true} where I<:Tuple{AbstractUnitRange,Vararg{Any,N} where N} where A<:DenseArray where N where T, DenseArray} where N where T, SubArray{T,N,A,I,true} where I<:Tuple{AbstractUnitRange,Vararg{Any,N} where N} where A<:DenseArray where N where T, DenseArray} where N where T, DenseArray}}</b>, x::<b>Union{DenseArray{S,1}, ReinterpretArray{S,1,S1,A} where S1 where A<:Union{SubArray{T,N,A,I,true} where I<:Tuple{AbstractUnitRange,Vararg{Any,N} where N} where A<:DenseArray where N where T, DenseArray}, ReshapedArray{S,1,A,MI} where MI<:Tuple{Vararg{SignedMultiplicativeInverse{Int64},N} where N} where A<:Union{ReinterpretArray{T,N,S,A} where S where A<:Union{SubArray{T,N,A,I,true} where I<:Tuple{AbstractUnitRange,Vararg{Any,N} where N} where A<:DenseArray where N where T, DenseArray} where N where T, SubArray{T,N,A,I,true} where I<:Tuple{AbstractUnitRange,Vararg{Any,N} where N} where A<:DenseArray where N where T, DenseArray}, SubArray{S,1,A,I,L} where L where I<:Tuple{Vararg{Union{Int64, AbstractRange{Int64}, AbstractCartesianIndex},N} where N} where A<:Union{ReinterpretArray{T,N,S,A} where S where A<:Union{SubArray{T,N,A,I,true} where I<:Tuple{AbstractUnitRange,Vararg{Any,N} where N} where A<:DenseArray where N where T, DenseArray} where N where T, ReshapedArray{T,N,A,MI} where MI<:Tuple{Vararg{SignedMultiplicativeInverse{Int64},N} where N} where A<:Union{ReinterpretArray{T,N,S,A} where S where A<:Union{SubArray{T,N,A,I,true} where I<:Tuple{AbstractUnitRange,Vararg{Any,N} where N} where A<:DenseArray where N where T, DenseArray} where N where T, SubArray{T,N,A,I,true} where I<:Tuple{AbstractUnitRange,Vararg{Any,N} where N} where A<:DenseArray where N where T, DenseArray} where N where T, DenseArray}}</b>) in LinearAlgebra at <a href=\"file:///Users/julia/buildbot/worker/package_macos64/build/usr/share/julia/stdlib/v1.0/LinearAlgebra/src/matmul.jl\" target=\"_blank\">/Users/julia/buildbot/worker/package_macos64/build/usr/share/julia/stdlib/v1.0/LinearAlgebra/src/matmul.jl:45</a></li> <li> *<i>{T, S}</i>(transA::<b>LinearAlgebra.Transpose{#s576,#s575} where #s575<:AbstractArray{T,2} where #s576</b>, x::<b>AbstractArray{S,1}</b>) in LinearAlgebra at <a href=\"file:///Users/julia/buildbot/worker/package_macos64/build/usr/share/julia/stdlib/v1.0/LinearAlgebra/src/matmul.jl\" target=\"_blank\">/Users/julia/buildbot/worker/package_macos64/build/usr/share/julia/stdlib/v1.0/LinearAlgebra/src/matmul.jl:84</a></li> <li> *<i>{T, S}</i>(adjA::<b>LinearAlgebra.Adjoint{#s576,#s575} where #s575<:AbstractArray{T,2} where #s576</b>, x::<b>AbstractArray{S,1}</b>) in LinearAlgebra at <a href=\"file:///Users/julia/buildbot/worker/package_macos64/build/usr/share/julia/stdlib/v1.0/LinearAlgebra/src/matmul.jl\" target=\"_blank\">/Users/julia/buildbot/worker/package_macos64/build/usr/share/julia/stdlib/v1.0/LinearAlgebra/src/matmul.jl:103</a></li> <li> *(adjA::<b>LinearAlgebra.Adjoint{#s576,#s575} where #s575<:LinearAlgebra.AbstractTriangular where #s576</b>, B::<b>AbstractArray{T,2} where T</b>) in LinearAlgebra at <a href=\"file:///Users/julia/buildbot/worker/package_macos64/build/usr/share/julia/stdlib/v1.0/LinearAlgebra/src/triangular.jl\" target=\"_blank\">/Users/julia/buildbot/worker/package_macos64/build/usr/share/julia/stdlib/v1.0/LinearAlgebra/src/triangular.jl:1805</a></li> <li> *(adjA::<b>LinearAlgebra.Adjoint{#s576,#s575} where #s575<:(Union{Hermitian{T,S}, Hermitian{Complex{T},S}, Symmetric{T,S}} where S where T<:Real) where #s576</b>, B::<b>AbstractArray{T,2} where T</b>) in LinearAlgebra at <a href=\"file:///Users/julia/buildbot/worker/package_macos64/build/usr/share/julia/stdlib/v1.0/LinearAlgebra/src/symmetric.jl\" target=\"_blank\">/Users/julia/buildbot/worker/package_macos64/build/usr/share/julia/stdlib/v1.0/LinearAlgebra/src/symmetric.jl:426</a></li> <li> *(x::<b>LinearAlgebra.Adjoint{T,#s576} where #s576<:(AbstractArray{T,1} where T) where T</b>, A::<b>AbstractArray{T,2} where T</b>) in LinearAlgebra at <a href=\"file:///Users/julia/buildbot/worker/package_macos64/build/usr/share/julia/stdlib/v1.0/LinearAlgebra/src/matmul.jl\" target=\"_blank\">/Users/julia/buildbot/worker/package_macos64/build/usr/share/julia/stdlib/v1.0/LinearAlgebra/src/matmul.jl:122</a></li> <li> *(transA::<b>LinearAlgebra.Transpose{#s574,#s573} where #s573<:LinearAlgebra.AbstractTriangular where #s574</b>, B::<b>AbstractArray{T,2} where T</b>) in LinearAlgebra at <a href=\"file:///Users/julia/buildbot/worker/package_macos64/build/usr/share/julia/stdlib/v1.0/LinearAlgebra/src/triangular.jl\" target=\"_blank\">/Users/julia/buildbot/worker/package_macos64/build/usr/share/julia/stdlib/v1.0/LinearAlgebra/src/triangular.jl:1813</a></li> <li> *(transA::<b>LinearAlgebra.Transpose{#s576,#s575} where #s575<:(Union{Hermitian{T,S}, Symmetric{T,S}, Symmetric{Complex{T},S}} where S where T<:Real) where #s576</b>, B::<b>AbstractArray{T,2} where T</b>) in LinearAlgebra at <a href=\"file:///Users/julia/buildbot/worker/package_macos64/build/usr/share/julia/stdlib/v1.0/LinearAlgebra/src/symmetric.jl\" target=\"_blank\">/Users/julia/buildbot/worker/package_macos64/build/usr/share/julia/stdlib/v1.0/LinearAlgebra/src/symmetric.jl:422</a></li> <li> *(x::<b>LinearAlgebra.Transpose{T,#s576} where #s576<:(AbstractArray{T,1} where T) where T</b>, A::<b>AbstractArray{T,2} where T</b>) in LinearAlgebra at <a href=\"file:///Users/julia/buildbot/worker/package_macos64/build/usr/share/julia/stdlib/v1.0/LinearAlgebra/src/matmul.jl\" target=\"_blank\">/Users/julia/buildbot/worker/package_macos64/build/usr/share/julia/stdlib/v1.0/LinearAlgebra/src/matmul.jl:123</a></li> <li> *(A::<b>LinearAlgebra.SymTridiagonal</b>, B::<b>Number</b>) in LinearAlgebra at <a href=\"file:///Users/julia/buildbot/worker/package_macos64/build/usr/share/julia/stdlib/v1.0/LinearAlgebra/src/tridiag.jl\" target=\"_blank\">/Users/julia/buildbot/worker/package_macos64/build/usr/share/julia/stdlib/v1.0/LinearAlgebra/src/tridiag.jl:160</a></li> <li> *(A::<b>LinearAlgebra.Tridiagonal</b>, B::<b>Number</b>) in LinearAlgebra at <a href=\"file:///Users/julia/buildbot/worker/package_macos64/build/usr/share/julia/stdlib/v1.0/LinearAlgebra/src/tridiag.jl\" target=\"_blank\">/Users/julia/buildbot/worker/package_macos64/build/usr/share/julia/stdlib/v1.0/LinearAlgebra/src/tridiag.jl:614</a></li> <li> *(A::<b>LinearAlgebra.UpperTriangular</b>, x::<b>Number</b>) in LinearAlgebra at <a href=\"file:///Users/julia/buildbot/worker/package_macos64/build/usr/share/julia/stdlib/v1.0/LinearAlgebra/src/triangular.jl\" target=\"_blank\">/Users/julia/buildbot/worker/package_macos64/build/usr/share/julia/stdlib/v1.0/LinearAlgebra/src/triangular.jl:670</a></li> <li> *(A::<b>LinearAlgebra.UnitUpperTriangular</b>, x::<b>Number</b>) in LinearAlgebra at <a href=\"file:///Users/julia/buildbot/worker/package_macos64/build/usr/share/julia/stdlib/v1.0/LinearAlgebra/src/triangular.jl\" target=\"_blank\">/Users/julia/buildbot/worker/package_macos64/build/usr/share/julia/stdlib/v1.0/LinearAlgebra/src/triangular.jl:673</a></li> <li> *(A::<b>LinearAlgebra.LowerTriangular</b>, x::<b>Number</b>) in LinearAlgebra at <a href=\"file:///Users/julia/buildbot/worker/package_macos64/build/usr/share/julia/stdlib/v1.0/LinearAlgebra/src/triangular.jl\" target=\"_blank\">/Users/julia/buildbot/worker/package_macos64/build/usr/share/julia/stdlib/v1.0/LinearAlgebra/src/triangular.jl:670</a></li> <li> *(A::<b>LinearAlgebra.UnitLowerTriangular</b>, x::<b>Number</b>) in LinearAlgebra at <a href=\"file:///Users/julia/buildbot/worker/package_macos64/build/usr/share/julia/stdlib/v1.0/LinearAlgebra/src/triangular.jl\" target=\"_blank\">/Users/julia/buildbot/worker/package_macos64/build/usr/share/julia/stdlib/v1.0/LinearAlgebra/src/triangular.jl:673</a></li> <li> *(A::<b>Union{SymTridiagonal, Tridiagonal}</b>, B::<b>LinearAlgebra.AbstractTriangular</b>) in LinearAlgebra at <a href=\"file:///Users/julia/buildbot/worker/package_macos64/build/usr/share/julia/stdlib/v1.0/LinearAlgebra/src/triangular.jl\" target=\"_blank\">/Users/julia/buildbot/worker/package_macos64/build/usr/share/julia/stdlib/v1.0/LinearAlgebra/src/triangular.jl:1602</a></li> <li> *(A::<b>LinearAlgebra.LowerTriangular</b>, B::<b>LinearAlgebra.LowerTriangular</b>) in LinearAlgebra at <a href=\"file:///Users/julia/buildbot/worker/package_macos64/build/usr/share/julia/stdlib/v1.0/LinearAlgebra/src/triangular.jl\" target=\"_blank\">/Users/julia/buildbot/worker/package_macos64/build/usr/share/julia/stdlib/v1.0/LinearAlgebra/src/triangular.jl:1607</a></li> <li> *(A::<b>LinearAlgebra.UnitLowerTriangular</b>, B::<b>LinearAlgebra.LowerTriangular</b>) in LinearAlgebra at <a href=\"file:///Users/julia/buildbot/worker/package_macos64/build/usr/share/julia/stdlib/v1.0/LinearAlgebra/src/triangular.jl\" target=\"_blank\">/Users/julia/buildbot/worker/package_macos64/build/usr/share/julia/stdlib/v1.0/LinearAlgebra/src/triangular.jl:1615</a></li> <li> *(A::<b>LinearAlgebra.UpperTriangular</b>, B::<b>LinearAlgebra.UpperTriangular</b>) in LinearAlgebra at <a href=\"file:///Users/julia/buildbot/worker/package_macos64/build/usr/share/julia/stdlib/v1.0/LinearAlgebra/src/triangular.jl\" target=\"_blank\">/Users/julia/buildbot/worker/package_macos64/build/usr/share/julia/stdlib/v1.0/LinearAlgebra/src/triangular.jl:1623</a></li> <li> *(A::<b>LinearAlgebra.UnitUpperTriangular</b>, B::<b>LinearAlgebra.UpperTriangular</b>) in LinearAlgebra at <a href=\"file:///Users/julia/buildbot/worker/package_macos64/build/usr/share/julia/stdlib/v1.0/LinearAlgebra/src/triangular.jl\" target=\"_blank\">/Users/julia/buildbot/worker/package_macos64/build/usr/share/julia/stdlib/v1.0/LinearAlgebra/src/triangular.jl:1631</a></li> <li> *(A::<b>LinearAlgebra.LowerTriangular</b>, xformB::<b>LinearAlgebra.Adjoint{#s576,#s575} where #s575<:LinearAlgebra.UpperTriangular where #s576</b>) in LinearAlgebra at <a href=\"file:///Users/julia/buildbot/worker/package_macos64/build/usr/share/julia/stdlib/v1.0/LinearAlgebra/src/triangular.jl\" target=\"_blank\">/Users/julia/buildbot/worker/package_macos64/build/usr/share/julia/stdlib/v1.0/LinearAlgebra/src/triangular.jl:1720</a></li> <li> *(A::<b>LinearAlgebra.LowerTriangular</b>, xformB::<b>LinearAlgebra.Adjoint{#s574,#s573} where #s573<:LinearAlgebra.UnitUpperTriangular where #s574</b>) in LinearAlgebra at <a href=\"file:///Users/julia/buildbot/worker/package_macos64/build/usr/share/julia/stdlib/v1.0/LinearAlgebra/src/triangular.jl\" target=\"_blank\">/Users/julia/buildbot/worker/package_macos64/build/usr/share/julia/stdlib/v1.0/LinearAlgebra/src/triangular.jl:1729</a></li> <li> *(A::<b>LinearAlgebra.UpperTriangular</b>, xformB::<b>LinearAlgebra.Adjoint{#s572,#s571} where #s571<:LinearAlgebra.LowerTriangular where #s572</b>) in LinearAlgebra at <a href=\"file:///Users/julia/buildbot/worker/package_macos64/build/usr/share/julia/stdlib/v1.0/LinearAlgebra/src/triangular.jl\" target=\"_blank\">/Users/julia/buildbot/worker/package_macos64/build/usr/share/julia/stdlib/v1.0/LinearAlgebra/src/triangular.jl:1738</a></li> <li> *(A::<b>LinearAlgebra.UpperTriangular</b>, xformB::<b>LinearAlgebra.Adjoint{#s570,#s569} where #s569<:LinearAlgebra.UnitLowerTriangular where #s570</b>) in LinearAlgebra at <a href=\"file:///Users/julia/buildbot/worker/package_macos64/build/usr/share/julia/stdlib/v1.0/LinearAlgebra/src/triangular.jl\" target=\"_blank\">/Users/julia/buildbot/worker/package_macos64/build/usr/share/julia/stdlib/v1.0/LinearAlgebra/src/triangular.jl:1747</a></li> <li> *(A::<b>LinearAlgebra.LowerTriangular</b>, xformB::<b>LinearAlgebra.Transpose{#s576,#s575} where #s575<:LinearAlgebra.UpperTriangular where #s576</b>) in LinearAlgebra at <a href=\"file:///Users/julia/buildbot/worker/package_macos64/build/usr/share/julia/stdlib/v1.0/LinearAlgebra/src/triangular.jl\" target=\"_blank\">/Users/julia/buildbot/worker/package_macos64/build/usr/share/julia/stdlib/v1.0/LinearAlgebra/src/triangular.jl:1720</a></li> <li> *(A::<b>LinearAlgebra.LowerTriangular</b>, xformB::<b>LinearAlgebra.Transpose{#s574,#s573} where #s573<:LinearAlgebra.UnitUpperTriangular where #s574</b>) in LinearAlgebra at <a href=\"file:///Users/julia/buildbot/worker/package_macos64/build/usr/share/julia/stdlib/v1.0/LinearAlgebra/src/triangular.jl\" target=\"_blank\">/Users/julia/buildbot/worker/package_macos64/build/usr/share/julia/stdlib/v1.0/LinearAlgebra/src/triangular.jl:1729</a></li> <li> *(A::<b>LinearAlgebra.UpperTriangular</b>, xformB::<b>LinearAlgebra.Transpose{#s572,#s571} where #s571<:LinearAlgebra.LowerTriangular where #s572</b>) in LinearAlgebra at <a href=\"file:///Users/julia/buildbot/worker/package_macos64/build/usr/share/julia/stdlib/v1.0/LinearAlgebra/src/triangular.jl\" target=\"_blank\">/Users/julia/buildbot/worker/package_macos64/build/usr/share/julia/stdlib/v1.0/LinearAlgebra/src/triangular.jl:1738</a></li> <li> *(A::<b>LinearAlgebra.UpperTriangular</b>, xformB::<b>LinearAlgebra.Transpose{#s570,#s569} where #s569<:LinearAlgebra.UnitLowerTriangular where #s570</b>) in LinearAlgebra at <a href=\"file:///Users/julia/buildbot/worker/package_macos64/build/usr/share/julia/stdlib/v1.0/LinearAlgebra/src/triangular.jl\" target=\"_blank\">/Users/julia/buildbot/worker/package_macos64/build/usr/share/julia/stdlib/v1.0/LinearAlgebra/src/triangular.jl:1747</a></li> <li> *(A::<b>LinearAlgebra.AbstractTriangular</b>, B::<b>LinearAlgebra.AbstractTriangular</b>) in LinearAlgebra at <a href=\"file:///Users/julia/buildbot/worker/package_macos64/build/usr/share/julia/stdlib/v1.0/LinearAlgebra/src/triangular.jl\" target=\"_blank\">/Users/julia/buildbot/worker/package_macos64/build/usr/share/julia/stdlib/v1.0/LinearAlgebra/src/triangular.jl:1759</a></li> <li> *(A::<b>LinearAlgebra.AbstractTriangular</b>, adjB::<b>LinearAlgebra.Adjoint{#s576,#s575} where #s575<:LinearAlgebra.AbstractTriangular where #s576</b>) in LinearAlgebra at <a href=\"file:///Users/julia/buildbot/worker/package_macos64/build/usr/share/julia/stdlib/v1.0/LinearAlgebra/src/triangular.jl\" target=\"_blank\">/Users/julia/buildbot/worker/package_macos64/build/usr/share/julia/stdlib/v1.0/LinearAlgebra/src/triangular.jl:1780</a></li> <li> *(A::<b>LinearAlgebra.AbstractTriangular</b>, transB::<b>LinearAlgebra.Transpose{#s576,#s575} where #s575<:LinearAlgebra.AbstractTriangular where #s576</b>) in LinearAlgebra at <a href=\"file:///Users/julia/buildbot/worker/package_macos64/build/usr/share/julia/stdlib/v1.0/LinearAlgebra/src/triangular.jl\" target=\"_blank\">/Users/julia/buildbot/worker/package_macos64/build/usr/share/julia/stdlib/v1.0/LinearAlgebra/src/triangular.jl:1787</a></li> <li> *(A::<b>LinearAlgebra.AbstractTriangular</b>, adjB::<b>LinearAlgebra.Adjoint{#s576,#s575} where #s575<:(Union{Hermitian{T,S}, Hermitian{Complex{T},S}, Symmetric{T,S}} where S where T<:Real) where #s576</b>) in LinearAlgebra at <a href=\"file:///Users/julia/buildbot/worker/package_macos64/build/usr/share/julia/stdlib/v1.0/LinearAlgebra/src/symmetric.jl\" target=\"_blank\">/Users/julia/buildbot/worker/package_macos64/build/usr/share/julia/stdlib/v1.0/LinearAlgebra/src/symmetric.jl:441</a></li> <li> *(A::<b>LinearAlgebra.AbstractTriangular</b>, adjB::<b>LinearAlgebra.Adjoint{#s576,#s575} where #s575<:Union{QRCompactWYQ, QRPackedQ} where #s576</b>) in LinearAlgebra at <a href=\"file:///Users/julia/buildbot/worker/package_macos64/build/usr/share/julia/stdlib/v1.0/LinearAlgebra/src/special.jl\" target=\"_blank\">/Users/julia/buildbot/worker/package_macos64/build/usr/share/julia/stdlib/v1.0/LinearAlgebra/src/special.jl:132</a></li> <li> *(A::<b>LinearAlgebra.AbstractTriangular</b>, B::<b>LinearAlgebra.Adjoint{#s576,#s575} where #s575<:(AbstractArray{T,2} where T) where #s576</b>) in LinearAlgebra at <a href=\"file:///Users/julia/buildbot/worker/package_macos64/build/usr/share/julia/stdlib/v1.0/LinearAlgebra/src/triangular.jl\" target=\"_blank\">/Users/julia/buildbot/worker/package_macos64/build/usr/share/julia/stdlib/v1.0/LinearAlgebra/src/triangular.jl:1965</a></li> <li> *(A::<b>LinearAlgebra.AbstractTriangular</b>, transB::<b>LinearAlgebra.Transpose{#s576,#s575} where #s575<:(Union{Hermitian{T,S}, Symmetric{T,S}, Symmetric{Complex{T},S}} where S where T<:Real) where #s576</b>) in LinearAlgebra at <a href=\"file:///Users/julia/buildbot/worker/package_macos64/build/usr/share/julia/stdlib/v1.0/LinearAlgebra/src/symmetric.jl\" target=\"_blank\">/Users/julia/buildbot/worker/package_macos64/build/usr/share/julia/stdlib/v1.0/LinearAlgebra/src/symmetric.jl:439</a></li> <li> *(A::<b>LinearAlgebra.AbstractTriangular</b>, B::<b>LinearAlgebra.Transpose{#s576,#s575} where #s575<:(AbstractArray{T,2} where T) where #s576</b>) in LinearAlgebra at <a href=\"file:///Users/julia/buildbot/worker/package_macos64/build/usr/share/julia/stdlib/v1.0/LinearAlgebra/src/triangular.jl\" target=\"_blank\">/Users/julia/buildbot/worker/package_macos64/build/usr/share/julia/stdlib/v1.0/LinearAlgebra/src/triangular.jl:1966</a></li> <li> *(A::<b>LinearAlgebra.AbstractTriangular</b>, B::<b>LinearAlgebra.Adjoint{#s576,#s575} where #s575<:(AbstractArray{T,1} where T) where #s576</b>) in LinearAlgebra at <a href=\"file:///Users/julia/buildbot/worker/package_macos64/build/usr/share/julia/stdlib/v1.0/LinearAlgebra/src/triangular.jl\" target=\"_blank\">/Users/julia/buildbot/worker/package_macos64/build/usr/share/julia/stdlib/v1.0/LinearAlgebra/src/triangular.jl:2478</a></li> <li> *(A::<b>LinearAlgebra.AbstractTriangular</b>, B::<b>LinearAlgebra.Transpose{#s576,#s575} where #s575<:(AbstractArray{T,1} where T) where #s576</b>) in LinearAlgebra at <a href=\"file:///Users/julia/buildbot/worker/package_macos64/build/usr/share/julia/stdlib/v1.0/LinearAlgebra/src/triangular.jl\" target=\"_blank\">/Users/julia/buildbot/worker/package_macos64/build/usr/share/julia/stdlib/v1.0/LinearAlgebra/src/triangular.jl:2479</a></li> <li> *(A::<b>LinearAlgebra.AbstractTriangular</b>, D::<b>LinearAlgebra.Diagonal</b>) in LinearAlgebra at <a href=\"file:///Users/julia/buildbot/worker/package_macos64/build/usr/share/julia/stdlib/v1.0/LinearAlgebra/src/diagonal.jl\" target=\"_blank\">/Users/julia/buildbot/worker/package_macos64/build/usr/share/julia/stdlib/v1.0/LinearAlgebra/src/diagonal.jl:161</a></li> <li> *(A::<b>LinearAlgebra.AbstractTriangular</b>, B::<b>Union{Bidiagonal, SymTridiagonal, Tridiagonal}</b>) in LinearAlgebra at <a href=\"file:///Users/julia/buildbot/worker/package_macos64/build/usr/share/julia/stdlib/v1.0/LinearAlgebra/src/bidiag.jl\" target=\"_blank\">/Users/julia/buildbot/worker/package_macos64/build/usr/share/julia/stdlib/v1.0/LinearAlgebra/src/bidiag.jl:491</a></li> <li> *(A::<b>LinearAlgebra.AbstractTriangular</b>, B::<b>LinearAlgebra.Adjoint{#s576,#s575} where #s575<:LinearAlgebra.AbstractRotation where #s576</b>) in LinearAlgebra at <a href=\"file:///Users/julia/buildbot/worker/package_macos64/build/usr/share/julia/stdlib/v1.0/LinearAlgebra/src/givens.jl\" target=\"_blank\">/Users/julia/buildbot/worker/package_macos64/build/usr/share/julia/stdlib/v1.0/LinearAlgebra/src/givens.jl:398</a></li> <li> *(A::<b>LinearAlgebra.AbstractTriangular</b>, B::<b>AbstractArray{T,1} where T</b>) in LinearAlgebra at <a href=\"file:///Users/julia/buildbot/worker/package_macos64/build/usr/share/julia/stdlib/v1.0/LinearAlgebra/src/triangular.jl\" target=\"_blank\">/Users/julia/buildbot/worker/package_macos64/build/usr/share/julia/stdlib/v1.0/LinearAlgebra/src/triangular.jl:1798</a></li> <li> *(A::<b>LinearAlgebra.AbstractTriangular</b>, B::<b>AbstractArray{T,2} where T</b>) in LinearAlgebra at <a href=\"file:///Users/julia/buildbot/worker/package_macos64/build/usr/share/julia/stdlib/v1.0/LinearAlgebra/src/triangular.jl\" target=\"_blank\">/Users/julia/buildbot/worker/package_macos64/build/usr/share/julia/stdlib/v1.0/LinearAlgebra/src/triangular.jl:1798</a></li> <li> *(A::<b>LinearAlgebra.Adjoint{#s576,#s575} where #s575<:(AbstractArray{T,2} where T) where #s576</b>, B::<b>LinearAlgebra.AbstractTriangular</b>) in LinearAlgebra at <a href=\"file:///Users/julia/buildbot/worker/package_macos64/build/usr/share/julia/stdlib/v1.0/LinearAlgebra/src/triangular.jl\" target=\"_blank\">/Users/julia/buildbot/worker/package_macos64/build/usr/share/julia/stdlib/v1.0/LinearAlgebra/src/triangular.jl:1963</a></li> <li> *(A::<b>LinearAlgebra.Transpose{#s576,#s575} where #s575<:(AbstractArray{T,2} where T) where #s576</b>, B::<b>LinearAlgebra.AbstractTriangular</b>) in LinearAlgebra at <a href=\"file:///Users/julia/buildbot/worker/package_macos64/build/usr/share/julia/stdlib/v1.0/LinearAlgebra/src/triangular.jl\" target=\"_blank\">/Users/julia/buildbot/worker/package_macos64/build/usr/share/julia/stdlib/v1.0/LinearAlgebra/src/triangular.jl:1964</a></li> <li> *(A::<b>LinearAlgebra.Adjoint{#s576,#s575} where #s575<:(AbstractArray{T,2} where T) where #s576</b>, B::<b>LinearAlgebra.Adjoint{#s574,#s573} where #s573<:LinearAlgebra.AbstractTriangular where #s574</b>) in LinearAlgebra at <a href=\"file:///Users/julia/buildbot/worker/package_macos64/build/usr/share/julia/stdlib/v1.0/LinearAlgebra/src/triangular.jl\" target=\"_blank\">/Users/julia/buildbot/worker/package_macos64/build/usr/share/julia/stdlib/v1.0/LinearAlgebra/src/triangular.jl:1969</a></li> <li> *(A::<b>LinearAlgebra.Transpose{#s576,#s575} where #s575<:(AbstractArray{T,2} where T) where #s576</b>, B::<b>LinearAlgebra.Transpose{#s574,#s573} where #s573<:LinearAlgebra.AbstractTriangular where #s574</b>) in LinearAlgebra at <a href=\"file:///Users/julia/buildbot/worker/package_macos64/build/usr/share/julia/stdlib/v1.0/LinearAlgebra/src/triangular.jl\" target=\"_blank\">/Users/julia/buildbot/worker/package_macos64/build/usr/share/julia/stdlib/v1.0/LinearAlgebra/src/triangular.jl:1972</a></li> <li> *(A::<b>LinearAlgebra.Adjoint{#s576,#s575} where #s575<:(AbstractArray{T,2} where T) where #s576</b>, B::<b>LinearAlgebra.Transpose{#s574,#s573} where #s573<:LinearAlgebra.AbstractTriangular where #s574</b>) in LinearAlgebra at <a href=\"file:///Users/julia/buildbot/worker/package_macos64/build/usr/share/julia/stdlib/v1.0/LinearAlgebra/src/triangular.jl\" target=\"_blank\">/Users/julia/buildbot/worker/package_macos64/build/usr/share/julia/stdlib/v1.0/LinearAlgebra/src/triangular.jl:2492</a></li> <li> *(A::<b>LinearAlgebra.Transpose{#s576,#s575} where #s575<:(AbstractArray{T,2} where T) where #s576</b>, B::<b>LinearAlgebra.Adjoint{#s574,#s573} where #s573<:LinearAlgebra.AbstractTriangular where #s574</b>) in LinearAlgebra at <a href=\"file:///Users/julia/buildbot/worker/package_macos64/build/usr/share/julia/stdlib/v1.0/LinearAlgebra/src/triangular.jl\" target=\"_blank\">/Users/julia/buildbot/worker/package_macos64/build/usr/share/julia/stdlib/v1.0/LinearAlgebra/src/triangular.jl:2494</a></li> <li> *(A::<b>LinearAlgebra.AbstractQ</b>, b::<b>Union{DenseArray{T,1}, ReinterpretArray{T,1,S,A} where S where A<:Union{SubArray{T,N,A,I,true} where I<:Tuple{AbstractUnitRange,Vararg{Any,N} where N} where A<:DenseArray where N where T, DenseArray}, ReshapedArray{T,1,A,MI} where MI<:Tuple{Vararg{SignedMultiplicativeInverse{Int64},N} where N} where A<:Union{ReinterpretArray{T,N,S,A} where S where A<:Union{SubArray{T,N,A,I,true} where I<:Tuple{AbstractUnitRange,Vararg{Any,N} where N} where A<:DenseArray where N where T, DenseArray} where N where T, SubArray{T,N,A,I,true} where I<:Tuple{AbstractUnitRange,Vararg{Any,N} where N} where A<:DenseArray where N where T, DenseArray}, SubArray{T,1,A,I,L} where L where I<:Tuple{Vararg{Union{Int64, AbstractRange{Int64}, AbstractCartesianIndex},N} where N} where A<:Union{ReinterpretArray{T,N,S,A} where S where A<:Union{SubArray{T,N,A,I,true} where I<:Tuple{AbstractUnitRange,Vararg{Any,N} where N} where A<:DenseArray where N where T, DenseArray} where N where T, ReshapedArray{T,N,A,MI} where MI<:Tuple{Vararg{SignedMultiplicativeInverse{Int64},N} where N} where A<:Union{ReinterpretArray{T,N,S,A} where S where A<:Union{SubArray{T,N,A,I,true} where I<:Tuple{AbstractUnitRange,Vararg{Any,N} where N} where A<:DenseArray where N where T, DenseArray} where N where T, SubArray{T,N,A,I,true} where I<:Tuple{AbstractUnitRange,Vararg{Any,N} where N} where A<:DenseArray where N where T, DenseArray} where N where T, DenseArray}} where T</b>) in LinearAlgebra at <a href=\"file:///Users/julia/buildbot/worker/package_macos64/build/usr/share/julia/stdlib/v1.0/LinearAlgebra/src/qr.jl\" target=\"_blank\">/Users/julia/buildbot/worker/package_macos64/build/usr/share/julia/stdlib/v1.0/LinearAlgebra/src/qr.jl:557</a></li> <li> *(A::<b>LinearAlgebra.AbstractQ</b>, B::<b>Union{DenseArray{T,2}, ReinterpretArray{T,2,S,A} where S where A<:Union{SubArray{T,N,A,I,true} where I<:Tuple{AbstractUnitRange,Vararg{Any,N} where N} where A<:DenseArray where N where T, DenseArray}, ReshapedArray{T,2,A,MI} where MI<:Tuple{Vararg{SignedMultiplicativeInverse{Int64},N} where N} where A<:Union{ReinterpretArray{T,N,S,A} where S where A<:Union{SubArray{T,N,A,I,true} where I<:Tuple{AbstractUnitRange,Vararg{Any,N} where N} where A<:DenseArray where N where T, DenseArray} where N where T, SubArray{T,N,A,I,true} where I<:Tuple{AbstractUnitRange,Vararg{Any,N} where N} where A<:DenseArray where N where T, DenseArray}, SubArray{T,2,A,I,L} where L where I<:Tuple{Vararg{Union{Int64, AbstractRange{Int64}, AbstractCartesianIndex},N} where N} where A<:Union{ReinterpretArray{T,N,S,A} where S where A<:Union{SubArray{T,N,A,I,true} where I<:Tuple{AbstractUnitRange,Vararg{Any,N} where N} where A<:DenseArray where N where T, DenseArray} where N where T, ReshapedArray{T,N,A,MI} where MI<:Tuple{Vararg{SignedMultiplicativeInverse{Int64},N} where N} where A<:Union{ReinterpretArray{T,N,S,A} where S where A<:Union{SubArray{T,N,A,I,true} where I<:Tuple{AbstractUnitRange,Vararg{Any,N} where N} where A<:DenseArray where N where T, DenseArray} where N where T, SubArray{T,N,A,I,true} where I<:Tuple{AbstractUnitRange,Vararg{Any,N} where N} where A<:DenseArray where N where T, DenseArray} where N where T, DenseArray}} where T</b>) in LinearAlgebra at <a href=\"file:///Users/julia/buildbot/worker/package_macos64/build/usr/share/julia/stdlib/v1.0/LinearAlgebra/src/qr.jl\" target=\"_blank\">/Users/julia/buildbot/worker/package_macos64/build/usr/share/julia/stdlib/v1.0/LinearAlgebra/src/qr.jl:569</a></li> <li> *(Q::<b>LinearAlgebra.AbstractQ</b>, adjB::<b>LinearAlgebra.Adjoint{#s576,#s575} where #s575<:(Union{DenseArray{T,1}, DenseArray{T,2}, ReinterpretArray{T,2,S,A} where S where A<:Union{SubArray{T,N,A,I,true} where I<:Tuple{AbstractUnitRange,Vararg{Any,N} where N} where A<:DenseArray where N where T, DenseArray}, ReinterpretArray{T,1,S,A} where S where A<:Union{SubArray{T,N,A,I,true} where I<:Tuple{AbstractUnitRange,Vararg{Any,N} where N} where A<:DenseArray where N where T, DenseArray}, ReshapedArray{T,1,A,MI} where MI<:Tuple{Vararg{SignedMultiplicativeInverse{Int64},N} where N} where A<:Union{ReinterpretArray{T,N,S,A} where S where A<:Union{SubArray{T,N,A,I,true} where I<:Tuple{AbstractUnitRange,Vararg{Any,N} where N} where A<:DenseArray where N where T, DenseArray} where N where T, SubArray{T,N,A,I,true} where I<:Tuple{AbstractUnitRange,Vararg{Any,N} where N} where A<:DenseArray where N where T, DenseArray}, ReshapedArray{T,2,A,MI} where MI<:Tuple{Vararg{SignedMultiplicativeInverse{Int64},N} where N} where A<:Union{ReinterpretArray{T,N,S,A} where S where A<:Union{SubArray{T,N,A,I,true} where I<:Tuple{AbstractUnitRange,Vararg{Any,N} where N} where A<:DenseArray where N where T, DenseArray} where N where T, SubArray{T,N,A,I,true} where I<:Tuple{AbstractUnitRange,Vararg{Any,N} where N} where A<:DenseArray where N where T, DenseArray}, SubArray{T,1,A,I,L} where L where I<:Tuple{Vararg{Union{Int64, AbstractRange{Int64}, AbstractCartesianIndex},N} where N} where A<:Union{ReinterpretArray{T,N,S,A} where S where A<:Union{SubArray{T,N,A,I,true} where I<:Tuple{AbstractUnitRange,Vararg{Any,N} where N} where A<:DenseArray where N where T, DenseArray} where N where T, ReshapedArray{T,N,A,MI} where MI<:Tuple{Vararg{SignedMultiplicativeInverse{Int64},N} where N} where A<:Union{ReinterpretArray{T,N,S,A} where S where A<:Union{SubArray{T,N,A,I,true} where I<:Tuple{AbstractUnitRange,Vararg{Any,N} where N} where A<:DenseArray where N where T, DenseArray} where N where T, SubArray{T,N,A,I,true} where I<:Tuple{AbstractUnitRange,Vararg{Any,N} where N} where A<:DenseArray where N where T, DenseArray} where N where T, DenseArray}, SubArray{T,2,A,I,L} where L where I<:Tuple{Vararg{Union{Int64, AbstractRange{Int64}, AbstractCartesianIndex},N} where N} where A<:Union{ReinterpretArray{T,N,S,A} where S where A<:Union{SubArray{T,N,A,I,true} where I<:Tuple{AbstractUnitRange,Vararg{Any,N} where N} where A<:DenseArray where N where T, DenseArray} where N where T, ReshapedArray{T,N,A,MI} where MI<:Tuple{Vararg{SignedMultiplicativeInverse{Int64},N} where N} where A<:Union{ReinterpretArray{T,N,S,A} where S where A<:Union{SubArray{T,N,A,I,true} where I<:Tuple{AbstractUnitRange,Vararg{Any,N} where N} where A<:DenseArray where N where T, DenseArray} where N where T, SubArray{T,N,A,I,true} where I<:Tuple{AbstractUnitRange,Vararg{Any,N} where N} where A<:DenseArray where N where T, DenseArray} where N where T, DenseArray}} where T) where #s576</b>) in LinearAlgebra at <a href=\"file:///Users/julia/buildbot/worker/package_macos64/build/usr/share/julia/stdlib/v1.0/LinearAlgebra/src/qr.jl\" target=\"_blank\">/Users/julia/buildbot/worker/package_macos64/build/usr/share/julia/stdlib/v1.0/LinearAlgebra/src/qr.jl:624</a></li> <li> *(A::<b>Union{DenseArray{T,2}, ReinterpretArray{T,2,S,A} where S where A<:Union{SubArray{T,N,A,I,true} where I<:Tuple{AbstractUnitRange,Vararg{Any,N} where N} where A<:DenseArray where N where T, DenseArray}, ReshapedArray{T,2,A,MI} where MI<:Tuple{Vararg{SignedMultiplicativeInverse{Int64},N} where N} where A<:Union{ReinterpretArray{T,N,S,A} where S where A<:Union{SubArray{T,N,A,I,true} where I<:Tuple{AbstractUnitRange,Vararg{Any,N} where N} where A<:DenseArray where N where T, DenseArray} where N where T, SubArray{T,N,A,I,true} where I<:Tuple{AbstractUnitRange,Vararg{Any,N} where N} where A<:DenseArray where N where T, DenseArray}, SubArray{T,2,A,I,L} where L where I<:Tuple{Vararg{Union{Int64, AbstractRange{Int64}, AbstractCartesianIndex},N} where N} where A<:Union{ReinterpretArray{T,N,S,A} where S where A<:Union{SubArray{T,N,A,I,true} where I<:Tuple{AbstractUnitRange,Vararg{Any,N} where N} where A<:DenseArray where N where T, DenseArray} where N where T, ReshapedArray{T,N,A,MI} where MI<:Tuple{Vararg{SignedMultiplicativeInverse{Int64},N} where N} where A<:Union{ReinterpretArray{T,N,S,A} where S where A<:Union{SubArray{T,N,A,I,true} where I<:Tuple{AbstractUnitRange,Vararg{Any,N} where N} where A<:DenseArray where N where T, DenseArray} where N where T, SubArray{T,N,A,I,true} where I<:Tuple{AbstractUnitRange,Vararg{Any,N} where N} where A<:DenseArray where N where T, DenseArray} where N where T, DenseArray}} where T</b>, Q::<b>LinearAlgebra.AbstractQ</b>) in LinearAlgebra at <a href=\"file:///Users/julia/buildbot/worker/package_macos64/build/usr/share/julia/stdlib/v1.0/LinearAlgebra/src/qr.jl\" target=\"_blank\">/Users/julia/buildbot/worker/package_macos64/build/usr/share/julia/stdlib/v1.0/LinearAlgebra/src/qr.jl:669</a></li> <li> *(A::<b>Union{DenseArray{T,2}, ReinterpretArray{T,2,S,A} where S where A<:Union{SubArray{T,N,A,I,true} where I<:Tuple{AbstractUnitRange,Vararg{Any,N} where N} where A<:DenseArray where N where T, DenseArray}, ReshapedArray{T,2,A,MI} where MI<:Tuple{Vararg{SignedMultiplicativeInverse{Int64},N} where N} where A<:Union{ReinterpretArray{T,N,S,A} where S where A<:Union{SubArray{T,N,A,I,true} where I<:Tuple{AbstractUnitRange,Vararg{Any,N} where N} where A<:DenseArray where N where T, DenseArray} where N where T, SubArray{T,N,A,I,true} where I<:Tuple{AbstractUnitRange,Vararg{Any,N} where N} where A<:DenseArray where N where T, DenseArray}, SubArray{T,2,A,I,L} where L where I<:Tuple{Vararg{Union{Int64, AbstractRange{Int64}, AbstractCartesianIndex},N} where N} where A<:Union{ReinterpretArray{T,N,S,A} where S where A<:Union{SubArray{T,N,A,I,true} where I<:Tuple{AbstractUnitRange,Vararg{Any,N} where N} where A<:DenseArray where N where T, DenseArray} where N where T, ReshapedArray{T,N,A,MI} where MI<:Tuple{Vararg{SignedMultiplicativeInverse{Int64},N} where N} where A<:Union{ReinterpretArray{T,N,S,A} where S where A<:Union{SubArray{T,N,A,I,true} where I<:Tuple{AbstractUnitRange,Vararg{Any,N} where N} where A<:DenseArray where N where T, DenseArray} where N where T, SubArray{T,N,A,I,true} where I<:Tuple{AbstractUnitRange,Vararg{Any,N} where N} where A<:DenseArray where N where T, DenseArray} where N where T, DenseArray}} where T</b>, adjB::<b>LinearAlgebra.Adjoint{#s576,#s575} where #s575<:LinearAlgebra.AbstractQ where #s576</b>) in LinearAlgebra at <a href=\"file:///Users/julia/buildbot/worker/package_macos64/build/usr/share/julia/stdlib/v1.0/LinearAlgebra/src/qr.jl\" target=\"_blank\">/Users/julia/buildbot/worker/package_macos64/build/usr/share/julia/stdlib/v1.0/LinearAlgebra/src/qr.jl:709</a></li> <li> *(A::<b>LinearAlgebra.LQPackedQ</b>, B::<b>Union{DenseArray{T,1}, DenseArray{T,2}, ReinterpretArray{T,2,S,A} where S where A<:Union{SubArray{T,N,A,I,true} where I<:Tuple{AbstractUnitRange,Vararg{Any,N} where N} where A<:DenseArray where N where T, DenseArray}, ReinterpretArray{T,1,S,A} where S where A<:Union{SubArray{T,N,A,I,true} where I<:Tuple{AbstractUnitRange,Vararg{Any,N} where N} where A<:DenseArray where N where T, DenseArray}, ReshapedArray{T,1,A,MI} where MI<:Tuple{Vararg{SignedMultiplicativeInverse{Int64},N} where N} where A<:Union{ReinterpretArray{T,N,S,A} where S where A<:Union{SubArray{T,N,A,I,true} where I<:Tuple{AbstractUnitRange,Vararg{Any,N} where N} where A<:DenseArray where N where T, DenseArray} where N where T, SubArray{T,N,A,I,true} where I<:Tuple{AbstractUnitRange,Vararg{Any,N} where N} where A<:DenseArray where N where T, DenseArray}, ReshapedArray{T,2,A,MI} where MI<:Tuple{Vararg{SignedMultiplicativeInverse{Int64},N} where N} where A<:Union{ReinterpretArray{T,N,S,A} where S where A<:Union{SubArray{T,N,A,I,true} where I<:Tuple{AbstractUnitRange,Vararg{Any,N} where N} where A<:DenseArray where N where T, DenseArray} where N where T, SubArray{T,N,A,I,true} where I<:Tuple{AbstractUnitRange,Vararg{Any,N} where N} where A<:DenseArray where N where T, DenseArray}, SubArray{T,1,A,I,L} where L where I<:Tuple{Vararg{Union{Int64, AbstractRange{Int64}, AbstractCartesianIndex},N} where N} where A<:Union{ReinterpretArray{T,N,S,A} where S where A<:Union{SubArray{T,N,A,I,true} where I<:Tuple{AbstractUnitRange,Vararg{Any,N} where N} where A<:DenseArray where N where T, DenseArray} where N where T, ReshapedArray{T,N,A,MI} where MI<:Tuple{Vararg{SignedMultiplicativeInverse{Int64},N} where N} where A<:Union{ReinterpretArray{T,N,S,A} where S where A<:Union{SubArray{T,N,A,I,true} where I<:Tuple{AbstractUnitRange,Vararg{Any,N} where N} where A<:DenseArray where N where T, DenseArray} where N where T, SubArray{T,N,A,I,true} where I<:Tuple{AbstractUnitRange,Vararg{Any,N} where N} where A<:DenseArray where N where T, DenseArray} where N where T, DenseArray}, SubArray{T,2,A,I,L} where L where I<:Tuple{Vararg{Union{Int64, AbstractRange{Int64}, AbstractCartesianIndex},N} where N} where A<:Union{ReinterpretArray{T,N,S,A} where S where A<:Union{SubArray{T,N,A,I,true} where I<:Tuple{AbstractUnitRange,Vararg{Any,N} where N} where A<:DenseArray where N where T, DenseArray} where N where T, ReshapedArray{T,N,A,MI} where MI<:Tuple{Vararg{SignedMultiplicativeInverse{Int64},N} where N} where A<:Union{ReinterpretArray{T,N,S,A} where S where A<:Union{SubArray{T,N,A,I,true} where I<:Tuple{AbstractUnitRange,Vararg{Any,N} where N} where A<:DenseArray where N where T, DenseArray} where N where T, SubArray{T,N,A,I,true} where I<:Tuple{AbstractUnitRange,Vararg{Any,N} where N} where A<:DenseArray where N where T, DenseArray} where N where T, DenseArray}} where T</b>) in LinearAlgebra at <a href=\"file:///Users/julia/buildbot/worker/package_macos64/build/usr/share/julia/stdlib/v1.0/LinearAlgebra/src/lq.jl\" target=\"_blank\">/Users/julia/buildbot/worker/package_macos64/build/usr/share/julia/stdlib/v1.0/LinearAlgebra/src/lq.jl:152</a></li> <li> *(A::<b>LinearAlgebra.LQPackedQ</b>, adjB::<b>LinearAlgebra.Adjoint{#s576,#s575} where #s575<:(Union{DenseArray{T,1}, DenseArray{T,2}, ReinterpretArray{T,2,S,A} where S where A<:Union{SubArray{T,N,A,I,true} where I<:Tuple{AbstractUnitRange,Vararg{Any,N} where N} where A<:DenseArray where N where T, DenseArray}, ReinterpretArray{T,1,S,A} where S where A<:Union{SubArray{T,N,A,I,true} where I<:Tuple{AbstractUnitRange,Vararg{Any,N} where N} where A<:DenseArray where N where T, DenseArray}, ReshapedArray{T,1,A,MI} where MI<:Tuple{Vararg{SignedMultiplicativeInverse{Int64},N} where N} where A<:Union{ReinterpretArray{T,N,S,A} where S where A<:Union{SubArray{T,N,A,I,true} where I<:Tuple{AbstractUnitRange,Vararg{Any,N} where N} where A<:DenseArray where N where T, DenseArray} where N where T, SubArray{T,N,A,I,true} where I<:Tuple{AbstractUnitRange,Vararg{Any,N} where N} where A<:DenseArray where N where T, DenseArray}, ReshapedArray{T,2,A,MI} where MI<:Tuple{Vararg{SignedMultiplicativeInverse{Int64},N} where N} where A<:Union{ReinterpretArray{T,N,S,A} where S where A<:Union{SubArray{T,N,A,I,true} where I<:Tuple{AbstractUnitRange,Vararg{Any,N} where N} where A<:DenseArray where N where T, DenseArray} where N where T, SubArray{T,N,A,I,true} where I<:Tuple{AbstractUnitRange,Vararg{Any,N} where N} where A<:DenseArray where N where T, DenseArray}, SubArray{T,1,A,I,L} where L where I<:Tuple{Vararg{Union{Int64, AbstractRange{Int64}, AbstractCartesianIndex},N} where N} where A<:Union{ReinterpretArray{T,N,S,A} where S where A<:Union{SubArray{T,N,A,I,true} where I<:Tuple{AbstractUnitRange,Vararg{Any,N} where N} where A<:DenseArray where N where T, DenseArray} where N where T, ReshapedArray{T,N,A,MI} where MI<:Tuple{Vararg{SignedMultiplicativeInverse{Int64},N} where N} where A<:Union{ReinterpretArray{T,N,S,A} where S where A<:Union{SubArray{T,N,A,I,true} where I<:Tuple{AbstractUnitRange,Vararg{Any,N} where N} where A<:DenseArray where N where T, DenseArray} where N where T, SubArray{T,N,A,I,true} where I<:Tuple{AbstractUnitRange,Vararg{Any,N} where N} where A<:DenseArray where N where T, DenseArray} where N where T, DenseArray}, SubArray{T,2,A,I,L} where L where I<:Tuple{Vararg{Union{Int64, AbstractRange{Int64}, AbstractCartesianIndex},N} where N} where A<:Union{ReinterpretArray{T,N,S,A} where S where A<:Union{SubArray{T,N,A,I,true} where I<:Tuple{AbstractUnitRange,Vararg{Any,N} where N} where A<:DenseArray where N where T, DenseArray} where N where T, ReshapedArray{T,N,A,MI} where MI<:Tuple{Vararg{SignedMultiplicativeInverse{Int64},N} where N} where A<:Union{ReinterpretArray{T,N,S,A} where S where A<:Union{SubArray{T,N,A,I,true} where I<:Tuple{AbstractUnitRange,Vararg{Any,N} where N} where A<:DenseArray where N where T, DenseArray} where N where T, SubArray{T,N,A,I,true} where I<:Tuple{AbstractUnitRange,Vararg{Any,N} where N} where A<:DenseArray where N where T, DenseArray} where N where T, DenseArray}} where T) where #s576</b>) in LinearAlgebra at <a href=\"file:///Users/julia/buildbot/worker/package_macos64/build/usr/share/julia/stdlib/v1.0/LinearAlgebra/src/lq.jl\" target=\"_blank\">/Users/julia/buildbot/worker/package_macos64/build/usr/share/julia/stdlib/v1.0/LinearAlgebra/src/lq.jl:176</a></li> <li> *(A::<b>Union{DenseArray{T,1}, DenseArray{T,2}, ReinterpretArray{T,2,S,A} where S where A<:Union{SubArray{T,N,A,I,true} where I<:Tuple{AbstractUnitRange,Vararg{Any,N} where N} where A<:DenseArray where N where T, DenseArray}, ReinterpretArray{T,1,S,A} where S where A<:Union{SubArray{T,N,A,I,true} where I<:Tuple{AbstractUnitRange,Vararg{Any,N} where N} where A<:DenseArray where N where T, DenseArray}, ReshapedArray{T,1,A,MI} where MI<:Tuple{Vararg{SignedMultiplicativeInverse{Int64},N} where N} where A<:Union{ReinterpretArray{T,N,S,A} where S where A<:Union{SubArray{T,N,A,I,true} where I<:Tuple{AbstractUnitRange,Vararg{Any,N} where N} where A<:DenseArray where N where T, DenseArray} where N where T, SubArray{T,N,A,I,true} where I<:Tuple{AbstractUnitRange,Vararg{Any,N} where N} where A<:DenseArray where N where T, DenseArray}, ReshapedArray{T,2,A,MI} where MI<:Tuple{Vararg{SignedMultiplicativeInverse{Int64},N} where N} where A<:Union{ReinterpretArray{T,N,S,A} where S where A<:Union{SubArray{T,N,A,I,true} where I<:Tuple{AbstractUnitRange,Vararg{Any,N} where N} where A<:DenseArray where N where T, DenseArray} where N where T, SubArray{T,N,A,I,true} where I<:Tuple{AbstractUnitRange,Vararg{Any,N} where N} where A<:DenseArray where N where T, DenseArray}, SubArray{T,1,A,I,L} where L where I<:Tuple{Vararg{Union{Int64, AbstractRange{Int64}, AbstractCartesianIndex},N} where N} where A<:Union{ReinterpretArray{T,N,S,A} where S where A<:Union{SubArray{T,N,A,I,true} where I<:Tuple{AbstractUnitRange,Vararg{Any,N} where N} where A<:DenseArray where N where T, DenseArray} where N where T, ReshapedArray{T,N,A,MI} where MI<:Tuple{Vararg{SignedMultiplicativeInverse{Int64},N} where N} where A<:Union{ReinterpretArray{T,N,S,A} where S where A<:Union{SubArray{T,N,A,I,true} where I<:Tuple{AbstractUnitRange,Vararg{Any,N} where N} where A<:DenseArray where N where T, DenseArray} where N where T, SubArray{T,N,A,I,true} where I<:Tuple{AbstractUnitRange,Vararg{Any,N} where N} where A<:DenseArray where N where T, DenseArray} where N where T, DenseArray}, SubArray{T,2,A,I,L} where L where I<:Tuple{Vararg{Union{Int64, AbstractRange{Int64}, AbstractCartesianIndex},N} where N} where A<:Union{ReinterpretArray{T,N,S,A} where S where A<:Union{SubArray{T,N,A,I,true} where I<:Tuple{AbstractUnitRange,Vararg{Any,N} where N} where A<:DenseArray where N where T, DenseArray} where N where T, ReshapedArray{T,N,A,MI} where MI<:Tuple{Vararg{SignedMultiplicativeInverse{Int64},N} where N} where A<:Union{ReinterpretArray{T,N,S,A} where S where A<:Union{SubArray{T,N,A,I,true} where I<:Tuple{AbstractUnitRange,Vararg{Any,N} where N} where A<:DenseArray where N where T, DenseArray} where N where T, SubArray{T,N,A,I,true} where I<:Tuple{AbstractUnitRange,Vararg{Any,N} where N} where A<:DenseArray where N where T, DenseArray} where N where T, DenseArray}} where T</b>, adjQ::<b>LinearAlgebra.Adjoint{#s576,#s575} where #s575<:LinearAlgebra.LQPackedQ where #s576</b>) in LinearAlgebra at <a href=\"file:///Users/julia/buildbot/worker/package_macos64/build/usr/share/julia/stdlib/v1.0/LinearAlgebra/src/lq.jl\" target=\"_blank\">/Users/julia/buildbot/worker/package_macos64/build/usr/share/julia/stdlib/v1.0/LinearAlgebra/src/lq.jl:215</a></li> <li> *(A::<b>Union{DenseArray{T,1}, DenseArray{T,2}, ReinterpretArray{T,2,S,A} where S where A<:Union{SubArray{T,N,A,I,true} where I<:Tuple{AbstractUnitRange,Vararg{Any,N} where N} where A<:DenseArray where N where T, DenseArray}, ReinterpretArray{T,1,S,A} where S where A<:Union{SubArray{T,N,A,I,true} where I<:Tuple{AbstractUnitRange,Vararg{Any,N} where N} where A<:DenseArray where N where T, DenseArray}, ReshapedArray{T,1,A,MI} where MI<:Tuple{Vararg{SignedMultiplicativeInverse{Int64},N} where N} where A<:Union{ReinterpretArray{T,N,S,A} where S where A<:Union{SubArray{T,N,A,I,true} where I<:Tuple{AbstractUnitRange,Vararg{Any,N} where N} where A<:DenseArray where N where T, DenseArray} where N where T, SubArray{T,N,A,I,true} where I<:Tuple{AbstractUnitRange,Vararg{Any,N} where N} where A<:DenseArray where N where T, DenseArray}, ReshapedArray{T,2,A,MI} where MI<:Tuple{Vararg{SignedMultiplicativeInverse{Int64},N} where N} where A<:Union{ReinterpretArray{T,N,S,A} where S where A<:Union{SubArray{T,N,A,I,true} where I<:Tuple{AbstractUnitRange,Vararg{Any,N} where N} where A<:DenseArray where N where T, DenseArray} where N where T, SubArray{T,N,A,I,true} where I<:Tuple{AbstractUnitRange,Vararg{Any,N} where N} where A<:DenseArray where N where T, DenseArray}, SubArray{T,1,A,I,L} where L where I<:Tuple{Vararg{Union{Int64, AbstractRange{Int64}, AbstractCartesianIndex},N} where N} where A<:Union{ReinterpretArray{T,N,S,A} where S where A<:Union{SubArray{T,N,A,I,true} where I<:Tuple{AbstractUnitRange,Vararg{Any,N} where N} where A<:DenseArray where N where T, DenseArray} where N where T, ReshapedArray{T,N,A,MI} where MI<:Tuple{Vararg{SignedMultiplicativeInverse{Int64},N} where N} where A<:Union{ReinterpretArray{T,N,S,A} where S where A<:Union{SubArray{T,N,A,I,true} where I<:Tuple{AbstractUnitRange,Vararg{Any,N} where N} where A<:DenseArray where N where T, DenseArray} where N where T, SubArray{T,N,A,I,true} where I<:Tuple{AbstractUnitRange,Vararg{Any,N} where N} where A<:DenseArray where N where T, DenseArray} where N where T, DenseArray}, SubArray{T,2,A,I,L} where L where I<:Tuple{Vararg{Union{Int64, AbstractRange{Int64}, AbstractCartesianIndex},N} where N} where A<:Union{ReinterpretArray{T,N,S,A} where S where A<:Union{SubArray{T,N,A,I,true} where I<:Tuple{AbstractUnitRange,Vararg{Any,N} where N} where A<:DenseArray where N where T, DenseArray} where N where T, ReshapedArray{T,N,A,MI} where MI<:Tuple{Vararg{SignedMultiplicativeInverse{Int64},N} where N} where A<:Union{ReinterpretArray{T,N,S,A} where S where A<:Union{SubArray{T,N,A,I,true} where I<:Tuple{AbstractUnitRange,Vararg{Any,N} where N} where A<:DenseArray where N where T, DenseArray} where N where T, SubArray{T,N,A,I,true} where I<:Tuple{AbstractUnitRange,Vararg{Any,N} where N} where A<:DenseArray where N where T, DenseArray} where N where T, DenseArray}} where T</b>, Q::<b>LinearAlgebra.LQPackedQ</b>) in LinearAlgebra at <a href=\"file:///Users/julia/buildbot/worker/package_macos64/build/usr/share/julia/stdlib/v1.0/LinearAlgebra/src/lq.jl\" target=\"_blank\">/Users/julia/buildbot/worker/package_macos64/build/usr/share/julia/stdlib/v1.0/LinearAlgebra/src/lq.jl:239</a></li> <li> *(A::<b>Union{Hermitian{T,S}, Symmetric{T,S}} where S where T</b>, B::<b>Union{Hermitian{T,S}, Symmetric{T,S}} where S where T</b>) in LinearAlgebra at <a href=\"file:///Users/julia/buildbot/worker/package_macos64/build/usr/share/julia/stdlib/v1.0/LinearAlgebra/src/symmetric.jl\" target=\"_blank\">/Users/julia/buildbot/worker/package_macos64/build/usr/share/julia/stdlib/v1.0/LinearAlgebra/src/symmetric.jl:417</a></li> <li> *(A::<b>LinearAlgebra.Symmetric</b>, x::<b>Bool</b>) in LinearAlgebra at <a href=\"file:///Users/julia/buildbot/worker/package_macos64/build/usr/share/julia/stdlib/v1.0/LinearAlgebra/src/symmetric.jl\" target=\"_blank\">/Users/julia/buildbot/worker/package_macos64/build/usr/share/julia/stdlib/v1.0/LinearAlgebra/src/symmetric.jl:445</a></li> <li> *(A::<b>LinearAlgebra.Symmetric</b>, x::<b>Number</b>) in LinearAlgebra at <a href=\"file:///Users/julia/buildbot/worker/package_macos64/build/usr/share/julia/stdlib/v1.0/LinearAlgebra/src/symmetric.jl\" target=\"_blank\">/Users/julia/buildbot/worker/package_macos64/build/usr/share/julia/stdlib/v1.0/LinearAlgebra/src/symmetric.jl:447</a></li> <li> *(A::<b>LinearAlgebra.Hermitian</b>, x::<b>Bool</b>) in LinearAlgebra at <a href=\"file:///Users/julia/buildbot/worker/package_macos64/build/usr/share/julia/stdlib/v1.0/LinearAlgebra/src/symmetric.jl\" target=\"_blank\">/Users/julia/buildbot/worker/package_macos64/build/usr/share/julia/stdlib/v1.0/LinearAlgebra/src/symmetric.jl:445</a></li> <li> *(A::<b>LinearAlgebra.Hermitian</b>, x::<b>Real</b>) in LinearAlgebra at <a href=\"file:///Users/julia/buildbot/worker/package_macos64/build/usr/share/julia/stdlib/v1.0/LinearAlgebra/src/symmetric.jl\" target=\"_blank\">/Users/julia/buildbot/worker/package_macos64/build/usr/share/julia/stdlib/v1.0/LinearAlgebra/src/symmetric.jl:447</a></li> <li> *(A::<b>LinearAlgebra.Adjoint{#s576,#s575} where #s575<:(AbstractArray{T,2} where T) where #s576</b>, B::<b>LinearAlgebra.Adjoint{#s574,#s573} where #s573<:(Union{Hermitian{T,S}, Hermitian{Complex{T},S}, Symmetric{T,S}} where S where T<:Real) where #s574</b>) in LinearAlgebra at <a href=\"file:///Users/julia/buildbot/worker/package_macos64/build/usr/share/julia/stdlib/v1.0/LinearAlgebra/src/symmetric.jl\" target=\"_blank\">/Users/julia/buildbot/worker/package_macos64/build/usr/share/julia/stdlib/v1.0/LinearAlgebra/src/symmetric.jl:840</a></li> <li> *(A::<b>LinearAlgebra.Adjoint{#s576,#s575} where #s575<:(AbstractArray{T,2} where T) where #s576</b>, B::<b>LinearAlgebra.Transpose{#s574,#s573} where #s573<:(Union{Hermitian{T,S}, Symmetric{T,S}, Symmetric{Complex{T},S}} where S where T<:Real) where #s574</b>) in LinearAlgebra at <a href=\"file:///Users/julia/buildbot/worker/package_macos64/build/usr/share/julia/stdlib/v1.0/LinearAlgebra/src/symmetric.jl\" target=\"_blank\">/Users/julia/buildbot/worker/package_macos64/build/usr/share/julia/stdlib/v1.0/LinearAlgebra/src/symmetric.jl:842</a></li> <li> *(A::<b>LinearAlgebra.Transpose{#s576,#s575} where #s575<:(AbstractArray{T,2} where T) where #s576</b>, B::<b>LinearAlgebra.Adjoint{#s574,#s573} where #s573<:(Union{Hermitian{T,S}, Hermitian{Complex{T},S}, Symmetric{T,S}} where S where T<:Real) where #s574</b>) in LinearAlgebra at <a href=\"file:///Users/julia/buildbot/worker/package_macos64/build/usr/share/julia/stdlib/v1.0/LinearAlgebra/src/symmetric.jl\" target=\"_blank\">/Users/julia/buildbot/worker/package_macos64/build/usr/share/julia/stdlib/v1.0/LinearAlgebra/src/symmetric.jl:844</a></li> <li> *(A::<b>LinearAlgebra.Transpose{#s576,#s575} where #s575<:(AbstractArray{T,2} where T) where #s576</b>, B::<b>LinearAlgebra.Transpose{#s574,#s573} where #s573<:(Union{Hermitian{T,S}, Symmetric{T,S}, Symmetric{Complex{T},S}} where S where T<:Real) where #s574</b>) in LinearAlgebra at <a href=\"file:///Users/julia/buildbot/worker/package_macos64/build/usr/share/julia/stdlib/v1.0/LinearAlgebra/src/symmetric.jl\" target=\"_blank\">/Users/julia/buildbot/worker/package_macos64/build/usr/share/julia/stdlib/v1.0/LinearAlgebra/src/symmetric.jl:846</a></li> <li> *(D::<b>LinearAlgebra.Diagonal</b>, x::<b>Number</b>) in LinearAlgebra at <a href=\"file:///Users/julia/buildbot/worker/package_macos64/build/usr/share/julia/stdlib/v1.0/LinearAlgebra/src/diagonal.jl\" target=\"_blank\">/Users/julia/buildbot/worker/package_macos64/build/usr/share/julia/stdlib/v1.0/LinearAlgebra/src/diagonal.jl:156</a></li> <li> *(Da::<b>LinearAlgebra.Diagonal</b>, Db::<b>LinearAlgebra.Diagonal</b>) in LinearAlgebra at <a href=\"file:///Users/julia/buildbot/worker/package_macos64/build/usr/share/julia/stdlib/v1.0/LinearAlgebra/src/diagonal.jl\" target=\"_blank\">/Users/julia/buildbot/worker/package_macos64/build/usr/share/julia/stdlib/v1.0/LinearAlgebra/src/diagonal.jl:158</a></li> <li> *(D::<b>LinearAlgebra.Diagonal</b>, B::<b>LinearAlgebra.AbstractTriangular</b>) in LinearAlgebra at <a href=\"file:///Users/julia/buildbot/worker/package_macos64/build/usr/share/julia/stdlib/v1.0/LinearAlgebra/src/diagonal.jl\" target=\"_blank\">/Users/julia/buildbot/worker/package_macos64/build/usr/share/julia/stdlib/v1.0/LinearAlgebra/src/diagonal.jl:162</a></li> <li> *(D::<b>LinearAlgebra.Diagonal</b>, B::<b>LinearAlgebra.Adjoint{#s576,#s575} where #s575<:LinearAlgebra.Diagonal where #s576</b>) in LinearAlgebra at <a href=\"file:///Users/julia/buildbot/worker/package_macos64/build/usr/share/julia/stdlib/v1.0/LinearAlgebra/src/diagonal.jl\" target=\"_blank\">/Users/julia/buildbot/worker/package_macos64/build/usr/share/julia/stdlib/v1.0/LinearAlgebra/src/diagonal.jl:230</a></li> <li> *(D::<b>LinearAlgebra.Diagonal</b>, B::<b>LinearAlgebra.Adjoint{#s576,#s575} where #s575<:LinearAlgebra.AbstractTriangular where #s576</b>) in LinearAlgebra at <a href=\"file:///Users/julia/buildbot/worker/package_macos64/build/usr/share/julia/stdlib/v1.0/LinearAlgebra/src/diagonal.jl\" target=\"_blank\">/Users/julia/buildbot/worker/package_macos64/build/usr/share/julia/stdlib/v1.0/LinearAlgebra/src/diagonal.jl:231</a></li> <li> *(D::<b>LinearAlgebra.Diagonal</b>, adjQ::<b>LinearAlgebra.Adjoint{#s576,#s575} where #s575<:Union{QRCompactWYQ, QRPackedQ} where #s576</b>) in LinearAlgebra at <a href=\"file:///Users/julia/buildbot/worker/package_macos64/build/usr/share/julia/stdlib/v1.0/LinearAlgebra/src/diagonal.jl\" target=\"_blank\">/Users/julia/buildbot/worker/package_macos64/build/usr/share/julia/stdlib/v1.0/LinearAlgebra/src/diagonal.jl:232</a></li> <li> *(A::<b>LinearAlgebra.Diagonal</b>, adjB::<b>LinearAlgebra.Adjoint{#s576,#s575} where #s575<:(Union{Hermitian{T,S}, Hermitian{Complex{T},S}, Symmetric{T,S}} where S where T<:Real) where #s576</b>) in LinearAlgebra at <a href=\"file:///Users/julia/buildbot/worker/package_macos64/build/usr/share/julia/stdlib/v1.0/LinearAlgebra/src/diagonal.jl\" target=\"_blank\">/Users/julia/buildbot/worker/package_macos64/build/usr/share/julia/stdlib/v1.0/LinearAlgebra/src/diagonal.jl:288</a></li> <li> *(D::<b>LinearAlgebra.Diagonal</b>, adjA::<b>LinearAlgebra.Adjoint{#s576,#s575} where #s575<:(AbstractArray{T,2} where T) where #s576</b>) in LinearAlgebra at <a href=\"file:///Users/julia/buildbot/worker/package_macos64/build/usr/share/julia/stdlib/v1.0/LinearAlgebra/src/diagonal.jl\" target=\"_blank\">/Users/julia/buildbot/worker/package_macos64/build/usr/share/julia/stdlib/v1.0/LinearAlgebra/src/diagonal.jl:234</a></li> <li> *(D::<b>LinearAlgebra.Diagonal</b>, B::<b>LinearAlgebra.Transpose{#s576,#s575} where #s575<:LinearAlgebra.Diagonal where #s576</b>) in LinearAlgebra at <a href=\"file:///Users/julia/buildbot/worker/package_macos64/build/usr/share/julia/stdlib/v1.0/LinearAlgebra/src/diagonal.jl\" target=\"_blank\">/Users/julia/buildbot/worker/package_macos64/build/usr/share/julia/stdlib/v1.0/LinearAlgebra/src/diagonal.jl:240</a></li> <li> *(D::<b>LinearAlgebra.Diagonal</b>, B::<b>LinearAlgebra.Transpose{#s576,#s575} where #s575<:LinearAlgebra.AbstractTriangular where #s576</b>) in LinearAlgebra at <a href=\"file:///Users/julia/buildbot/worker/package_macos64/build/usr/share/julia/stdlib/v1.0/LinearAlgebra/src/diagonal.jl\" target=\"_blank\">/Users/julia/buildbot/worker/package_macos64/build/usr/share/julia/stdlib/v1.0/LinearAlgebra/src/diagonal.jl:241</a></li> <li> *(A::<b>LinearAlgebra.Diagonal</b>, transB::<b>LinearAlgebra.Transpose{#s576,#s575} where #s575<:(Union{Hermitian{T,S}, Symmetric{T,S}, Symmetric{Complex{T},S}} where S where T<:Real) where #s576</b>) in LinearAlgebra at <a href=\"file:///Users/julia/buildbot/worker/package_macos64/build/usr/share/julia/stdlib/v1.0/LinearAlgebra/src/diagonal.jl\" target=\"_blank\">/Users/julia/buildbot/worker/package_macos64/build/usr/share/julia/stdlib/v1.0/LinearAlgebra/src/diagonal.jl:286</a></li> <li> *(D::<b>LinearAlgebra.Diagonal</b>, transA::<b>LinearAlgebra.Transpose{#s576,#s575} where #s575<:(AbstractArray{T,2} where T) where #s576</b>) in LinearAlgebra at <a href=\"file:///Users/julia/buildbot/worker/package_macos64/build/usr/share/julia/stdlib/v1.0/LinearAlgebra/src/diagonal.jl\" target=\"_blank\">/Users/julia/buildbot/worker/package_macos64/build/usr/share/julia/stdlib/v1.0/LinearAlgebra/src/diagonal.jl:243</a></li> <li> *(A::<b>LinearAlgebra.Diagonal</b>, B::<b>LinearAlgebra.Adjoint{#s576,#s575} where #s575<:LinearAlgebra.AbstractRotation where #s576</b>) in LinearAlgebra at <a href=\"file:///Users/julia/buildbot/worker/package_macos64/build/usr/share/julia/stdlib/v1.0/LinearAlgebra/src/givens.jl\" target=\"_blank\">/Users/julia/buildbot/worker/package_macos64/build/usr/share/julia/stdlib/v1.0/LinearAlgebra/src/givens.jl:397</a></li> <li> *(D::<b>LinearAlgebra.Diagonal</b>, A::<b>SparseArrays.SparseMatrixCSC</b>) in SparseArrays at <a href=\"file:///Users/julia/buildbot/worker/package_macos64/build/usr/share/julia/stdlib/v1.0/SparseArrays/src/linalg.jl\" target=\"_blank\">/Users/julia/buildbot/worker/package_macos64/build/usr/share/julia/stdlib/v1.0/SparseArrays/src/linalg.jl:130</a></li> <li> *(D::<b>LinearAlgebra.Diagonal</b>, V::<b>AbstractArray{T,1} where T</b>) in LinearAlgebra at <a href=\"file:///Users/julia/buildbot/worker/package_macos64/build/usr/share/julia/stdlib/v1.0/LinearAlgebra/src/diagonal.jl\" target=\"_blank\">/Users/julia/buildbot/worker/package_macos64/build/usr/share/julia/stdlib/v1.0/LinearAlgebra/src/diagonal.jl:159</a></li> <li> *(D::<b>LinearAlgebra.Diagonal</b>, A::<b>AbstractArray{T,2} where T</b>) in LinearAlgebra at <a href=\"file:///Users/julia/buildbot/worker/package_macos64/build/usr/share/julia/stdlib/v1.0/LinearAlgebra/src/diagonal.jl\" target=\"_blank\">/Users/julia/buildbot/worker/package_macos64/build/usr/share/julia/stdlib/v1.0/LinearAlgebra/src/diagonal.jl:166</a></li> <li> *(adjA::<b>LinearAlgebra.Adjoint{#s576,#s575} where #s575<:(AbstractArray{T,2} where T) where #s576</b>, D::<b>LinearAlgebra.Diagonal</b>) in LinearAlgebra at <a href=\"file:///Users/julia/buildbot/worker/package_macos64/build/usr/share/julia/stdlib/v1.0/LinearAlgebra/src/diagonal.jl\" target=\"_blank\">/Users/julia/buildbot/worker/package_macos64/build/usr/share/julia/stdlib/v1.0/LinearAlgebra/src/diagonal.jl:215</a></li> <li> *(transA::<b>LinearAlgebra.Transpose{#s576,#s575} where #s575<:(AbstractArray{T,2} where T) where #s576</b>, D::<b>LinearAlgebra.Diagonal</b>) in LinearAlgebra at <a href=\"file:///Users/julia/buildbot/worker/package_macos64/build/usr/share/julia/stdlib/v1.0/LinearAlgebra/src/diagonal.jl\" target=\"_blank\">/Users/julia/buildbot/worker/package_macos64/build/usr/share/julia/stdlib/v1.0/LinearAlgebra/src/diagonal.jl:224</a></li> <li> *(A::<b>LinearAlgebra.Bidiagonal</b>, B::<b>Number</b>) in LinearAlgebra at <a href=\"file:///Users/julia/buildbot/worker/package_macos64/build/usr/share/julia/stdlib/v1.0/LinearAlgebra/src/bidiag.jl\" target=\"_blank\">/Users/julia/buildbot/worker/package_macos64/build/usr/share/julia/stdlib/v1.0/LinearAlgebra/src/bidiag.jl:320</a></li> <li> *(A::<b>Union{Bidiagonal, SymTridiagonal, Tridiagonal}</b>, B::<b>Union{Bidiagonal, SymTridiagonal, Tridiagonal}</b>) in LinearAlgebra at <a href=\"file:///Users/julia/buildbot/worker/package_macos64/build/usr/share/julia/stdlib/v1.0/LinearAlgebra/src/bidiag.jl\" target=\"_blank\">/Users/julia/buildbot/worker/package_macos64/build/usr/share/julia/stdlib/v1.0/LinearAlgebra/src/bidiag.jl:492</a></li> <li> *<i>{T}</i>(A::<b>LinearAlgebra.Bidiagonal{T,V} where V<:AbstractArray{T,1}</b>, adjB::<b>LinearAlgebra.Adjoint{#s576,#s575} where #s575<:AbstractArray{T,1} where #s576</b>) in LinearAlgebra at <a href=\"file:///Users/julia/buildbot/worker/package_macos64/build/usr/share/julia/stdlib/v1.0/LinearAlgebra/src/bidiag.jl\" target=\"_blank\">/Users/julia/buildbot/worker/package_macos64/build/usr/share/julia/stdlib/v1.0/LinearAlgebra/src/bidiag.jl:497</a></li> <li> *<i>{T}</i>(A::<b>LinearAlgebra.Bidiagonal{T,V} where V<:AbstractArray{T,1}</b>, B::<b>AbstractArray{T,1}</b>) in LinearAlgebra at <a href=\"file:///Users/julia/buildbot/worker/package_macos64/build/usr/share/julia/stdlib/v1.0/LinearAlgebra/src/bidiag.jl\" target=\"_blank\">/Users/julia/buildbot/worker/package_macos64/build/usr/share/julia/stdlib/v1.0/LinearAlgebra/src/bidiag.jl:495</a></li> <li> *(A::<b>LinearAlgebra.Adjoint{#s576,#s575} where #s575<:(AbstractArray{T,2} where T) where #s576</b>, B::<b>LinearAlgebra.Adjoint{#s574,#s573} where #s573<:LinearAlgebra.AbstractRotation where #s574</b>) in LinearAlgebra at <a href=\"file:///Users/julia/buildbot/worker/package_macos64/build/usr/share/julia/stdlib/v1.0/LinearAlgebra/src/givens.jl\" target=\"_blank\">/Users/julia/buildbot/worker/package_macos64/build/usr/share/julia/stdlib/v1.0/LinearAlgebra/src/givens.jl:388</a></li> <li> *(A::<b>LinearAlgebra.Transpose{#s576,#s575} where #s575<:(AbstractArray{T,2} where T) where #s576</b>, B::<b>LinearAlgebra.Adjoint{#s574,#s573} where #s573<:LinearAlgebra.AbstractRotation where #s574</b>) in LinearAlgebra at <a href=\"file:///Users/julia/buildbot/worker/package_macos64/build/usr/share/julia/stdlib/v1.0/LinearAlgebra/src/givens.jl\" target=\"_blank\">/Users/julia/buildbot/worker/package_macos64/build/usr/share/julia/stdlib/v1.0/LinearAlgebra/src/givens.jl:390</a></li> <li> *(x::<b>Union{SubArray{T,1,#s576,Tuple{Slice{OneTo{Int64}},Int64},false} where #s576<:SparseMatrixCSC, SparseVector{T,Ti} where Ti<:Integer} where T</b>, a::<b>Number</b>) in SparseArrays at <a href=\"file:///Users/julia/buildbot/worker/package_macos64/build/usr/share/julia/stdlib/v1.0/SparseArrays/src/sparsevector.jl\" target=\"_blank\">/Users/julia/buildbot/worker/package_macos64/build/usr/share/julia/stdlib/v1.0/SparseArrays/src/sparsevector.jl:1393</a></li> <li> *<i>{TX, TvA, TiA}</i>(X::<b>Union{DenseArray{TX,2}, ReinterpretArray{TX,2,S,A} where S where A<:Union{SubArray{T,N,A,I,true} where I<:Tuple{AbstractUnitRange,Vararg{Any,N} where N} where A<:DenseArray where N where T, DenseArray}, ReshapedArray{TX,2,A,MI} where MI<:Tuple{Vararg{SignedMultiplicativeInverse{Int64},N} where N} where A<:Union{ReinterpretArray{T,N,S,A} where S where A<:Union{SubArray{T,N,A,I,true} where I<:Tuple{AbstractUnitRange,Vararg{Any,N} where N} where A<:DenseArray where N where T, DenseArray} where N where T, SubArray{T,N,A,I,true} where I<:Tuple{AbstractUnitRange,Vararg{Any,N} where N} where A<:DenseArray where N where T, DenseArray}, SubArray{TX,2,A,I,L} where L where I<:Tuple{Vararg{Union{Int64, AbstractRange{Int64}, AbstractCartesianIndex},N} where N} where A<:Union{ReinterpretArray{T,N,S,A} where S where A<:Union{SubArray{T,N,A,I,true} where I<:Tuple{AbstractUnitRange,Vararg{Any,N} where N} where A<:DenseArray where N where T, DenseArray} where N where T, ReshapedArray{T,N,A,MI} where MI<:Tuple{Vararg{SignedMultiplicativeInverse{Int64},N} where N} where A<:Union{ReinterpretArray{T,N,S,A} where S where A<:Union{SubArray{T,N,A,I,true} where I<:Tuple{AbstractUnitRange,Vararg{Any,N} where N} where A<:DenseArray where N where T, DenseArray} where N where T, SubArray{T,N,A,I,true} where I<:Tuple{AbstractUnitRange,Vararg{Any,N} where N} where A<:DenseArray where N where T, DenseArray} where N where T, DenseArray}}</b>, A::<b>SparseArrays.SparseMatrixCSC{TvA,TiA}</b>) in SparseArrays at <a href=\"file:///Users/julia/buildbot/worker/package_macos64/build/usr/share/julia/stdlib/v1.0/SparseArrays/src/linalg.jl\" target=\"_blank\">/Users/julia/buildbot/worker/package_macos64/build/usr/share/julia/stdlib/v1.0/SparseArrays/src/linalg.jl:118</a></li> <li> *<i>{Ta, Tx}</i>(A::<b>Union{DenseArray{Ta,2}, ReinterpretArray{Ta,2,S,A} where S where A<:Union{SubArray{T,N,A,I,true} where I<:Tuple{AbstractUnitRange,Vararg{Any,N} where N} where A<:DenseArray where N where T, DenseArray}, ReshapedArray{Ta,2,A,MI} where MI<:Tuple{Vararg{SignedMultiplicativeInverse{Int64},N} where N} where A<:Union{ReinterpretArray{T,N,S,A} where S where A<:Union{SubArray{T,N,A,I,true} where I<:Tuple{AbstractUnitRange,Vararg{Any,N} where N} where A<:DenseArray where N where T, DenseArray} where N where T, SubArray{T,N,A,I,true} where I<:Tuple{AbstractUnitRange,Vararg{Any,N} where N} where A<:DenseArray where N where T, DenseArray}, SubArray{Ta,2,A,I,L} where L where I<:Tuple{Vararg{Union{Int64, AbstractRange{Int64}, AbstractCartesianIndex},N} where N} where A<:Union{ReinterpretArray{T,N,S,A} where S where A<:Union{SubArray{T,N,A,I,true} where I<:Tuple{AbstractUnitRange,Vararg{Any,N} where N} where A<:DenseArray where N where T, DenseArray} where N where T, ReshapedArray{T,N,A,MI} where MI<:Tuple{Vararg{SignedMultiplicativeInverse{Int64},N} where N} where A<:Union{ReinterpretArray{T,N,S,A} where S where A<:Union{SubArray{T,N,A,I,true} where I<:Tuple{AbstractUnitRange,Vararg{Any,N} where N} where A<:DenseArray where N where T, DenseArray} where N where T, SubArray{T,N,A,I,true} where I<:Tuple{AbstractUnitRange,Vararg{Any,N} where N} where A<:DenseArray where N where T, DenseArray} where N where T, DenseArray}}</b>, x::<b>SparseArrays.AbstractSparseArray{Tx,Ti,1} where Ti</b>) in SparseArrays at <a href=\"file:///Users/julia/buildbot/worker/package_macos64/build/usr/share/julia/stdlib/v1.0/SparseArrays/src/sparsevector.jl\" target=\"_blank\">/Users/julia/buildbot/worker/package_macos64/build/usr/share/julia/stdlib/v1.0/SparseArrays/src/sparsevector.jl:1480</a></li> <li> *(A::<b>SparseArrays.SparseMatrixCSC</b>, x::<b>SparseArrays.AbstractSparseArray{Tv,Ti,1} where Ti where Tv</b>) in SparseArrays at <a href=\"file:///Users/julia/buildbot/worker/package_macos64/build/usr/share/julia/stdlib/v1.0/SparseArrays/src/sparsevector.jl\" target=\"_blank\">/Users/julia/buildbot/worker/package_macos64/build/usr/share/julia/stdlib/v1.0/SparseArrays/src/sparsevector.jl:1667</a></li> <li> *<i>{Tv, Ti}</i>(A::<b>SparseArrays.SparseMatrixCSC{Tv,Ti}</b>, B::<b>SparseArrays.SparseMatrixCSC{Tv,Ti}</b>) in SparseArrays at <a href=\"file:///Users/julia/buildbot/worker/package_macos64/build/usr/share/julia/stdlib/v1.0/SparseArrays/src/linalg.jl\" target=\"_blank\">/Users/julia/buildbot/worker/package_macos64/build/usr/share/julia/stdlib/v1.0/SparseArrays/src/linalg.jl:141</a></li> <li> *<i>{TvA, TiA, TvB, TiB}</i>(A::<b>SparseArrays.SparseMatrixCSC{TvA,TiA}</b>, B::<b>SparseArrays.SparseMatrixCSC{TvB,TiB}</b>) in SparseArrays at <a href=\"file:///Users/julia/buildbot/worker/package_macos64/build/usr/share/julia/stdlib/v1.0/SparseArrays/src/linalg.jl\" target=\"_blank\">/Users/julia/buildbot/worker/package_macos64/build/usr/share/julia/stdlib/v1.0/SparseArrays/src/linalg.jl:7</a></li> <li> *<i>{Tv, Ti}</i>(A::<b>SparseArrays.SparseMatrixCSC{Tv,Ti}</b>, B::<b>LinearAlgebra.Transpose{#s576,#s575} where #s575<:SparseArrays.SparseMatrixCSC{Tv,Ti} where #s576</b>) in SparseArrays at <a href=\"file:///Users/julia/buildbot/worker/package_macos64/build/usr/share/julia/stdlib/v1.0/SparseArrays/src/linalg.jl\" target=\"_blank\">/Users/julia/buildbot/worker/package_macos64/build/usr/share/julia/stdlib/v1.0/SparseArrays/src/linalg.jl:143</a></li> <li> *<i>{TvA, TiA, TvB, TiB}</i>(A::<b>SparseArrays.SparseMatrixCSC{TvA,TiA}</b>, transB::<b>LinearAlgebra.Transpose{#s576,#s575} where #s575<:SparseArrays.SparseMatrixCSC{TvB,TiB} where #s576</b>) in SparseArrays at <a href=\"file:///Users/julia/buildbot/worker/package_macos64/build/usr/share/julia/stdlib/v1.0/SparseArrays/src/linalg.jl\" target=\"_blank\">/Users/julia/buildbot/worker/package_macos64/build/usr/share/julia/stdlib/v1.0/SparseArrays/src/linalg.jl:9</a></li> <li> *<i>{Tv, Ti}</i>(A::<b>SparseArrays.SparseMatrixCSC{Tv,Ti}</b>, B::<b>LinearAlgebra.Adjoint{#s576,#s575} where #s575<:SparseArrays.SparseMatrixCSC{Tv,Ti} where #s576</b>) in SparseArrays at <a href=\"file:///Users/julia/buildbot/worker/package_macos64/build/usr/share/julia/stdlib/v1.0/SparseArrays/src/linalg.jl\" target=\"_blank\">/Users/julia/buildbot/worker/package_macos64/build/usr/share/julia/stdlib/v1.0/SparseArrays/src/linalg.jl:142</a></li> <li> *<i>{TvA, TiA, TvB, TiB}</i>(A::<b>SparseArrays.SparseMatrixCSC{TvA,TiA}</b>, adjB::<b>LinearAlgebra.Adjoint{#s576,#s575} where #s575<:SparseArrays.SparseMatrixCSC{TvB,TiB} where #s576</b>) in SparseArrays at <a href=\"file:///Users/julia/buildbot/worker/package_macos64/build/usr/share/julia/stdlib/v1.0/SparseArrays/src/linalg.jl\" target=\"_blank\">/Users/julia/buildbot/worker/package_macos64/build/usr/share/julia/stdlib/v1.0/SparseArrays/src/linalg.jl:11</a></li> <li> *<i>{TA, S, Tx}</i>(A::<b>SparseArrays.SparseMatrixCSC{TA,S}</b>, x::<b>Union{DenseArray{Tx,1}, ReinterpretArray{Tx,1,S,A} where S where A<:Union{SubArray{T,N,A,I,true} where I<:Tuple{AbstractUnitRange,Vararg{Any,N} where N} where A<:DenseArray where N where T, DenseArray}, ReshapedArray{Tx,1,A,MI} where MI<:Tuple{Vararg{SignedMultiplicativeInverse{Int64},N} where N} where A<:Union{ReinterpretArray{T,N,S,A} where S where A<:Union{SubArray{T,N,A,I,true} where I<:Tuple{AbstractUnitRange,Vararg{Any,N} where N} where A<:DenseArray where N where T, DenseArray} where N where T, SubArray{T,N,A,I,true} where I<:Tuple{AbstractUnitRange,Vararg{Any,N} where N} where A<:DenseArray where N where T, DenseArray}, SubArray{Tx,1,A,I,L} where L where I<:Tuple{Vararg{Union{Int64, AbstractRange{Int64}, AbstractCartesianIndex},N} where N} where A<:Union{ReinterpretArray{T,N,S,A} where S where A<:Union{SubArray{T,N,A,I,true} where I<:Tuple{AbstractUnitRange,Vararg{Any,N} where N} where A<:DenseArray where N where T, DenseArray} where N where T, ReshapedArray{T,N,A,MI} where MI<:Tuple{Vararg{SignedMultiplicativeInverse{Int64},N} where N} where A<:Union{ReinterpretArray{T,N,S,A} where S where A<:Union{SubArray{T,N,A,I,true} where I<:Tuple{AbstractUnitRange,Vararg{Any,N} where N} where A<:DenseArray where N where T, DenseArray} where N where T, SubArray{T,N,A,I,true} where I<:Tuple{AbstractUnitRange,Vararg{Any,N} where N} where A<:DenseArray where N where T, DenseArray} where N where T, DenseArray}}</b>) in SparseArrays at <a href=\"file:///Users/julia/buildbot/worker/package_macos64/build/usr/share/julia/stdlib/v1.0/SparseArrays/src/linalg.jl\" target=\"_blank\">/Users/julia/buildbot/worker/package_macos64/build/usr/share/julia/stdlib/v1.0/SparseArrays/src/linalg.jl:51</a></li> <li> *<i>{TA, S, Tx}</i>(A::<b>SparseArrays.SparseMatrixCSC{TA,S}</b>, B::<b>Union{DenseArray{Tx,2}, ReinterpretArray{Tx,2,S,A} where S where A<:Union{SubArray{T,N,A,I,true} where I<:Tuple{AbstractUnitRange,Vararg{Any,N} where N} where A<:DenseArray where N where T, DenseArray}, ReshapedArray{Tx,2,A,MI} where MI<:Tuple{Vararg{SignedMultiplicativeInverse{Int64},N} where N} where A<:Union{ReinterpretArray{T,N,S,A} where S where A<:Union{SubArray{T,N,A,I,true} where I<:Tuple{AbstractUnitRange,Vararg{Any,N} where N} where A<:DenseArray where N where T, DenseArray} where N where T, SubArray{T,N,A,I,true} where I<:Tuple{AbstractUnitRange,Vararg{Any,N} where N} where A<:DenseArray where N where T, DenseArray}, SubArray{Tx,2,A,I,L} where L where I<:Tuple{Vararg{Union{Int64, AbstractRange{Int64}, AbstractCartesianIndex},N} where N} where A<:Union{ReinterpretArray{T,N,S,A} where S where A<:Union{SubArray{T,N,A,I,true} where I<:Tuple{AbstractUnitRange,Vararg{Any,N} where N} where A<:DenseArray where N where T, DenseArray} where N where T, ReshapedArray{T,N,A,MI} where MI<:Tuple{Vararg{SignedMultiplicativeInverse{Int64},N} where N} where A<:Union{ReinterpretArray{T,N,S,A} where S where A<:Union{SubArray{T,N,A,I,true} where I<:Tuple{AbstractUnitRange,Vararg{Any,N} where N} where A<:DenseArray where N where T, DenseArray} where N where T, SubArray{T,N,A,I,true} where I<:Tuple{AbstractUnitRange,Vararg{Any,N} where N} where A<:DenseArray where N where T, DenseArray} where N where T, DenseArray}}</b>) in SparseArrays at <a href=\"file:///Users/julia/buildbot/worker/package_macos64/build/usr/share/julia/stdlib/v1.0/SparseArrays/src/linalg.jl\" target=\"_blank\">/Users/julia/buildbot/worker/package_macos64/build/usr/share/julia/stdlib/v1.0/SparseArrays/src/linalg.jl:53</a></li> <li> *(A::<b>SparseArrays.SparseMatrixCSC</b>, D::<b>LinearAlgebra.Diagonal</b>) in SparseArrays at <a href=\"file:///Users/julia/buildbot/worker/package_macos64/build/usr/share/julia/stdlib/v1.0/SparseArrays/src/linalg.jl\" target=\"_blank\">/Users/julia/buildbot/worker/package_macos64/build/usr/share/julia/stdlib/v1.0/SparseArrays/src/linalg.jl:134</a></li> <li> *(A::<b>SuiteSparse.CHOLMOD.Sparse</b>, B::<b>SuiteSparse.CHOLMOD.Sparse</b>) in SuiteSparse.CHOLMOD at <a href=\"file:///Users/julia/buildbot/worker/package_macos64/build/usr/share/julia/stdlib/v1.0/SuiteSparse/src/cholmod.jl\" target=\"_blank\">/Users/julia/buildbot/worker/package_macos64/build/usr/share/julia/stdlib/v1.0/SuiteSparse/src/cholmod.jl:1307</a></li> <li> *(A::<b>SuiteSparse.CHOLMOD.Sparse</b>, B::<b>SuiteSparse.CHOLMOD.Dense</b>) in SuiteSparse.CHOLMOD at <a href=\"file:///Users/julia/buildbot/worker/package_macos64/build/usr/share/julia/stdlib/v1.0/SuiteSparse/src/cholmod.jl\" target=\"_blank\">/Users/julia/buildbot/worker/package_macos64/build/usr/share/julia/stdlib/v1.0/SuiteSparse/src/cholmod.jl:1308</a></li> <li> *(A::<b>SuiteSparse.CHOLMOD.Sparse</b>, B::<b>Union{Array{T,1}, Array{T,2}} where T</b>) in SuiteSparse.CHOLMOD at <a href=\"file:///Users/julia/buildbot/worker/package_macos64/build/usr/share/julia/stdlib/v1.0/SuiteSparse/src/cholmod.jl\" target=\"_blank\">/Users/julia/buildbot/worker/package_macos64/build/usr/share/julia/stdlib/v1.0/SuiteSparse/src/cholmod.jl:1309</a></li> <li> *<i>{Tv<:Float64}</i>(A::<b>SuiteSparse.CHOLMOD.Sparse{Tv}</b>, adjB::<b>LinearAlgebra.Adjoint{Tv,SuiteSparse.CHOLMOD.Sparse{Tv}}</b>) in SuiteSparse.CHOLMOD at <a href=\"file:///Users/julia/buildbot/worker/package_macos64/build/usr/share/julia/stdlib/v1.0/SuiteSparse/src/cholmod.jl\" target=\"_blank\">/Users/julia/buildbot/worker/package_macos64/build/usr/share/julia/stdlib/v1.0/SuiteSparse/src/cholmod.jl:1312</a></li> <li> *<i>{Ti}</i>(A::<b>LinearAlgebra.Symmetric{Float64,SparseArrays.SparseMatrixCSC{Float64,Ti}}</b>, B::<b>Union{SparseMatrixCSC{Float64,Ti}, SparseVector{Float64,Ti}}</b>) in SuiteSparse.CHOLMOD at <a href=\"file:///Users/julia/buildbot/worker/package_macos64/build/usr/share/julia/stdlib/v1.0/SuiteSparse/src/cholmod.jl\" target=\"_blank\">/Users/julia/buildbot/worker/package_macos64/build/usr/share/julia/stdlib/v1.0/SuiteSparse/src/cholmod.jl:1849</a></li> <li> *<i>{Ti}</i>(A::<b>LinearAlgebra.Hermitian{Complex{Float64},SparseArrays.SparseMatrixCSC{Complex{Float64},Ti}}</b>, B::<b>Union{SparseMatrixCSC{Complex{Float64},Ti}, SparseVector{Complex{Float64},Ti}}</b>) in SuiteSparse.CHOLMOD at <a href=\"file:///Users/julia/buildbot/worker/package_macos64/build/usr/share/julia/stdlib/v1.0/SuiteSparse/src/cholmod.jl\" target=\"_blank\">/Users/julia/buildbot/worker/package_macos64/build/usr/share/julia/stdlib/v1.0/SuiteSparse/src/cholmod.jl:1851</a></li> <li> *<i>{Ti}</i>(A::<b>LinearAlgebra.Hermitian{Float64,SparseArrays.SparseMatrixCSC{Float64,Ti}}</b>, B::<b>Union{SparseMatrixCSC{Float64,Ti}, SparseVector{Float64,Ti}}</b>) in SuiteSparse.CHOLMOD at <a href=\"file:///Users/julia/buildbot/worker/package_macos64/build/usr/share/julia/stdlib/v1.0/SuiteSparse/src/cholmod.jl\" target=\"_blank\">/Users/julia/buildbot/worker/package_macos64/build/usr/share/julia/stdlib/v1.0/SuiteSparse/src/cholmod.jl:1853</a></li> <li> *<i>{Ti}</i>(A::<b>Union{SparseMatrixCSC{Float64,Ti}, SparseVector{Float64,Ti}}</b>, B::<b>LinearAlgebra.Symmetric{Float64,SparseArrays.SparseMatrixCSC{Float64,Ti}}</b>) in SuiteSparse.CHOLMOD at <a href=\"file:///Users/julia/buildbot/worker/package_macos64/build/usr/share/julia/stdlib/v1.0/SuiteSparse/src/cholmod.jl\" target=\"_blank\">/Users/julia/buildbot/worker/package_macos64/build/usr/share/julia/stdlib/v1.0/SuiteSparse/src/cholmod.jl:1856</a></li> <li> *<i>{Ti}</i>(A::<b>Union{SparseMatrixCSC{Complex{Float64},Ti}, SparseVector{Complex{Float64},Ti}}</b>, B::<b>LinearAlgebra.Hermitian{Complex{Float64},SparseArrays.SparseMatrixCSC{Complex{Float64},Ti}}</b>) in SuiteSparse.CHOLMOD at <a href=\"file:///Users/julia/buildbot/worker/package_macos64/build/usr/share/julia/stdlib/v1.0/SuiteSparse/src/cholmod.jl\" target=\"_blank\">/Users/julia/buildbot/worker/package_macos64/build/usr/share/julia/stdlib/v1.0/SuiteSparse/src/cholmod.jl:1858</a></li> <li> *<i>{Ti}</i>(A::<b>Union{SparseMatrixCSC{Float64,Ti}, SparseVector{Float64,Ti}}</b>, B::<b>LinearAlgebra.Hermitian{Float64,SparseArrays.SparseMatrixCSC{Float64,Ti}}</b>) in SuiteSparse.CHOLMOD at <a href=\"file:///Users/julia/buildbot/worker/package_macos64/build/usr/share/julia/stdlib/v1.0/SuiteSparse/src/cholmod.jl\" target=\"_blank\">/Users/julia/buildbot/worker/package_macos64/build/usr/share/julia/stdlib/v1.0/SuiteSparse/src/cholmod.jl:1860</a></li> <li> *(x::<b>AbstractArray{#s57,2} where #s57<:Number</b>) in Base at <a href=\"https://github.com/JuliaLang/julia/tree/38e9fb7f809621e27c9a650be473e26b4c871465/base/abstractarraymath.jl#L99\" target=\"_blank\">abstractarraymath.jl:99</a></li> <li> *(B::<b>Number</b>, A::<b>LinearAlgebra.SymTridiagonal</b>) in LinearAlgebra at <a href=\"file:///Users/julia/buildbot/worker/package_macos64/build/usr/share/julia/stdlib/v1.0/LinearAlgebra/src/tridiag.jl\" target=\"_blank\">/Users/julia/buildbot/worker/package_macos64/build/usr/share/julia/stdlib/v1.0/LinearAlgebra/src/tridiag.jl:161</a></li> <li> *(B::<b>Number</b>, A::<b>LinearAlgebra.Tridiagonal</b>) in LinearAlgebra at <a href=\"file:///Users/julia/buildbot/worker/package_macos64/build/usr/share/julia/stdlib/v1.0/LinearAlgebra/src/tridiag.jl\" target=\"_blank\">/Users/julia/buildbot/worker/package_macos64/build/usr/share/julia/stdlib/v1.0/LinearAlgebra/src/tridiag.jl:615</a></li> <li> *(x::<b>Number</b>, A::<b>LinearAlgebra.UpperTriangular</b>) in LinearAlgebra at <a href=\"file:///Users/julia/buildbot/worker/package_macos64/build/usr/share/julia/stdlib/v1.0/LinearAlgebra/src/triangular.jl\" target=\"_blank\">/Users/julia/buildbot/worker/package_macos64/build/usr/share/julia/stdlib/v1.0/LinearAlgebra/src/triangular.jl:680</a></li> <li> *(x::<b>Number</b>, A::<b>LinearAlgebra.UnitUpperTriangular</b>) in LinearAlgebra at <a href=\"file:///Users/julia/buildbot/worker/package_macos64/build/usr/share/julia/stdlib/v1.0/LinearAlgebra/src/triangular.jl\" target=\"_blank\">/Users/julia/buildbot/worker/package_macos64/build/usr/share/julia/stdlib/v1.0/LinearAlgebra/src/triangular.jl:683</a></li> <li> *(x::<b>Number</b>, A::<b>LinearAlgebra.LowerTriangular</b>) in LinearAlgebra at <a href=\"file:///Users/julia/buildbot/worker/package_macos64/build/usr/share/julia/stdlib/v1.0/LinearAlgebra/src/triangular.jl\" target=\"_blank\">/Users/julia/buildbot/worker/package_macos64/build/usr/share/julia/stdlib/v1.0/LinearAlgebra/src/triangular.jl:680</a></li> <li> *(x::<b>Number</b>, A::<b>LinearAlgebra.UnitLowerTriangular</b>) in LinearAlgebra at <a href=\"file:///Users/julia/buildbot/worker/package_macos64/build/usr/share/julia/stdlib/v1.0/LinearAlgebra/src/triangular.jl\" target=\"_blank\">/Users/julia/buildbot/worker/package_macos64/build/usr/share/julia/stdlib/v1.0/LinearAlgebra/src/triangular.jl:683</a></li> <li> *(x::<b>Number</b>, D::<b>LinearAlgebra.Diagonal</b>) in LinearAlgebra at <a href=\"file:///Users/julia/buildbot/worker/package_macos64/build/usr/share/julia/stdlib/v1.0/LinearAlgebra/src/diagonal.jl\" target=\"_blank\">/Users/julia/buildbot/worker/package_macos64/build/usr/share/julia/stdlib/v1.0/LinearAlgebra/src/diagonal.jl:155</a></li> <li> *(B::<b>Number</b>, A::<b>LinearAlgebra.Bidiagonal</b>) in LinearAlgebra at <a href=\"file:///Users/julia/buildbot/worker/package_macos64/build/usr/share/julia/stdlib/v1.0/LinearAlgebra/src/bidiag.jl\" target=\"_blank\">/Users/julia/buildbot/worker/package_macos64/build/usr/share/julia/stdlib/v1.0/LinearAlgebra/src/bidiag.jl:321</a></li> <li> *(a::<b>Number</b>, x::<b>Union{SubArray{T,1,#s576,Tuple{Slice{OneTo{Int64}},Int64},false} where #s576<:SparseMatrixCSC, SparseVector{T,Ti} where Ti<:Integer} where T</b>) in SparseArrays at <a href=\"file:///Users/julia/buildbot/worker/package_macos64/build/usr/share/julia/stdlib/v1.0/SparseArrays/src/sparsevector.jl\" target=\"_blank\">/Users/julia/buildbot/worker/package_macos64/build/usr/share/julia/stdlib/v1.0/SparseArrays/src/sparsevector.jl:1394</a></li> <li> *(A::<b>Number</b>, B::<b>AbstractArray</b>) in Base at <a href=\"https://github.com/JuliaLang/julia/tree/38e9fb7f809621e27c9a650be473e26b4c871465/base/arraymath.jl#L52\" target=\"_blank\">arraymath.jl:52</a></li> <li> *(A::<b>AbstractArray</b>, B::<b>Number</b>) in Base at <a href=\"https://github.com/JuliaLang/julia/tree/38e9fb7f809621e27c9a650be473e26b4c871465/base/arraymath.jl#L55\" target=\"_blank\">arraymath.jl:55</a></li> <li> *(s1::<b>Union{AbstractChar, AbstractString}</b>, ss::<b>Union{AbstractChar, AbstractString}...</b>) in Base at <a href=\"https://github.com/JuliaLang/julia/tree/38e9fb7f809621e27c9a650be473e26b4c871465/base/strings/basic.jl#L229\" target=\"_blank\">strings/basic.jl:229</a></li> <li> *(index::<b>CartesianIndex</b>, a::<b>Integer</b>) in Base.IteratorsMD at <a href=\"https://github.com/JuliaLang/julia/tree/38e9fb7f809621e27c9a650be473e26b4c871465/base/multidimensional.jl#L116\" target=\"_blank\">multidimensional.jl:116</a></li> <li> *(::<b>Number</b>, ::<b>Missing</b>) in Base at <a href=\"https://github.com/JuliaLang/julia/tree/38e9fb7f809621e27c9a650be473e26b4c871465/base/missing.jl#L94\" target=\"_blank\">missing.jl:94</a></li> <li> *(d::<b>AbstractString</b>, x::<b>Missing</b>) in Base at <a href=\"https://github.com/JuliaLang/julia/tree/38e9fb7f809621e27c9a650be473e26b4c871465/base/missing.jl#L140\" target=\"_blank\">missing.jl:140</a></li> <li> *<i>{P<:Period}</i>(x::<b>P</b>, y::<b>Real</b>) in Dates at <a href=\"file:///Users/julia/buildbot/worker/package_macos64/build/usr/share/julia/stdlib/v1.0/Dates/src/periods.jl\" target=\"_blank\">/Users/julia/buildbot/worker/package_macos64/build/usr/share/julia/stdlib/v1.0/Dates/src/periods.jl:92</a></li> <li> *(u::<b>AbstractArray{T,1} where T</b>, v::<b>Union{Adjoint{T,#s576}, Transpose{T,#s576}} where #s576<:(AbstractArray{T,1} where T) where T</b>) in LinearAlgebra at <a href=\"file:///Users/julia/buildbot/worker/package_macos64/build/usr/share/julia/stdlib/v1.0/LinearAlgebra/src/adjtrans.jl\" target=\"_blank\">/Users/julia/buildbot/worker/package_macos64/build/usr/share/julia/stdlib/v1.0/LinearAlgebra/src/adjtrans.jl:205</a></li> <li> *(A::<b>AbstractArray{T,2} where T</b>, B::<b>LinearAlgebra.AbstractTriangular</b>) in LinearAlgebra at <a href=\"file:///Users/julia/buildbot/worker/package_macos64/build/usr/share/julia/stdlib/v1.0/LinearAlgebra/src/triangular.jl\" target=\"_blank\">/Users/julia/buildbot/worker/package_macos64/build/usr/share/julia/stdlib/v1.0/LinearAlgebra/src/triangular.jl:1929</a></li> <li> *(A::<b>AbstractArray{T,2} where T</b>, adjB::<b>LinearAlgebra.Adjoint{#s576,#s575} where #s575<:LinearAlgebra.AbstractTriangular where #s576</b>) in LinearAlgebra at <a href=\"file:///Users/julia/buildbot/worker/package_macos64/build/usr/share/julia/stdlib/v1.0/LinearAlgebra/src/triangular.jl\" target=\"_blank\">/Users/julia/buildbot/worker/package_macos64/build/usr/share/julia/stdlib/v1.0/LinearAlgebra/src/triangular.jl:1936</a></li> <li> *(A::<b>AbstractArray{T,2} where T</b>, transB::<b>LinearAlgebra.Transpose{#s576,#s575} where #s575<:LinearAlgebra.AbstractTriangular where #s576</b>) in LinearAlgebra at <a href=\"file:///Users/julia/buildbot/worker/package_macos64/build/usr/share/julia/stdlib/v1.0/LinearAlgebra/src/triangular.jl\" target=\"_blank\">/Users/julia/buildbot/worker/package_macos64/build/usr/share/julia/stdlib/v1.0/LinearAlgebra/src/triangular.jl:1944</a></li> <li> *(A::<b>AbstractArray{T,2} where T</b>, transB::<b>LinearAlgebra.Transpose{#s576,#s575} where #s575<:(Union{Hermitian{T,S}, Symmetric{T,S}, Symmetric{Complex{T},S}} where S where T<:Real) where #s576</b>) in LinearAlgebra at <a href=\"file:///Users/julia/buildbot/worker/package_macos64/build/usr/share/julia/stdlib/v1.0/LinearAlgebra/src/symmetric.jl\" target=\"_blank\">/Users/julia/buildbot/worker/package_macos64/build/usr/share/julia/stdlib/v1.0/LinearAlgebra/src/symmetric.jl:423</a></li> <li> *(A::<b>AbstractArray{T,2} where T</b>, adjB::<b>LinearAlgebra.Adjoint{#s576,#s575} where #s575<:(Union{Hermitian{T,S}, Hermitian{Complex{T},S}, Symmetric{T,S}} where S where T<:Real) where #s576</b>) in LinearAlgebra at <a href=\"file:///Users/julia/buildbot/worker/package_macos64/build/usr/share/julia/stdlib/v1.0/LinearAlgebra/src/symmetric.jl\" target=\"_blank\">/Users/julia/buildbot/worker/package_macos64/build/usr/share/julia/stdlib/v1.0/LinearAlgebra/src/symmetric.jl:427</a></li> <li> *(A::<b>AbstractArray{T,2} where T</b>, D::<b>LinearAlgebra.Diagonal</b>) in LinearAlgebra at <a href=\"file:///Users/julia/buildbot/worker/package_macos64/build/usr/share/julia/stdlib/v1.0/LinearAlgebra/src/diagonal.jl\" target=\"_blank\">/Users/julia/buildbot/worker/package_macos64/build/usr/share/julia/stdlib/v1.0/LinearAlgebra/src/diagonal.jl:164</a></li> <li> *(A::<b>AbstractArray{T,2} where T</b>, adjR::<b>LinearAlgebra.Adjoint{#s576,#s575} where #s575<:LinearAlgebra.AbstractRotation where #s576</b>) in LinearAlgebra at <a href=\"file:///Users/julia/buildbot/worker/package_macos64/build/usr/share/julia/stdlib/v1.0/LinearAlgebra/src/givens.jl\" target=\"_blank\">/Users/julia/buildbot/worker/package_macos64/build/usr/share/julia/stdlib/v1.0/LinearAlgebra/src/givens.jl:14</a></li> <li> *<i>{T, S}</i>(A::<b>AbstractArray{T,2}</b>, x::<b>AbstractArray{S,1}</b>) in LinearAlgebra at <a href=\"file:///Users/julia/buildbot/worker/package_macos64/build/usr/share/julia/stdlib/v1.0/LinearAlgebra/src/matmul.jl\" target=\"_blank\">/Users/julia/buildbot/worker/package_macos64/build/usr/share/julia/stdlib/v1.0/LinearAlgebra/src/matmul.jl:49</a></li> <li> *(a::<b>AbstractArray{T,1} where T</b>, transB::<b>LinearAlgebra.Transpose{#s576,#s575} where #s575<:(AbstractArray{T,2} where T) where #s576</b>) in LinearAlgebra at <a href=\"file:///Users/julia/buildbot/worker/package_macos64/build/usr/share/julia/stdlib/v1.0/LinearAlgebra/src/matmul.jl\" target=\"_blank\">/Users/julia/buildbot/worker/package_macos64/build/usr/share/julia/stdlib/v1.0/LinearAlgebra/src/matmul.jl:55</a></li> <li> *(a::<b>AbstractArray{T,1} where T</b>, adjB::<b>LinearAlgebra.Adjoint{#s576,#s575} where #s575<:(AbstractArray{T,2} where T) where #s576</b>) in LinearAlgebra at <a href=\"file:///Users/julia/buildbot/worker/package_macos64/build/usr/share/julia/stdlib/v1.0/LinearAlgebra/src/matmul.jl\" target=\"_blank\">/Users/julia/buildbot/worker/package_macos64/build/usr/share/julia/stdlib/v1.0/LinearAlgebra/src/matmul.jl:59</a></li> <li> *(A::<b>AbstractArray{T,1} where T</b>, adjR::<b>LinearAlgebra.Adjoint{#s576,#s575} where #s575<:LinearAlgebra.AbstractRotation where #s576</b>) in LinearAlgebra at <a href=\"file:///Users/julia/buildbot/worker/package_macos64/build/usr/share/julia/stdlib/v1.0/LinearAlgebra/src/givens.jl\" target=\"_blank\">/Users/julia/buildbot/worker/package_macos64/build/usr/share/julia/stdlib/v1.0/LinearAlgebra/src/givens.jl:13</a></li> <li> *(a::<b>AbstractArray{T,1} where T</b>, B::<b>AbstractArray{T,2} where T</b>) in LinearAlgebra at <a href=\"file:///Users/julia/buildbot/worker/package_macos64/build/usr/share/julia/stdlib/v1.0/LinearAlgebra/src/matmul.jl\" target=\"_blank\">/Users/julia/buildbot/worker/package_macos64/build/usr/share/julia/stdlib/v1.0/LinearAlgebra/src/matmul.jl:62</a></li> <li> *(A::<b>AbstractArray{T,2} where T</b>, B::<b>AbstractArray{T,2} where T</b>) in LinearAlgebra at <a href=\"file:///Users/julia/buildbot/worker/package_macos64/build/usr/share/julia/stdlib/v1.0/LinearAlgebra/src/matmul.jl\" target=\"_blank\">/Users/julia/buildbot/worker/package_macos64/build/usr/share/julia/stdlib/v1.0/LinearAlgebra/src/matmul.jl:141</a></li> <li> *<i>{TA, TB}</i>(A::<b>LinearAlgebra.LQ{TA,S} where S<:AbstractArray{TA,2}</b>, B::<b>Union{DenseArray{TB,1}, DenseArray{TB,2}, ReinterpretArray{TB,2,S,A} where S where A<:Union{SubArray{T,N,A,I,true} where I<:Tuple{AbstractUnitRange,Vararg{Any,N} where N} where A<:DenseArray where N where T, DenseArray}, ReinterpretArray{TB,1,S,A} where S where A<:Union{SubArray{T,N,A,I,true} where I<:Tuple{AbstractUnitRange,Vararg{Any,N} where N} where A<:DenseArray where N where T, DenseArray}, ReshapedArray{TB,1,A,MI} where MI<:Tuple{Vararg{SignedMultiplicativeInverse{Int64},N} where N} where A<:Union{ReinterpretArray{T,N,S,A} where S where A<:Union{SubArray{T,N,A,I,true} where I<:Tuple{AbstractUnitRange,Vararg{Any,N} where N} where A<:DenseArray where N where T, DenseArray} where N where T, SubArray{T,N,A,I,true} where I<:Tuple{AbstractUnitRange,Vararg{Any,N} where N} where A<:DenseArray where N where T, DenseArray}, ReshapedArray{TB,2,A,MI} where MI<:Tuple{Vararg{SignedMultiplicativeInverse{Int64},N} where N} where A<:Union{ReinterpretArray{T,N,S,A} where S where A<:Union{SubArray{T,N,A,I,true} where I<:Tuple{AbstractUnitRange,Vararg{Any,N} where N} where A<:DenseArray where N where T, DenseArray} where N where T, SubArray{T,N,A,I,true} where I<:Tuple{AbstractUnitRange,Vararg{Any,N} where N} where A<:DenseArray where N where T, DenseArray}, SubArray{TB,1,A,I,L} where L where I<:Tuple{Vararg{Union{Int64, AbstractRange{Int64}, AbstractCartesianIndex},N} where N} where A<:Union{ReinterpretArray{T,N,S,A} where S where A<:Union{SubArray{T,N,A,I,true} where I<:Tuple{AbstractUnitRange,Vararg{Any,N} where N} where A<:DenseArray where N where T, DenseArray} where N where T, ReshapedArray{T,N,A,MI} where MI<:Tuple{Vararg{SignedMultiplicativeInverse{Int64},N} where N} where A<:Union{ReinterpretArray{T,N,S,A} where S where A<:Union{SubArray{T,N,A,I,true} where I<:Tuple{AbstractUnitRange,Vararg{Any,N} where N} where A<:DenseArray where N where T, DenseArray} where N where T, SubArray{T,N,A,I,true} where I<:Tuple{AbstractUnitRange,Vararg{Any,N} where N} where A<:DenseArray where N where T, DenseArray} where N where T, DenseArray}, SubArray{TB,2,A,I,L} where L where I<:Tuple{Vararg{Union{Int64, AbstractRange{Int64}, AbstractCartesianIndex},N} where N} where A<:Union{ReinterpretArray{T,N,S,A} where S where A<:Union{SubArray{T,N,A,I,true} where I<:Tuple{AbstractUnitRange,Vararg{Any,N} where N} where A<:DenseArray where N where T, DenseArray} where N where T, ReshapedArray{T,N,A,MI} where MI<:Tuple{Vararg{SignedMultiplicativeInverse{Int64},N} where N} where A<:Union{ReinterpretArray{T,N,S,A} where S where A<:Union{SubArray{T,N,A,I,true} where I<:Tuple{AbstractUnitRange,Vararg{Any,N} where N} where A<:DenseArray where N where T, DenseArray} where N where T, SubArray{T,N,A,I,true} where I<:Tuple{AbstractUnitRange,Vararg{Any,N} where N} where A<:DenseArray where N where T, DenseArray} where N where T, DenseArray}}</b>) in LinearAlgebra at <a href=\"file:///Users/julia/buildbot/worker/package_macos64/build/usr/share/julia/stdlib/v1.0/LinearAlgebra/src/lq.jl\" target=\"_blank\">/Users/julia/buildbot/worker/package_macos64/build/usr/share/julia/stdlib/v1.0/LinearAlgebra/src/lq.jl:144</a></li> <li> *(J1::<b>LinearAlgebra.UniformScaling</b>, J2::<b>LinearAlgebra.UniformScaling</b>) in LinearAlgebra at <a href=\"file:///Users/julia/buildbot/worker/package_macos64/build/usr/share/julia/stdlib/v1.0/LinearAlgebra/src/uniformscaling.jl\" target=\"_blank\">/Users/julia/buildbot/worker/package_macos64/build/usr/share/julia/stdlib/v1.0/LinearAlgebra/src/uniformscaling.jl:144</a></li> <li> *(J::<b>LinearAlgebra.UniformScaling</b>, B::<b>BitArray{2}</b>) in LinearAlgebra at <a href=\"file:///Users/julia/buildbot/worker/package_macos64/build/usr/share/julia/stdlib/v1.0/LinearAlgebra/src/uniformscaling.jl\" target=\"_blank\">/Users/julia/buildbot/worker/package_macos64/build/usr/share/julia/stdlib/v1.0/LinearAlgebra/src/uniformscaling.jl:146</a></li> <li> *(A::<b>AbstractArray{T,2} where T</b>, J::<b>LinearAlgebra.UniformScaling</b>) in LinearAlgebra at <a href=\"file:///Users/julia/buildbot/worker/package_macos64/build/usr/share/julia/stdlib/v1.0/LinearAlgebra/src/uniformscaling.jl\" target=\"_blank\">/Users/julia/buildbot/worker/package_macos64/build/usr/share/julia/stdlib/v1.0/LinearAlgebra/src/uniformscaling.jl:147</a></li> <li> *(J::<b>LinearAlgebra.UniformScaling</b>, A::<b>Union{AbstractArray{T,1}, AbstractArray{T,2}} where T</b>) in LinearAlgebra at <a href=\"file:///Users/julia/buildbot/worker/package_macos64/build/usr/share/julia/stdlib/v1.0/LinearAlgebra/src/uniformscaling.jl\" target=\"_blank\">/Users/julia/buildbot/worker/package_macos64/build/usr/share/julia/stdlib/v1.0/LinearAlgebra/src/uniformscaling.jl:148</a></li> <li> *(x::<b>Number</b>, J::<b>LinearAlgebra.UniformScaling</b>) in LinearAlgebra at <a href=\"file:///Users/julia/buildbot/worker/package_macos64/build/usr/share/julia/stdlib/v1.0/LinearAlgebra/src/uniformscaling.jl\" target=\"_blank\">/Users/julia/buildbot/worker/package_macos64/build/usr/share/julia/stdlib/v1.0/LinearAlgebra/src/uniformscaling.jl:149</a></li> <li> *(J::<b>LinearAlgebra.UniformScaling</b>, x::<b>Number</b>) in LinearAlgebra at <a href=\"file:///Users/julia/buildbot/worker/package_macos64/build/usr/share/julia/stdlib/v1.0/LinearAlgebra/src/uniformscaling.jl\" target=\"_blank\">/Users/julia/buildbot/worker/package_macos64/build/usr/share/julia/stdlib/v1.0/LinearAlgebra/src/uniformscaling.jl:150</a></li> <li> *<i>{T, S}</i>(R::<b>LinearAlgebra.AbstractRotation{T}</b>, A::<b>Union{AbstractArray{S,1}, AbstractArray{S,2}}</b>) in LinearAlgebra at <a href=\"file:///Users/julia/buildbot/worker/package_macos64/build/usr/share/julia/stdlib/v1.0/LinearAlgebra/src/givens.jl\" target=\"_blank\">/Users/julia/buildbot/worker/package_macos64/build/usr/share/julia/stdlib/v1.0/LinearAlgebra/src/givens.jl:10</a></li> <li> *<i>{T, S}</i>(A::<b>AbstractArray{T,2}</b>, R::<b>LinearAlgebra.AbstractRotation{S}</b>) in LinearAlgebra at <a href=\"file:///Users/julia/buildbot/worker/package_macos64/build/usr/share/julia/stdlib/v1.0/LinearAlgebra/src/givens.jl\" target=\"_blank\">/Users/julia/buildbot/worker/package_macos64/build/usr/share/julia/stdlib/v1.0/LinearAlgebra/src/givens.jl:21</a></li> <li> *<i>{T}</i>(G1::<b>LinearAlgebra.Givens{T}</b>, G2::<b>LinearAlgebra.Givens{T}</b>) in LinearAlgebra at <a href=\"file:///Users/julia/buildbot/worker/package_macos64/build/usr/share/julia/stdlib/v1.0/LinearAlgebra/src/givens.jl\" target=\"_blank\">/Users/julia/buildbot/worker/package_macos64/build/usr/share/julia/stdlib/v1.0/LinearAlgebra/src/givens.jl:381</a></li> <li> *(a, b, c, xs...) in Base at <a href=\"https://github.com/JuliaLang/julia/tree/38e9fb7f809621e27c9a650be473e26b4c871465/base/operators.jl#L502\" target=\"_blank\">operators.jl:502</a></li> </ul>"
      ],
      "text/plain": [
       "# 339 methods for generic function \"*\":\n",
       "[1] *(x::Bool, z::Complex{Bool}) in Base at complex.jl:281\n",
       "[2] *(x::Bool, y::Bool) in Base at bool.jl:106\n",
       "[3] *(x::Bool, y::T) where T<:AbstractFloat in Base at bool.jl:118\n",
       "[4] *(x::Bool, z::Complex) in Base at complex.jl:288\n",
       "[5] *(x::Bool, y::AbstractIrrational) in Base at irrationals.jl:135\n",
       "[6] *(a::Float16, b::Float16) in Base at float.jl:392\n",
       "[7] *(x::Float32, y::Float32) in Base at float.jl:398\n",
       "[8] *(x::Float64, y::Float64) in Base at float.jl:399\n",
       "[9] *(z::Complex{Bool}, x::Bool) in Base at complex.jl:282\n",
       "[10] *(z::Complex{Bool}, x::Real) in Base at complex.jl:300\n",
       "[11] *(::Missing, ::Missing) in Base at missing.jl:92\n",
       "[12] *(::Missing, ::Number) in Base at missing.jl:93\n",
       "[13] *(d::Missing, x::AbstractString) in Base at missing.jl:139\n",
       "[14] *(this::Base.Grisu.Float, other::Base.Grisu.Float) in Base.Grisu at grisu/float.jl:140\n",
       "[15] *(c::BigInt, x::BigFloat) in Base.MPFR at mpfr.jl:353\n",
       "[16] *(a::BigInt, b::BigInt, c::BigInt, d::BigInt, e::BigInt) in Base.GMP at gmp.jl:443\n",
       "[17] *(a::BigInt, b::BigInt, c::BigInt, d::BigInt) in Base.GMP at gmp.jl:442\n",
       "[18] *(a::BigInt, b::BigInt, c::BigInt) in Base.GMP at gmp.jl:441\n",
       "[19] *(x::BigInt, y::BigInt) in Base.GMP at gmp.jl:412\n",
       "[20] *(x::BigInt, c::Union{UInt16, UInt32, UInt64, UInt8}) in Base.GMP at gmp.jl:460\n",
       "[21] *(x::BigInt, c::Union{Int16, Int32, Int64, Int8}) in Base.GMP at gmp.jl:462\n",
       "[22] *(a::BigFloat, b::BigFloat, c::BigFloat, d::BigFloat, e::BigFloat) in Base.MPFR at mpfr.jl:503\n",
       "[23] *(a::BigFloat, b::BigFloat, c::BigFloat, d::BigFloat) in Base.MPFR at mpfr.jl:496\n",
       "[24] *(a::BigFloat, b::BigFloat, c::BigFloat) in Base.MPFR at mpfr.jl:490\n",
       "[25] *(x::BigFloat, c::BigInt) in Base.MPFR at mpfr.jl:349\n",
       "[26] *(x::BigFloat, y::BigFloat) in Base.MPFR at mpfr.jl:318\n",
       "[27] *(x::BigFloat, c::Union{UInt16, UInt32, UInt64, UInt8}) in Base.MPFR at mpfr.jl:325\n",
       "[28] *(x::BigFloat, c::Union{Int16, Int32, Int64, Int8}) in Base.MPFR at mpfr.jl:333\n",
       "[29] *(x::BigFloat, c::Union{Float16, Float32, Float64}) in Base.MPFR at mpfr.jl:341\n",
       "[30] *(B::BitArray{2}, J::LinearAlgebra.UniformScaling) in LinearAlgebra at /Users/julia/buildbot/worker/package_macos64/build/usr/share/julia/stdlib/v1.0/LinearAlgebra/src/uniformscaling.jl:145\n",
       "[31] *(y::AbstractFloat, x::Bool) in Base at bool.jl:120\n",
       "[32] *(x::T, y::T) where T<:Union{Int128, UInt128} in Base at int.jl:788\n",
       "[33] *(x::T, y::T) where T<:Union{Int128, Int16, Int32, Int64, Int8, UInt128, UInt16, UInt32, UInt64, UInt8} in Base at int.jl:54\n",
       "[34] *(c::Union{UInt16, UInt32, UInt64, UInt8}, x::BigInt) in Base.GMP at gmp.jl:461\n",
       "[35] *(c::Union{Int16, Int32, Int64, Int8}, x::BigInt) in Base.GMP at gmp.jl:463\n",
       "[36] *(a::Integer, b::Integer) in Base at int.jl:800\n",
       "[37] *(x::Real, r::StepRangeLen{#s57,#s56,S} where S where #s56<:Base.TwicePrecision where #s57<:Real) in Base at twiceprecision.jl:479\n",
       "[38] *(z::Complex, w::Complex) in Base at complex.jl:268\n",
       "[39] *(z::Complex, x::Bool) in Base at complex.jl:289\n",
       "[40] *(x::Real, z::Complex{Bool}) in Base at complex.jl:299\n",
       "[41] *(x::Real, z::Complex) in Base at complex.jl:311\n",
       "[42] *(z::Complex, x::Real) in Base at complex.jl:312\n",
       "[43] *(x::Rational, y::Rational) in Base at rational.jl:259\n",
       "[44] *(a::Integer, index::CartesianIndex{N}) where N in Base.IteratorsMD at multidimensional.jl:115\n",
       "[45] *(c::Union{UInt16, UInt32, UInt64, UInt8}, x::BigFloat) in Base.MPFR at mpfr.jl:329\n",
       "[46] *(c::Union{Int16, Int32, Int64, Int8}, x::BigFloat) in Base.MPFR at mpfr.jl:337\n",
       "[47] *(c::Union{Float16, Float32, Float64}, x::BigFloat) in Base.MPFR at mpfr.jl:345\n",
       "[48] *(x::AbstractIrrational, y::AbstractIrrational) in Base at irrationals.jl:133\n",
       "[49] *(y::Real, x::Dates.Period) in Dates at /Users/julia/buildbot/worker/package_macos64/build/usr/share/julia/stdlib/v1.0/Dates/src/periods.jl:93\n",
       "[50] *(x::Number) in Base at operators.jl:478\n",
       "[51] *(x::T, y::T) where T<:Number in Base at promotion.jl:412\n",
       "[52] *(x::Number, y::Number) in Base at promotion.jl:314\n",
       "[53] *(x::Base.TwicePrecision{#s57} where #s57<:Union{Float16, Float32, Float64}, v::Integer) in Base at twiceprecision.jl:286\n",
       "[54] *(x::Base.TwicePrecision, v::Number) in Base at twiceprecision.jl:282\n",
       "[55] *(v::Number, x::Base.TwicePrecision) in Base at twiceprecision.jl:291\n",
       "[56] *(x::Base.TwicePrecision{T}, y::Base.TwicePrecision{T}) where T in Base at twiceprecision.jl:294\n",
       "[57] *(x::Base.TwicePrecision, y::Base.TwicePrecision) in Base at twiceprecision.jl:298\n",
       "[58] *(r::StepRangeLen{#s57,#s56,S} where S where #s56<:Base.TwicePrecision where #s57<:Real, x::Real) in Base at twiceprecision.jl:481\n",
       "[59] *(X::Union{DenseArray{P,N}, ReinterpretArray{P,N,S,A} where S where A<:Union{SubArray{T,N,A,I,true} where I<:Tuple{AbstractUnitRange,Vararg{Any,N} where N} where A<:DenseArray where N where T, DenseArray}, ReshapedArray{P,N,A,MI} where MI<:Tuple{Vararg{SignedMultiplicativeInverse{Int64},N} where N} where A<:Union{ReinterpretArray{T,N,S,A} where S where A<:Union{SubArray{T,N,A,I,true} where I<:Tuple{AbstractUnitRange,Vararg{Any,N} where N} where A<:DenseArray where N where T, DenseArray} where N where T, SubArray{T,N,A,I,true} where I<:Tuple{AbstractUnitRange,Vararg{Any,N} where N} where A<:DenseArray where N where T, DenseArray}, SubArray{P,N,A,I,L} where L where I<:Tuple{Vararg{Union{Int64, AbstractRange{Int64}, AbstractCartesianIndex},N} where N} where A<:Union{ReinterpretArray{T,N,S,A} where S where A<:Union{SubArray{T,N,A,I,true} where I<:Tuple{AbstractUnitRange,Vararg{Any,N} where N} where A<:DenseArray where N where T, DenseArray} where N where T, ReshapedArray{T,N,A,MI} where MI<:Tuple{Vararg{SignedMultiplicativeInverse{Int64},N} where N} where A<:Union{ReinterpretArray{T,N,S,A} where S where A<:Union{SubArray{T,N,A,I,true} where I<:Tuple{AbstractUnitRange,Vararg{Any,N} where N} where A<:DenseArray where N where T, DenseArray} where N where T, SubArray{T,N,A,I,true} where I<:Tuple{AbstractUnitRange,Vararg{Any,N} where N} where A<:DenseArray where N where T, DenseArray} where N where T, DenseArray}} where N, y::Real) where P<:Dates.Period in Dates at /Users/julia/buildbot/worker/package_macos64/build/usr/share/julia/stdlib/v1.0/Dates/src/periods.jl:98\n",
       "[60] *(u::LinearAlgebra.Adjoint{T,#s576} where #s576<:(AbstractArray{T,1} where T) where T, v::LinearAlgebra.Adjoint{#s576,#s575} where #s575<:(LinearAlgebra.Transpose{T,#s576} where #s576<:(AbstractArray{T,1} where T) where T) where #s576) in LinearAlgebra at /Users/julia/buildbot/worker/package_macos64/build/usr/share/julia/stdlib/v1.0/LinearAlgebra/src/adjtrans.jl:215\n",
       "[61] *(A::LinearAlgebra.Adjoint{#s576,#s575} where #s575<:LinearAlgebra.AbstractTriangular where #s576, B::LinearAlgebra.Adjoint{#s574,#s573} where #s573<:LinearAlgebra.AbstractTriangular where #s574) in LinearAlgebra at /Users/julia/buildbot/worker/package_macos64/build/usr/share/julia/stdlib/v1.0/LinearAlgebra/src/triangular.jl:1967\n",
       "[62] *(A::LinearAlgebra.Adjoint{#s576,#s575} where #s575<:(Union{Hermitian{T,S}, Hermitian{Complex{T},S}, Symmetric{T,S}} where S where T<:Real) where #s576, B::LinearAlgebra.Adjoint{#s574,#s573} where #s573<:LinearAlgebra.AbstractTriangular where #s574) in LinearAlgebra at /Users/julia/buildbot/worker/package_macos64/build/usr/share/julia/stdlib/v1.0/LinearAlgebra/src/symmetric.jl:862\n",
       "[63] *(v::LinearAlgebra.Adjoint{T,#s576} where #s576<:(AbstractArray{T,1} where T) where T, A::LinearAlgebra.Adjoint{#s576,#s575} where #s575<:LinearAlgebra.AbstractTriangular where #s576) in LinearAlgebra at /Users/julia/buildbot/worker/package_macos64/build/usr/share/julia/stdlib/v1.0/LinearAlgebra/src/triangular.jl:1954\n",
       "[64] *(A::LinearAlgebra.Adjoint{#s576,#s575} where #s575<:LinearAlgebra.AbstractTriangular where #s576, B::LinearAlgebra.Adjoint{#s574,#s573} where #s573<:(Union{Hermitian{T,S}, Hermitian{Complex{T},S}, Symmetric{T,S}} where S where T<:Real) where #s574) in LinearAlgebra at /Users/julia/buildbot/worker/package_macos64/build/usr/share/julia/stdlib/v1.0/LinearAlgebra/src/symmetric.jl:858\n",
       "[65] *(A::LinearAlgebra.Adjoint{#s576,#s575} where #s575<:LinearAlgebra.AbstractTriangular where #s576, B::LinearAlgebra.Adjoint{#s574,#s573} where #s573<:(AbstractArray{T,1} where T) where #s574) in LinearAlgebra at /Users/julia/buildbot/worker/package_macos64/build/usr/share/julia/stdlib/v1.0/LinearAlgebra/src/triangular.jl:2484\n",
       "[66] *(adjQ::LinearAlgebra.Adjoint{#s576,#s575} where #s575<:LinearAlgebra.AbstractQ where #s576, adjB::LinearAlgebra.Adjoint{#s574,#s573} where #s573<:(Union{DenseArray{T,1}, DenseArray{T,2}, ReinterpretArray{T,2,S,A} where S where A<:Union{SubArray{T,N,A,I,true} where I<:Tuple{AbstractUnitRange,Vararg{Any,N} where N} where A<:DenseArray where N where T, DenseArray}, ReinterpretArray{T,1,S,A} where S where A<:Union{SubArray{T,N,A,I,true} where I<:Tuple{AbstractUnitRange,Vararg{Any,N} where N} where A<:DenseArray where N where T, DenseArray}, ReshapedArray{T,1,A,MI} where MI<:Tuple{Vararg{SignedMultiplicativeInverse{Int64},N} where N} where A<:Union{ReinterpretArray{T,N,S,A} where S where A<:Union{SubArray{T,N,A,I,true} where I<:Tuple{AbstractUnitRange,Vararg{Any,N} where N} where A<:DenseArray where N where T, DenseArray} where N where T, SubArray{T,N,A,I,true} where I<:Tuple{AbstractUnitRange,Vararg{Any,N} where N} where A<:DenseArray where N where T, DenseArray}, ReshapedArray{T,2,A,MI} where MI<:Tuple{Vararg{SignedMultiplicativeInverse{Int64},N} where N} where A<:Union{ReinterpretArray{T,N,S,A} where S where A<:Union{SubArray{T,N,A,I,true} where I<:Tuple{AbstractUnitRange,Vararg{Any,N} where N} where A<:DenseArray where N where T, DenseArray} where N where T, SubArray{T,N,A,I,true} where I<:Tuple{AbstractUnitRange,Vararg{Any,N} where N} where A<:DenseArray where N where T, DenseArray}, SubArray{T,1,A,I,L} where L where I<:Tuple{Vararg{Union{Int64, AbstractRange{Int64}, AbstractCartesianIndex},N} where N} where A<:Union{ReinterpretArray{T,N,S,A} where S where A<:Union{SubArray{T,N,A,I,true} where I<:Tuple{AbstractUnitRange,Vararg{Any,N} where N} where A<:DenseArray where N where T, DenseArray} where N where T, ReshapedArray{T,N,A,MI} where MI<:Tuple{Vararg{SignedMultiplicativeInverse{Int64},N} where N} where A<:Union{ReinterpretArray{T,N,S,A} where S where A<:Union{SubArray{T,N,A,I,true} where I<:Tuple{AbstractUnitRange,Vararg{Any,N} where N} where A<:DenseArray where N where T, DenseArray} where N where T, SubArray{T,N,A,I,true} where I<:Tuple{AbstractUnitRange,Vararg{Any,N} where N} where A<:DenseArray where N where T, DenseArray} where N where T, DenseArray}, SubArray{T,2,A,I,L} where L where I<:Tuple{Vararg{Union{Int64, AbstractRange{Int64}, AbstractCartesianIndex},N} where N} where A<:Union{ReinterpretArray{T,N,S,A} where S where A<:Union{SubArray{T,N,A,I,true} where I<:Tuple{AbstractUnitRange,Vararg{Any,N} where N} where A<:DenseArray where N where T, DenseArray} where N where T, ReshapedArray{T,N,A,MI} where MI<:Tuple{Vararg{SignedMultiplicativeInverse{Int64},N} where N} where A<:Union{ReinterpretArray{T,N,S,A} where S where A<:Union{SubArray{T,N,A,I,true} where I<:Tuple{AbstractUnitRange,Vararg{Any,N} where N} where A<:DenseArray where N where T, DenseArray} where N where T, SubArray{T,N,A,I,true} where I<:Tuple{AbstractUnitRange,Vararg{Any,N} where N} where A<:DenseArray where N where T, DenseArray} where N where T, DenseArray}} where T) where #s574) in LinearAlgebra at /Users/julia/buildbot/worker/package_macos64/build/usr/share/julia/stdlib/v1.0/LinearAlgebra/src/qr.jl:631\n",
       "[67] *(adjA::LinearAlgebra.Adjoint{#s576,#s575} where #s575<:(Union{DenseArray{T,1}, DenseArray{T,2}, ReinterpretArray{T,2,S,A} where S where A<:Union{SubArray{T,N,A,I,true} where I<:Tuple{AbstractUnitRange,Vararg{Any,N} where N} where A<:DenseArray where N where T, DenseArray}, ReinterpretArray{T,1,S,A} where S where A<:Union{SubArray{T,N,A,I,true} where I<:Tuple{AbstractUnitRange,Vararg{Any,N} where N} where A<:DenseArray where N where T, DenseArray}, ReshapedArray{T,1,A,MI} where MI<:Tuple{Vararg{SignedMultiplicativeInverse{Int64},N} where N} where A<:Union{ReinterpretArray{T,N,S,A} where S where A<:Union{SubArray{T,N,A,I,true} where I<:Tuple{AbstractUnitRange,Vararg{Any,N} where N} where A<:DenseArray where N where T, DenseArray} where N where T, SubArray{T,N,A,I,true} where I<:Tuple{AbstractUnitRange,Vararg{Any,N} where N} where A<:DenseArray where N where T, DenseArray}, ReshapedArray{T,2,A,MI} where MI<:Tuple{Vararg{SignedMultiplicativeInverse{Int64},N} where N} where A<:Union{ReinterpretArray{T,N,S,A} where S where A<:Union{SubArray{T,N,A,I,true} where I<:Tuple{AbstractUnitRange,Vararg{Any,N} where N} where A<:DenseArray where N where T, DenseArray} where N where T, SubArray{T,N,A,I,true} where I<:Tuple{AbstractUnitRange,Vararg{Any,N} where N} where A<:DenseArray where N where T, DenseArray}, SubArray{T,1,A,I,L} where L where I<:Tuple{Vararg{Union{Int64, AbstractRange{Int64}, AbstractCartesianIndex},N} where N} where A<:Union{ReinterpretArray{T,N,S,A} where S where A<:Union{SubArray{T,N,A,I,true} where I<:Tuple{AbstractUnitRange,Vararg{Any,N} where N} where A<:DenseArray where N where T, DenseArray} where N where T, ReshapedArray{T,N,A,MI} where MI<:Tuple{Vararg{SignedMultiplicativeInverse{Int64},N} where N} where A<:Union{ReinterpretArray{T,N,S,A} where S where A<:Union{SubArray{T,N,A,I,true} where I<:Tuple{AbstractUnitRange,Vararg{Any,N} where N} where A<:DenseArray where N where T, DenseArray} where N where T, SubArray{T,N,A,I,true} where I<:Tuple{AbstractUnitRange,Vararg{Any,N} where N} where A<:DenseArray where N where T, DenseArray} where N where T, DenseArray}, SubArray{T,2,A,I,L} where L where I<:Tuple{Vararg{Union{Int64, AbstractRange{Int64}, AbstractCartesianIndex},N} where N} where A<:Union{ReinterpretArray{T,N,S,A} where S where A<:Union{SubArray{T,N,A,I,true} where I<:Tuple{AbstractUnitRange,Vararg{Any,N} where N} where A<:DenseArray where N where T, DenseArray} where N where T, ReshapedArray{T,N,A,MI} where MI<:Tuple{Vararg{SignedMultiplicativeInverse{Int64},N} where N} where A<:Union{ReinterpretArray{T,N,S,A} where S where A<:Union{SubArray{T,N,A,I,true} where I<:Tuple{AbstractUnitRange,Vararg{Any,N} where N} where A<:DenseArray where N where T, DenseArray} where N where T, SubArray{T,N,A,I,true} where I<:Tuple{AbstractUnitRange,Vararg{Any,N} where N} where A<:DenseArray where N where T, DenseArray} where N where T, DenseArray}} where T) where #s576, adjQ::LinearAlgebra.Adjoint{#s574,#s573} where #s573<:LinearAlgebra.AbstractQ where #s574) in LinearAlgebra at /Users/julia/buildbot/worker/package_macos64/build/usr/share/julia/stdlib/v1.0/LinearAlgebra/src/qr.jl:734\n",
       "[68] *(u::LinearAlgebra.Adjoint{T,#s576} where #s576<:(AbstractArray{T,1} where T) where T, A::LinearAlgebra.Adjoint{#s576,#s575} where #s575<:LinearAlgebra.AbstractQ where #s576) in LinearAlgebra at /Users/julia/buildbot/worker/package_macos64/build/usr/share/julia/stdlib/v1.0/LinearAlgebra/src/qr.jl:722\n",
       "[69] *(adjA::LinearAlgebra.Adjoint{#s576,#s575} where #s575<:LinearAlgebra.LQPackedQ where #s576, adjB::LinearAlgebra.Adjoint{#s574,#s573} where #s573<:(Union{DenseArray{T,1}, DenseArray{T,2}, ReinterpretArray{T,2,S,A} where S where A<:Union{SubArray{T,N,A,I,true} where I<:Tuple{AbstractUnitRange,Vararg{Any,N} where N} where A<:DenseArray where N where T, DenseArray}, ReinterpretArray{T,1,S,A} where S where A<:Union{SubArray{T,N,A,I,true} where I<:Tuple{AbstractUnitRange,Vararg{Any,N} where N} where A<:DenseArray where N where T, DenseArray}, ReshapedArray{T,1,A,MI} where MI<:Tuple{Vararg{SignedMultiplicativeInverse{Int64},N} where N} where A<:Union{ReinterpretArray{T,N,S,A} where S where A<:Union{SubArray{T,N,A,I,true} where I<:Tuple{AbstractUnitRange,Vararg{Any,N} where N} where A<:DenseArray where N where T, DenseArray} where N where T, SubArray{T,N,A,I,true} where I<:Tuple{AbstractUnitRange,Vararg{Any,N} where N} where A<:DenseArray where N where T, DenseArray}, ReshapedArray{T,2,A,MI} where MI<:Tuple{Vararg{SignedMultiplicativeInverse{Int64},N} where N} where A<:Union{ReinterpretArray{T,N,S,A} where S where A<:Union{SubArray{T,N,A,I,true} where I<:Tuple{AbstractUnitRange,Vararg{Any,N} where N} where A<:DenseArray where N where T, DenseArray} where N where T, SubArray{T,N,A,I,true} where I<:Tuple{AbstractUnitRange,Vararg{Any,N} where N} where A<:DenseArray where N where T, DenseArray}, SubArray{T,1,A,I,L} where L where I<:Tuple{Vararg{Union{Int64, AbstractRange{Int64}, AbstractCartesianIndex},N} where N} where A<:Union{ReinterpretArray{T,N,S,A} where S where A<:Union{SubArray{T,N,A,I,true} where I<:Tuple{AbstractUnitRange,Vararg{Any,N} where N} where A<:DenseArray where N where T, DenseArray} where N where T, ReshapedArray{T,N,A,MI} where MI<:Tuple{Vararg{SignedMultiplicativeInverse{Int64},N} where N} where A<:Union{ReinterpretArray{T,N,S,A} where S where A<:Union{SubArray{T,N,A,I,true} where I<:Tuple{AbstractUnitRange,Vararg{Any,N} where N} where A<:DenseArray where N where T, DenseArray} where N where T, SubArray{T,N,A,I,true} where I<:Tuple{AbstractUnitRange,Vararg{Any,N} where N} where A<:DenseArray where N where T, DenseArray} where N where T, DenseArray}, SubArray{T,2,A,I,L} where L where I<:Tuple{Vararg{Union{Int64, AbstractRange{Int64}, AbstractCartesianIndex},N} where N} where A<:Union{ReinterpretArray{T,N,S,A} where S where A<:Union{SubArray{T,N,A,I,true} where I<:Tuple{AbstractUnitRange,Vararg{Any,N} where N} where A<:DenseArray where N where T, DenseArray} where N where T, ReshapedArray{T,N,A,MI} where MI<:Tuple{Vararg{SignedMultiplicativeInverse{Int64},N} where N} where A<:Union{ReinterpretArray{T,N,S,A} where S where A<:Union{SubArray{T,N,A,I,true} where I<:Tuple{AbstractUnitRange,Vararg{Any,N} where N} where A<:DenseArray where N where T, DenseArray} where N where T, SubArray{T,N,A,I,true} where I<:Tuple{AbstractUnitRange,Vararg{Any,N} where N} where A<:DenseArray where N where T, DenseArray} where N where T, DenseArray}} where T) where #s574) in LinearAlgebra at /Users/julia/buildbot/worker/package_macos64/build/usr/share/julia/stdlib/v1.0/LinearAlgebra/src/lq.jl:183\n",
       "[70] *(adjA::LinearAlgebra.Adjoint{#s576,#s575} where #s575<:(Union{DenseArray{T,2}, ReinterpretArray{T,2,S,A} where S where A<:Union{SubArray{T,N,A,I,true} where I<:Tuple{AbstractUnitRange,Vararg{Any,N} where N} where A<:DenseArray where N where T, DenseArray}, ReshapedArray{T,2,A,MI} where MI<:Tuple{Vararg{SignedMultiplicativeInverse{Int64},N} where N} where A<:Union{ReinterpretArray{T,N,S,A} where S where A<:Union{SubArray{T,N,A,I,true} where I<:Tuple{AbstractUnitRange,Vararg{Any,N} where N} where A<:DenseArray where N where T, DenseArray} where N where T, SubArray{T,N,A,I,true} where I<:Tuple{AbstractUnitRange,Vararg{Any,N} where N} where A<:DenseArray where N where T, DenseArray}, SubArray{T,2,A,I,L} where L where I<:Tuple{Vararg{Union{Int64, AbstractRange{Int64}, AbstractCartesianIndex},N} where N} where A<:Union{ReinterpretArray{T,N,S,A} where S where A<:Union{SubArray{T,N,A,I,true} where I<:Tuple{AbstractUnitRange,Vararg{Any,N} where N} where A<:DenseArray where N where T, DenseArray} where N where T, ReshapedArray{T,N,A,MI} where MI<:Tuple{Vararg{SignedMultiplicativeInverse{Int64},N} where N} where A<:Union{ReinterpretArray{T,N,S,A} where S where A<:Union{SubArray{T,N,A,I,true} where I<:Tuple{AbstractUnitRange,Vararg{Any,N} where N} where A<:DenseArray where N where T, DenseArray} where N where T, SubArray{T,N,A,I,true} where I<:Tuple{AbstractUnitRange,Vararg{Any,N} where N} where A<:DenseArray where N where T, DenseArray} where N where T, DenseArray}} where T) where #s576, adjQ::LinearAlgebra.Adjoint{#s574,#s573} where #s573<:LinearAlgebra.LQPackedQ where #s574) in LinearAlgebra at /Users/julia/buildbot/worker/package_macos64/build/usr/share/julia/stdlib/v1.0/LinearAlgebra/src/lq.jl:220\n",
       "[71] *(adjA::LinearAlgebra.Adjoint{#s576,#s575} where #s575<:(Union{Hermitian{T,S}, Hermitian{Complex{T},S}, Symmetric{T,S}} where S where T<:Real) where #s576, adjB::LinearAlgebra.Adjoint{#s574,#s573} where #s573<:(Union{Hermitian{T,S}, Hermitian{Complex{T},S}, Symmetric{T,S}} where S where T<:Real) where #s574) in LinearAlgebra at /Users/julia/buildbot/worker/package_macos64/build/usr/share/julia/stdlib/v1.0/LinearAlgebra/src/symmetric.jl:433\n",
       "[72] *(adjA::LinearAlgebra.Adjoint{#s576,#s575} where #s575<:(Union{Hermitian{T,S}, Symmetric{T,S}, Symmetric{Complex{T},S}} where S where T<:Real) where #s576, adjB::LinearAlgebra.Adjoint{#s574,#s573} where #s573<:(Union{Hermitian{T,S}, Hermitian{Complex{T},S}, Symmetric{T,S}} where S where T<:Real) where #s574) in LinearAlgebra at /Users/julia/buildbot/worker/package_macos64/build/usr/share/julia/stdlib/v1.0/LinearAlgebra/src/symmetric.jl:434\n",
       "[73] *(adjA::LinearAlgebra.Adjoint{#s576,#s575} where #s575<:(Union{Hermitian{T,S}, Hermitian{Complex{T},S}, Symmetric{T,S}} where S where T<:Real) where #s576, adjB::LinearAlgebra.Adjoint{#s574,#s573} where #s573<:(Union{Hermitian{T,S}, Symmetric{T,S}, Symmetric{Complex{T},S}} where S where T<:Real) where #s574) in LinearAlgebra at /Users/julia/buildbot/worker/package_macos64/build/usr/share/julia/stdlib/v1.0/LinearAlgebra/src/symmetric.jl:435\n",
       "[74] *(adjD::LinearAlgebra.Adjoint{#s576,#s575} where #s575<:LinearAlgebra.Diagonal where #s576, adjA::LinearAlgebra.Adjoint{#s574,#s573} where #s573<:(Union{Hermitian{T,S}, Hermitian{Complex{T},S}, Symmetric{T,S}} where S where T<:Real) where #s574) in LinearAlgebra at /Users/julia/buildbot/worker/package_macos64/build/usr/share/julia/stdlib/v1.0/LinearAlgebra/src/diagonal.jl:293\n",
       "[75] *(A::LinearAlgebra.Adjoint{#s576,#s575} where #s575<:(AbstractArray{T,1} where T) where #s576, B::LinearAlgebra.Adjoint{#s574,#s573} where #s573<:(Union{Hermitian{T,S}, Hermitian{Complex{T},S}, Symmetric{T,S}} where S where T<:Real) where #s574) in LinearAlgebra at /Users/julia/buildbot/worker/package_macos64/build/usr/share/julia/stdlib/v1.0/LinearAlgebra/src/symmetric.jl:839\n",
       "[76] *(adjA::LinearAlgebra.Adjoint{#s576,#s575} where #s575<:(Union{Hermitian{T,S}, Hermitian{Complex{T},S}, Symmetric{T,S}} where S where T<:Real) where #s576, adjD::LinearAlgebra.Adjoint{#s574,#s573} where #s573<:LinearAlgebra.Diagonal where #s574) in LinearAlgebra at /Users/julia/buildbot/worker/package_macos64/build/usr/share/julia/stdlib/v1.0/LinearAlgebra/src/diagonal.jl:292\n",
       "[77] *(A::LinearAlgebra.Adjoint{#s576,#s575} where #s575<:(Union{Hermitian{T,S}, Hermitian{Complex{T},S}, Symmetric{T,S}} where S where T<:Real) where #s576, B::LinearAlgebra.Adjoint{#s574,#s573} where #s573<:(AbstractArray{T,1} where T) where #s574) in LinearAlgebra at /Users/julia/buildbot/worker/package_macos64/build/usr/share/julia/stdlib/v1.0/LinearAlgebra/src/symmetric.jl:848\n",
       "[78] *(D::LinearAlgebra.Adjoint{#s576,#s575} where #s575<:LinearAlgebra.Diagonal where #s576, B::LinearAlgebra.Adjoint{#s574,#s573} where #s573<:LinearAlgebra.Diagonal where #s574) in LinearAlgebra at /Users/julia/buildbot/worker/package_macos64/build/usr/share/julia/stdlib/v1.0/LinearAlgebra/src/diagonal.jl:249\n",
       "[79] *(A::LinearAlgebra.Adjoint{#s576,#s575} where #s575<:SparseArrays.SparseMatrixCSC{Tv,Ti} where #s576, B::LinearAlgebra.Adjoint{#s574,#s573} where #s573<:SparseArrays.SparseMatrixCSC{Tv,Ti} where #s574) where {Tv, Ti} in SparseArrays at /Users/julia/buildbot/worker/package_macos64/build/usr/share/julia/stdlib/v1.0/SparseArrays/src/linalg.jl:146\n",
       "[80] *(adjA::LinearAlgebra.Adjoint{#s576,#s575} where #s575<:SparseArrays.SparseMatrixCSC{TvA,TiA} where #s576, adjB::LinearAlgebra.Adjoint{#s574,#s573} where #s573<:SparseArrays.SparseMatrixCSC{TvB,TiB} where #s574) where {TvA, TiA, TvB, TiB} in SparseArrays at /Users/julia/buildbot/worker/package_macos64/build/usr/share/julia/stdlib/v1.0/SparseArrays/src/linalg.jl:19\n",
       "[81] *(u::LinearAlgebra.Adjoint{T,#s576} where #s576<:(AbstractArray{T,1} where T) where T, v::LinearAlgebra.Adjoint{T,#s576} where #s576<:(AbstractArray{T,1} where T) where T) in LinearAlgebra at /Users/julia/buildbot/worker/package_macos64/build/usr/share/julia/stdlib/v1.0/LinearAlgebra/src/adjtrans.jl:208\n",
       "[82] *(u::LinearAlgebra.Adjoint{T,#s576} where #s576<:(AbstractArray{T,1} where T) where T, v::LinearAlgebra.Transpose{#s576,#s575} where #s575<:(LinearAlgebra.Adjoint{T,#s576} where #s576<:(AbstractArray{T,1} where T) where T) where #s576) in LinearAlgebra at /Users/julia/buildbot/worker/package_macos64/build/usr/share/julia/stdlib/v1.0/LinearAlgebra/src/adjtrans.jl:219\n",
       "[83] *(adjA::LinearAlgebra.Adjoint{#s576,#s575} where #s575<:Union{DenseArray{T,2}, ReinterpretArray{T,2,S,A} where S where A<:Union{SubArray{T,N,A,I,true} where I<:Tuple{AbstractUnitRange,Vararg{Any,N} where N} where A<:DenseArray where N where T, DenseArray}, ReshapedArray{T,2,A,MI} where MI<:Tuple{Vararg{SignedMultiplicativeInverse{Int64},N} where N} where A<:Union{ReinterpretArray{T,N,S,A} where S where A<:Union{SubArray{T,N,A,I,true} where I<:Tuple{AbstractUnitRange,Vararg{Any,N} where N} where A<:DenseArray where N where T, DenseArray} where N where T, SubArray{T,N,A,I,true} where I<:Tuple{AbstractUnitRange,Vararg{Any,N} where N} where A<:DenseArray where N where T, DenseArray}, SubArray{T,2,A,I,L} where L where I<:Tuple{Vararg{Union{Int64, AbstractRange{Int64}, AbstractCartesianIndex},N} where N} where A<:Union{ReinterpretArray{T,N,S,A} where S where A<:Union{SubArray{T,N,A,I,true} where I<:Tuple{AbstractUnitRange,Vararg{Any,N} where N} where A<:DenseArray where N where T, DenseArray} where N where T, ReshapedArray{T,N,A,MI} where MI<:Tuple{Vararg{SignedMultiplicativeInverse{Int64},N} where N} where A<:Union{ReinterpretArray{T,N,S,A} where S where A<:Union{SubArray{T,N,A,I,true} where I<:Tuple{AbstractUnitRange,Vararg{Any,N} where N} where A<:DenseArray where N where T, DenseArray} where N where T, SubArray{T,N,A,I,true} where I<:Tuple{AbstractUnitRange,Vararg{Any,N} where N} where A<:DenseArray where N where T, DenseArray} where N where T, DenseArray}} where #s576, x::Union{DenseArray{S,1}, ReinterpretArray{S,1,S1,A} where S1 where A<:Union{SubArray{T,N,A,I,true} where I<:Tuple{AbstractUnitRange,Vararg{Any,N} where N} where A<:DenseArray where N where T, DenseArray}, ReshapedArray{S,1,A,MI} where MI<:Tuple{Vararg{SignedMultiplicativeInverse{Int64},N} where N} where A<:Union{ReinterpretArray{T,N,S,A} where S where A<:Union{SubArray{T,N,A,I,true} where I<:Tuple{AbstractUnitRange,Vararg{Any,N} where N} where A<:DenseArray where N where T, DenseArray} where N where T, SubArray{T,N,A,I,true} where I<:Tuple{AbstractUnitRange,Vararg{Any,N} where N} where A<:DenseArray where N where T, DenseArray}, SubArray{S,1,A,I,L} where L where I<:Tuple{Vararg{Union{Int64, AbstractRange{Int64}, AbstractCartesianIndex},N} where N} where A<:Union{ReinterpretArray{T,N,S,A} where S where A<:Union{SubArray{T,N,A,I,true} where I<:Tuple{AbstractUnitRange,Vararg{Any,N} where N} where A<:DenseArray where N where T, DenseArray} where N where T, ReshapedArray{T,N,A,MI} where MI<:Tuple{Vararg{SignedMultiplicativeInverse{Int64},N} where N} where A<:Union{ReinterpretArray{T,N,S,A} where S where A<:Union{SubArray{T,N,A,I,true} where I<:Tuple{AbstractUnitRange,Vararg{Any,N} where N} where A<:DenseArray where N where T, DenseArray} where N where T, SubArray{T,N,A,I,true} where I<:Tuple{AbstractUnitRange,Vararg{Any,N} where N} where A<:DenseArray where N where T, DenseArray} where N where T, DenseArray}}) where {T<:Union{Complex{Float32}, Complex{Float64}, Float32, Float64}, S} in LinearAlgebra at /Users/julia/buildbot/worker/package_macos64/build/usr/share/julia/stdlib/v1.0/LinearAlgebra/src/matmul.jl:98\n",
       "[84] *(xformA::LinearAlgebra.Adjoint{#s576,#s575} where #s575<:LinearAlgebra.UpperTriangular where #s576, B::LinearAlgebra.LowerTriangular) in LinearAlgebra at /Users/julia/buildbot/worker/package_macos64/build/usr/share/julia/stdlib/v1.0/LinearAlgebra/src/triangular.jl:1647\n",
       "[85] *(xformA::LinearAlgebra.Adjoint{#s574,#s573} where #s573<:LinearAlgebra.UnitUpperTriangular where #s574, B::LinearAlgebra.LowerTriangular) in LinearAlgebra at /Users/julia/buildbot/worker/package_macos64/build/usr/share/julia/stdlib/v1.0/LinearAlgebra/src/triangular.jl:1656\n",
       "[86] *(xformA::LinearAlgebra.Adjoint{#s572,#s571} where #s571<:LinearAlgebra.LowerTriangular where #s572, B::LinearAlgebra.UpperTriangular) in LinearAlgebra at /Users/julia/buildbot/worker/package_macos64/build/usr/share/julia/stdlib/v1.0/LinearAlgebra/src/triangular.jl:1665\n",
       "[87] *(xformA::LinearAlgebra.Adjoint{#s570,#s569} where #s569<:LinearAlgebra.UnitLowerTriangular where #s570, B::LinearAlgebra.UpperTriangular) in LinearAlgebra at /Users/julia/buildbot/worker/package_macos64/build/usr/share/julia/stdlib/v1.0/LinearAlgebra/src/triangular.jl:1674\n",
       "[88] *(adjA::LinearAlgebra.Adjoint{#s576,#s575} where #s575<:LinearAlgebra.AbstractTriangular where #s576, B::LinearAlgebra.AbstractTriangular) in LinearAlgebra at /Users/julia/buildbot/worker/package_macos64/build/usr/share/julia/stdlib/v1.0/LinearAlgebra/src/triangular.jl:1765\n",
       "[89] *(A::LinearAlgebra.Adjoint{#s576,#s575} where #s575<:LinearAlgebra.AbstractTriangular where #s576, B::LinearAlgebra.Adjoint{#s574,#s573} where #s573<:(AbstractArray{T,2} where T) where #s574) in LinearAlgebra at /Users/julia/buildbot/worker/package_macos64/build/usr/share/julia/stdlib/v1.0/LinearAlgebra/src/triangular.jl:1968\n",
       "[90] *(A::LinearAlgebra.Adjoint{#s576,#s575} where #s575<:LinearAlgebra.AbstractTriangular where #s576, B::LinearAlgebra.Transpose{#s574,#s573} where #s573<:LinearAlgebra.AbstractTriangular where #s574) in LinearAlgebra at /Users/julia/buildbot/worker/package_macos64/build/usr/share/julia/stdlib/v1.0/LinearAlgebra/src/triangular.jl:2481\n",
       "[91] *(A::LinearAlgebra.Adjoint{#s576,#s575} where #s575<:LinearAlgebra.AbstractTriangular where #s576, B::LinearAlgebra.Transpose{#s574,#s573} where #s573<:(Union{Hermitian{T,S}, Symmetric{T,S}, Symmetric{Complex{T},S}} where S where T<:Real) where #s574) in LinearAlgebra at /Users/julia/buildbot/worker/package_macos64/build/usr/share/julia/stdlib/v1.0/LinearAlgebra/src/symmetric.jl:859\n",
       "[92] *(A::LinearAlgebra.Adjoint{#s576,#s575} where #s575<:LinearAlgebra.AbstractTriangular where #s576, B::LinearAlgebra.Transpose{#s574,#s573} where #s573<:(AbstractArray{T,2} where T) where #s574) in LinearAlgebra at /Users/julia/buildbot/worker/package_macos64/build/usr/share/julia/stdlib/v1.0/LinearAlgebra/src/triangular.jl:2485\n",
       "[93] *(A::LinearAlgebra.Adjoint{#s576,#s575} where #s575<:LinearAlgebra.AbstractTriangular where #s576, B::LinearAlgebra.Transpose{#s574,#s573} where #s573<:(AbstractArray{T,1} where T) where #s574) in LinearAlgebra at /Users/julia/buildbot/worker/package_macos64/build/usr/share/julia/stdlib/v1.0/LinearAlgebra/src/triangular.jl:2486\n",
       "[94] *(A::LinearAlgebra.Adjoint{#s576,#s575} where #s575<:LinearAlgebra.AbstractTriangular where #s576, D::LinearAlgebra.Diagonal) in LinearAlgebra at /Users/julia/buildbot/worker/package_macos64/build/usr/share/julia/stdlib/v1.0/LinearAlgebra/src/diagonal.jl:213\n",
       "[95] *(A::LinearAlgebra.Adjoint{#s576,#s575} where #s575<:LinearAlgebra.AbstractTriangular where #s576, B::LinearAlgebra.Adjoint{#s574,#s573} where #s573<:LinearAlgebra.AbstractRotation where #s574) in LinearAlgebra at /Users/julia/buildbot/worker/package_macos64/build/usr/share/julia/stdlib/v1.0/LinearAlgebra/src/givens.jl:392\n",
       "[96] *(adjA::LinearAlgebra.Adjoint{#s576,#s575} where #s575<:LinearAlgebra.AbstractTriangular where #s576, B::AbstractArray{T,1} where T) in LinearAlgebra at /Users/julia/buildbot/worker/package_macos64/build/usr/share/julia/stdlib/v1.0/LinearAlgebra/src/triangular.jl:1805\n",
       "[97] *(adjA::LinearAlgebra.Adjoint{#s576,#s575} where #s575<:(Union{Hermitian{T,S}, Hermitian{Complex{T},S}, Symmetric{T,S}} where S where T<:Real) where #s576, B::LinearAlgebra.AbstractTriangular) in LinearAlgebra at /Users/julia/buildbot/worker/package_macos64/build/usr/share/julia/stdlib/v1.0/LinearAlgebra/src/symmetric.jl:440\n",
       "[98] *(v::LinearAlgebra.Adjoint{T,#s576} where #s576<:(AbstractArray{T,1} where T) where T, A::LinearAlgebra.AbstractTriangular) in LinearAlgebra at /Users/julia/buildbot/worker/package_macos64/build/usr/share/julia/stdlib/v1.0/LinearAlgebra/src/triangular.jl:1952\n",
       "[99] *(A::LinearAlgebra.Adjoint{#s576,#s575} where #s575<:(Union{Hermitian{T,S}, Hermitian{Complex{T},S}, Symmetric{T,S}} where S where T<:Real) where #s576, B::LinearAlgebra.Transpose{#s574,#s573} where #s573<:LinearAlgebra.AbstractTriangular where #s574) in LinearAlgebra at /Users/julia/buildbot/worker/package_macos64/build/usr/share/julia/stdlib/v1.0/LinearAlgebra/src/symmetric.jl:863\n",
       "[100] *(A::LinearAlgebra.Adjoint{#s576,#s575} where #s575<:(AbstractArray{T,1} where T) where #s576, B::LinearAlgebra.Transpose{#s574,#s573} where #s573<:LinearAlgebra.AbstractTriangular where #s574) in LinearAlgebra at /Users/julia/buildbot/worker/package_macos64/build/usr/share/julia/stdlib/v1.0/LinearAlgebra/src/triangular.jl:2491\n",
       "[101] *(adjQ::LinearAlgebra.Adjoint{#s576,#s575} where #s575<:LinearAlgebra.AbstractQ where #s576, B::Union{DenseArray{T,1}, DenseArray{T,2}, ReinterpretArray{T,2,S,A} where S where A<:Union{SubArray{T,N,A,I,true} where I<:Tuple{AbstractUnitRange,Vararg{Any,N} where N} where A<:DenseArray where N where T, DenseArray}, ReinterpretArray{T,1,S,A} where S where A<:Union{SubArray{T,N,A,I,true} where I<:Tuple{AbstractUnitRange,Vararg{Any,N} where N} where A<:DenseArray where N where T, DenseArray}, ReshapedArray{T,1,A,MI} where MI<:Tuple{Vararg{SignedMultiplicativeInverse{Int64},N} where N} where A<:Union{ReinterpretArray{T,N,S,A} where S where A<:Union{SubArray{T,N,A,I,true} where I<:Tuple{AbstractUnitRange,Vararg{Any,N} where N} where A<:DenseArray where N where T, DenseArray} where N where T, SubArray{T,N,A,I,true} where I<:Tuple{AbstractUnitRange,Vararg{Any,N} where N} where A<:DenseArray where N where T, DenseArray}, ReshapedArray{T,2,A,MI} where MI<:Tuple{Vararg{SignedMultiplicativeInverse{Int64},N} where N} where A<:Union{ReinterpretArray{T,N,S,A} where S where A<:Union{SubArray{T,N,A,I,true} where I<:Tuple{AbstractUnitRange,Vararg{Any,N} where N} where A<:DenseArray where N where T, DenseArray} where N where T, SubArray{T,N,A,I,true} where I<:Tuple{AbstractUnitRange,Vararg{Any,N} where N} where A<:DenseArray where N where T, DenseArray}, SubArray{T,1,A,I,L} where L where I<:Tuple{Vararg{Union{Int64, AbstractRange{Int64}, AbstractCartesianIndex},N} where N} where A<:Union{ReinterpretArray{T,N,S,A} where S where A<:Union{SubArray{T,N,A,I,true} where I<:Tuple{AbstractUnitRange,Vararg{Any,N} where N} where A<:DenseArray where N where T, DenseArray} where N where T, ReshapedArray{T,N,A,MI} where MI<:Tuple{Vararg{SignedMultiplicativeInverse{Int64},N} where N} where A<:Union{ReinterpretArray{T,N,S,A} where S where A<:Union{SubArray{T,N,A,I,true} where I<:Tuple{AbstractUnitRange,Vararg{Any,N} where N} where A<:DenseArray where N where T, DenseArray} where N where T, SubArray{T,N,A,I,true} where I<:Tuple{AbstractUnitRange,Vararg{Any,N} where N} where A<:DenseArray where N where T, DenseArray} where N where T, DenseArray}, SubArray{T,2,A,I,L} where L where I<:Tuple{Vararg{Union{Int64, AbstractRange{Int64}, AbstractCartesianIndex},N} where N} where A<:Union{ReinterpretArray{T,N,S,A} where S where A<:Union{SubArray{T,N,A,I,true} where I<:Tuple{AbstractUnitRange,Vararg{Any,N} where N} where A<:DenseArray where N where T, DenseArray} where N where T, ReshapedArray{T,N,A,MI} where MI<:Tuple{Vararg{SignedMultiplicativeInverse{Int64},N} where N} where A<:Union{ReinterpretArray{T,N,S,A} where S where A<:Union{SubArray{T,N,A,I,true} where I<:Tuple{AbstractUnitRange,Vararg{Any,N} where N} where A<:DenseArray where N where T, DenseArray} where N where T, SubArray{T,N,A,I,true} where I<:Tuple{AbstractUnitRange,Vararg{Any,N} where N} where A<:DenseArray where N where T, DenseArray} where N where T, DenseArray}} where T) in LinearAlgebra at /Users/julia/buildbot/worker/package_macos64/build/usr/share/julia/stdlib/v1.0/LinearAlgebra/src/qr.jl:617\n",
       "[102] *(adjA::LinearAlgebra.Adjoint{#s576,#s575} where #s575<:(Union{DenseArray{T,1}, DenseArray{T,2}, ReinterpretArray{T,2,S,A} where S where A<:Union{SubArray{T,N,A,I,true} where I<:Tuple{AbstractUnitRange,Vararg{Any,N} where N} where A<:DenseArray where N where T, DenseArray}, ReinterpretArray{T,1,S,A} where S where A<:Union{SubArray{T,N,A,I,true} where I<:Tuple{AbstractUnitRange,Vararg{Any,N} where N} where A<:DenseArray where N where T, DenseArray}, ReshapedArray{T,1,A,MI} where MI<:Tuple{Vararg{SignedMultiplicativeInverse{Int64},N} where N} where A<:Union{ReinterpretArray{T,N,S,A} where S where A<:Union{SubArray{T,N,A,I,true} where I<:Tuple{AbstractUnitRange,Vararg{Any,N} where N} where A<:DenseArray where N where T, DenseArray} where N where T, SubArray{T,N,A,I,true} where I<:Tuple{AbstractUnitRange,Vararg{Any,N} where N} where A<:DenseArray where N where T, DenseArray}, ReshapedArray{T,2,A,MI} where MI<:Tuple{Vararg{SignedMultiplicativeInverse{Int64},N} where N} where A<:Union{ReinterpretArray{T,N,S,A} where S where A<:Union{SubArray{T,N,A,I,true} where I<:Tuple{AbstractUnitRange,Vararg{Any,N} where N} where A<:DenseArray where N where T, DenseArray} where N where T, SubArray{T,N,A,I,true} where I<:Tuple{AbstractUnitRange,Vararg{Any,N} where N} where A<:DenseArray where N where T, DenseArray}, SubArray{T,1,A,I,L} where L where I<:Tuple{Vararg{Union{Int64, AbstractRange{Int64}, AbstractCartesianIndex},N} where N} where A<:Union{ReinterpretArray{T,N,S,A} where S where A<:Union{SubArray{T,N,A,I,true} where I<:Tuple{AbstractUnitRange,Vararg{Any,N} where N} where A<:DenseArray where N where T, DenseArray} where N where T, ReshapedArray{T,N,A,MI} where MI<:Tuple{Vararg{SignedMultiplicativeInverse{Int64},N} where N} where A<:Union{ReinterpretArray{T,N,S,A} where S where A<:Union{SubArray{T,N,A,I,true} where I<:Tuple{AbstractUnitRange,Vararg{Any,N} where N} where A<:DenseArray where N where T, DenseArray} where N where T, SubArray{T,N,A,I,true} where I<:Tuple{AbstractUnitRange,Vararg{Any,N} where N} where A<:DenseArray where N where T, DenseArray} where N where T, DenseArray}, SubArray{T,2,A,I,L} where L where I<:Tuple{Vararg{Union{Int64, AbstractRange{Int64}, AbstractCartesianIndex},N} where N} where A<:Union{ReinterpretArray{T,N,S,A} where S where A<:Union{SubArray{T,N,A,I,true} where I<:Tuple{AbstractUnitRange,Vararg{Any,N} where N} where A<:DenseArray where N where T, DenseArray} where N where T, ReshapedArray{T,N,A,MI} where MI<:Tuple{Vararg{SignedMultiplicativeInverse{Int64},N} where N} where A<:Union{ReinterpretArray{T,N,S,A} where S where A<:Union{SubArray{T,N,A,I,true} where I<:Tuple{AbstractUnitRange,Vararg{Any,N} where N} where A<:DenseArray where N where T, DenseArray} where N where T, SubArray{T,N,A,I,true} where I<:Tuple{AbstractUnitRange,Vararg{Any,N} where N} where A<:DenseArray where N where T, DenseArray} where N where T, DenseArray}} where T) where #s576, Q::LinearAlgebra.AbstractQ) in LinearAlgebra at /Users/julia/buildbot/worker/package_macos64/build/usr/share/julia/stdlib/v1.0/LinearAlgebra/src/qr.jl:727\n",
       "[103] *(adjA::LinearAlgebra.Adjoint{#s576,#s575} where #s575<:LinearAlgebra.LQPackedQ where #s576, B::Union{DenseArray{T,1}, DenseArray{T,2}, ReinterpretArray{T,2,S,A} where S where A<:Union{SubArray{T,N,A,I,true} where I<:Tuple{AbstractUnitRange,Vararg{Any,N} where N} where A<:DenseArray where N where T, DenseArray}, ReinterpretArray{T,1,S,A} where S where A<:Union{SubArray{T,N,A,I,true} where I<:Tuple{AbstractUnitRange,Vararg{Any,N} where N} where A<:DenseArray where N where T, DenseArray}, ReshapedArray{T,1,A,MI} where MI<:Tuple{Vararg{SignedMultiplicativeInverse{Int64},N} where N} where A<:Union{ReinterpretArray{T,N,S,A} where S where A<:Union{SubArray{T,N,A,I,true} where I<:Tuple{AbstractUnitRange,Vararg{Any,N} where N} where A<:DenseArray where N where T, DenseArray} where N where T, SubArray{T,N,A,I,true} where I<:Tuple{AbstractUnitRange,Vararg{Any,N} where N} where A<:DenseArray where N where T, DenseArray}, ReshapedArray{T,2,A,MI} where MI<:Tuple{Vararg{SignedMultiplicativeInverse{Int64},N} where N} where A<:Union{ReinterpretArray{T,N,S,A} where S where A<:Union{SubArray{T,N,A,I,true} where I<:Tuple{AbstractUnitRange,Vararg{Any,N} where N} where A<:DenseArray where N where T, DenseArray} where N where T, SubArray{T,N,A,I,true} where I<:Tuple{AbstractUnitRange,Vararg{Any,N} where N} where A<:DenseArray where N where T, DenseArray}, SubArray{T,1,A,I,L} where L where I<:Tuple{Vararg{Union{Int64, AbstractRange{Int64}, AbstractCartesianIndex},N} where N} where A<:Union{ReinterpretArray{T,N,S,A} where S where A<:Union{SubArray{T,N,A,I,true} where I<:Tuple{AbstractUnitRange,Vararg{Any,N} where N} where A<:DenseArray where N where T, DenseArray} where N where T, ReshapedArray{T,N,A,MI} where MI<:Tuple{Vararg{SignedMultiplicativeInverse{Int64},N} where N} where A<:Union{ReinterpretArray{T,N,S,A} where S where A<:Union{SubArray{T,N,A,I,true} where I<:Tuple{AbstractUnitRange,Vararg{Any,N} where N} where A<:DenseArray where N where T, DenseArray} where N where T, SubArray{T,N,A,I,true} where I<:Tuple{AbstractUnitRange,Vararg{Any,N} where N} where A<:DenseArray where N where T, DenseArray} where N where T, DenseArray}, SubArray{T,2,A,I,L} where L where I<:Tuple{Vararg{Union{Int64, AbstractRange{Int64}, AbstractCartesianIndex},N} where N} where A<:Union{ReinterpretArray{T,N,S,A} where S where A<:Union{SubArray{T,N,A,I,true} where I<:Tuple{AbstractUnitRange,Vararg{Any,N} where N} where A<:DenseArray where N where T, DenseArray} where N where T, ReshapedArray{T,N,A,MI} where MI<:Tuple{Vararg{SignedMultiplicativeInverse{Int64},N} where N} where A<:Union{ReinterpretArray{T,N,S,A} where S where A<:Union{SubArray{T,N,A,I,true} where I<:Tuple{AbstractUnitRange,Vararg{Any,N} where N} where A<:DenseArray where N where T, DenseArray} where N where T, SubArray{T,N,A,I,true} where I<:Tuple{AbstractUnitRange,Vararg{Any,N} where N} where A<:DenseArray where N where T, DenseArray} where N where T, DenseArray}} where T) in LinearAlgebra at /Users/julia/buildbot/worker/package_macos64/build/usr/share/julia/stdlib/v1.0/LinearAlgebra/src/lq.jl:163\n",
       "[104] *(adjA::LinearAlgebra.Adjoint{#s576,#s575} where #s575<:(Union{DenseArray{T,2}, ReinterpretArray{T,2,S,A} where S where A<:Union{SubArray{T,N,A,I,true} where I<:Tuple{AbstractUnitRange,Vararg{Any,N} where N} where A<:DenseArray where N where T, DenseArray}, ReshapedArray{T,2,A,MI} where MI<:Tuple{Vararg{SignedMultiplicativeInverse{Int64},N} where N} where A<:Union{ReinterpretArray{T,N,S,A} where S where A<:Union{SubArray{T,N,A,I,true} where I<:Tuple{AbstractUnitRange,Vararg{Any,N} where N} where A<:DenseArray where N where T, DenseArray} where N where T, SubArray{T,N,A,I,true} where I<:Tuple{AbstractUnitRange,Vararg{Any,N} where N} where A<:DenseArray where N where T, DenseArray}, SubArray{T,2,A,I,L} where L where I<:Tuple{Vararg{Union{Int64, AbstractRange{Int64}, AbstractCartesianIndex},N} where N} where A<:Union{ReinterpretArray{T,N,S,A} where S where A<:Union{SubArray{T,N,A,I,true} where I<:Tuple{AbstractUnitRange,Vararg{Any,N} where N} where A<:DenseArray where N where T, DenseArray} where N where T, ReshapedArray{T,N,A,MI} where MI<:Tuple{Vararg{SignedMultiplicativeInverse{Int64},N} where N} where A<:Union{ReinterpretArray{T,N,S,A} where S where A<:Union{SubArray{T,N,A,I,true} where I<:Tuple{AbstractUnitRange,Vararg{Any,N} where N} where A<:DenseArray where N where T, DenseArray} where N where T, SubArray{T,N,A,I,true} where I<:Tuple{AbstractUnitRange,Vararg{Any,N} where N} where A<:DenseArray where N where T, DenseArray} where N where T, DenseArray}} where T) where #s576, Q::LinearAlgebra.LQPackedQ) in LinearAlgebra at /Users/julia/buildbot/worker/package_macos64/build/usr/share/julia/stdlib/v1.0/LinearAlgebra/src/lq.jl:251\n",
       "[105] *(A::LinearAlgebra.Adjoint{#s576,#s575} where #s575<:(Union{Hermitian{T,S}, Hermitian{Complex{T},S}, Symmetric{T,S}} where S where T<:Real) where #s576, B::LinearAlgebra.Transpose{#s574,#s573} where #s573<:(Union{Hermitian{T,S}, Symmetric{T,S}, Symmetric{Complex{T},S}} where S where T<:Real) where #s574) in LinearAlgebra at /Users/julia/buildbot/worker/package_macos64/build/usr/share/julia/stdlib/v1.0/LinearAlgebra/src/symmetric.jl:836\n",
       "[106] *(A::LinearAlgebra.Adjoint{#s576,#s575} where #s575<:(Union{Hermitian{T,S}, Hermitian{Complex{T},S}, Symmetric{T,S}} where S where T<:Real) where #s576, B::LinearAlgebra.Adjoint{#s574,#s573} where #s573<:(AbstractArray{T,2} where T) where #s574) in LinearAlgebra at /Users/julia/buildbot/worker/package_macos64/build/usr/share/julia/stdlib/v1.0/LinearAlgebra/src/symmetric.jl:849\n",
       "[107] *(A::LinearAlgebra.Adjoint{#s576,#s575} where #s575<:(Union{Hermitian{T,S}, Hermitian{Complex{T},S}, Symmetric{T,S}} where S where T<:Real) where #s576, B::LinearAlgebra.Transpose{#s574,#s573} where #s573<:(AbstractArray{T,1} where T) where #s574) in LinearAlgebra at /Users/julia/buildbot/worker/package_macos64/build/usr/share/julia/stdlib/v1.0/LinearAlgebra/src/symmetric.jl:850\n",
       "[108] *(A::LinearAlgebra.Adjoint{#s576,#s575} where #s575<:(Union{Hermitian{T,S}, Hermitian{Complex{T},S}, Symmetric{T,S}} where S where T<:Real) where #s576, B::LinearAlgebra.Transpose{#s574,#s573} where #s573<:(AbstractArray{T,2} where T) where #s574) in LinearAlgebra at /Users/julia/buildbot/worker/package_macos64/build/usr/share/julia/stdlib/v1.0/LinearAlgebra/src/symmetric.jl:851\n",
       "[109] *(adjA::LinearAlgebra.Adjoint{#s576,#s575} where #s575<:(Union{Hermitian{T,S}, Hermitian{Complex{T},S}, Symmetric{T,S}} where S where T<:Real) where #s576, B::LinearAlgebra.Diagonal) in LinearAlgebra at /Users/julia/buildbot/worker/package_macos64/build/usr/share/julia/stdlib/v1.0/LinearAlgebra/src/diagonal.jl:289\n",
       "[110] *(A::LinearAlgebra.Adjoint{#s576,#s575} where #s575<:(Union{Hermitian{T,S}, Hermitian{Complex{T},S}, Symmetric{T,S}} where S where T<:Real) where #s576, B::LinearAlgebra.Adjoint{#s574,#s573} where #s573<:LinearAlgebra.AbstractRotation where #s574) in LinearAlgebra at /Users/julia/buildbot/worker/package_macos64/build/usr/share/julia/stdlib/v1.0/LinearAlgebra/src/givens.jl:394\n",
       "[111] *(adjA::LinearAlgebra.Adjoint{#s576,#s575} where #s575<:(Union{Hermitian{T,S}, Hermitian{Complex{T},S}, Symmetric{T,S}} where S where T<:Real) where #s576, B::AbstractArray{T,1} where T) in LinearAlgebra at /Users/julia/buildbot/worker/package_macos64/build/usr/share/julia/stdlib/v1.0/LinearAlgebra/src/symmetric.jl:425\n",
       "[112] *(A::LinearAlgebra.Adjoint{#s576,#s575} where #s575<:(AbstractArray{T,1} where T) where #s576, B::LinearAlgebra.Transpose{#s574,#s573} where #s573<:(Union{Hermitian{T,S}, Symmetric{T,S}, Symmetric{Complex{T},S}} where S where T<:Real) where #s574) in LinearAlgebra at /Users/julia/buildbot/worker/package_macos64/build/usr/share/julia/stdlib/v1.0/LinearAlgebra/src/symmetric.jl:841\n",
       "[113] *(D::LinearAlgebra.Adjoint{#s576,#s575} where #s575<:LinearAlgebra.Diagonal where #s576, B::LinearAlgebra.Diagonal) in LinearAlgebra at /Users/julia/buildbot/worker/package_macos64/build/usr/share/julia/stdlib/v1.0/LinearAlgebra/src/diagonal.jl:212\n",
       "[114] *(x::LinearAlgebra.Adjoint{#s576,#s575} where #s575<:(AbstractArray{T,1} where T) where #s576, D::LinearAlgebra.Diagonal) in LinearAlgebra at /Users/julia/buildbot/worker/package_macos64/build/usr/share/julia/stdlib/v1.0/LinearAlgebra/src/diagonal.jl:508\n",
       "[115] *(x::LinearAlgebra.Adjoint{#s576,#s575} where #s575<:(AbstractArray{T,1} where T) where #s576, D::LinearAlgebra.Diagonal, y::AbstractArray{T,1} where T) in LinearAlgebra at /Users/julia/buildbot/worker/package_macos64/build/usr/share/julia/stdlib/v1.0/LinearAlgebra/src/diagonal.jl:509\n",
       "[116] *(adjA::LinearAlgebra.Adjoint{#s576,#s575} where #s575<:(LinearAlgebra.Bidiagonal{T,V} where V<:AbstractArray{T,1}) where #s576, B::AbstractArray{T,1}) where T in LinearAlgebra at /Users/julia/buildbot/worker/package_macos64/build/usr/share/julia/stdlib/v1.0/LinearAlgebra/src/bidiag.jl:496\n",
       "[117] *(A::LinearAlgebra.Adjoint{#s576,#s575} where #s575<:(AbstractArray{T,1} where T) where #s576, B::LinearAlgebra.Adjoint{#s574,#s573} where #s573<:LinearAlgebra.AbstractRotation where #s574) in LinearAlgebra at /Users/julia/buildbot/worker/package_macos64/build/usr/share/julia/stdlib/v1.0/LinearAlgebra/src/givens.jl:387\n",
       "[118] *(adjA::LinearAlgebra.Adjoint{#s576,#s575} where #s575<:SparseArrays.SparseMatrixCSC where #s576, x::SparseArrays.AbstractSparseArray{Tv,Ti,1} where Ti where Tv) in SparseArrays at /Users/julia/buildbot/worker/package_macos64/build/usr/share/julia/stdlib/v1.0/SparseArrays/src/sparsevector.jl:1676\n",
       "[119] *(A::LinearAlgebra.Adjoint{#s576,#s575} where #s575<:SparseArrays.SparseMatrixCSC{Tv,Ti} where #s576, B::SparseArrays.SparseMatrixCSC{Tv,Ti}) where {Tv, Ti} in SparseArrays at /Users/julia/buildbot/worker/package_macos64/build/usr/share/julia/stdlib/v1.0/SparseArrays/src/linalg.jl:145\n",
       "[120] *(adjA::LinearAlgebra.Adjoint{#s576,#s575} where #s575<:SparseArrays.SparseMatrixCSC{TvA,TiA} where #s576, B::SparseArrays.SparseMatrixCSC{TvB,TiB}) where {TvA, TiA, TvB, TiB} in SparseArrays at /Users/julia/buildbot/worker/package_macos64/build/usr/share/julia/stdlib/v1.0/SparseArrays/src/linalg.jl:15\n",
       "[121] *(adjA::LinearAlgebra.Adjoint{#s576,#s575} where #s575<:SparseArrays.SparseMatrixCSC{TA,S} where #s576, x::Union{DenseArray{Tx,1}, ReinterpretArray{Tx,1,S,A} where S where A<:Union{SubArray{T,N,A,I,true} where I<:Tuple{AbstractUnitRange,Vararg{Any,N} where N} where A<:DenseArray where N where T, DenseArray}, ReshapedArray{Tx,1,A,MI} where MI<:Tuple{Vararg{SignedMultiplicativeInverse{Int64},N} where N} where A<:Union{ReinterpretArray{T,N,S,A} where S where A<:Union{SubArray{T,N,A,I,true} where I<:Tuple{AbstractUnitRange,Vararg{Any,N} where N} where A<:DenseArray where N where T, DenseArray} where N where T, SubArray{T,N,A,I,true} where I<:Tuple{AbstractUnitRange,Vararg{Any,N} where N} where A<:DenseArray where N where T, DenseArray}, SubArray{Tx,1,A,I,L} where L where I<:Tuple{Vararg{Union{Int64, AbstractRange{Int64}, AbstractCartesianIndex},N} where N} where A<:Union{ReinterpretArray{T,N,S,A} where S where A<:Union{SubArray{T,N,A,I,true} where I<:Tuple{AbstractUnitRange,Vararg{Any,N} where N} where A<:DenseArray where N where T, DenseArray} where N where T, ReshapedArray{T,N,A,MI} where MI<:Tuple{Vararg{SignedMultiplicativeInverse{Int64},N} where N} where A<:Union{ReinterpretArray{T,N,S,A} where S where A<:Union{SubArray{T,N,A,I,true} where I<:Tuple{AbstractUnitRange,Vararg{Any,N} where N} where A<:DenseArray where N where T, DenseArray} where N where T, SubArray{T,N,A,I,true} where I<:Tuple{AbstractUnitRange,Vararg{Any,N} where N} where A<:DenseArray where N where T, DenseArray} where N where T, DenseArray}}) where {TA, S, Tx} in SparseArrays at /Users/julia/buildbot/worker/package_macos64/build/usr/share/julia/stdlib/v1.0/SparseArrays/src/linalg.jl:77\n",
       "[122] *(adjA::LinearAlgebra.Adjoint{#s576,#s575} where #s575<:SparseArrays.SparseMatrixCSC{TA,S} where #s576, B::Union{DenseArray{Tx,2}, ReinterpretArray{Tx,2,S,A} where S where A<:Union{SubArray{T,N,A,I,true} where I<:Tuple{AbstractUnitRange,Vararg{Any,N} where N} where A<:DenseArray where N where T, DenseArray}, ReshapedArray{Tx,2,A,MI} where MI<:Tuple{Vararg{SignedMultiplicativeInverse{Int64},N} where N} where A<:Union{ReinterpretArray{T,N,S,A} where S where A<:Union{SubArray{T,N,A,I,true} where I<:Tuple{AbstractUnitRange,Vararg{Any,N} where N} where A<:DenseArray where N where T, DenseArray} where N where T, SubArray{T,N,A,I,true} where I<:Tuple{AbstractUnitRange,Vararg{Any,N} where N} where A<:DenseArray where N where T, DenseArray}, SubArray{Tx,2,A,I,L} where L where I<:Tuple{Vararg{Union{Int64, AbstractRange{Int64}, AbstractCartesianIndex},N} where N} where A<:Union{ReinterpretArray{T,N,S,A} where S where A<:Union{SubArray{T,N,A,I,true} where I<:Tuple{AbstractUnitRange,Vararg{Any,N} where N} where A<:DenseArray where N where T, DenseArray} where N where T, ReshapedArray{T,N,A,MI} where MI<:Tuple{Vararg{SignedMultiplicativeInverse{Int64},N} where N} where A<:Union{ReinterpretArray{T,N,S,A} where S where A<:Union{SubArray{T,N,A,I,true} where I<:Tuple{AbstractUnitRange,Vararg{Any,N} where N} where A<:DenseArray where N where T, DenseArray} where N where T, SubArray{T,N,A,I,true} where I<:Tuple{AbstractUnitRange,Vararg{Any,N} where N} where A<:DenseArray where N where T, DenseArray} where N where T, DenseArray}}) where {TA, S, Tx} in SparseArrays at /Users/julia/buildbot/worker/package_macos64/build/usr/share/julia/stdlib/v1.0/SparseArrays/src/linalg.jl:79\n",
       "[123] *(adjA::LinearAlgebra.Adjoint{#s576,#s575} where #s575<:SuiteSparse.CHOLMOD.Sparse where #s576, B::SuiteSparse.CHOLMOD.Sparse) in SuiteSparse.CHOLMOD at /Users/julia/buildbot/worker/package_macos64/build/usr/share/julia/stdlib/v1.0/SuiteSparse/src/cholmod.jl:1332\n",
       "[124] *(adjA::LinearAlgebra.Adjoint{#s576,#s575} where #s575<:SuiteSparse.CHOLMOD.Sparse where #s576, B::SuiteSparse.CHOLMOD.Dense) in SuiteSparse.CHOLMOD at /Users/julia/buildbot/worker/package_macos64/build/usr/share/julia/stdlib/v1.0/SuiteSparse/src/cholmod.jl:1341\n",
       "[125] *(adjA::LinearAlgebra.Adjoint{#s576,#s575} where #s575<:SuiteSparse.CHOLMOD.Sparse where #s576, B::Union{Array{T,1}, Array{T,2}} where T) in SuiteSparse.CHOLMOD at /Users/julia/buildbot/worker/package_macos64/build/usr/share/julia/stdlib/v1.0/SuiteSparse/src/cholmod.jl:1343\n",
       "[126] *(u::LinearAlgebra.Adjoint{T,#s576} where #s576<:(AbstractArray{T,1} where T) where T, v::AbstractArray{T,1} where T) in LinearAlgebra at /Users/julia/buildbot/worker/package_macos64/build/usr/share/julia/stdlib/v1.0/LinearAlgebra/src/adjtrans.jl:197\n",
       "[127] *(u::LinearAlgebra.Transpose{T,#s576} where #s576<:(AbstractArray{T,1} where T), v::AbstractArray{T,1}) where T<:Real in LinearAlgebra at /Users/julia/buildbot/worker/package_macos64/build/usr/share/julia/stdlib/v1.0/LinearAlgebra/src/adjtrans.jl:198\n",
       "[128] *(u::LinearAlgebra.Transpose{T,#s576} where #s576<:(AbstractArray{T,1} where T) where T, v::LinearAlgebra.Transpose{#s576,#s575} where #s575<:(LinearAlgebra.Adjoint{T,#s576} where #s576<:(AbstractArray{T,1} where T) where T) where #s576) in LinearAlgebra at /Users/julia/buildbot/worker/package_macos64/build/usr/share/julia/stdlib/v1.0/LinearAlgebra/src/adjtrans.jl:217\n",
       "[129] *(A::LinearAlgebra.Transpose{#s576,#s575} where #s575<:LinearAlgebra.AbstractTriangular where #s576, B::LinearAlgebra.Transpose{#s574,#s573} where #s573<:LinearAlgebra.AbstractTriangular where #s574) in LinearAlgebra at /Users/julia/buildbot/worker/package_macos64/build/usr/share/julia/stdlib/v1.0/LinearAlgebra/src/triangular.jl:1970\n",
       "[130] *(A::LinearAlgebra.Transpose{#s576,#s575} where #s575<:(Union{Hermitian{T,S}, Symmetric{T,S}, Symmetric{Complex{T},S}} where S where T<:Real) where #s576, B::LinearAlgebra.Transpose{#s574,#s573} where #s573<:LinearAlgebra.AbstractTriangular where #s574) in LinearAlgebra at /Users/julia/buildbot/worker/package_macos64/build/usr/share/julia/stdlib/v1.0/LinearAlgebra/src/symmetric.jl:865\n",
       "[131] *(v::LinearAlgebra.Transpose{T,#s576} where #s576<:(AbstractArray{T,1} where T) where T, A::LinearAlgebra.Transpose{#s576,#s575} where #s575<:LinearAlgebra.AbstractTriangular where #s576) in LinearAlgebra at /Users/julia/buildbot/worker/package_macos64/build/usr/share/julia/stdlib/v1.0/LinearAlgebra/src/triangular.jl:1955\n",
       "[132] *(A::LinearAlgebra.Transpose{#s576,#s575} where #s575<:LinearAlgebra.AbstractTriangular where #s576, B::LinearAlgebra.Transpose{#s574,#s573} where #s573<:(Union{Hermitian{T,S}, Symmetric{T,S}, Symmetric{Complex{T},S}} where S where T<:Real) where #s574) in LinearAlgebra at /Users/julia/buildbot/worker/package_macos64/build/usr/share/julia/stdlib/v1.0/LinearAlgebra/src/symmetric.jl:861\n",
       "[133] *(A::LinearAlgebra.Transpose{#s576,#s575} where #s575<:LinearAlgebra.AbstractTriangular where #s576, B::LinearAlgebra.Transpose{#s574,#s573} where #s573<:(AbstractArray{T,1} where T) where #s574) in LinearAlgebra at /Users/julia/buildbot/worker/package_macos64/build/usr/share/julia/stdlib/v1.0/LinearAlgebra/src/triangular.jl:2487\n",
       "[134] *(transA::LinearAlgebra.Transpose{#s576,#s575} where #s575<:(Union{Hermitian{T,S}, Symmetric{T,S}, Symmetric{Complex{T},S}} where S where T<:Real) where #s576, transB::LinearAlgebra.Transpose{#s574,#s573} where #s573<:(Union{Hermitian{T,S}, Symmetric{T,S}, Symmetric{Complex{T},S}} where S where T<:Real) where #s574) in LinearAlgebra at /Users/julia/buildbot/worker/package_macos64/build/usr/share/julia/stdlib/v1.0/LinearAlgebra/src/symmetric.jl:430\n",
       "[135] *(transA::LinearAlgebra.Transpose{#s576,#s575} where #s575<:(Union{Hermitian{T,S}, Symmetric{T,S}, Symmetric{Complex{T},S}} where S where T<:Real) where #s576, transB::LinearAlgebra.Transpose{#s574,#s573} where #s573<:(Union{Hermitian{T,S}, Hermitian{Complex{T},S}, Symmetric{T,S}} where S where T<:Real) where #s574) in LinearAlgebra at /Users/julia/buildbot/worker/package_macos64/build/usr/share/julia/stdlib/v1.0/LinearAlgebra/src/symmetric.jl:431\n",
       "[136] *(transA::LinearAlgebra.Transpose{#s576,#s575} where #s575<:(Union{Hermitian{T,S}, Hermitian{Complex{T},S}, Symmetric{T,S}} where S where T<:Real) where #s576, transB::LinearAlgebra.Transpose{#s574,#s573} where #s573<:(Union{Hermitian{T,S}, Symmetric{T,S}, Symmetric{Complex{T},S}} where S where T<:Real) where #s574) in LinearAlgebra at /Users/julia/buildbot/worker/package_macos64/build/usr/share/julia/stdlib/v1.0/LinearAlgebra/src/symmetric.jl:432\n",
       "[137] *(transD::LinearAlgebra.Transpose{#s576,#s575} where #s575<:LinearAlgebra.Diagonal where #s576, transA::LinearAlgebra.Transpose{#s574,#s573} where #s573<:(Union{Hermitian{T,S}, Symmetric{T,S}, Symmetric{Complex{T},S}} where S where T<:Real) where #s574) in LinearAlgebra at /Users/julia/buildbot/worker/package_macos64/build/usr/share/julia/stdlib/v1.0/LinearAlgebra/src/diagonal.jl:291\n",
       "[138] *(A::LinearAlgebra.Transpose{#s576,#s575} where #s575<:(AbstractArray{T,1} where T) where #s576, B::LinearAlgebra.Transpose{#s574,#s573} where #s573<:(Union{Hermitian{T,S}, Symmetric{T,S}, Symmetric{Complex{T},S}} where S where T<:Real) where #s574) in LinearAlgebra at /Users/julia/buildbot/worker/package_macos64/build/usr/share/julia/stdlib/v1.0/LinearAlgebra/src/symmetric.jl:845\n",
       "[139] *(transA::LinearAlgebra.Transpose{#s576,#s575} where #s575<:(Union{Hermitian{T,S}, Symmetric{T,S}, Symmetric{Complex{T},S}} where S where T<:Real) where #s576, transD::LinearAlgebra.Transpose{#s574,#s573} where #s573<:LinearAlgebra.Diagonal where #s574) in LinearAlgebra at /Users/julia/buildbot/worker/package_macos64/build/usr/share/julia/stdlib/v1.0/LinearAlgebra/src/diagonal.jl:290\n",
       "[140] *(A::LinearAlgebra.Transpose{#s576,#s575} where #s575<:(Union{Hermitian{T,S}, Symmetric{T,S}, Symmetric{Complex{T},S}} where S where T<:Real) where #s576, B::LinearAlgebra.Transpose{#s574,#s573} where #s573<:(AbstractArray{T,1} where T) where #s574) in LinearAlgebra at /Users/julia/buildbot/worker/package_macos64/build/usr/share/julia/stdlib/v1.0/LinearAlgebra/src/symmetric.jl:854\n",
       "[141] *(D::LinearAlgebra.Transpose{#s576,#s575} where #s575<:LinearAlgebra.Diagonal where #s576, B::LinearAlgebra.Transpose{#s574,#s573} where #s573<:LinearAlgebra.Diagonal where #s574) in LinearAlgebra at /Users/julia/buildbot/worker/package_macos64/build/usr/share/julia/stdlib/v1.0/LinearAlgebra/src/diagonal.jl:251\n",
       "[142] *(A::LinearAlgebra.Transpose{#s576,#s575} where #s575<:SparseArrays.SparseMatrixCSC{Tv,Ti} where #s576, B::LinearAlgebra.Transpose{#s574,#s573} where #s573<:SparseArrays.SparseMatrixCSC{Tv,Ti} where #s574) where {Tv, Ti} in SparseArrays at /Users/julia/buildbot/worker/package_macos64/build/usr/share/julia/stdlib/v1.0/SparseArrays/src/linalg.jl:147\n",
       "[143] *(transA::LinearAlgebra.Transpose{#s576,#s575} where #s575<:SparseArrays.SparseMatrixCSC{TvA,TiA} where #s576, transB::LinearAlgebra.Transpose{#s574,#s573} where #s573<:SparseArrays.SparseMatrixCSC{TvB,TiB} where #s574) where {TvA, TiA, TvB, TiB} in SparseArrays at /Users/julia/buildbot/worker/package_macos64/build/usr/share/julia/stdlib/v1.0/SparseArrays/src/linalg.jl:17\n",
       "[144] *(u::LinearAlgebra.Transpose{T,#s576} where #s576<:(AbstractArray{T,1} where T) where T, v::LinearAlgebra.Transpose{T,#s576} where #s576<:(AbstractArray{T,1} where T) where T) in LinearAlgebra at /Users/julia/buildbot/worker/package_macos64/build/usr/share/julia/stdlib/v1.0/LinearAlgebra/src/adjtrans.jl:209\n",
       "[145] *(u::LinearAlgebra.Transpose{T,#s576} where #s576<:(AbstractArray{T,1} where T) where T, v::LinearAlgebra.Adjoint{#s576,#s575} where #s575<:(LinearAlgebra.Transpose{T,#s576} where #s576<:(AbstractArray{T,1} where T) where T) where #s576) in LinearAlgebra at /Users/julia/buildbot/worker/package_macos64/build/usr/share/julia/stdlib/v1.0/LinearAlgebra/src/adjtrans.jl:213\n",
       "[146] *(transx::LinearAlgebra.Transpose{#s576,#s575} where #s575<:Union{DenseArray{T,1}, ReinterpretArray{T,1,S,A} where S where A<:Union{SubArray{T,N,A,I,true} where I<:Tuple{AbstractUnitRange,Vararg{Any,N} where N} where A<:DenseArray where N where T, DenseArray}, ReshapedArray{T,1,A,MI} where MI<:Tuple{Vararg{SignedMultiplicativeInverse{Int64},N} where N} where A<:Union{ReinterpretArray{T,N,S,A} where S where A<:Union{SubArray{T,N,A,I,true} where I<:Tuple{AbstractUnitRange,Vararg{Any,N} where N} where A<:DenseArray where N where T, DenseArray} where N where T, SubArray{T,N,A,I,true} where I<:Tuple{AbstractUnitRange,Vararg{Any,N} where N} where A<:DenseArray where N where T, DenseArray}, SubArray{T,1,A,I,L} where L where I<:Tuple{Vararg{Union{Int64, AbstractRange{Int64}, AbstractCartesianIndex},N} where N} where A<:Union{ReinterpretArray{T,N,S,A} where S where A<:Union{SubArray{T,N,A,I,true} where I<:Tuple{AbstractUnitRange,Vararg{Any,N} where N} where A<:DenseArray where N where T, DenseArray} where N where T, ReshapedArray{T,N,A,MI} where MI<:Tuple{Vararg{SignedMultiplicativeInverse{Int64},N} where N} where A<:Union{ReinterpretArray{T,N,S,A} where S where A<:Union{SubArray{T,N,A,I,true} where I<:Tuple{AbstractUnitRange,Vararg{Any,N} where N} where A<:DenseArray where N where T, DenseArray} where N where T, SubArray{T,N,A,I,true} where I<:Tuple{AbstractUnitRange,Vararg{Any,N} where N} where A<:DenseArray where N where T, DenseArray} where N where T, DenseArray}} where #s576, y::Union{DenseArray{T,1}, ReinterpretArray{T,1,S,A} where S where A<:Union{SubArray{T,N,A,I,true} where I<:Tuple{AbstractUnitRange,Vararg{Any,N} where N} where A<:DenseArray where N where T, DenseArray}, ReshapedArray{T,1,A,MI} where MI<:Tuple{Vararg{SignedMultiplicativeInverse{Int64},N} where N} where A<:Union{ReinterpretArray{T,N,S,A} where S where A<:Union{SubArray{T,N,A,I,true} where I<:Tuple{AbstractUnitRange,Vararg{Any,N} where N} where A<:DenseArray where N where T, DenseArray} where N where T, SubArray{T,N,A,I,true} where I<:Tuple{AbstractUnitRange,Vararg{Any,N} where N} where A<:DenseArray where N where T, DenseArray}, SubArray{T,1,A,I,L} where L where I<:Tuple{Vararg{Union{Int64, AbstractRange{Int64}, AbstractCartesianIndex},N} where N} where A<:Union{ReinterpretArray{T,N,S,A} where S where A<:Union{SubArray{T,N,A,I,true} where I<:Tuple{AbstractUnitRange,Vararg{Any,N} where N} where A<:DenseArray where N where T, DenseArray} where N where T, ReshapedArray{T,N,A,MI} where MI<:Tuple{Vararg{SignedMultiplicativeInverse{Int64},N} where N} where A<:Union{ReinterpretArray{T,N,S,A} where S where A<:Union{SubArray{T,N,A,I,true} where I<:Tuple{AbstractUnitRange,Vararg{Any,N} where N} where A<:DenseArray where N where T, DenseArray} where N where T, SubArray{T,N,A,I,true} where I<:Tuple{AbstractUnitRange,Vararg{Any,N} where N} where A<:DenseArray where N where T, DenseArray} where N where T, DenseArray}}) where T<:Union{Complex{Float32}, Complex{Float64}} in LinearAlgebra at /Users/julia/buildbot/worker/package_macos64/build/usr/share/julia/stdlib/v1.0/LinearAlgebra/src/matmul.jl:39\n",
       "[147] *(transA::LinearAlgebra.Transpose{#s576,#s575} where #s575<:Union{DenseArray{T,2}, ReinterpretArray{T,2,S,A} where S where A<:Union{SubArray{T,N,A,I,true} where I<:Tuple{AbstractUnitRange,Vararg{Any,N} where N} where A<:DenseArray where N where T, DenseArray}, ReshapedArray{T,2,A,MI} where MI<:Tuple{Vararg{SignedMultiplicativeInverse{Int64},N} where N} where A<:Union{ReinterpretArray{T,N,S,A} where S where A<:Union{SubArray{T,N,A,I,true} where I<:Tuple{AbstractUnitRange,Vararg{Any,N} where N} where A<:DenseArray where N where T, DenseArray} where N where T, SubArray{T,N,A,I,true} where I<:Tuple{AbstractUnitRange,Vararg{Any,N} where N} where A<:DenseArray where N where T, DenseArray}, SubArray{T,2,A,I,L} where L where I<:Tuple{Vararg{Union{Int64, AbstractRange{Int64}, AbstractCartesianIndex},N} where N} where A<:Union{ReinterpretArray{T,N,S,A} where S where A<:Union{SubArray{T,N,A,I,true} where I<:Tuple{AbstractUnitRange,Vararg{Any,N} where N} where A<:DenseArray where N where T, DenseArray} where N where T, ReshapedArray{T,N,A,MI} where MI<:Tuple{Vararg{SignedMultiplicativeInverse{Int64},N} where N} where A<:Union{ReinterpretArray{T,N,S,A} where S where A<:Union{SubArray{T,N,A,I,true} where I<:Tuple{AbstractUnitRange,Vararg{Any,N} where N} where A<:DenseArray where N where T, DenseArray} where N where T, SubArray{T,N,A,I,true} where I<:Tuple{AbstractUnitRange,Vararg{Any,N} where N} where A<:DenseArray where N where T, DenseArray} where N where T, DenseArray}} where #s576, x::Union{DenseArray{S,1}, ReinterpretArray{S,1,S1,A} where S1 where A<:Union{SubArray{T,N,A,I,true} where I<:Tuple{AbstractUnitRange,Vararg{Any,N} where N} where A<:DenseArray where N where T, DenseArray}, ReshapedArray{S,1,A,MI} where MI<:Tuple{Vararg{SignedMultiplicativeInverse{Int64},N} where N} where A<:Union{ReinterpretArray{T,N,S,A} where S where A<:Union{SubArray{T,N,A,I,true} where I<:Tuple{AbstractUnitRange,Vararg{Any,N} where N} where A<:DenseArray where N where T, DenseArray} where N where T, SubArray{T,N,A,I,true} where I<:Tuple{AbstractUnitRange,Vararg{Any,N} where N} where A<:DenseArray where N where T, DenseArray}, SubArray{S,1,A,I,L} where L where I<:Tuple{Vararg{Union{Int64, AbstractRange{Int64}, AbstractCartesianIndex},N} where N} where A<:Union{ReinterpretArray{T,N,S,A} where S where A<:Union{SubArray{T,N,A,I,true} where I<:Tuple{AbstractUnitRange,Vararg{Any,N} where N} where A<:DenseArray where N where T, DenseArray} where N where T, ReshapedArray{T,N,A,MI} where MI<:Tuple{Vararg{SignedMultiplicativeInverse{Int64},N} where N} where A<:Union{ReinterpretArray{T,N,S,A} where S where A<:Union{SubArray{T,N,A,I,true} where I<:Tuple{AbstractUnitRange,Vararg{Any,N} where N} where A<:DenseArray where N where T, DenseArray} where N where T, SubArray{T,N,A,I,true} where I<:Tuple{AbstractUnitRange,Vararg{Any,N} where N} where A<:DenseArray where N where T, DenseArray} where N where T, DenseArray}}) where {T<:Union{Complex{Float32}, Complex{Float64}, Float32, Float64}, S} in LinearAlgebra at /Users/julia/buildbot/worker/package_macos64/build/usr/share/julia/stdlib/v1.0/LinearAlgebra/src/matmul.jl:79\n",
       "[148] *(xformA::LinearAlgebra.Transpose{#s576,#s575} where #s575<:LinearAlgebra.UpperTriangular where #s576, B::LinearAlgebra.LowerTriangular) in LinearAlgebra at /Users/julia/buildbot/worker/package_macos64/build/usr/share/julia/stdlib/v1.0/LinearAlgebra/src/triangular.jl:1647\n",
       "[149] *(xformA::LinearAlgebra.Transpose{#s574,#s573} where #s573<:LinearAlgebra.UnitUpperTriangular where #s574, B::LinearAlgebra.LowerTriangular) in LinearAlgebra at /Users/julia/buildbot/worker/package_macos64/build/usr/share/julia/stdlib/v1.0/LinearAlgebra/src/triangular.jl:1656\n",
       "[150] *(xformA::LinearAlgebra.Transpose{#s572,#s571} where #s571<:LinearAlgebra.LowerTriangular where #s572, B::LinearAlgebra.UpperTriangular) in LinearAlgebra at /Users/julia/buildbot/worker/package_macos64/build/usr/share/julia/stdlib/v1.0/LinearAlgebra/src/triangular.jl:1665\n",
       "[151] *(xformA::LinearAlgebra.Transpose{#s570,#s569} where #s569<:LinearAlgebra.UnitLowerTriangular where #s570, B::LinearAlgebra.UpperTriangular) in LinearAlgebra at /Users/julia/buildbot/worker/package_macos64/build/usr/share/julia/stdlib/v1.0/LinearAlgebra/src/triangular.jl:1674\n",
       "[152] *(transA::LinearAlgebra.Transpose{#s576,#s575} where #s575<:LinearAlgebra.AbstractTriangular where #s576, B::LinearAlgebra.AbstractTriangular) in LinearAlgebra at /Users/julia/buildbot/worker/package_macos64/build/usr/share/julia/stdlib/v1.0/LinearAlgebra/src/triangular.jl:1772\n",
       "[153] *(A::LinearAlgebra.Transpose{#s576,#s575} where #s575<:LinearAlgebra.AbstractTriangular where #s576, B::LinearAlgebra.Transpose{#s574,#s573} where #s573<:(AbstractArray{T,2} where T) where #s574) in LinearAlgebra at /Users/julia/buildbot/worker/package_macos64/build/usr/share/julia/stdlib/v1.0/LinearAlgebra/src/triangular.jl:1971\n",
       "[154] *(A::LinearAlgebra.Transpose{#s576,#s575} where #s575<:LinearAlgebra.AbstractTriangular where #s576, B::LinearAlgebra.Adjoint{#s574,#s573} where #s573<:LinearAlgebra.AbstractTriangular where #s574) in LinearAlgebra at /Users/julia/buildbot/worker/package_macos64/build/usr/share/julia/stdlib/v1.0/LinearAlgebra/src/triangular.jl:2482\n",
       "[155] *(A::LinearAlgebra.Transpose{#s576,#s575} where #s575<:LinearAlgebra.AbstractTriangular where #s576, B::LinearAlgebra.Adjoint{#s574,#s573} where #s573<:(Union{Hermitian{T,S}, Hermitian{Complex{T},S}, Symmetric{T,S}} where S where T<:Real) where #s574) in LinearAlgebra at /Users/julia/buildbot/worker/package_macos64/build/usr/share/julia/stdlib/v1.0/LinearAlgebra/src/symmetric.jl:860\n",
       "[156] *(A::LinearAlgebra.Transpose{#s576,#s575} where #s575<:LinearAlgebra.AbstractTriangular where #s576, B::LinearAlgebra.Adjoint{#s574,#s573} where #s573<:(AbstractArray{T,1} where T) where #s574) in LinearAlgebra at /Users/julia/buildbot/worker/package_macos64/build/usr/share/julia/stdlib/v1.0/LinearAlgebra/src/triangular.jl:2488\n",
       "[157] *(A::LinearAlgebra.Transpose{#s576,#s575} where #s575<:LinearAlgebra.AbstractTriangular where #s576, B::LinearAlgebra.Adjoint{#s574,#s573} where #s573<:(AbstractArray{T,2} where T) where #s574) in LinearAlgebra at /Users/julia/buildbot/worker/package_macos64/build/usr/share/julia/stdlib/v1.0/LinearAlgebra/src/triangular.jl:2489\n",
       "[158] *(A::LinearAlgebra.Transpose{#s576,#s575} where #s575<:LinearAlgebra.AbstractTriangular where #s576, D::LinearAlgebra.Diagonal) in LinearAlgebra at /Users/julia/buildbot/worker/package_macos64/build/usr/share/julia/stdlib/v1.0/LinearAlgebra/src/diagonal.jl:222\n",
       "[159] *(A::LinearAlgebra.Transpose{#s576,#s575} where #s575<:LinearAlgebra.AbstractTriangular where #s576, B::LinearAlgebra.Adjoint{#s574,#s573} where #s573<:LinearAlgebra.AbstractRotation where #s574) in LinearAlgebra at /Users/julia/buildbot/worker/package_macos64/build/usr/share/julia/stdlib/v1.0/LinearAlgebra/src/givens.jl:393\n",
       "[160] *(transA::LinearAlgebra.Transpose{#s574,#s573} where #s573<:LinearAlgebra.AbstractTriangular where #s574, B::AbstractArray{T,1} where T) in LinearAlgebra at /Users/julia/buildbot/worker/package_macos64/build/usr/share/julia/stdlib/v1.0/LinearAlgebra/src/triangular.jl:1813\n",
       "[161] *(transA::LinearAlgebra.Transpose{#s576,#s575} where #s575<:(Union{Hermitian{T,S}, Symmetric{T,S}, Symmetric{Complex{T},S}} where S where T<:Real) where #s576, B::LinearAlgebra.AbstractTriangular) in LinearAlgebra at /Users/julia/buildbot/worker/package_macos64/build/usr/share/julia/stdlib/v1.0/LinearAlgebra/src/symmetric.jl:438\n",
       "[162] *(v::LinearAlgebra.Transpose{T,#s576} where #s576<:(AbstractArray{T,1} where T) where T, A::LinearAlgebra.AbstractTriangular) in LinearAlgebra at /Users/julia/buildbot/worker/package_macos64/build/usr/share/julia/stdlib/v1.0/LinearAlgebra/src/triangular.jl:1953\n",
       "[163] *(A::LinearAlgebra.Transpose{#s576,#s575} where #s575<:(Union{Hermitian{T,S}, Symmetric{T,S}, Symmetric{Complex{T},S}} where S where T<:Real) where #s576, B::LinearAlgebra.Adjoint{#s574,#s573} where #s573<:LinearAlgebra.AbstractTriangular where #s574) in LinearAlgebra at /Users/julia/buildbot/worker/package_macos64/build/usr/share/julia/stdlib/v1.0/LinearAlgebra/src/symmetric.jl:864\n",
       "[164] *(A::LinearAlgebra.Transpose{#s576,#s575} where #s575<:(AbstractArray{T,1} where T) where #s576, B::LinearAlgebra.Adjoint{#s574,#s573} where #s573<:LinearAlgebra.AbstractTriangular where #s574) in LinearAlgebra at /Users/julia/buildbot/worker/package_macos64/build/usr/share/julia/stdlib/v1.0/LinearAlgebra/src/triangular.jl:2493\n",
       "[165] *(A::LinearAlgebra.Transpose{#s576,#s575} where #s575<:(Union{Hermitian{T,S}, Symmetric{T,S}, Symmetric{Complex{T},S}} where S where T<:Real) where #s576, B::LinearAlgebra.Adjoint{#s574,#s573} where #s573<:(Union{Hermitian{T,S}, Hermitian{Complex{T},S}, Symmetric{T,S}} where S where T<:Real) where #s574) in LinearAlgebra at /Users/julia/buildbot/worker/package_macos64/build/usr/share/julia/stdlib/v1.0/LinearAlgebra/src/symmetric.jl:837\n",
       "[166] *(A::LinearAlgebra.Transpose{#s576,#s575} where #s575<:(Union{Hermitian{T,S}, Symmetric{T,S}, Symmetric{Complex{T},S}} where S where T<:Real) where #s576, B::LinearAlgebra.Adjoint{#s574,#s573} where #s573<:(AbstractArray{T,1} where T) where #s574) in LinearAlgebra at /Users/julia/buildbot/worker/package_macos64/build/usr/share/julia/stdlib/v1.0/LinearAlgebra/src/symmetric.jl:852\n",
       "[167] *(A::LinearAlgebra.Transpose{#s576,#s575} where #s575<:(Union{Hermitian{T,S}, Symmetric{T,S}, Symmetric{Complex{T},S}} where S where T<:Real) where #s576, B::LinearAlgebra.Adjoint{#s574,#s573} where #s573<:(AbstractArray{T,2} where T) where #s574) in LinearAlgebra at /Users/julia/buildbot/worker/package_macos64/build/usr/share/julia/stdlib/v1.0/LinearAlgebra/src/symmetric.jl:853\n",
       "[168] *(A::LinearAlgebra.Transpose{#s576,#s575} where #s575<:(Union{Hermitian{T,S}, Symmetric{T,S}, Symmetric{Complex{T},S}} where S where T<:Real) where #s576, B::LinearAlgebra.Transpose{#s574,#s573} where #s573<:(AbstractArray{T,2} where T) where #s574) in LinearAlgebra at /Users/julia/buildbot/worker/package_macos64/build/usr/share/julia/stdlib/v1.0/LinearAlgebra/src/symmetric.jl:855\n",
       "[169] *(transA::LinearAlgebra.Transpose{#s576,#s575} where #s575<:(Union{Hermitian{T,S}, Symmetric{T,S}, Symmetric{Complex{T},S}} where S where T<:Real) where #s576, B::LinearAlgebra.Diagonal) in LinearAlgebra at /Users/julia/buildbot/worker/package_macos64/build/usr/share/julia/stdlib/v1.0/LinearAlgebra/src/diagonal.jl:287\n",
       "[170] *(A::LinearAlgebra.Transpose{#s576,#s575} where #s575<:(Union{Hermitian{T,S}, Symmetric{T,S}, Symmetric{Complex{T},S}} where S where T<:Real) where #s576, B::LinearAlgebra.Adjoint{#s574,#s573} where #s573<:LinearAlgebra.AbstractRotation where #s574) in LinearAlgebra at /Users/julia/buildbot/worker/package_macos64/build/usr/share/julia/stdlib/v1.0/LinearAlgebra/src/givens.jl:395\n",
       "[171] *(transA::LinearAlgebra.Transpose{#s576,#s575} where #s575<:(Union{Hermitian{T,S}, Symmetric{T,S}, Symmetric{Complex{T},S}} where S where T<:Real) where #s576, B::AbstractArray{T,1} where T) in LinearAlgebra at /Users/julia/buildbot/worker/package_macos64/build/usr/share/julia/stdlib/v1.0/LinearAlgebra/src/symmetric.jl:421\n",
       "[172] *(A::LinearAlgebra.Transpose{#s576,#s575} where #s575<:(AbstractArray{T,1} where T) where #s576, B::LinearAlgebra.Adjoint{#s574,#s573} where #s573<:(Union{Hermitian{T,S}, Hermitian{Complex{T},S}, Symmetric{T,S}} where S where T<:Real) where #s574) in LinearAlgebra at /Users/julia/buildbot/worker/package_macos64/build/usr/share/julia/stdlib/v1.0/LinearAlgebra/src/symmetric.jl:843\n",
       "[173] *(D::LinearAlgebra.Transpose{#s576,#s575} where #s575<:LinearAlgebra.Diagonal where #s576, B::LinearAlgebra.Diagonal) in LinearAlgebra at /Users/julia/buildbot/worker/package_macos64/build/usr/share/julia/stdlib/v1.0/LinearAlgebra/src/diagonal.jl:221\n",
       "[174] *(x::LinearAlgebra.Transpose{#s576,#s575} where #s575<:(AbstractArray{T,1} where T) where #s576, D::LinearAlgebra.Diagonal) in LinearAlgebra at /Users/julia/buildbot/worker/package_macos64/build/usr/share/julia/stdlib/v1.0/LinearAlgebra/src/diagonal.jl:511\n",
       "[175] *(x::LinearAlgebra.Transpose{#s576,#s575} where #s575<:(AbstractArray{T,1} where T) where #s576, D::LinearAlgebra.Diagonal, y::AbstractArray{T,1} where T) in LinearAlgebra at /Users/julia/buildbot/worker/package_macos64/build/usr/share/julia/stdlib/v1.0/LinearAlgebra/src/diagonal.jl:512\n",
       "[176] *(A::LinearAlgebra.Transpose{#s576,#s575} where #s575<:(AbstractArray{T,1} where T) where #s576, B::LinearAlgebra.Adjoint{#s574,#s573} where #s573<:LinearAlgebra.AbstractRotation where #s574) in LinearAlgebra at /Users/julia/buildbot/worker/package_macos64/build/usr/share/julia/stdlib/v1.0/LinearAlgebra/src/givens.jl:389\n",
       "[177] *(transA::LinearAlgebra.Transpose{#s576,#s575} where #s575<:Union{DenseArray{Ta,2}, ReinterpretArray{Ta,2,S,A} where S where A<:Union{SubArray{T,N,A,I,true} where I<:Tuple{AbstractUnitRange,Vararg{Any,N} where N} where A<:DenseArray where N where T, DenseArray}, ReshapedArray{Ta,2,A,MI} where MI<:Tuple{Vararg{SignedMultiplicativeInverse{Int64},N} where N} where A<:Union{ReinterpretArray{T,N,S,A} where S where A<:Union{SubArray{T,N,A,I,true} where I<:Tuple{AbstractUnitRange,Vararg{Any,N} where N} where A<:DenseArray where N where T, DenseArray} where N where T, SubArray{T,N,A,I,true} where I<:Tuple{AbstractUnitRange,Vararg{Any,N} where N} where A<:DenseArray where N where T, DenseArray}, SubArray{Ta,2,A,I,L} where L where I<:Tuple{Vararg{Union{Int64, AbstractRange{Int64}, AbstractCartesianIndex},N} where N} where A<:Union{ReinterpretArray{T,N,S,A} where S where A<:Union{SubArray{T,N,A,I,true} where I<:Tuple{AbstractUnitRange,Vararg{Any,N} where N} where A<:DenseArray where N where T, DenseArray} where N where T, ReshapedArray{T,N,A,MI} where MI<:Tuple{Vararg{SignedMultiplicativeInverse{Int64},N} where N} where A<:Union{ReinterpretArray{T,N,S,A} where S where A<:Union{SubArray{T,N,A,I,true} where I<:Tuple{AbstractUnitRange,Vararg{Any,N} where N} where A<:DenseArray where N where T, DenseArray} where N where T, SubArray{T,N,A,I,true} where I<:Tuple{AbstractUnitRange,Vararg{Any,N} where N} where A<:DenseArray where N where T, DenseArray} where N where T, DenseArray}} where #s576, x::SparseArrays.AbstractSparseArray{Tx,Ti,1} where Ti) where {Ta, Tx} in SparseArrays at /Users/julia/buildbot/worker/package_macos64/build/usr/share/julia/stdlib/v1.0/SparseArrays/src/sparsevector.jl:1519\n",
       "[178] *(transA::LinearAlgebra.Transpose{#s576,#s575} where #s575<:SparseArrays.SparseMatrixCSC where #s576, x::SparseArrays.AbstractSparseArray{Tv,Ti,1} where Ti where Tv) in SparseArrays at /Users/julia/buildbot/worker/package_macos64/build/usr/share/julia/stdlib/v1.0/SparseArrays/src/sparsevector.jl:1673\n",
       "[179] *(A::LinearAlgebra.Transpose{#s576,#s575} where #s575<:SparseArrays.SparseMatrixCSC{Tv,Ti} where #s576, B::SparseArrays.SparseMatrixCSC{Tv,Ti}) where {Tv, Ti} in SparseArrays at /Users/julia/buildbot/worker/package_macos64/build/usr/share/julia/stdlib/v1.0/SparseArrays/src/linalg.jl:144\n",
       "[180] *(transA::LinearAlgebra.Transpose{#s576,#s575} where #s575<:SparseArrays.SparseMatrixCSC{TvA,TiA} where #s576, B::SparseArrays.SparseMatrixCSC{TvB,TiB}) where {TvA, TiA, TvB, TiB} in SparseArrays at /Users/julia/buildbot/worker/package_macos64/build/usr/share/julia/stdlib/v1.0/SparseArrays/src/linalg.jl:13\n",
       "[181] *(transA::LinearAlgebra.Transpose{#s576,#s575} where #s575<:SparseArrays.SparseMatrixCSC{TA,S} where #s576, x::Union{DenseArray{Tx,1}, ReinterpretArray{Tx,1,S,A} where S where A<:Union{SubArray{T,N,A,I,true} where I<:Tuple{AbstractUnitRange,Vararg{Any,N} where N} where A<:DenseArray where N where T, DenseArray}, ReshapedArray{Tx,1,A,MI} where MI<:Tuple{Vararg{SignedMultiplicativeInverse{Int64},N} where N} where A<:Union{ReinterpretArray{T,N,S,A} where S where A<:Union{SubArray{T,N,A,I,true} where I<:Tuple{AbstractUnitRange,Vararg{Any,N} where N} where A<:DenseArray where N where T, DenseArray} where N where T, SubArray{T,N,A,I,true} where I<:Tuple{AbstractUnitRange,Vararg{Any,N} where N} where A<:DenseArray where N where T, DenseArray}, SubArray{Tx,1,A,I,L} where L where I<:Tuple{Vararg{Union{Int64, AbstractRange{Int64}, AbstractCartesianIndex},N} where N} where A<:Union{ReinterpretArray{T,N,S,A} where S where A<:Union{SubArray{T,N,A,I,true} where I<:Tuple{AbstractUnitRange,Vararg{Any,N} where N} where A<:DenseArray where N where T, DenseArray} where N where T, ReshapedArray{T,N,A,MI} where MI<:Tuple{Vararg{SignedMultiplicativeInverse{Int64},N} where N} where A<:Union{ReinterpretArray{T,N,S,A} where S where A<:Union{SubArray{T,N,A,I,true} where I<:Tuple{AbstractUnitRange,Vararg{Any,N} where N} where A<:DenseArray where N where T, DenseArray} where N where T, SubArray{T,N,A,I,true} where I<:Tuple{AbstractUnitRange,Vararg{Any,N} where N} where A<:DenseArray where N where T, DenseArray} where N where T, DenseArray}}) where {TA, S, Tx} in SparseArrays at /Users/julia/buildbot/worker/package_macos64/build/usr/share/julia/stdlib/v1.0/SparseArrays/src/linalg.jl:103\n",
       "[182] *(transA::LinearAlgebra.Transpose{#s576,#s575} where #s575<:SparseArrays.SparseMatrixCSC{TA,S} where #s576, B::Union{DenseArray{Tx,2}, ReinterpretArray{Tx,2,S,A} where S where A<:Union{SubArray{T,N,A,I,true} where I<:Tuple{AbstractUnitRange,Vararg{Any,N} where N} where A<:DenseArray where N where T, DenseArray}, ReshapedArray{Tx,2,A,MI} where MI<:Tuple{Vararg{SignedMultiplicativeInverse{Int64},N} where N} where A<:Union{ReinterpretArray{T,N,S,A} where S where A<:Union{SubArray{T,N,A,I,true} where I<:Tuple{AbstractUnitRange,Vararg{Any,N} where N} where A<:DenseArray where N where T, DenseArray} where N where T, SubArray{T,N,A,I,true} where I<:Tuple{AbstractUnitRange,Vararg{Any,N} where N} where A<:DenseArray where N where T, DenseArray}, SubArray{Tx,2,A,I,L} where L where I<:Tuple{Vararg{Union{Int64, AbstractRange{Int64}, AbstractCartesianIndex},N} where N} where A<:Union{ReinterpretArray{T,N,S,A} where S where A<:Union{SubArray{T,N,A,I,true} where I<:Tuple{AbstractUnitRange,Vararg{Any,N} where N} where A<:DenseArray where N where T, DenseArray} where N where T, ReshapedArray{T,N,A,MI} where MI<:Tuple{Vararg{SignedMultiplicativeInverse{Int64},N} where N} where A<:Union{ReinterpretArray{T,N,S,A} where S where A<:Union{SubArray{T,N,A,I,true} where I<:Tuple{AbstractUnitRange,Vararg{Any,N} where N} where A<:DenseArray where N where T, DenseArray} where N where T, SubArray{T,N,A,I,true} where I<:Tuple{AbstractUnitRange,Vararg{Any,N} where N} where A<:DenseArray where N where T, DenseArray} where N where T, DenseArray}}) where {TA, S, Tx} in SparseArrays at /Users/julia/buildbot/worker/package_macos64/build/usr/share/julia/stdlib/v1.0/SparseArrays/src/linalg.jl:105\n",
       "[183] *(u::LinearAlgebra.Transpose{T,#s576} where #s576<:(AbstractArray{T,1} where T) where T, v::AbstractArray{T,1} where T) in LinearAlgebra at /Users/julia/buildbot/worker/package_macos64/build/usr/share/julia/stdlib/v1.0/LinearAlgebra/src/adjtrans.jl:200\n",
       "[184] *(A::Union{DenseArray{T,2}, ReinterpretArray{T,2,S,A} where S where A<:Union{SubArray{T,N,A,I,true} where I<:Tuple{AbstractUnitRange,Vararg{Any,N} where N} where A<:DenseArray where N where T, DenseArray}, ReshapedArray{T,2,A,MI} where MI<:Tuple{Vararg{SignedMultiplicativeInverse{Int64},N} where N} where A<:Union{ReinterpretArray{T,N,S,A} where S where A<:Union{SubArray{T,N,A,I,true} where I<:Tuple{AbstractUnitRange,Vararg{Any,N} where N} where A<:DenseArray where N where T, DenseArray} where N where T, SubArray{T,N,A,I,true} where I<:Tuple{AbstractUnitRange,Vararg{Any,N} where N} where A<:DenseArray where N where T, DenseArray}, SubArray{T,2,A,I,L} where L where I<:Tuple{Vararg{Union{Int64, AbstractRange{Int64}, AbstractCartesianIndex},N} where N} where A<:Union{ReinterpretArray{T,N,S,A} where S where A<:Union{SubArray{T,N,A,I,true} where I<:Tuple{AbstractUnitRange,Vararg{Any,N} where N} where A<:DenseArray where N where T, DenseArray} where N where T, ReshapedArray{T,N,A,MI} where MI<:Tuple{Vararg{SignedMultiplicativeInverse{Int64},N} where N} where A<:Union{ReinterpretArray{T,N,S,A} where S where A<:Union{SubArray{T,N,A,I,true} where I<:Tuple{AbstractUnitRange,Vararg{Any,N} where N} where A<:DenseArray where N where T, DenseArray} where N where T, SubArray{T,N,A,I,true} where I<:Tuple{AbstractUnitRange,Vararg{Any,N} where N} where A<:DenseArray where N where T, DenseArray} where N where T, DenseArray}}, x::Union{DenseArray{S,1}, ReinterpretArray{S,1,S1,A} where S1 where A<:Union{SubArray{T,N,A,I,true} where I<:Tuple{AbstractUnitRange,Vararg{Any,N} where N} where A<:DenseArray where N where T, DenseArray}, ReshapedArray{S,1,A,MI} where MI<:Tuple{Vararg{SignedMultiplicativeInverse{Int64},N} where N} where A<:Union{ReinterpretArray{T,N,S,A} where S where A<:Union{SubArray{T,N,A,I,true} where I<:Tuple{AbstractUnitRange,Vararg{Any,N} where N} where A<:DenseArray where N where T, DenseArray} where N where T, SubArray{T,N,A,I,true} where I<:Tuple{AbstractUnitRange,Vararg{Any,N} where N} where A<:DenseArray where N where T, DenseArray}, SubArray{S,1,A,I,L} where L where I<:Tuple{Vararg{Union{Int64, AbstractRange{Int64}, AbstractCartesianIndex},N} where N} where A<:Union{ReinterpretArray{T,N,S,A} where S where A<:Union{SubArray{T,N,A,I,true} where I<:Tuple{AbstractUnitRange,Vararg{Any,N} where N} where A<:DenseArray where N where T, DenseArray} where N where T, ReshapedArray{T,N,A,MI} where MI<:Tuple{Vararg{SignedMultiplicativeInverse{Int64},N} where N} where A<:Union{ReinterpretArray{T,N,S,A} where S where A<:Union{SubArray{T,N,A,I,true} where I<:Tuple{AbstractUnitRange,Vararg{Any,N} where N} where A<:DenseArray where N where T, DenseArray} where N where T, SubArray{T,N,A,I,true} where I<:Tuple{AbstractUnitRange,Vararg{Any,N} where N} where A<:DenseArray where N where T, DenseArray} where N where T, DenseArray}}) where {T<:Union{Complex{Float32}, Complex{Float64}, Float32, Float64}, S} in LinearAlgebra at /Users/julia/buildbot/worker/package_macos64/build/usr/share/julia/stdlib/v1.0/LinearAlgebra/src/matmul.jl:45\n",
       "[185] *(transA::LinearAlgebra.Transpose{#s576,#s575} where #s575<:AbstractArray{T,2} where #s576, x::AbstractArray{S,1}) where {T, S} in LinearAlgebra at /Users/julia/buildbot/worker/package_macos64/build/usr/share/julia/stdlib/v1.0/LinearAlgebra/src/matmul.jl:84\n",
       "[186] *(adjA::LinearAlgebra.Adjoint{#s576,#s575} where #s575<:AbstractArray{T,2} where #s576, x::AbstractArray{S,1}) where {T, S} in LinearAlgebra at /Users/julia/buildbot/worker/package_macos64/build/usr/share/julia/stdlib/v1.0/LinearAlgebra/src/matmul.jl:103\n",
       "[187] *(adjA::LinearAlgebra.Adjoint{#s576,#s575} where #s575<:LinearAlgebra.AbstractTriangular where #s576, B::AbstractArray{T,2} where T) in LinearAlgebra at /Users/julia/buildbot/worker/package_macos64/build/usr/share/julia/stdlib/v1.0/LinearAlgebra/src/triangular.jl:1805\n",
       "[188] *(adjA::LinearAlgebra.Adjoint{#s576,#s575} where #s575<:(Union{Hermitian{T,S}, Hermitian{Complex{T},S}, Symmetric{T,S}} where S where T<:Real) where #s576, B::AbstractArray{T,2} where T) in LinearAlgebra at /Users/julia/buildbot/worker/package_macos64/build/usr/share/julia/stdlib/v1.0/LinearAlgebra/src/symmetric.jl:426\n",
       "[189] *(x::LinearAlgebra.Adjoint{T,#s576} where #s576<:(AbstractArray{T,1} where T) where T, A::AbstractArray{T,2} where T) in LinearAlgebra at /Users/julia/buildbot/worker/package_macos64/build/usr/share/julia/stdlib/v1.0/LinearAlgebra/src/matmul.jl:122\n",
       "[190] *(transA::LinearAlgebra.Transpose{#s574,#s573} where #s573<:LinearAlgebra.AbstractTriangular where #s574, B::AbstractArray{T,2} where T) in LinearAlgebra at /Users/julia/buildbot/worker/package_macos64/build/usr/share/julia/stdlib/v1.0/LinearAlgebra/src/triangular.jl:1813\n",
       "[191] *(transA::LinearAlgebra.Transpose{#s576,#s575} where #s575<:(Union{Hermitian{T,S}, Symmetric{T,S}, Symmetric{Complex{T},S}} where S where T<:Real) where #s576, B::AbstractArray{T,2} where T) in LinearAlgebra at /Users/julia/buildbot/worker/package_macos64/build/usr/share/julia/stdlib/v1.0/LinearAlgebra/src/symmetric.jl:422\n",
       "[192] *(x::LinearAlgebra.Transpose{T,#s576} where #s576<:(AbstractArray{T,1} where T) where T, A::AbstractArray{T,2} where T) in LinearAlgebra at /Users/julia/buildbot/worker/package_macos64/build/usr/share/julia/stdlib/v1.0/LinearAlgebra/src/matmul.jl:123\n",
       "[193] *(A::LinearAlgebra.SymTridiagonal, B::Number) in LinearAlgebra at /Users/julia/buildbot/worker/package_macos64/build/usr/share/julia/stdlib/v1.0/LinearAlgebra/src/tridiag.jl:160\n",
       "[194] *(A::LinearAlgebra.Tridiagonal, B::Number) in LinearAlgebra at /Users/julia/buildbot/worker/package_macos64/build/usr/share/julia/stdlib/v1.0/LinearAlgebra/src/tridiag.jl:614\n",
       "[195] *(A::LinearAlgebra.UpperTriangular, x::Number) in LinearAlgebra at /Users/julia/buildbot/worker/package_macos64/build/usr/share/julia/stdlib/v1.0/LinearAlgebra/src/triangular.jl:670\n",
       "[196] *(A::LinearAlgebra.UnitUpperTriangular, x::Number) in LinearAlgebra at /Users/julia/buildbot/worker/package_macos64/build/usr/share/julia/stdlib/v1.0/LinearAlgebra/src/triangular.jl:673\n",
       "[197] *(A::LinearAlgebra.LowerTriangular, x::Number) in LinearAlgebra at /Users/julia/buildbot/worker/package_macos64/build/usr/share/julia/stdlib/v1.0/LinearAlgebra/src/triangular.jl:670\n",
       "[198] *(A::LinearAlgebra.UnitLowerTriangular, x::Number) in LinearAlgebra at /Users/julia/buildbot/worker/package_macos64/build/usr/share/julia/stdlib/v1.0/LinearAlgebra/src/triangular.jl:673\n",
       "[199] *(A::Union{SymTridiagonal, Tridiagonal}, B::LinearAlgebra.AbstractTriangular) in LinearAlgebra at /Users/julia/buildbot/worker/package_macos64/build/usr/share/julia/stdlib/v1.0/LinearAlgebra/src/triangular.jl:1602\n",
       "[200] *(A::LinearAlgebra.LowerTriangular, B::LinearAlgebra.LowerTriangular) in LinearAlgebra at /Users/julia/buildbot/worker/package_macos64/build/usr/share/julia/stdlib/v1.0/LinearAlgebra/src/triangular.jl:1607\n",
       "[201] *(A::LinearAlgebra.UnitLowerTriangular, B::LinearAlgebra.LowerTriangular) in LinearAlgebra at /Users/julia/buildbot/worker/package_macos64/build/usr/share/julia/stdlib/v1.0/LinearAlgebra/src/triangular.jl:1615\n",
       "[202] *(A::LinearAlgebra.UpperTriangular, B::LinearAlgebra.UpperTriangular) in LinearAlgebra at /Users/julia/buildbot/worker/package_macos64/build/usr/share/julia/stdlib/v1.0/LinearAlgebra/src/triangular.jl:1623\n",
       "[203] *(A::LinearAlgebra.UnitUpperTriangular, B::LinearAlgebra.UpperTriangular) in LinearAlgebra at /Users/julia/buildbot/worker/package_macos64/build/usr/share/julia/stdlib/v1.0/LinearAlgebra/src/triangular.jl:1631\n",
       "[204] *(A::LinearAlgebra.LowerTriangular, xformB::LinearAlgebra.Adjoint{#s576,#s575} where #s575<:LinearAlgebra.UpperTriangular where #s576) in LinearAlgebra at /Users/julia/buildbot/worker/package_macos64/build/usr/share/julia/stdlib/v1.0/LinearAlgebra/src/triangular.jl:1720\n",
       "[205] *(A::LinearAlgebra.LowerTriangular, xformB::LinearAlgebra.Adjoint{#s574,#s573} where #s573<:LinearAlgebra.UnitUpperTriangular where #s574) in LinearAlgebra at /Users/julia/buildbot/worker/package_macos64/build/usr/share/julia/stdlib/v1.0/LinearAlgebra/src/triangular.jl:1729\n",
       "[206] *(A::LinearAlgebra.UpperTriangular, xformB::LinearAlgebra.Adjoint{#s572,#s571} where #s571<:LinearAlgebra.LowerTriangular where #s572) in LinearAlgebra at /Users/julia/buildbot/worker/package_macos64/build/usr/share/julia/stdlib/v1.0/LinearAlgebra/src/triangular.jl:1738\n",
       "[207] *(A::LinearAlgebra.UpperTriangular, xformB::LinearAlgebra.Adjoint{#s570,#s569} where #s569<:LinearAlgebra.UnitLowerTriangular where #s570) in LinearAlgebra at /Users/julia/buildbot/worker/package_macos64/build/usr/share/julia/stdlib/v1.0/LinearAlgebra/src/triangular.jl:1747\n",
       "[208] *(A::LinearAlgebra.LowerTriangular, xformB::LinearAlgebra.Transpose{#s576,#s575} where #s575<:LinearAlgebra.UpperTriangular where #s576) in LinearAlgebra at /Users/julia/buildbot/worker/package_macos64/build/usr/share/julia/stdlib/v1.0/LinearAlgebra/src/triangular.jl:1720\n",
       "[209] *(A::LinearAlgebra.LowerTriangular, xformB::LinearAlgebra.Transpose{#s574,#s573} where #s573<:LinearAlgebra.UnitUpperTriangular where #s574) in LinearAlgebra at /Users/julia/buildbot/worker/package_macos64/build/usr/share/julia/stdlib/v1.0/LinearAlgebra/src/triangular.jl:1729\n",
       "[210] *(A::LinearAlgebra.UpperTriangular, xformB::LinearAlgebra.Transpose{#s572,#s571} where #s571<:LinearAlgebra.LowerTriangular where #s572) in LinearAlgebra at /Users/julia/buildbot/worker/package_macos64/build/usr/share/julia/stdlib/v1.0/LinearAlgebra/src/triangular.jl:1738\n",
       "[211] *(A::LinearAlgebra.UpperTriangular, xformB::LinearAlgebra.Transpose{#s570,#s569} where #s569<:LinearAlgebra.UnitLowerTriangular where #s570) in LinearAlgebra at /Users/julia/buildbot/worker/package_macos64/build/usr/share/julia/stdlib/v1.0/LinearAlgebra/src/triangular.jl:1747\n",
       "[212] *(A::LinearAlgebra.AbstractTriangular, B::LinearAlgebra.AbstractTriangular) in LinearAlgebra at /Users/julia/buildbot/worker/package_macos64/build/usr/share/julia/stdlib/v1.0/LinearAlgebra/src/triangular.jl:1759\n",
       "[213] *(A::LinearAlgebra.AbstractTriangular, adjB::LinearAlgebra.Adjoint{#s576,#s575} where #s575<:LinearAlgebra.AbstractTriangular where #s576) in LinearAlgebra at /Users/julia/buildbot/worker/package_macos64/build/usr/share/julia/stdlib/v1.0/LinearAlgebra/src/triangular.jl:1780\n",
       "[214] *(A::LinearAlgebra.AbstractTriangular, transB::LinearAlgebra.Transpose{#s576,#s575} where #s575<:LinearAlgebra.AbstractTriangular where #s576) in LinearAlgebra at /Users/julia/buildbot/worker/package_macos64/build/usr/share/julia/stdlib/v1.0/LinearAlgebra/src/triangular.jl:1787\n",
       "[215] *(A::LinearAlgebra.AbstractTriangular, adjB::LinearAlgebra.Adjoint{#s576,#s575} where #s575<:(Union{Hermitian{T,S}, Hermitian{Complex{T},S}, Symmetric{T,S}} where S where T<:Real) where #s576) in LinearAlgebra at /Users/julia/buildbot/worker/package_macos64/build/usr/share/julia/stdlib/v1.0/LinearAlgebra/src/symmetric.jl:441\n",
       "[216] *(A::LinearAlgebra.AbstractTriangular, adjB::LinearAlgebra.Adjoint{#s576,#s575} where #s575<:Union{QRCompactWYQ, QRPackedQ} where #s576) in LinearAlgebra at /Users/julia/buildbot/worker/package_macos64/build/usr/share/julia/stdlib/v1.0/LinearAlgebra/src/special.jl:132\n",
       "[217] *(A::LinearAlgebra.AbstractTriangular, B::LinearAlgebra.Adjoint{#s576,#s575} where #s575<:(AbstractArray{T,2} where T) where #s576) in LinearAlgebra at /Users/julia/buildbot/worker/package_macos64/build/usr/share/julia/stdlib/v1.0/LinearAlgebra/src/triangular.jl:1965\n",
       "[218] *(A::LinearAlgebra.AbstractTriangular, transB::LinearAlgebra.Transpose{#s576,#s575} where #s575<:(Union{Hermitian{T,S}, Symmetric{T,S}, Symmetric{Complex{T},S}} where S where T<:Real) where #s576) in LinearAlgebra at /Users/julia/buildbot/worker/package_macos64/build/usr/share/julia/stdlib/v1.0/LinearAlgebra/src/symmetric.jl:439\n",
       "[219] *(A::LinearAlgebra.AbstractTriangular, B::LinearAlgebra.Transpose{#s576,#s575} where #s575<:(AbstractArray{T,2} where T) where #s576) in LinearAlgebra at /Users/julia/buildbot/worker/package_macos64/build/usr/share/julia/stdlib/v1.0/LinearAlgebra/src/triangular.jl:1966\n",
       "[220] *(A::LinearAlgebra.AbstractTriangular, B::LinearAlgebra.Adjoint{#s576,#s575} where #s575<:(AbstractArray{T,1} where T) where #s576) in LinearAlgebra at /Users/julia/buildbot/worker/package_macos64/build/usr/share/julia/stdlib/v1.0/LinearAlgebra/src/triangular.jl:2478\n",
       "[221] *(A::LinearAlgebra.AbstractTriangular, B::LinearAlgebra.Transpose{#s576,#s575} where #s575<:(AbstractArray{T,1} where T) where #s576) in LinearAlgebra at /Users/julia/buildbot/worker/package_macos64/build/usr/share/julia/stdlib/v1.0/LinearAlgebra/src/triangular.jl:2479\n",
       "[222] *(A::LinearAlgebra.AbstractTriangular, D::LinearAlgebra.Diagonal) in LinearAlgebra at /Users/julia/buildbot/worker/package_macos64/build/usr/share/julia/stdlib/v1.0/LinearAlgebra/src/diagonal.jl:161\n",
       "[223] *(A::LinearAlgebra.AbstractTriangular, B::Union{Bidiagonal, SymTridiagonal, Tridiagonal}) in LinearAlgebra at /Users/julia/buildbot/worker/package_macos64/build/usr/share/julia/stdlib/v1.0/LinearAlgebra/src/bidiag.jl:491\n",
       "[224] *(A::LinearAlgebra.AbstractTriangular, B::LinearAlgebra.Adjoint{#s576,#s575} where #s575<:LinearAlgebra.AbstractRotation where #s576) in LinearAlgebra at /Users/julia/buildbot/worker/package_macos64/build/usr/share/julia/stdlib/v1.0/LinearAlgebra/src/givens.jl:398\n",
       "[225] *(A::LinearAlgebra.AbstractTriangular, B::AbstractArray{T,1} where T) in LinearAlgebra at /Users/julia/buildbot/worker/package_macos64/build/usr/share/julia/stdlib/v1.0/LinearAlgebra/src/triangular.jl:1798\n",
       "[226] *(A::LinearAlgebra.AbstractTriangular, B::AbstractArray{T,2} where T) in LinearAlgebra at /Users/julia/buildbot/worker/package_macos64/build/usr/share/julia/stdlib/v1.0/LinearAlgebra/src/triangular.jl:1798\n",
       "[227] *(A::LinearAlgebra.Adjoint{#s576,#s575} where #s575<:(AbstractArray{T,2} where T) where #s576, B::LinearAlgebra.AbstractTriangular) in LinearAlgebra at /Users/julia/buildbot/worker/package_macos64/build/usr/share/julia/stdlib/v1.0/LinearAlgebra/src/triangular.jl:1963\n",
       "[228] *(A::LinearAlgebra.Transpose{#s576,#s575} where #s575<:(AbstractArray{T,2} where T) where #s576, B::LinearAlgebra.AbstractTriangular) in LinearAlgebra at /Users/julia/buildbot/worker/package_macos64/build/usr/share/julia/stdlib/v1.0/LinearAlgebra/src/triangular.jl:1964\n",
       "[229] *(A::LinearAlgebra.Adjoint{#s576,#s575} where #s575<:(AbstractArray{T,2} where T) where #s576, B::LinearAlgebra.Adjoint{#s574,#s573} where #s573<:LinearAlgebra.AbstractTriangular where #s574) in LinearAlgebra at /Users/julia/buildbot/worker/package_macos64/build/usr/share/julia/stdlib/v1.0/LinearAlgebra/src/triangular.jl:1969\n",
       "[230] *(A::LinearAlgebra.Transpose{#s576,#s575} where #s575<:(AbstractArray{T,2} where T) where #s576, B::LinearAlgebra.Transpose{#s574,#s573} where #s573<:LinearAlgebra.AbstractTriangular where #s574) in LinearAlgebra at /Users/julia/buildbot/worker/package_macos64/build/usr/share/julia/stdlib/v1.0/LinearAlgebra/src/triangular.jl:1972\n",
       "[231] *(A::LinearAlgebra.Adjoint{#s576,#s575} where #s575<:(AbstractArray{T,2} where T) where #s576, B::LinearAlgebra.Transpose{#s574,#s573} where #s573<:LinearAlgebra.AbstractTriangular where #s574) in LinearAlgebra at /Users/julia/buildbot/worker/package_macos64/build/usr/share/julia/stdlib/v1.0/LinearAlgebra/src/triangular.jl:2492\n",
       "[232] *(A::LinearAlgebra.Transpose{#s576,#s575} where #s575<:(AbstractArray{T,2} where T) where #s576, B::LinearAlgebra.Adjoint{#s574,#s573} where #s573<:LinearAlgebra.AbstractTriangular where #s574) in LinearAlgebra at /Users/julia/buildbot/worker/package_macos64/build/usr/share/julia/stdlib/v1.0/LinearAlgebra/src/triangular.jl:2494\n",
       "[233] *(A::LinearAlgebra.AbstractQ, b::Union{DenseArray{T,1}, ReinterpretArray{T,1,S,A} where S where A<:Union{SubArray{T,N,A,I,true} where I<:Tuple{AbstractUnitRange,Vararg{Any,N} where N} where A<:DenseArray where N where T, DenseArray}, ReshapedArray{T,1,A,MI} where MI<:Tuple{Vararg{SignedMultiplicativeInverse{Int64},N} where N} where A<:Union{ReinterpretArray{T,N,S,A} where S where A<:Union{SubArray{T,N,A,I,true} where I<:Tuple{AbstractUnitRange,Vararg{Any,N} where N} where A<:DenseArray where N where T, DenseArray} where N where T, SubArray{T,N,A,I,true} where I<:Tuple{AbstractUnitRange,Vararg{Any,N} where N} where A<:DenseArray where N where T, DenseArray}, SubArray{T,1,A,I,L} where L where I<:Tuple{Vararg{Union{Int64, AbstractRange{Int64}, AbstractCartesianIndex},N} where N} where A<:Union{ReinterpretArray{T,N,S,A} where S where A<:Union{SubArray{T,N,A,I,true} where I<:Tuple{AbstractUnitRange,Vararg{Any,N} where N} where A<:DenseArray where N where T, DenseArray} where N where T, ReshapedArray{T,N,A,MI} where MI<:Tuple{Vararg{SignedMultiplicativeInverse{Int64},N} where N} where A<:Union{ReinterpretArray{T,N,S,A} where S where A<:Union{SubArray{T,N,A,I,true} where I<:Tuple{AbstractUnitRange,Vararg{Any,N} where N} where A<:DenseArray where N where T, DenseArray} where N where T, SubArray{T,N,A,I,true} where I<:Tuple{AbstractUnitRange,Vararg{Any,N} where N} where A<:DenseArray where N where T, DenseArray} where N where T, DenseArray}} where T) in LinearAlgebra at /Users/julia/buildbot/worker/package_macos64/build/usr/share/julia/stdlib/v1.0/LinearAlgebra/src/qr.jl:557\n",
       "[234] *(A::LinearAlgebra.AbstractQ, B::Union{DenseArray{T,2}, ReinterpretArray{T,2,S,A} where S where A<:Union{SubArray{T,N,A,I,true} where I<:Tuple{AbstractUnitRange,Vararg{Any,N} where N} where A<:DenseArray where N where T, DenseArray}, ReshapedArray{T,2,A,MI} where MI<:Tuple{Vararg{SignedMultiplicativeInverse{Int64},N} where N} where A<:Union{ReinterpretArray{T,N,S,A} where S where A<:Union{SubArray{T,N,A,I,true} where I<:Tuple{AbstractUnitRange,Vararg{Any,N} where N} where A<:DenseArray where N where T, DenseArray} where N where T, SubArray{T,N,A,I,true} where I<:Tuple{AbstractUnitRange,Vararg{Any,N} where N} where A<:DenseArray where N where T, DenseArray}, SubArray{T,2,A,I,L} where L where I<:Tuple{Vararg{Union{Int64, AbstractRange{Int64}, AbstractCartesianIndex},N} where N} where A<:Union{ReinterpretArray{T,N,S,A} where S where A<:Union{SubArray{T,N,A,I,true} where I<:Tuple{AbstractUnitRange,Vararg{Any,N} where N} where A<:DenseArray where N where T, DenseArray} where N where T, ReshapedArray{T,N,A,MI} where MI<:Tuple{Vararg{SignedMultiplicativeInverse{Int64},N} where N} where A<:Union{ReinterpretArray{T,N,S,A} where S where A<:Union{SubArray{T,N,A,I,true} where I<:Tuple{AbstractUnitRange,Vararg{Any,N} where N} where A<:DenseArray where N where T, DenseArray} where N where T, SubArray{T,N,A,I,true} where I<:Tuple{AbstractUnitRange,Vararg{Any,N} where N} where A<:DenseArray where N where T, DenseArray} where N where T, DenseArray}} where T) in LinearAlgebra at /Users/julia/buildbot/worker/package_macos64/build/usr/share/julia/stdlib/v1.0/LinearAlgebra/src/qr.jl:569\n",
       "[235] *(Q::LinearAlgebra.AbstractQ, adjB::LinearAlgebra.Adjoint{#s576,#s575} where #s575<:(Union{DenseArray{T,1}, DenseArray{T,2}, ReinterpretArray{T,2,S,A} where S where A<:Union{SubArray{T,N,A,I,true} where I<:Tuple{AbstractUnitRange,Vararg{Any,N} where N} where A<:DenseArray where N where T, DenseArray}, ReinterpretArray{T,1,S,A} where S where A<:Union{SubArray{T,N,A,I,true} where I<:Tuple{AbstractUnitRange,Vararg{Any,N} where N} where A<:DenseArray where N where T, DenseArray}, ReshapedArray{T,1,A,MI} where MI<:Tuple{Vararg{SignedMultiplicativeInverse{Int64},N} where N} where A<:Union{ReinterpretArray{T,N,S,A} where S where A<:Union{SubArray{T,N,A,I,true} where I<:Tuple{AbstractUnitRange,Vararg{Any,N} where N} where A<:DenseArray where N where T, DenseArray} where N where T, SubArray{T,N,A,I,true} where I<:Tuple{AbstractUnitRange,Vararg{Any,N} where N} where A<:DenseArray where N where T, DenseArray}, ReshapedArray{T,2,A,MI} where MI<:Tuple{Vararg{SignedMultiplicativeInverse{Int64},N} where N} where A<:Union{ReinterpretArray{T,N,S,A} where S where A<:Union{SubArray{T,N,A,I,true} where I<:Tuple{AbstractUnitRange,Vararg{Any,N} where N} where A<:DenseArray where N where T, DenseArray} where N where T, SubArray{T,N,A,I,true} where I<:Tuple{AbstractUnitRange,Vararg{Any,N} where N} where A<:DenseArray where N where T, DenseArray}, SubArray{T,1,A,I,L} where L where I<:Tuple{Vararg{Union{Int64, AbstractRange{Int64}, AbstractCartesianIndex},N} where N} where A<:Union{ReinterpretArray{T,N,S,A} where S where A<:Union{SubArray{T,N,A,I,true} where I<:Tuple{AbstractUnitRange,Vararg{Any,N} where N} where A<:DenseArray where N where T, DenseArray} where N where T, ReshapedArray{T,N,A,MI} where MI<:Tuple{Vararg{SignedMultiplicativeInverse{Int64},N} where N} where A<:Union{ReinterpretArray{T,N,S,A} where S where A<:Union{SubArray{T,N,A,I,true} where I<:Tuple{AbstractUnitRange,Vararg{Any,N} where N} where A<:DenseArray where N where T, DenseArray} where N where T, SubArray{T,N,A,I,true} where I<:Tuple{AbstractUnitRange,Vararg{Any,N} where N} where A<:DenseArray where N where T, DenseArray} where N where T, DenseArray}, SubArray{T,2,A,I,L} where L where I<:Tuple{Vararg{Union{Int64, AbstractRange{Int64}, AbstractCartesianIndex},N} where N} where A<:Union{ReinterpretArray{T,N,S,A} where S where A<:Union{SubArray{T,N,A,I,true} where I<:Tuple{AbstractUnitRange,Vararg{Any,N} where N} where A<:DenseArray where N where T, DenseArray} where N where T, ReshapedArray{T,N,A,MI} where MI<:Tuple{Vararg{SignedMultiplicativeInverse{Int64},N} where N} where A<:Union{ReinterpretArray{T,N,S,A} where S where A<:Union{SubArray{T,N,A,I,true} where I<:Tuple{AbstractUnitRange,Vararg{Any,N} where N} where A<:DenseArray where N where T, DenseArray} where N where T, SubArray{T,N,A,I,true} where I<:Tuple{AbstractUnitRange,Vararg{Any,N} where N} where A<:DenseArray where N where T, DenseArray} where N where T, DenseArray}} where T) where #s576) in LinearAlgebra at /Users/julia/buildbot/worker/package_macos64/build/usr/share/julia/stdlib/v1.0/LinearAlgebra/src/qr.jl:624\n",
       "[236] *(A::Union{DenseArray{T,2}, ReinterpretArray{T,2,S,A} where S where A<:Union{SubArray{T,N,A,I,true} where I<:Tuple{AbstractUnitRange,Vararg{Any,N} where N} where A<:DenseArray where N where T, DenseArray}, ReshapedArray{T,2,A,MI} where MI<:Tuple{Vararg{SignedMultiplicativeInverse{Int64},N} where N} where A<:Union{ReinterpretArray{T,N,S,A} where S where A<:Union{SubArray{T,N,A,I,true} where I<:Tuple{AbstractUnitRange,Vararg{Any,N} where N} where A<:DenseArray where N where T, DenseArray} where N where T, SubArray{T,N,A,I,true} where I<:Tuple{AbstractUnitRange,Vararg{Any,N} where N} where A<:DenseArray where N where T, DenseArray}, SubArray{T,2,A,I,L} where L where I<:Tuple{Vararg{Union{Int64, AbstractRange{Int64}, AbstractCartesianIndex},N} where N} where A<:Union{ReinterpretArray{T,N,S,A} where S where A<:Union{SubArray{T,N,A,I,true} where I<:Tuple{AbstractUnitRange,Vararg{Any,N} where N} where A<:DenseArray where N where T, DenseArray} where N where T, ReshapedArray{T,N,A,MI} where MI<:Tuple{Vararg{SignedMultiplicativeInverse{Int64},N} where N} where A<:Union{ReinterpretArray{T,N,S,A} where S where A<:Union{SubArray{T,N,A,I,true} where I<:Tuple{AbstractUnitRange,Vararg{Any,N} where N} where A<:DenseArray where N where T, DenseArray} where N where T, SubArray{T,N,A,I,true} where I<:Tuple{AbstractUnitRange,Vararg{Any,N} where N} where A<:DenseArray where N where T, DenseArray} where N where T, DenseArray}} where T, Q::LinearAlgebra.AbstractQ) in LinearAlgebra at /Users/julia/buildbot/worker/package_macos64/build/usr/share/julia/stdlib/v1.0/LinearAlgebra/src/qr.jl:669\n",
       "[237] *(A::Union{DenseArray{T,2}, ReinterpretArray{T,2,S,A} where S where A<:Union{SubArray{T,N,A,I,true} where I<:Tuple{AbstractUnitRange,Vararg{Any,N} where N} where A<:DenseArray where N where T, DenseArray}, ReshapedArray{T,2,A,MI} where MI<:Tuple{Vararg{SignedMultiplicativeInverse{Int64},N} where N} where A<:Union{ReinterpretArray{T,N,S,A} where S where A<:Union{SubArray{T,N,A,I,true} where I<:Tuple{AbstractUnitRange,Vararg{Any,N} where N} where A<:DenseArray where N where T, DenseArray} where N where T, SubArray{T,N,A,I,true} where I<:Tuple{AbstractUnitRange,Vararg{Any,N} where N} where A<:DenseArray where N where T, DenseArray}, SubArray{T,2,A,I,L} where L where I<:Tuple{Vararg{Union{Int64, AbstractRange{Int64}, AbstractCartesianIndex},N} where N} where A<:Union{ReinterpretArray{T,N,S,A} where S where A<:Union{SubArray{T,N,A,I,true} where I<:Tuple{AbstractUnitRange,Vararg{Any,N} where N} where A<:DenseArray where N where T, DenseArray} where N where T, ReshapedArray{T,N,A,MI} where MI<:Tuple{Vararg{SignedMultiplicativeInverse{Int64},N} where N} where A<:Union{ReinterpretArray{T,N,S,A} where S where A<:Union{SubArray{T,N,A,I,true} where I<:Tuple{AbstractUnitRange,Vararg{Any,N} where N} where A<:DenseArray where N where T, DenseArray} where N where T, SubArray{T,N,A,I,true} where I<:Tuple{AbstractUnitRange,Vararg{Any,N} where N} where A<:DenseArray where N where T, DenseArray} where N where T, DenseArray}} where T, adjB::LinearAlgebra.Adjoint{#s576,#s575} where #s575<:LinearAlgebra.AbstractQ where #s576) in LinearAlgebra at /Users/julia/buildbot/worker/package_macos64/build/usr/share/julia/stdlib/v1.0/LinearAlgebra/src/qr.jl:709\n",
       "[238] *(A::LinearAlgebra.LQPackedQ, B::Union{DenseArray{T,1}, DenseArray{T,2}, ReinterpretArray{T,2,S,A} where S where A<:Union{SubArray{T,N,A,I,true} where I<:Tuple{AbstractUnitRange,Vararg{Any,N} where N} where A<:DenseArray where N where T, DenseArray}, ReinterpretArray{T,1,S,A} where S where A<:Union{SubArray{T,N,A,I,true} where I<:Tuple{AbstractUnitRange,Vararg{Any,N} where N} where A<:DenseArray where N where T, DenseArray}, ReshapedArray{T,1,A,MI} where MI<:Tuple{Vararg{SignedMultiplicativeInverse{Int64},N} where N} where A<:Union{ReinterpretArray{T,N,S,A} where S where A<:Union{SubArray{T,N,A,I,true} where I<:Tuple{AbstractUnitRange,Vararg{Any,N} where N} where A<:DenseArray where N where T, DenseArray} where N where T, SubArray{T,N,A,I,true} where I<:Tuple{AbstractUnitRange,Vararg{Any,N} where N} where A<:DenseArray where N where T, DenseArray}, ReshapedArray{T,2,A,MI} where MI<:Tuple{Vararg{SignedMultiplicativeInverse{Int64},N} where N} where A<:Union{ReinterpretArray{T,N,S,A} where S where A<:Union{SubArray{T,N,A,I,true} where I<:Tuple{AbstractUnitRange,Vararg{Any,N} where N} where A<:DenseArray where N where T, DenseArray} where N where T, SubArray{T,N,A,I,true} where I<:Tuple{AbstractUnitRange,Vararg{Any,N} where N} where A<:DenseArray where N where T, DenseArray}, SubArray{T,1,A,I,L} where L where I<:Tuple{Vararg{Union{Int64, AbstractRange{Int64}, AbstractCartesianIndex},N} where N} where A<:Union{ReinterpretArray{T,N,S,A} where S where A<:Union{SubArray{T,N,A,I,true} where I<:Tuple{AbstractUnitRange,Vararg{Any,N} where N} where A<:DenseArray where N where T, DenseArray} where N where T, ReshapedArray{T,N,A,MI} where MI<:Tuple{Vararg{SignedMultiplicativeInverse{Int64},N} where N} where A<:Union{ReinterpretArray{T,N,S,A} where S where A<:Union{SubArray{T,N,A,I,true} where I<:Tuple{AbstractUnitRange,Vararg{Any,N} where N} where A<:DenseArray where N where T, DenseArray} where N where T, SubArray{T,N,A,I,true} where I<:Tuple{AbstractUnitRange,Vararg{Any,N} where N} where A<:DenseArray where N where T, DenseArray} where N where T, DenseArray}, SubArray{T,2,A,I,L} where L where I<:Tuple{Vararg{Union{Int64, AbstractRange{Int64}, AbstractCartesianIndex},N} where N} where A<:Union{ReinterpretArray{T,N,S,A} where S where A<:Union{SubArray{T,N,A,I,true} where I<:Tuple{AbstractUnitRange,Vararg{Any,N} where N} where A<:DenseArray where N where T, DenseArray} where N where T, ReshapedArray{T,N,A,MI} where MI<:Tuple{Vararg{SignedMultiplicativeInverse{Int64},N} where N} where A<:Union{ReinterpretArray{T,N,S,A} where S where A<:Union{SubArray{T,N,A,I,true} where I<:Tuple{AbstractUnitRange,Vararg{Any,N} where N} where A<:DenseArray where N where T, DenseArray} where N where T, SubArray{T,N,A,I,true} where I<:Tuple{AbstractUnitRange,Vararg{Any,N} where N} where A<:DenseArray where N where T, DenseArray} where N where T, DenseArray}} where T) in LinearAlgebra at /Users/julia/buildbot/worker/package_macos64/build/usr/share/julia/stdlib/v1.0/LinearAlgebra/src/lq.jl:152\n",
       "[239] *(A::LinearAlgebra.LQPackedQ, adjB::LinearAlgebra.Adjoint{#s576,#s575} where #s575<:(Union{DenseArray{T,1}, DenseArray{T,2}, ReinterpretArray{T,2,S,A} where S where A<:Union{SubArray{T,N,A,I,true} where I<:Tuple{AbstractUnitRange,Vararg{Any,N} where N} where A<:DenseArray where N where T, DenseArray}, ReinterpretArray{T,1,S,A} where S where A<:Union{SubArray{T,N,A,I,true} where I<:Tuple{AbstractUnitRange,Vararg{Any,N} where N} where A<:DenseArray where N where T, DenseArray}, ReshapedArray{T,1,A,MI} where MI<:Tuple{Vararg{SignedMultiplicativeInverse{Int64},N} where N} where A<:Union{ReinterpretArray{T,N,S,A} where S where A<:Union{SubArray{T,N,A,I,true} where I<:Tuple{AbstractUnitRange,Vararg{Any,N} where N} where A<:DenseArray where N where T, DenseArray} where N where T, SubArray{T,N,A,I,true} where I<:Tuple{AbstractUnitRange,Vararg{Any,N} where N} where A<:DenseArray where N where T, DenseArray}, ReshapedArray{T,2,A,MI} where MI<:Tuple{Vararg{SignedMultiplicativeInverse{Int64},N} where N} where A<:Union{ReinterpretArray{T,N,S,A} where S where A<:Union{SubArray{T,N,A,I,true} where I<:Tuple{AbstractUnitRange,Vararg{Any,N} where N} where A<:DenseArray where N where T, DenseArray} where N where T, SubArray{T,N,A,I,true} where I<:Tuple{AbstractUnitRange,Vararg{Any,N} where N} where A<:DenseArray where N where T, DenseArray}, SubArray{T,1,A,I,L} where L where I<:Tuple{Vararg{Union{Int64, AbstractRange{Int64}, AbstractCartesianIndex},N} where N} where A<:Union{ReinterpretArray{T,N,S,A} where S where A<:Union{SubArray{T,N,A,I,true} where I<:Tuple{AbstractUnitRange,Vararg{Any,N} where N} where A<:DenseArray where N where T, DenseArray} where N where T, ReshapedArray{T,N,A,MI} where MI<:Tuple{Vararg{SignedMultiplicativeInverse{Int64},N} where N} where A<:Union{ReinterpretArray{T,N,S,A} where S where A<:Union{SubArray{T,N,A,I,true} where I<:Tuple{AbstractUnitRange,Vararg{Any,N} where N} where A<:DenseArray where N where T, DenseArray} where N where T, SubArray{T,N,A,I,true} where I<:Tuple{AbstractUnitRange,Vararg{Any,N} where N} where A<:DenseArray where N where T, DenseArray} where N where T, DenseArray}, SubArray{T,2,A,I,L} where L where I<:Tuple{Vararg{Union{Int64, AbstractRange{Int64}, AbstractCartesianIndex},N} where N} where A<:Union{ReinterpretArray{T,N,S,A} where S where A<:Union{SubArray{T,N,A,I,true} where I<:Tuple{AbstractUnitRange,Vararg{Any,N} where N} where A<:DenseArray where N where T, DenseArray} where N where T, ReshapedArray{T,N,A,MI} where MI<:Tuple{Vararg{SignedMultiplicativeInverse{Int64},N} where N} where A<:Union{ReinterpretArray{T,N,S,A} where S where A<:Union{SubArray{T,N,A,I,true} where I<:Tuple{AbstractUnitRange,Vararg{Any,N} where N} where A<:DenseArray where N where T, DenseArray} where N where T, SubArray{T,N,A,I,true} where I<:Tuple{AbstractUnitRange,Vararg{Any,N} where N} where A<:DenseArray where N where T, DenseArray} where N where T, DenseArray}} where T) where #s576) in LinearAlgebra at /Users/julia/buildbot/worker/package_macos64/build/usr/share/julia/stdlib/v1.0/LinearAlgebra/src/lq.jl:176\n",
       "[240] *(A::Union{DenseArray{T,1}, DenseArray{T,2}, ReinterpretArray{T,2,S,A} where S where A<:Union{SubArray{T,N,A,I,true} where I<:Tuple{AbstractUnitRange,Vararg{Any,N} where N} where A<:DenseArray where N where T, DenseArray}, ReinterpretArray{T,1,S,A} where S where A<:Union{SubArray{T,N,A,I,true} where I<:Tuple{AbstractUnitRange,Vararg{Any,N} where N} where A<:DenseArray where N where T, DenseArray}, ReshapedArray{T,1,A,MI} where MI<:Tuple{Vararg{SignedMultiplicativeInverse{Int64},N} where N} where A<:Union{ReinterpretArray{T,N,S,A} where S where A<:Union{SubArray{T,N,A,I,true} where I<:Tuple{AbstractUnitRange,Vararg{Any,N} where N} where A<:DenseArray where N where T, DenseArray} where N where T, SubArray{T,N,A,I,true} where I<:Tuple{AbstractUnitRange,Vararg{Any,N} where N} where A<:DenseArray where N where T, DenseArray}, ReshapedArray{T,2,A,MI} where MI<:Tuple{Vararg{SignedMultiplicativeInverse{Int64},N} where N} where A<:Union{ReinterpretArray{T,N,S,A} where S where A<:Union{SubArray{T,N,A,I,true} where I<:Tuple{AbstractUnitRange,Vararg{Any,N} where N} where A<:DenseArray where N where T, DenseArray} where N where T, SubArray{T,N,A,I,true} where I<:Tuple{AbstractUnitRange,Vararg{Any,N} where N} where A<:DenseArray where N where T, DenseArray}, SubArray{T,1,A,I,L} where L where I<:Tuple{Vararg{Union{Int64, AbstractRange{Int64}, AbstractCartesianIndex},N} where N} where A<:Union{ReinterpretArray{T,N,S,A} where S where A<:Union{SubArray{T,N,A,I,true} where I<:Tuple{AbstractUnitRange,Vararg{Any,N} where N} where A<:DenseArray where N where T, DenseArray} where N where T, ReshapedArray{T,N,A,MI} where MI<:Tuple{Vararg{SignedMultiplicativeInverse{Int64},N} where N} where A<:Union{ReinterpretArray{T,N,S,A} where S where A<:Union{SubArray{T,N,A,I,true} where I<:Tuple{AbstractUnitRange,Vararg{Any,N} where N} where A<:DenseArray where N where T, DenseArray} where N where T, SubArray{T,N,A,I,true} where I<:Tuple{AbstractUnitRange,Vararg{Any,N} where N} where A<:DenseArray where N where T, DenseArray} where N where T, DenseArray}, SubArray{T,2,A,I,L} where L where I<:Tuple{Vararg{Union{Int64, AbstractRange{Int64}, AbstractCartesianIndex},N} where N} where A<:Union{ReinterpretArray{T,N,S,A} where S where A<:Union{SubArray{T,N,A,I,true} where I<:Tuple{AbstractUnitRange,Vararg{Any,N} where N} where A<:DenseArray where N where T, DenseArray} where N where T, ReshapedArray{T,N,A,MI} where MI<:Tuple{Vararg{SignedMultiplicativeInverse{Int64},N} where N} where A<:Union{ReinterpretArray{T,N,S,A} where S where A<:Union{SubArray{T,N,A,I,true} where I<:Tuple{AbstractUnitRange,Vararg{Any,N} where N} where A<:DenseArray where N where T, DenseArray} where N where T, SubArray{T,N,A,I,true} where I<:Tuple{AbstractUnitRange,Vararg{Any,N} where N} where A<:DenseArray where N where T, DenseArray} where N where T, DenseArray}} where T, adjQ::LinearAlgebra.Adjoint{#s576,#s575} where #s575<:LinearAlgebra.LQPackedQ where #s576) in LinearAlgebra at /Users/julia/buildbot/worker/package_macos64/build/usr/share/julia/stdlib/v1.0/LinearAlgebra/src/lq.jl:215\n",
       "[241] *(A::Union{DenseArray{T,1}, DenseArray{T,2}, ReinterpretArray{T,2,S,A} where S where A<:Union{SubArray{T,N,A,I,true} where I<:Tuple{AbstractUnitRange,Vararg{Any,N} where N} where A<:DenseArray where N where T, DenseArray}, ReinterpretArray{T,1,S,A} where S where A<:Union{SubArray{T,N,A,I,true} where I<:Tuple{AbstractUnitRange,Vararg{Any,N} where N} where A<:DenseArray where N where T, DenseArray}, ReshapedArray{T,1,A,MI} where MI<:Tuple{Vararg{SignedMultiplicativeInverse{Int64},N} where N} where A<:Union{ReinterpretArray{T,N,S,A} where S where A<:Union{SubArray{T,N,A,I,true} where I<:Tuple{AbstractUnitRange,Vararg{Any,N} where N} where A<:DenseArray where N where T, DenseArray} where N where T, SubArray{T,N,A,I,true} where I<:Tuple{AbstractUnitRange,Vararg{Any,N} where N} where A<:DenseArray where N where T, DenseArray}, ReshapedArray{T,2,A,MI} where MI<:Tuple{Vararg{SignedMultiplicativeInverse{Int64},N} where N} where A<:Union{ReinterpretArray{T,N,S,A} where S where A<:Union{SubArray{T,N,A,I,true} where I<:Tuple{AbstractUnitRange,Vararg{Any,N} where N} where A<:DenseArray where N where T, DenseArray} where N where T, SubArray{T,N,A,I,true} where I<:Tuple{AbstractUnitRange,Vararg{Any,N} where N} where A<:DenseArray where N where T, DenseArray}, SubArray{T,1,A,I,L} where L where I<:Tuple{Vararg{Union{Int64, AbstractRange{Int64}, AbstractCartesianIndex},N} where N} where A<:Union{ReinterpretArray{T,N,S,A} where S where A<:Union{SubArray{T,N,A,I,true} where I<:Tuple{AbstractUnitRange,Vararg{Any,N} where N} where A<:DenseArray where N where T, DenseArray} where N where T, ReshapedArray{T,N,A,MI} where MI<:Tuple{Vararg{SignedMultiplicativeInverse{Int64},N} where N} where A<:Union{ReinterpretArray{T,N,S,A} where S where A<:Union{SubArray{T,N,A,I,true} where I<:Tuple{AbstractUnitRange,Vararg{Any,N} where N} where A<:DenseArray where N where T, DenseArray} where N where T, SubArray{T,N,A,I,true} where I<:Tuple{AbstractUnitRange,Vararg{Any,N} where N} where A<:DenseArray where N where T, DenseArray} where N where T, DenseArray}, SubArray{T,2,A,I,L} where L where I<:Tuple{Vararg{Union{Int64, AbstractRange{Int64}, AbstractCartesianIndex},N} where N} where A<:Union{ReinterpretArray{T,N,S,A} where S where A<:Union{SubArray{T,N,A,I,true} where I<:Tuple{AbstractUnitRange,Vararg{Any,N} where N} where A<:DenseArray where N where T, DenseArray} where N where T, ReshapedArray{T,N,A,MI} where MI<:Tuple{Vararg{SignedMultiplicativeInverse{Int64},N} where N} where A<:Union{ReinterpretArray{T,N,S,A} where S where A<:Union{SubArray{T,N,A,I,true} where I<:Tuple{AbstractUnitRange,Vararg{Any,N} where N} where A<:DenseArray where N where T, DenseArray} where N where T, SubArray{T,N,A,I,true} where I<:Tuple{AbstractUnitRange,Vararg{Any,N} where N} where A<:DenseArray where N where T, DenseArray} where N where T, DenseArray}} where T, Q::LinearAlgebra.LQPackedQ) in LinearAlgebra at /Users/julia/buildbot/worker/package_macos64/build/usr/share/julia/stdlib/v1.0/LinearAlgebra/src/lq.jl:239\n",
       "[242] *(A::Union{Hermitian{T,S}, Symmetric{T,S}} where S where T, B::Union{Hermitian{T,S}, Symmetric{T,S}} where S where T) in LinearAlgebra at /Users/julia/buildbot/worker/package_macos64/build/usr/share/julia/stdlib/v1.0/LinearAlgebra/src/symmetric.jl:417\n",
       "[243] *(A::LinearAlgebra.Symmetric, x::Bool) in LinearAlgebra at /Users/julia/buildbot/worker/package_macos64/build/usr/share/julia/stdlib/v1.0/LinearAlgebra/src/symmetric.jl:445\n",
       "[244] *(A::LinearAlgebra.Symmetric, x::Number) in LinearAlgebra at /Users/julia/buildbot/worker/package_macos64/build/usr/share/julia/stdlib/v1.0/LinearAlgebra/src/symmetric.jl:447\n",
       "[245] *(A::LinearAlgebra.Hermitian, x::Bool) in LinearAlgebra at /Users/julia/buildbot/worker/package_macos64/build/usr/share/julia/stdlib/v1.0/LinearAlgebra/src/symmetric.jl:445\n",
       "[246] *(A::LinearAlgebra.Hermitian, x::Real) in LinearAlgebra at /Users/julia/buildbot/worker/package_macos64/build/usr/share/julia/stdlib/v1.0/LinearAlgebra/src/symmetric.jl:447\n",
       "[247] *(A::LinearAlgebra.Adjoint{#s576,#s575} where #s575<:(AbstractArray{T,2} where T) where #s576, B::LinearAlgebra.Adjoint{#s574,#s573} where #s573<:(Union{Hermitian{T,S}, Hermitian{Complex{T},S}, Symmetric{T,S}} where S where T<:Real) where #s574) in LinearAlgebra at /Users/julia/buildbot/worker/package_macos64/build/usr/share/julia/stdlib/v1.0/LinearAlgebra/src/symmetric.jl:840\n",
       "[248] *(A::LinearAlgebra.Adjoint{#s576,#s575} where #s575<:(AbstractArray{T,2} where T) where #s576, B::LinearAlgebra.Transpose{#s574,#s573} where #s573<:(Union{Hermitian{T,S}, Symmetric{T,S}, Symmetric{Complex{T},S}} where S where T<:Real) where #s574) in LinearAlgebra at /Users/julia/buildbot/worker/package_macos64/build/usr/share/julia/stdlib/v1.0/LinearAlgebra/src/symmetric.jl:842\n",
       "[249] *(A::LinearAlgebra.Transpose{#s576,#s575} where #s575<:(AbstractArray{T,2} where T) where #s576, B::LinearAlgebra.Adjoint{#s574,#s573} where #s573<:(Union{Hermitian{T,S}, Hermitian{Complex{T},S}, Symmetric{T,S}} where S where T<:Real) where #s574) in LinearAlgebra at /Users/julia/buildbot/worker/package_macos64/build/usr/share/julia/stdlib/v1.0/LinearAlgebra/src/symmetric.jl:844\n",
       "[250] *(A::LinearAlgebra.Transpose{#s576,#s575} where #s575<:(AbstractArray{T,2} where T) where #s576, B::LinearAlgebra.Transpose{#s574,#s573} where #s573<:(Union{Hermitian{T,S}, Symmetric{T,S}, Symmetric{Complex{T},S}} where S where T<:Real) where #s574) in LinearAlgebra at /Users/julia/buildbot/worker/package_macos64/build/usr/share/julia/stdlib/v1.0/LinearAlgebra/src/symmetric.jl:846\n",
       "[251] *(D::LinearAlgebra.Diagonal, x::Number) in LinearAlgebra at /Users/julia/buildbot/worker/package_macos64/build/usr/share/julia/stdlib/v1.0/LinearAlgebra/src/diagonal.jl:156\n",
       "[252] *(Da::LinearAlgebra.Diagonal, Db::LinearAlgebra.Diagonal) in LinearAlgebra at /Users/julia/buildbot/worker/package_macos64/build/usr/share/julia/stdlib/v1.0/LinearAlgebra/src/diagonal.jl:158\n",
       "[253] *(D::LinearAlgebra.Diagonal, B::LinearAlgebra.AbstractTriangular) in LinearAlgebra at /Users/julia/buildbot/worker/package_macos64/build/usr/share/julia/stdlib/v1.0/LinearAlgebra/src/diagonal.jl:162\n",
       "[254] *(D::LinearAlgebra.Diagonal, B::LinearAlgebra.Adjoint{#s576,#s575} where #s575<:LinearAlgebra.Diagonal where #s576) in LinearAlgebra at /Users/julia/buildbot/worker/package_macos64/build/usr/share/julia/stdlib/v1.0/LinearAlgebra/src/diagonal.jl:230\n",
       "[255] *(D::LinearAlgebra.Diagonal, B::LinearAlgebra.Adjoint{#s576,#s575} where #s575<:LinearAlgebra.AbstractTriangular where #s576) in LinearAlgebra at /Users/julia/buildbot/worker/package_macos64/build/usr/share/julia/stdlib/v1.0/LinearAlgebra/src/diagonal.jl:231\n",
       "[256] *(D::LinearAlgebra.Diagonal, adjQ::LinearAlgebra.Adjoint{#s576,#s575} where #s575<:Union{QRCompactWYQ, QRPackedQ} where #s576) in LinearAlgebra at /Users/julia/buildbot/worker/package_macos64/build/usr/share/julia/stdlib/v1.0/LinearAlgebra/src/diagonal.jl:232\n",
       "[257] *(A::LinearAlgebra.Diagonal, adjB::LinearAlgebra.Adjoint{#s576,#s575} where #s575<:(Union{Hermitian{T,S}, Hermitian{Complex{T},S}, Symmetric{T,S}} where S where T<:Real) where #s576) in LinearAlgebra at /Users/julia/buildbot/worker/package_macos64/build/usr/share/julia/stdlib/v1.0/LinearAlgebra/src/diagonal.jl:288\n",
       "[258] *(D::LinearAlgebra.Diagonal, adjA::LinearAlgebra.Adjoint{#s576,#s575} where #s575<:(AbstractArray{T,2} where T) where #s576) in LinearAlgebra at /Users/julia/buildbot/worker/package_macos64/build/usr/share/julia/stdlib/v1.0/LinearAlgebra/src/diagonal.jl:234\n",
       "[259] *(D::LinearAlgebra.Diagonal, B::LinearAlgebra.Transpose{#s576,#s575} where #s575<:LinearAlgebra.Diagonal where #s576) in LinearAlgebra at /Users/julia/buildbot/worker/package_macos64/build/usr/share/julia/stdlib/v1.0/LinearAlgebra/src/diagonal.jl:240\n",
       "[260] *(D::LinearAlgebra.Diagonal, B::LinearAlgebra.Transpose{#s576,#s575} where #s575<:LinearAlgebra.AbstractTriangular where #s576) in LinearAlgebra at /Users/julia/buildbot/worker/package_macos64/build/usr/share/julia/stdlib/v1.0/LinearAlgebra/src/diagonal.jl:241\n",
       "[261] *(A::LinearAlgebra.Diagonal, transB::LinearAlgebra.Transpose{#s576,#s575} where #s575<:(Union{Hermitian{T,S}, Symmetric{T,S}, Symmetric{Complex{T},S}} where S where T<:Real) where #s576) in LinearAlgebra at /Users/julia/buildbot/worker/package_macos64/build/usr/share/julia/stdlib/v1.0/LinearAlgebra/src/diagonal.jl:286\n",
       "[262] *(D::LinearAlgebra.Diagonal, transA::LinearAlgebra.Transpose{#s576,#s575} where #s575<:(AbstractArray{T,2} where T) where #s576) in LinearAlgebra at /Users/julia/buildbot/worker/package_macos64/build/usr/share/julia/stdlib/v1.0/LinearAlgebra/src/diagonal.jl:243\n",
       "[263] *(A::LinearAlgebra.Diagonal, B::LinearAlgebra.Adjoint{#s576,#s575} where #s575<:LinearAlgebra.AbstractRotation where #s576) in LinearAlgebra at /Users/julia/buildbot/worker/package_macos64/build/usr/share/julia/stdlib/v1.0/LinearAlgebra/src/givens.jl:397\n",
       "[264] *(D::LinearAlgebra.Diagonal, A::SparseArrays.SparseMatrixCSC) in SparseArrays at /Users/julia/buildbot/worker/package_macos64/build/usr/share/julia/stdlib/v1.0/SparseArrays/src/linalg.jl:130\n",
       "[265] *(D::LinearAlgebra.Diagonal, V::AbstractArray{T,1} where T) in LinearAlgebra at /Users/julia/buildbot/worker/package_macos64/build/usr/share/julia/stdlib/v1.0/LinearAlgebra/src/diagonal.jl:159\n",
       "[266] *(D::LinearAlgebra.Diagonal, A::AbstractArray{T,2} where T) in LinearAlgebra at /Users/julia/buildbot/worker/package_macos64/build/usr/share/julia/stdlib/v1.0/LinearAlgebra/src/diagonal.jl:166\n",
       "[267] *(adjA::LinearAlgebra.Adjoint{#s576,#s575} where #s575<:(AbstractArray{T,2} where T) where #s576, D::LinearAlgebra.Diagonal) in LinearAlgebra at /Users/julia/buildbot/worker/package_macos64/build/usr/share/julia/stdlib/v1.0/LinearAlgebra/src/diagonal.jl:215\n",
       "[268] *(transA::LinearAlgebra.Transpose{#s576,#s575} where #s575<:(AbstractArray{T,2} where T) where #s576, D::LinearAlgebra.Diagonal) in LinearAlgebra at /Users/julia/buildbot/worker/package_macos64/build/usr/share/julia/stdlib/v1.0/LinearAlgebra/src/diagonal.jl:224\n",
       "[269] *(A::LinearAlgebra.Bidiagonal, B::Number) in LinearAlgebra at /Users/julia/buildbot/worker/package_macos64/build/usr/share/julia/stdlib/v1.0/LinearAlgebra/src/bidiag.jl:320\n",
       "[270] *(A::Union{Bidiagonal, SymTridiagonal, Tridiagonal}, B::Union{Bidiagonal, SymTridiagonal, Tridiagonal}) in LinearAlgebra at /Users/julia/buildbot/worker/package_macos64/build/usr/share/julia/stdlib/v1.0/LinearAlgebra/src/bidiag.jl:492\n",
       "[271] *(A::LinearAlgebra.Bidiagonal{T,V} where V<:AbstractArray{T,1}, adjB::LinearAlgebra.Adjoint{#s576,#s575} where #s575<:AbstractArray{T,1} where #s576) where T in LinearAlgebra at /Users/julia/buildbot/worker/package_macos64/build/usr/share/julia/stdlib/v1.0/LinearAlgebra/src/bidiag.jl:497\n",
       "[272] *(A::LinearAlgebra.Bidiagonal{T,V} where V<:AbstractArray{T,1}, B::AbstractArray{T,1}) where T in LinearAlgebra at /Users/julia/buildbot/worker/package_macos64/build/usr/share/julia/stdlib/v1.0/LinearAlgebra/src/bidiag.jl:495\n",
       "[273] *(A::LinearAlgebra.Adjoint{#s576,#s575} where #s575<:(AbstractArray{T,2} where T) where #s576, B::LinearAlgebra.Adjoint{#s574,#s573} where #s573<:LinearAlgebra.AbstractRotation where #s574) in LinearAlgebra at /Users/julia/buildbot/worker/package_macos64/build/usr/share/julia/stdlib/v1.0/LinearAlgebra/src/givens.jl:388\n",
       "[274] *(A::LinearAlgebra.Transpose{#s576,#s575} where #s575<:(AbstractArray{T,2} where T) where #s576, B::LinearAlgebra.Adjoint{#s574,#s573} where #s573<:LinearAlgebra.AbstractRotation where #s574) in LinearAlgebra at /Users/julia/buildbot/worker/package_macos64/build/usr/share/julia/stdlib/v1.0/LinearAlgebra/src/givens.jl:390\n",
       "[275] *(x::Union{SubArray{T,1,#s576,Tuple{Slice{OneTo{Int64}},Int64},false} where #s576<:SparseMatrixCSC, SparseVector{T,Ti} where Ti<:Integer} where T, a::Number) in SparseArrays at /Users/julia/buildbot/worker/package_macos64/build/usr/share/julia/stdlib/v1.0/SparseArrays/src/sparsevector.jl:1393\n",
       "[276] *(X::Union{DenseArray{TX,2}, ReinterpretArray{TX,2,S,A} where S where A<:Union{SubArray{T,N,A,I,true} where I<:Tuple{AbstractUnitRange,Vararg{Any,N} where N} where A<:DenseArray where N where T, DenseArray}, ReshapedArray{TX,2,A,MI} where MI<:Tuple{Vararg{SignedMultiplicativeInverse{Int64},N} where N} where A<:Union{ReinterpretArray{T,N,S,A} where S where A<:Union{SubArray{T,N,A,I,true} where I<:Tuple{AbstractUnitRange,Vararg{Any,N} where N} where A<:DenseArray where N where T, DenseArray} where N where T, SubArray{T,N,A,I,true} where I<:Tuple{AbstractUnitRange,Vararg{Any,N} where N} where A<:DenseArray where N where T, DenseArray}, SubArray{TX,2,A,I,L} where L where I<:Tuple{Vararg{Union{Int64, AbstractRange{Int64}, AbstractCartesianIndex},N} where N} where A<:Union{ReinterpretArray{T,N,S,A} where S where A<:Union{SubArray{T,N,A,I,true} where I<:Tuple{AbstractUnitRange,Vararg{Any,N} where N} where A<:DenseArray where N where T, DenseArray} where N where T, ReshapedArray{T,N,A,MI} where MI<:Tuple{Vararg{SignedMultiplicativeInverse{Int64},N} where N} where A<:Union{ReinterpretArray{T,N,S,A} where S where A<:Union{SubArray{T,N,A,I,true} where I<:Tuple{AbstractUnitRange,Vararg{Any,N} where N} where A<:DenseArray where N where T, DenseArray} where N where T, SubArray{T,N,A,I,true} where I<:Tuple{AbstractUnitRange,Vararg{Any,N} where N} where A<:DenseArray where N where T, DenseArray} where N where T, DenseArray}}, A::SparseArrays.SparseMatrixCSC{TvA,TiA}) where {TX, TvA, TiA} in SparseArrays at /Users/julia/buildbot/worker/package_macos64/build/usr/share/julia/stdlib/v1.0/SparseArrays/src/linalg.jl:118\n",
       "[277] *(A::Union{DenseArray{Ta,2}, ReinterpretArray{Ta,2,S,A} where S where A<:Union{SubArray{T,N,A,I,true} where I<:Tuple{AbstractUnitRange,Vararg{Any,N} where N} where A<:DenseArray where N where T, DenseArray}, ReshapedArray{Ta,2,A,MI} where MI<:Tuple{Vararg{SignedMultiplicativeInverse{Int64},N} where N} where A<:Union{ReinterpretArray{T,N,S,A} where S where A<:Union{SubArray{T,N,A,I,true} where I<:Tuple{AbstractUnitRange,Vararg{Any,N} where N} where A<:DenseArray where N where T, DenseArray} where N where T, SubArray{T,N,A,I,true} where I<:Tuple{AbstractUnitRange,Vararg{Any,N} where N} where A<:DenseArray where N where T, DenseArray}, SubArray{Ta,2,A,I,L} where L where I<:Tuple{Vararg{Union{Int64, AbstractRange{Int64}, AbstractCartesianIndex},N} where N} where A<:Union{ReinterpretArray{T,N,S,A} where S where A<:Union{SubArray{T,N,A,I,true} where I<:Tuple{AbstractUnitRange,Vararg{Any,N} where N} where A<:DenseArray where N where T, DenseArray} where N where T, ReshapedArray{T,N,A,MI} where MI<:Tuple{Vararg{SignedMultiplicativeInverse{Int64},N} where N} where A<:Union{ReinterpretArray{T,N,S,A} where S where A<:Union{SubArray{T,N,A,I,true} where I<:Tuple{AbstractUnitRange,Vararg{Any,N} where N} where A<:DenseArray where N where T, DenseArray} where N where T, SubArray{T,N,A,I,true} where I<:Tuple{AbstractUnitRange,Vararg{Any,N} where N} where A<:DenseArray where N where T, DenseArray} where N where T, DenseArray}}, x::SparseArrays.AbstractSparseArray{Tx,Ti,1} where Ti) where {Ta, Tx} in SparseArrays at /Users/julia/buildbot/worker/package_macos64/build/usr/share/julia/stdlib/v1.0/SparseArrays/src/sparsevector.jl:1480\n",
       "[278] *(A::SparseArrays.SparseMatrixCSC, x::SparseArrays.AbstractSparseArray{Tv,Ti,1} where Ti where Tv) in SparseArrays at /Users/julia/buildbot/worker/package_macos64/build/usr/share/julia/stdlib/v1.0/SparseArrays/src/sparsevector.jl:1667\n",
       "[279] *(A::SparseArrays.SparseMatrixCSC{Tv,Ti}, B::SparseArrays.SparseMatrixCSC{Tv,Ti}) where {Tv, Ti} in SparseArrays at /Users/julia/buildbot/worker/package_macos64/build/usr/share/julia/stdlib/v1.0/SparseArrays/src/linalg.jl:141\n",
       "[280] *(A::SparseArrays.SparseMatrixCSC{TvA,TiA}, B::SparseArrays.SparseMatrixCSC{TvB,TiB}) where {TvA, TiA, TvB, TiB} in SparseArrays at /Users/julia/buildbot/worker/package_macos64/build/usr/share/julia/stdlib/v1.0/SparseArrays/src/linalg.jl:7\n",
       "[281] *(A::SparseArrays.SparseMatrixCSC{Tv,Ti}, B::LinearAlgebra.Transpose{#s576,#s575} where #s575<:SparseArrays.SparseMatrixCSC{Tv,Ti} where #s576) where {Tv, Ti} in SparseArrays at /Users/julia/buildbot/worker/package_macos64/build/usr/share/julia/stdlib/v1.0/SparseArrays/src/linalg.jl:143\n",
       "[282] *(A::SparseArrays.SparseMatrixCSC{TvA,TiA}, transB::LinearAlgebra.Transpose{#s576,#s575} where #s575<:SparseArrays.SparseMatrixCSC{TvB,TiB} where #s576) where {TvA, TiA, TvB, TiB} in SparseArrays at /Users/julia/buildbot/worker/package_macos64/build/usr/share/julia/stdlib/v1.0/SparseArrays/src/linalg.jl:9\n",
       "[283] *(A::SparseArrays.SparseMatrixCSC{Tv,Ti}, B::LinearAlgebra.Adjoint{#s576,#s575} where #s575<:SparseArrays.SparseMatrixCSC{Tv,Ti} where #s576) where {Tv, Ti} in SparseArrays at /Users/julia/buildbot/worker/package_macos64/build/usr/share/julia/stdlib/v1.0/SparseArrays/src/linalg.jl:142\n",
       "[284] *(A::SparseArrays.SparseMatrixCSC{TvA,TiA}, adjB::LinearAlgebra.Adjoint{#s576,#s575} where #s575<:SparseArrays.SparseMatrixCSC{TvB,TiB} where #s576) where {TvA, TiA, TvB, TiB} in SparseArrays at /Users/julia/buildbot/worker/package_macos64/build/usr/share/julia/stdlib/v1.0/SparseArrays/src/linalg.jl:11\n",
       "[285] *(A::SparseArrays.SparseMatrixCSC{TA,S}, x::Union{DenseArray{Tx,1}, ReinterpretArray{Tx,1,S,A} where S where A<:Union{SubArray{T,N,A,I,true} where I<:Tuple{AbstractUnitRange,Vararg{Any,N} where N} where A<:DenseArray where N where T, DenseArray}, ReshapedArray{Tx,1,A,MI} where MI<:Tuple{Vararg{SignedMultiplicativeInverse{Int64},N} where N} where A<:Union{ReinterpretArray{T,N,S,A} where S where A<:Union{SubArray{T,N,A,I,true} where I<:Tuple{AbstractUnitRange,Vararg{Any,N} where N} where A<:DenseArray where N where T, DenseArray} where N where T, SubArray{T,N,A,I,true} where I<:Tuple{AbstractUnitRange,Vararg{Any,N} where N} where A<:DenseArray where N where T, DenseArray}, SubArray{Tx,1,A,I,L} where L where I<:Tuple{Vararg{Union{Int64, AbstractRange{Int64}, AbstractCartesianIndex},N} where N} where A<:Union{ReinterpretArray{T,N,S,A} where S where A<:Union{SubArray{T,N,A,I,true} where I<:Tuple{AbstractUnitRange,Vararg{Any,N} where N} where A<:DenseArray where N where T, DenseArray} where N where T, ReshapedArray{T,N,A,MI} where MI<:Tuple{Vararg{SignedMultiplicativeInverse{Int64},N} where N} where A<:Union{ReinterpretArray{T,N,S,A} where S where A<:Union{SubArray{T,N,A,I,true} where I<:Tuple{AbstractUnitRange,Vararg{Any,N} where N} where A<:DenseArray where N where T, DenseArray} where N where T, SubArray{T,N,A,I,true} where I<:Tuple{AbstractUnitRange,Vararg{Any,N} where N} where A<:DenseArray where N where T, DenseArray} where N where T, DenseArray}}) where {TA, S, Tx} in SparseArrays at /Users/julia/buildbot/worker/package_macos64/build/usr/share/julia/stdlib/v1.0/SparseArrays/src/linalg.jl:51\n",
       "[286] *(A::SparseArrays.SparseMatrixCSC{TA,S}, B::Union{DenseArray{Tx,2}, ReinterpretArray{Tx,2,S,A} where S where A<:Union{SubArray{T,N,A,I,true} where I<:Tuple{AbstractUnitRange,Vararg{Any,N} where N} where A<:DenseArray where N where T, DenseArray}, ReshapedArray{Tx,2,A,MI} where MI<:Tuple{Vararg{SignedMultiplicativeInverse{Int64},N} where N} where A<:Union{ReinterpretArray{T,N,S,A} where S where A<:Union{SubArray{T,N,A,I,true} where I<:Tuple{AbstractUnitRange,Vararg{Any,N} where N} where A<:DenseArray where N where T, DenseArray} where N where T, SubArray{T,N,A,I,true} where I<:Tuple{AbstractUnitRange,Vararg{Any,N} where N} where A<:DenseArray where N where T, DenseArray}, SubArray{Tx,2,A,I,L} where L where I<:Tuple{Vararg{Union{Int64, AbstractRange{Int64}, AbstractCartesianIndex},N} where N} where A<:Union{ReinterpretArray{T,N,S,A} where S where A<:Union{SubArray{T,N,A,I,true} where I<:Tuple{AbstractUnitRange,Vararg{Any,N} where N} where A<:DenseArray where N where T, DenseArray} where N where T, ReshapedArray{T,N,A,MI} where MI<:Tuple{Vararg{SignedMultiplicativeInverse{Int64},N} where N} where A<:Union{ReinterpretArray{T,N,S,A} where S where A<:Union{SubArray{T,N,A,I,true} where I<:Tuple{AbstractUnitRange,Vararg{Any,N} where N} where A<:DenseArray where N where T, DenseArray} where N where T, SubArray{T,N,A,I,true} where I<:Tuple{AbstractUnitRange,Vararg{Any,N} where N} where A<:DenseArray where N where T, DenseArray} where N where T, DenseArray}}) where {TA, S, Tx} in SparseArrays at /Users/julia/buildbot/worker/package_macos64/build/usr/share/julia/stdlib/v1.0/SparseArrays/src/linalg.jl:53\n",
       "[287] *(A::SparseArrays.SparseMatrixCSC, D::LinearAlgebra.Diagonal) in SparseArrays at /Users/julia/buildbot/worker/package_macos64/build/usr/share/julia/stdlib/v1.0/SparseArrays/src/linalg.jl:134\n",
       "[288] *(A::SuiteSparse.CHOLMOD.Sparse, B::SuiteSparse.CHOLMOD.Sparse) in SuiteSparse.CHOLMOD at /Users/julia/buildbot/worker/package_macos64/build/usr/share/julia/stdlib/v1.0/SuiteSparse/src/cholmod.jl:1307\n",
       "[289] *(A::SuiteSparse.CHOLMOD.Sparse, B::SuiteSparse.CHOLMOD.Dense) in SuiteSparse.CHOLMOD at /Users/julia/buildbot/worker/package_macos64/build/usr/share/julia/stdlib/v1.0/SuiteSparse/src/cholmod.jl:1308\n",
       "[290] *(A::SuiteSparse.CHOLMOD.Sparse, B::Union{Array{T,1}, Array{T,2}} where T) in SuiteSparse.CHOLMOD at /Users/julia/buildbot/worker/package_macos64/build/usr/share/julia/stdlib/v1.0/SuiteSparse/src/cholmod.jl:1309\n",
       "[291] *(A::SuiteSparse.CHOLMOD.Sparse{Tv}, adjB::LinearAlgebra.Adjoint{Tv,SuiteSparse.CHOLMOD.Sparse{Tv}}) where Tv<:Float64 in SuiteSparse.CHOLMOD at /Users/julia/buildbot/worker/package_macos64/build/usr/share/julia/stdlib/v1.0/SuiteSparse/src/cholmod.jl:1312\n",
       "[292] *(A::LinearAlgebra.Symmetric{Float64,SparseArrays.SparseMatrixCSC{Float64,Ti}}, B::Union{SparseMatrixCSC{Float64,Ti}, SparseVector{Float64,Ti}}) where Ti in SuiteSparse.CHOLMOD at /Users/julia/buildbot/worker/package_macos64/build/usr/share/julia/stdlib/v1.0/SuiteSparse/src/cholmod.jl:1849\n",
       "[293] *(A::LinearAlgebra.Hermitian{Complex{Float64},SparseArrays.SparseMatrixCSC{Complex{Float64},Ti}}, B::Union{SparseMatrixCSC{Complex{Float64},Ti}, SparseVector{Complex{Float64},Ti}}) where Ti in SuiteSparse.CHOLMOD at /Users/julia/buildbot/worker/package_macos64/build/usr/share/julia/stdlib/v1.0/SuiteSparse/src/cholmod.jl:1851\n",
       "[294] *(A::LinearAlgebra.Hermitian{Float64,SparseArrays.SparseMatrixCSC{Float64,Ti}}, B::Union{SparseMatrixCSC{Float64,Ti}, SparseVector{Float64,Ti}}) where Ti in SuiteSparse.CHOLMOD at /Users/julia/buildbot/worker/package_macos64/build/usr/share/julia/stdlib/v1.0/SuiteSparse/src/cholmod.jl:1853\n",
       "[295] *(A::Union{SparseMatrixCSC{Float64,Ti}, SparseVector{Float64,Ti}}, B::LinearAlgebra.Symmetric{Float64,SparseArrays.SparseMatrixCSC{Float64,Ti}}) where Ti in SuiteSparse.CHOLMOD at /Users/julia/buildbot/worker/package_macos64/build/usr/share/julia/stdlib/v1.0/SuiteSparse/src/cholmod.jl:1856\n",
       "[296] *(A::Union{SparseMatrixCSC{Complex{Float64},Ti}, SparseVector{Complex{Float64},Ti}}, B::LinearAlgebra.Hermitian{Complex{Float64},SparseArrays.SparseMatrixCSC{Complex{Float64},Ti}}) where Ti in SuiteSparse.CHOLMOD at /Users/julia/buildbot/worker/package_macos64/build/usr/share/julia/stdlib/v1.0/SuiteSparse/src/cholmod.jl:1858\n",
       "[297] *(A::Union{SparseMatrixCSC{Float64,Ti}, SparseVector{Float64,Ti}}, B::LinearAlgebra.Hermitian{Float64,SparseArrays.SparseMatrixCSC{Float64,Ti}}) where Ti in SuiteSparse.CHOLMOD at /Users/julia/buildbot/worker/package_macos64/build/usr/share/julia/stdlib/v1.0/SuiteSparse/src/cholmod.jl:1860\n",
       "[298] *(x::AbstractArray{#s57,2} where #s57<:Number) in Base at abstractarraymath.jl:99\n",
       "[299] *(B::Number, A::LinearAlgebra.SymTridiagonal) in LinearAlgebra at /Users/julia/buildbot/worker/package_macos64/build/usr/share/julia/stdlib/v1.0/LinearAlgebra/src/tridiag.jl:161\n",
       "[300] *(B::Number, A::LinearAlgebra.Tridiagonal) in LinearAlgebra at /Users/julia/buildbot/worker/package_macos64/build/usr/share/julia/stdlib/v1.0/LinearAlgebra/src/tridiag.jl:615\n",
       "[301] *(x::Number, A::LinearAlgebra.UpperTriangular) in LinearAlgebra at /Users/julia/buildbot/worker/package_macos64/build/usr/share/julia/stdlib/v1.0/LinearAlgebra/src/triangular.jl:680\n",
       "[302] *(x::Number, A::LinearAlgebra.UnitUpperTriangular) in LinearAlgebra at /Users/julia/buildbot/worker/package_macos64/build/usr/share/julia/stdlib/v1.0/LinearAlgebra/src/triangular.jl:683\n",
       "[303] *(x::Number, A::LinearAlgebra.LowerTriangular) in LinearAlgebra at /Users/julia/buildbot/worker/package_macos64/build/usr/share/julia/stdlib/v1.0/LinearAlgebra/src/triangular.jl:680\n",
       "[304] *(x::Number, A::LinearAlgebra.UnitLowerTriangular) in LinearAlgebra at /Users/julia/buildbot/worker/package_macos64/build/usr/share/julia/stdlib/v1.0/LinearAlgebra/src/triangular.jl:683\n",
       "[305] *(x::Number, D::LinearAlgebra.Diagonal) in LinearAlgebra at /Users/julia/buildbot/worker/package_macos64/build/usr/share/julia/stdlib/v1.0/LinearAlgebra/src/diagonal.jl:155\n",
       "[306] *(B::Number, A::LinearAlgebra.Bidiagonal) in LinearAlgebra at /Users/julia/buildbot/worker/package_macos64/build/usr/share/julia/stdlib/v1.0/LinearAlgebra/src/bidiag.jl:321\n",
       "[307] *(a::Number, x::Union{SubArray{T,1,#s576,Tuple{Slice{OneTo{Int64}},Int64},false} where #s576<:SparseMatrixCSC, SparseVector{T,Ti} where Ti<:Integer} where T) in SparseArrays at /Users/julia/buildbot/worker/package_macos64/build/usr/share/julia/stdlib/v1.0/SparseArrays/src/sparsevector.jl:1394\n",
       "[308] *(A::Number, B::AbstractArray) in Base at arraymath.jl:52\n",
       "[309] *(A::AbstractArray, B::Number) in Base at arraymath.jl:55\n",
       "[310] *(s1::Union{AbstractChar, AbstractString}, ss::Union{AbstractChar, AbstractString}...) in Base at strings/basic.jl:229\n",
       "[311] *(index::CartesianIndex, a::Integer) in Base.IteratorsMD at multidimensional.jl:116\n",
       "[312] *(::Number, ::Missing) in Base at missing.jl:94\n",
       "[313] *(d::AbstractString, x::Missing) in Base at missing.jl:140\n",
       "[314] *(x::P, y::Real) where P<:Dates.Period in Dates at /Users/julia/buildbot/worker/package_macos64/build/usr/share/julia/stdlib/v1.0/Dates/src/periods.jl:92\n",
       "[315] *(u::AbstractArray{T,1} where T, v::Union{Adjoint{T,#s576}, Transpose{T,#s576}} where #s576<:(AbstractArray{T,1} where T) where T) in LinearAlgebra at /Users/julia/buildbot/worker/package_macos64/build/usr/share/julia/stdlib/v1.0/LinearAlgebra/src/adjtrans.jl:205\n",
       "[316] *(A::AbstractArray{T,2} where T, B::LinearAlgebra.AbstractTriangular) in LinearAlgebra at /Users/julia/buildbot/worker/package_macos64/build/usr/share/julia/stdlib/v1.0/LinearAlgebra/src/triangular.jl:1929\n",
       "[317] *(A::AbstractArray{T,2} where T, adjB::LinearAlgebra.Adjoint{#s576,#s575} where #s575<:LinearAlgebra.AbstractTriangular where #s576) in LinearAlgebra at /Users/julia/buildbot/worker/package_macos64/build/usr/share/julia/stdlib/v1.0/LinearAlgebra/src/triangular.jl:1936\n",
       "[318] *(A::AbstractArray{T,2} where T, transB::LinearAlgebra.Transpose{#s576,#s575} where #s575<:LinearAlgebra.AbstractTriangular where #s576) in LinearAlgebra at /Users/julia/buildbot/worker/package_macos64/build/usr/share/julia/stdlib/v1.0/LinearAlgebra/src/triangular.jl:1944\n",
       "[319] *(A::AbstractArray{T,2} where T, transB::LinearAlgebra.Transpose{#s576,#s575} where #s575<:(Union{Hermitian{T,S}, Symmetric{T,S}, Symmetric{Complex{T},S}} where S where T<:Real) where #s576) in LinearAlgebra at /Users/julia/buildbot/worker/package_macos64/build/usr/share/julia/stdlib/v1.0/LinearAlgebra/src/symmetric.jl:423\n",
       "[320] *(A::AbstractArray{T,2} where T, adjB::LinearAlgebra.Adjoint{#s576,#s575} where #s575<:(Union{Hermitian{T,S}, Hermitian{Complex{T},S}, Symmetric{T,S}} where S where T<:Real) where #s576) in LinearAlgebra at /Users/julia/buildbot/worker/package_macos64/build/usr/share/julia/stdlib/v1.0/LinearAlgebra/src/symmetric.jl:427\n",
       "[321] *(A::AbstractArray{T,2} where T, D::LinearAlgebra.Diagonal) in LinearAlgebra at /Users/julia/buildbot/worker/package_macos64/build/usr/share/julia/stdlib/v1.0/LinearAlgebra/src/diagonal.jl:164\n",
       "[322] *(A::AbstractArray{T,2} where T, adjR::LinearAlgebra.Adjoint{#s576,#s575} where #s575<:LinearAlgebra.AbstractRotation where #s576) in LinearAlgebra at /Users/julia/buildbot/worker/package_macos64/build/usr/share/julia/stdlib/v1.0/LinearAlgebra/src/givens.jl:14\n",
       "[323] *(A::AbstractArray{T,2}, x::AbstractArray{S,1}) where {T, S} in LinearAlgebra at /Users/julia/buildbot/worker/package_macos64/build/usr/share/julia/stdlib/v1.0/LinearAlgebra/src/matmul.jl:49\n",
       "[324] *(a::AbstractArray{T,1} where T, transB::LinearAlgebra.Transpose{#s576,#s575} where #s575<:(AbstractArray{T,2} where T) where #s576) in LinearAlgebra at /Users/julia/buildbot/worker/package_macos64/build/usr/share/julia/stdlib/v1.0/LinearAlgebra/src/matmul.jl:55\n",
       "[325] *(a::AbstractArray{T,1} where T, adjB::LinearAlgebra.Adjoint{#s576,#s575} where #s575<:(AbstractArray{T,2} where T) where #s576) in LinearAlgebra at /Users/julia/buildbot/worker/package_macos64/build/usr/share/julia/stdlib/v1.0/LinearAlgebra/src/matmul.jl:59\n",
       "[326] *(A::AbstractArray{T,1} where T, adjR::LinearAlgebra.Adjoint{#s576,#s575} where #s575<:LinearAlgebra.AbstractRotation where #s576) in LinearAlgebra at /Users/julia/buildbot/worker/package_macos64/build/usr/share/julia/stdlib/v1.0/LinearAlgebra/src/givens.jl:13\n",
       "[327] *(a::AbstractArray{T,1} where T, B::AbstractArray{T,2} where T) in LinearAlgebra at /Users/julia/buildbot/worker/package_macos64/build/usr/share/julia/stdlib/v1.0/LinearAlgebra/src/matmul.jl:62\n",
       "[328] *(A::AbstractArray{T,2} where T, B::AbstractArray{T,2} where T) in LinearAlgebra at /Users/julia/buildbot/worker/package_macos64/build/usr/share/julia/stdlib/v1.0/LinearAlgebra/src/matmul.jl:141\n",
       "[329] *(A::LinearAlgebra.LQ{TA,S} where S<:AbstractArray{TA,2}, B::Union{DenseArray{TB,1}, DenseArray{TB,2}, ReinterpretArray{TB,2,S,A} where S where A<:Union{SubArray{T,N,A,I,true} where I<:Tuple{AbstractUnitRange,Vararg{Any,N} where N} where A<:DenseArray where N where T, DenseArray}, ReinterpretArray{TB,1,S,A} where S where A<:Union{SubArray{T,N,A,I,true} where I<:Tuple{AbstractUnitRange,Vararg{Any,N} where N} where A<:DenseArray where N where T, DenseArray}, ReshapedArray{TB,1,A,MI} where MI<:Tuple{Vararg{SignedMultiplicativeInverse{Int64},N} where N} where A<:Union{ReinterpretArray{T,N,S,A} where S where A<:Union{SubArray{T,N,A,I,true} where I<:Tuple{AbstractUnitRange,Vararg{Any,N} where N} where A<:DenseArray where N where T, DenseArray} where N where T, SubArray{T,N,A,I,true} where I<:Tuple{AbstractUnitRange,Vararg{Any,N} where N} where A<:DenseArray where N where T, DenseArray}, ReshapedArray{TB,2,A,MI} where MI<:Tuple{Vararg{SignedMultiplicativeInverse{Int64},N} where N} where A<:Union{ReinterpretArray{T,N,S,A} where S where A<:Union{SubArray{T,N,A,I,true} where I<:Tuple{AbstractUnitRange,Vararg{Any,N} where N} where A<:DenseArray where N where T, DenseArray} where N where T, SubArray{T,N,A,I,true} where I<:Tuple{AbstractUnitRange,Vararg{Any,N} where N} where A<:DenseArray where N where T, DenseArray}, SubArray{TB,1,A,I,L} where L where I<:Tuple{Vararg{Union{Int64, AbstractRange{Int64}, AbstractCartesianIndex},N} where N} where A<:Union{ReinterpretArray{T,N,S,A} where S where A<:Union{SubArray{T,N,A,I,true} where I<:Tuple{AbstractUnitRange,Vararg{Any,N} where N} where A<:DenseArray where N where T, DenseArray} where N where T, ReshapedArray{T,N,A,MI} where MI<:Tuple{Vararg{SignedMultiplicativeInverse{Int64},N} where N} where A<:Union{ReinterpretArray{T,N,S,A} where S where A<:Union{SubArray{T,N,A,I,true} where I<:Tuple{AbstractUnitRange,Vararg{Any,N} where N} where A<:DenseArray where N where T, DenseArray} where N where T, SubArray{T,N,A,I,true} where I<:Tuple{AbstractUnitRange,Vararg{Any,N} where N} where A<:DenseArray where N where T, DenseArray} where N where T, DenseArray}, SubArray{TB,2,A,I,L} where L where I<:Tuple{Vararg{Union{Int64, AbstractRange{Int64}, AbstractCartesianIndex},N} where N} where A<:Union{ReinterpretArray{T,N,S,A} where S where A<:Union{SubArray{T,N,A,I,true} where I<:Tuple{AbstractUnitRange,Vararg{Any,N} where N} where A<:DenseArray where N where T, DenseArray} where N where T, ReshapedArray{T,N,A,MI} where MI<:Tuple{Vararg{SignedMultiplicativeInverse{Int64},N} where N} where A<:Union{ReinterpretArray{T,N,S,A} where S where A<:Union{SubArray{T,N,A,I,true} where I<:Tuple{AbstractUnitRange,Vararg{Any,N} where N} where A<:DenseArray where N where T, DenseArray} where N where T, SubArray{T,N,A,I,true} where I<:Tuple{AbstractUnitRange,Vararg{Any,N} where N} where A<:DenseArray where N where T, DenseArray} where N where T, DenseArray}}) where {TA, TB} in LinearAlgebra at /Users/julia/buildbot/worker/package_macos64/build/usr/share/julia/stdlib/v1.0/LinearAlgebra/src/lq.jl:144\n",
       "[330] *(J1::LinearAlgebra.UniformScaling, J2::LinearAlgebra.UniformScaling) in LinearAlgebra at /Users/julia/buildbot/worker/package_macos64/build/usr/share/julia/stdlib/v1.0/LinearAlgebra/src/uniformscaling.jl:144\n",
       "[331] *(J::LinearAlgebra.UniformScaling, B::BitArray{2}) in LinearAlgebra at /Users/julia/buildbot/worker/package_macos64/build/usr/share/julia/stdlib/v1.0/LinearAlgebra/src/uniformscaling.jl:146\n",
       "[332] *(A::AbstractArray{T,2} where T, J::LinearAlgebra.UniformScaling) in LinearAlgebra at /Users/julia/buildbot/worker/package_macos64/build/usr/share/julia/stdlib/v1.0/LinearAlgebra/src/uniformscaling.jl:147\n",
       "[333] *(J::LinearAlgebra.UniformScaling, A::Union{AbstractArray{T,1}, AbstractArray{T,2}} where T) in LinearAlgebra at /Users/julia/buildbot/worker/package_macos64/build/usr/share/julia/stdlib/v1.0/LinearAlgebra/src/uniformscaling.jl:148\n",
       "[334] *(x::Number, J::LinearAlgebra.UniformScaling) in LinearAlgebra at /Users/julia/buildbot/worker/package_macos64/build/usr/share/julia/stdlib/v1.0/LinearAlgebra/src/uniformscaling.jl:149\n",
       "[335] *(J::LinearAlgebra.UniformScaling, x::Number) in LinearAlgebra at /Users/julia/buildbot/worker/package_macos64/build/usr/share/julia/stdlib/v1.0/LinearAlgebra/src/uniformscaling.jl:150\n",
       "[336] *(R::LinearAlgebra.AbstractRotation{T}, A::Union{AbstractArray{S,1}, AbstractArray{S,2}}) where {T, S} in LinearAlgebra at /Users/julia/buildbot/worker/package_macos64/build/usr/share/julia/stdlib/v1.0/LinearAlgebra/src/givens.jl:10\n",
       "[337] *(A::AbstractArray{T,2}, R::LinearAlgebra.AbstractRotation{S}) where {T, S} in LinearAlgebra at /Users/julia/buildbot/worker/package_macos64/build/usr/share/julia/stdlib/v1.0/LinearAlgebra/src/givens.jl:21\n",
       "[338] *(G1::LinearAlgebra.Givens{T}, G2::LinearAlgebra.Givens{T}) where T in LinearAlgebra at /Users/julia/buildbot/worker/package_macos64/build/usr/share/julia/stdlib/v1.0/LinearAlgebra/src/givens.jl:381\n",
       "[339] *(a, b, c, xs...) in Base at operators.jl:502"
      ]
     },
     "execution_count": 27,
     "metadata": {},
     "output_type": "execute_result"
    }
   ],
   "source": [
    "methods(*)"
   ]
  },
  {
   "cell_type": "markdown",
   "metadata": {},
   "source": [
    "The arguments a function can take can be restricted using the `::`-operator. Here, if we limit a function as `f(x::T)`, this means that `x` can be any type `<: T`. Can you explain the reasoning behind the following code? How does it process numbers? What does it do with strings?"
   ]
  },
  {
   "cell_type": "code",
   "execution_count": 28,
   "metadata": {},
   "outputs": [],
   "source": [
    "twice(x::Number) = 2x;\n",
    "twice(x::String) = x * x;"
   ]
  },
  {
   "cell_type": "markdown",
   "metadata": {},
   "source": [
    "So why use dispatch?\n",
    "\n",
    "1. Controls the **scope** of functions. For some types, there is no method, and we want an error if we use the wrong type.\n",
    "2. Because we wish functions to **behave differently** depending on the types you feed into them.\n",
    "\n",
    "Note that, generally seen, typing the functions is **not** needed to improve the performance of the functions.\n",
    "\n",
    "> **Exercise** Consider the following methods. Can you predict the outcome of the lines of code below it?"
   ]
  },
  {
   "cell_type": "code",
   "execution_count": 29,
   "metadata": {},
   "outputs": [],
   "source": [
    "f(x, y) = println(\"No life forms present\");\n",
    "f(x::T, y::T) where {T} = x * y;  # short for {T <: Any}\n",
    "f(x::Integer, y::Real) = 2x + y;\n",
    "f(x::Int, y::Int) = 2x + 2y;\n",
    "f(x::Integer, y::Float64) = x + 2y;\n",
    "f(x::Float64, y::Real) = x - y;\n",
    "f(x::Float64, y::Float64) = 2x - y;"
   ]
  },
  {
   "cell_type": "markdown",
   "metadata": {},
   "source": [
    "Gives"
   ]
  },
  {
   "cell_type": "code",
   "execution_count": 30,
   "metadata": {},
   "outputs": [
    {
     "data": {
      "text/plain": [
       "5.0"
      ]
     },
     "execution_count": 30,
     "metadata": {},
     "output_type": "execute_result"
    }
   ],
   "source": [
    "f(1, 2.0)"
   ]
  },
  {
   "cell_type": "code",
   "execution_count": 31,
   "metadata": {},
   "outputs": [
    {
     "data": {
      "text/plain": [
       "-1.0"
      ]
     },
     "execution_count": 31,
     "metadata": {},
     "output_type": "execute_result"
    }
   ],
   "source": [
    "f(1.0, 2)"
   ]
  },
  {
   "cell_type": "code",
   "execution_count": 32,
   "metadata": {},
   "outputs": [
    {
     "data": {
      "text/plain": [
       "4"
      ]
     },
     "execution_count": 32,
     "metadata": {},
     "output_type": "execute_result"
    }
   ],
   "source": [
    "f(Int8(1), Int8(2))"
   ]
  },
  {
   "cell_type": "code",
   "execution_count": 33,
   "metadata": {},
   "outputs": [
    {
     "data": {
      "text/plain": [
       "0.0"
      ]
     },
     "execution_count": 33,
     "metadata": {},
     "output_type": "execute_result"
    }
   ],
   "source": [
    "f(1.0, 2.0)"
   ]
  },
  {
   "cell_type": "code",
   "execution_count": 34,
   "metadata": {},
   "outputs": [
    {
     "name": "stdout",
     "output_type": "stream",
     "text": [
      "No life forms present\n"
     ]
    }
   ],
   "source": [
    "f(\"one\", 2)"
   ]
  },
  {
   "cell_type": "code",
   "execution_count": 35,
   "metadata": {},
   "outputs": [
    {
     "data": {
      "text/plain": [
       "\"onetwo\""
      ]
     },
     "execution_count": 35,
     "metadata": {},
     "output_type": "execute_result"
    }
   ],
   "source": [
    "f(\"one\", \"two\")"
   ]
  },
  {
   "cell_type": "code",
   "execution_count": 36,
   "metadata": {},
   "outputs": [
    {
     "data": {
      "text/plain": [
       "4.0f0"
      ]
     },
     "execution_count": 36,
     "metadata": {},
     "output_type": "execute_result"
    }
   ],
   "source": [
    "f(1, Float32(2.0))"
   ]
  },
  {
   "cell_type": "code",
   "execution_count": 37,
   "metadata": {},
   "outputs": [
    {
     "data": {
      "text/plain": [
       "6"
      ]
     },
     "execution_count": 37,
     "metadata": {},
     "output_type": "execute_result"
    }
   ],
   "source": [
    "f(1, 2)"
   ]
  },
  {
   "cell_type": "code",
   "execution_count": 38,
   "metadata": {},
   "outputs": [
    {
     "name": "stdout",
     "output_type": "stream",
     "text": [
      "No life forms present\n"
     ]
    }
   ],
   "source": [
    "f([1 1; 1 1], [2.0 2.0; 2.0 2.0])"
   ]
  },
  {
   "cell_type": "code",
   "execution_count": 39,
   "metadata": {},
   "outputs": [
    {
     "data": {
      "text/plain": [
       "2×2 Array{Int64,2}:\n",
       " 4  4\n",
       " 4  4"
      ]
     },
     "execution_count": 39,
     "metadata": {},
     "output_type": "execute_result"
    }
   ],
   "source": [
    "f([1 1; 1 1], [2 2; 2 2])"
   ]
  },
  {
   "cell_type": "markdown",
   "metadata": {},
   "source": [
    "# Defining types\n",
    "\n",
    "## Abstract types\n",
    "\n",
    "Abstract types are defined using the following simple syntax:\n",
    "\n",
    "```\n",
    "abstract type «name» end\n",
    "abstract type «name» <: «supertype» end\n",
    "```\n",
    "\n",
    "## Primitive types\n",
    "\n",
    "*Primitive types* exist of simple bits. Examples are `Float64` and `Int16`. You can declare your own types, though this is likely not something many often do in practice.\n",
    "\n",
    "## Composite types\n",
    "\n",
    "*Composite types* (records, structs, or objects) are more exciting. They are often containers for several objects set to behave in a certain way. Take the following small example of defining an abstract type `Pet`, which two concrete structs for cats and dogs, each has `name` as a sole attribute."
   ]
  },
  {
   "cell_type": "code",
   "execution_count": 40,
   "metadata": {},
   "outputs": [
    {
     "data": {
      "text/plain": [
       "calls (generic function with 2 methods)"
      ]
     },
     "execution_count": 40,
     "metadata": {},
     "output_type": "execute_result"
    }
   ],
   "source": [
    "abstract type Pet end\n",
    "\n",
    "struct Cat <: Pet\n",
    "  name\n",
    "end\n",
    "\n",
    "struct Dog <: Pet\n",
    "  name\n",
    "end\n",
    "\n",
    "# overload the method for showing the pets\n",
    "Base.show(io::IO, pet::Pet) = print(\"pet $(pet.name)\")\n",
    "\n",
    "# what kind of sound does the pet make?\n",
    "calls(cat::Cat) = println(\"miaaw\")\n",
    "calls(dog::Dog) = println(\"woof\")"
   ]
  },
  {
   "cell_type": "code",
   "execution_count": 41,
   "metadata": {},
   "outputs": [],
   "source": [
    "mycat = Cat(\"Appa\");\n",
    "hisdog = Dog(\"Storm\");"
   ]
  },
  {
   "cell_type": "code",
   "execution_count": 42,
   "metadata": {},
   "outputs": [
    {
     "name": "stdout",
     "output_type": "stream",
     "text": [
      "miaaw\n"
     ]
    }
   ],
   "source": [
    "calls(mycat)"
   ]
  },
  {
   "cell_type": "code",
   "execution_count": 43,
   "metadata": {},
   "outputs": [
    {
     "name": "stdout",
     "output_type": "stream",
     "text": [
      "woof\n"
     ]
    }
   ],
   "source": [
    "calls(hisdog)"
   ]
  },
  {
   "cell_type": "markdown",
   "metadata": {},
   "source": [
    "Using dispatch, we can have custom behavior for the pets."
   ]
  },
  {
   "cell_type": "code",
   "execution_count": 44,
   "metadata": {},
   "outputs": [],
   "source": [
    "meets(pet1::Cat, pet2::Dog) = println(\"$(pet1.name) hisses at $(pet2.name)\");\n",
    "meets(pet1::Dog, pet2::Cat) = println(\"$(pet1.name) barks at $(pet2.name)\");\n",
    "meets(pet1::Cat, pet2::Cat) = println(\"$(pet1.name) ignores $(pet2.name)\");\n",
    "meets(pet1::Dog, pet2::Dog) = println(\"$(pet1.name) sniffs the but of $(pet2.name)\");"
   ]
  },
  {
   "cell_type": "code",
   "execution_count": 45,
   "metadata": {},
   "outputs": [
    {
     "name": "stdout",
     "output_type": "stream",
     "text": [
      "Appa hisses at Storm\n"
     ]
    }
   ],
   "source": [
    "meets(mycat, hisdog)"
   ]
  },
  {
   "cell_type": "code",
   "execution_count": 46,
   "metadata": {},
   "outputs": [
    {
     "name": "stdout",
     "output_type": "stream",
     "text": [
      "Storm barks at Appa\n"
     ]
    }
   ],
   "source": [
    "meets(hisdog, mycat)"
   ]
  },
  {
   "cell_type": "markdown",
   "metadata": {},
   "source": [
    "## Union types\n",
    "\n",
    "Two or more types can be combined into an `Union` type. For example, `Union{Cat, Dog}` would relate to either a cat or a dog.\n",
    "\n",
    "## Parametric types\n",
    "\n",
    "Julia allows for more control of the types. For example, consider a 2-dimensional coordinate:"
   ]
  },
  {
   "cell_type": "code",
   "execution_count": 47,
   "metadata": {},
   "outputs": [],
   "source": [
    "struct Point{T}\n",
    "    x::T\n",
    "    y::T\n",
    "end"
   ]
  },
  {
   "cell_type": "markdown",
   "metadata": {},
   "source": [
    "So here, each coordinate of the type `Point` has two attributes, `x` and `y`, of the same type. These so-called *parametric types* allow for processing the structures the right way."
   ]
  },
  {
   "cell_type": "code",
   "execution_count": 48,
   "metadata": {},
   "outputs": [
    {
     "data": {
      "text/plain": [
       "Point{Float64}(1.0, 2.0)"
      ]
     },
     "execution_count": 48,
     "metadata": {},
     "output_type": "execute_result"
    }
   ],
   "source": [
    "p = Point(1.0, 2.0)"
   ]
  },
  {
   "cell_type": "code",
   "execution_count": 49,
   "metadata": {},
   "outputs": [
    {
     "data": {
      "text/plain": [
       "Point{Int64}(1, 2)"
      ]
     },
     "execution_count": 49,
     "metadata": {},
     "output_type": "execute_result"
    }
   ],
   "source": [
    "Point(1, 2)"
   ]
  },
  {
   "cell_type": "markdown",
   "metadata": {},
   "source": [
    "But what will happen if you evaluate `Point(1, 2.0)`?"
   ]
  },
  {
   "cell_type": "code",
   "execution_count": 50,
   "metadata": {},
   "outputs": [
    {
     "ename": "MethodError",
     "evalue": "MethodError: no method matching Point(::Int64, ::Float64)\nClosest candidates are:\n  Point(::T, !Matched::T) where T at In[47]:2",
     "output_type": "error",
     "traceback": [
      "MethodError: no method matching Point(::Int64, ::Float64)\nClosest candidates are:\n  Point(::T, !Matched::T) where T at In[47]:2",
      "",
      "Stacktrace:",
      " [1] top-level scope at In[50]:1"
     ]
    }
   ],
   "source": [
    "Point(1, 2.0)"
   ]
  },
  {
   "cell_type": "markdown",
   "metadata": {},
   "source": [
    "Parametric types can be used in dispatch. For example, if we want to compute the norm of a Point, this would only make sense if Point is of type real."
   ]
  },
  {
   "cell_type": "code",
   "execution_count": 51,
   "metadata": {},
   "outputs": [],
   "source": [
    "norm(p::Point{T} where {T<:Real}) = sqrt(p.x^2 + p.y^2);"
   ]
  },
  {
   "cell_type": "code",
   "execution_count": 52,
   "metadata": {},
   "outputs": [
    {
     "data": {
      "text/plain": [
       "2.23606797749979"
      ]
     },
     "execution_count": 52,
     "metadata": {},
     "output_type": "execute_result"
    }
   ],
   "source": [
    "norm(p)"
   ]
  },
  {
   "cell_type": "markdown",
   "metadata": {},
   "source": [
    "# Constructors\n",
    "\n",
    "## Outer constructors\n",
    "\n",
    "Constructors are functions that create new objects. We have already seen that when creating a new `struc`, this immediately initiates the constructor (e.g., `Point(1.0, 2.0)`). These can also be made explicitly:"
   ]
  },
  {
   "cell_type": "code",
   "execution_count": 53,
   "metadata": {},
   "outputs": [],
   "source": [
    "Point(x::T, y::T) where {T<:Real} = Point{T}(x,y);"
   ]
  },
  {
   "cell_type": "markdown",
   "metadata": {},
   "source": [
    "Constructors, however, allow us to have custom behavior when initializing types. For example, we have seen that `Point(1, 2.0)` won't work, because the two inputs are of the same type. In this case, we can make the rule that one of the inputs has to be promoted to a more general type."
   ]
  },
  {
   "cell_type": "code",
   "execution_count": 54,
   "metadata": {},
   "outputs": [],
   "source": [
    "Point(x::Real, y::Real) = Point(promote(x, y)...);"
   ]
  },
  {
   "cell_type": "code",
   "execution_count": 55,
   "metadata": {},
   "outputs": [
    {
     "data": {
      "text/plain": [
       "Point{Float64}(1.0, 2.0)"
      ]
     },
     "execution_count": 55,
     "metadata": {},
     "output_type": "execute_result"
    }
   ],
   "source": [
    "Point(1, 2.0)"
   ]
  },
  {
   "cell_type": "markdown",
   "metadata": {},
   "source": [
    "Or, suppose that we want that if only one input is provided, it just uses this twice, e.g. `Point(1)` behaves as `Point(1, 1)`:"
   ]
  },
  {
   "cell_type": "code",
   "execution_count": 56,
   "metadata": {},
   "outputs": [
    {
     "data": {
      "text/plain": [
       "Point{Int64}(1, 1)"
      ]
     },
     "execution_count": 56,
     "metadata": {},
     "output_type": "execute_result"
    }
   ],
   "source": [
    "Point(x) = Point(x, x);\n",
    "\n",
    "Point(1)"
   ]
  },
  {
   "cell_type": "markdown",
   "metadata": {},
   "source": [
    "## Inner constructors\n",
    "\n",
    "The above examples show *outer constructors*. These are defined outside the structure. We can also use *inner constructors*, which are declared within the definition of the type. These make use of the keyword `new`. For example, let us define an ordered pair."
   ]
  },
  {
   "cell_type": "code",
   "execution_count": 57,
   "metadata": {},
   "outputs": [],
   "source": [
    "struct OrderedPair\n",
    "  x\n",
    "  y\n",
    "  function OrderedPair(x, y)\n",
    "    if x < y\n",
    "      new(x, y)\n",
    "    else\n",
    "      new(y, x)\n",
    "    end\n",
    "  end\n",
    "end"
   ]
  },
  {
   "cell_type": "code",
   "execution_count": 58,
   "metadata": {},
   "outputs": [
    {
     "data": {
      "text/plain": [
       "OrderedPair(18, 23)"
      ]
     },
     "execution_count": 58,
     "metadata": {},
     "output_type": "execute_result"
    }
   ],
   "source": [
    "OrderedPair(18, 23)"
   ]
  },
  {
   "cell_type": "code",
   "execution_count": 59,
   "metadata": {},
   "outputs": [
    {
     "data": {
      "text/plain": [
       "OrderedPair(2, 8)"
      ]
     },
     "execution_count": 59,
     "metadata": {},
     "output_type": "execute_result"
    }
   ],
   "source": [
    "OrderedPair(8, 2)"
   ]
  },
  {
   "cell_type": "markdown",
   "metadata": {},
   "source": [
    "# Exercises\n",
    "\n",
    "## Case study: the Strang matrix\n",
    "\n",
    "The Strang matrix is a tridiagonal matrix with -2 at the diagonal and above and below the diagonal.\n",
    "\n",
    "$$\n",
    "\\begin{pmatrix}\n",
    "  -2 & 1& \\cdots & 0 & 0 \\\\\n",
    "  1 & -2& \\cdots & 0 & 0\\\\\n",
    "  \\vdots  & \\vdots  & \\ddots & \\vdots  \\\\\n",
    "  0 &0 & \\cdots & -2 & 1\\\\\n",
    "0 &0 & \\cdots & 1 & -2\n",
    " \\end{pmatrix}\n",
    "$$\n",
    "\n",
    "The specific structure makes computing with this matrix often more straightforward than for general matrices. Let us implement a `Strang` matrix type to work with this!"
   ]
  },
  {
   "cell_type": "code",
   "execution_count": 60,
   "metadata": {},
   "outputs": [
    {
     "data": {
      "text/plain": [
       "Strang"
      ]
     },
     "execution_count": 60,
     "metadata": {},
     "output_type": "execute_result"
    }
   ],
   "source": [
    "struct Strang{T<:Number} <: AbstractMatrix{T}\n",
    "  n::Int\n",
    "  function Strang(T::Type,n::Integer)\n",
    "    @assert n > 0 throw(AssertionError(\"n should be positive, got $n\"))\n",
    "    new{T}(n)\n",
    "  end\n",
    "end\n",
    "\n",
    "Strang(n::Integer) = Strang(Float64, n)"
   ]
  },
  {
   "cell_type": "code",
   "execution_count": 61,
   "metadata": {},
   "outputs": [],
   "source": [
    "Base.eltype(S::Strang{T})  where {T<:Real} = T\n",
    "Base.size(S::Strang) = (S.n, S.n)\n",
    "Base.getindex(S::Strang{T}, i, j)  where {T} = i==j ? -2one(T) : (abs(i-j)==1 ? one(T) : zero(T))"
   ]
  },
  {
   "cell_type": "markdown",
   "metadata": {},
   "source": [
    "> **Optional assignment** Before running the code, modify the `struct` such that `Strang` is paramterically typed, with a constructor, for example, `Strang(Int, n)` generates an $n \\times n$ Strang matrix with `Int` elements. The default version of `Strang(n)` generates a Strang matrix of type `Strang{Float64}`.\n",
    "\n",
    "That's it! Now, we have our own implementation of the Strang matrix. We have also given Julia just enough information such that it can also represent this nicely!"
   ]
  },
  {
   "cell_type": "code",
   "execution_count": 62,
   "metadata": {},
   "outputs": [
    {
     "data": {
      "text/plain": [
       "5×5 Strang{Float64}:\n",
       " -2.0   1.0   0.0   0.0   0.0\n",
       "  1.0  -2.0   1.0   0.0   0.0\n",
       "  0.0   1.0  -2.0   1.0   0.0\n",
       "  0.0   0.0   1.0  -2.0   1.0\n",
       "  0.0   0.0   0.0   1.0  -2.0"
      ]
     },
     "execution_count": 62,
     "metadata": {},
     "output_type": "execute_result"
    }
   ],
   "source": [
    "S = Strang(5)"
   ]
  },
  {
   "cell_type": "markdown",
   "metadata": {},
   "source": [
    "Note that much other functionality just magically appears."
   ]
  },
  {
   "cell_type": "code",
   "execution_count": 63,
   "metadata": {},
   "outputs": [
    {
     "data": {
      "text/plain": [
       "-2.0"
      ]
     },
     "execution_count": 63,
     "metadata": {},
     "output_type": "execute_result"
    }
   ],
   "source": [
    "sum(S)"
   ]
  },
  {
   "cell_type": "code",
   "execution_count": 64,
   "metadata": {},
   "outputs": [
    {
     "data": {
      "text/plain": [
       "5-element Array{Float64,1}:\n",
       "  -3.1999999999999997\n",
       "   5.5               \n",
       "  -1.5999999999999996\n",
       " -10.3               \n",
       "   5.6               "
      ]
     },
     "execution_count": 64,
     "metadata": {},
     "output_type": "execute_result"
    }
   ],
   "source": [
    "v = [2.3, 1.4, 6.0, 9.0 , 1.7]\n",
    "S * v"
   ]
  },
  {
   "cell_type": "markdown",
   "metadata": {},
   "source": [
    "> **Assignment** Though multiplication works, it is quite slow, because Julia has no sense of the particular structure of Strang matrices. Overload the `*` function in Julia to provide efficient multiplication."
   ]
  },
  {
   "cell_type": "code",
   "execution_count": 65,
   "metadata": {},
   "outputs": [],
   "source": [
    "function Base.:*(S::Strang, v::Vector)\n",
    "  x = -2v\n",
    "    x[1:end-1] .+= v[2:end]\n",
    "    x[2:end] .+= v[1:end-1]\n",
    "  return x\n",
    "end"
   ]
  },
  {
   "cell_type": "code",
   "execution_count": 66,
   "metadata": {},
   "outputs": [
    {
     "data": {
      "text/plain": [
       "5-element Array{Float64,1}:\n",
       "  -3.1999999999999997\n",
       "   5.5               \n",
       "  -1.6               \n",
       " -10.3               \n",
       "   5.6               "
      ]
     },
     "execution_count": 66,
     "metadata": {},
     "output_type": "execute_result"
    }
   ],
   "source": [
    "S * v  # the same"
   ]
  },
  {
   "cell_type": "markdown",
   "metadata": {},
   "source": [
    "## Wizarding currency\n",
    "\n",
    "The British wizarding world uses Galleons, Sickles, and Knuts as a currency. There are 17 Sickles in a Galleon, and 29 Knuts in a Sickle, meaning there are 493 Knuts to a Galleon. We will make a structure `WizCur` to represent wizarding currency. This structure has three integer-valued fields: `galleons`, `sickles`, and `knuts`. The constructor should always create tidy representations, meaning that, for example, if the number of knuts is 29 or more, it just adds an appropriate number of sickles such that the number knuts is less than 29 (it's magical money). The same applies to the sickles, which can also never exceed 17.\n",
    "\n",
    "Overload `Base.show` such that Julia prints your currency as, for example, `7G, 2S, 9K`.\n",
    "\n",
    "Also, overload the function `+` to add two instances of `WizCur` and the `>` and `<` operators to compare two instances of wizarding currency.\n",
    "\n",
    "The piggy bank with Ron's life savings contains 19 Sickles and 732 Knuts. Harry has 3 Galleons, 1 Sickle, and 7 Knuts pocket change. Who has the most money? How many do they have together?"
   ]
  },
  {
   "cell_type": "code",
   "execution_count": 67,
   "metadata": {},
   "outputs": [],
   "source": [
    "struct WizCur\n",
    "  knuts::Int\n",
    "  sickles::Int\n",
    "  galleons::Int\n",
    "  function WizCur(knuts::Int, sickles::Int, galleons::Int)\n",
    "        knuts, sickles = knuts % 29, sickles + div(knuts, 29)\n",
    "        sickles, galleons = sickles % 17, galleons + div(sickles, 17)\n",
    "        new(knuts, sickles, galleons)\n",
    "    end\n",
    "end\n",
    "\n",
    "Base.show(io::IO, wizcur::WizCur) = print(\"$(wizcur.knuts)K, $(wizcur.sickles)S, $(wizcur.galleons)G\")\n"
   ]
  },
  {
   "cell_type": "code",
   "execution_count": 68,
   "metadata": {},
   "outputs": [
    {
     "data": {
      "text/plain": []
     },
     "execution_count": 68,
     "metadata": {},
     "output_type": "execute_result"
    },
    {
     "name": "stdout",
     "output_type": "stream",
     "text": [
      "0K, 0S, 30G"
     ]
    }
   ],
   "source": [
    "WizCur(0, 0, 30)"
   ]
  },
  {
   "cell_type": "code",
   "execution_count": 69,
   "metadata": {},
   "outputs": [],
   "source": [
    "Base.:+(c1::WizCur, c2::WizCur) = WizCur(c1.knuts+c2.knuts, c1.sickles+c2.sickles, c1.galleons+c2.galleons)\n",
    "knuts(c::WizCur) = c.knuts + 17c.sickles + 493c.galleons\n",
    "Base.:>(c1::WizCur, c2::WizCur) = knuts(c1) > knuts(c2)\n",
    "Base.:<(c1::WizCur, c2::WizCur) = knuts(c1) < knuts(c2)"
   ]
  },
  {
   "cell_type": "code",
   "execution_count": 70,
   "metadata": {},
   "outputs": [
    {
     "data": {
      "text/plain": []
     },
     "execution_count": 70,
     "metadata": {},
     "output_type": "execute_result"
    },
    {
     "name": "stdout",
     "output_type": "stream",
     "text": [
      "7K, 10S, 2G"
     ]
    }
   ],
   "source": [
    "money_ron = WizCur(732, 19, 0)"
   ]
  },
  {
   "cell_type": "code",
   "execution_count": 71,
   "metadata": {},
   "outputs": [
    {
     "data": {
      "text/plain": []
     },
     "execution_count": 71,
     "metadata": {},
     "output_type": "execute_result"
    },
    {
     "name": "stdout",
     "output_type": "stream",
     "text": [
      "7K, 1S, 3G"
     ]
    }
   ],
   "source": [
    "money_harry = WizCur(7, 1, 3)"
   ]
  },
  {
   "cell_type": "code",
   "execution_count": 72,
   "metadata": {},
   "outputs": [
    {
     "data": {
      "text/plain": [
       "true"
      ]
     },
     "execution_count": 72,
     "metadata": {},
     "output_type": "execute_result"
    }
   ],
   "source": [
    "money_harry > money_ron"
   ]
  },
  {
   "cell_type": "code",
   "execution_count": null,
   "metadata": {},
   "outputs": [],
   "source": []
  }
 ],
 "metadata": {
  "@webio": {
   "lastCommId": null,
   "lastKernelId": null
  },
  "kernelspec": {
   "display_name": "Julia 1.0.4",
   "language": "julia",
   "name": "julia-1.0"
  },
  "language_info": {
   "file_extension": ".jl",
   "mimetype": "application/julia",
   "name": "julia",
   "version": "1.0.4"
  }
 },
 "nbformat": 4,
 "nbformat_minor": 2
}
