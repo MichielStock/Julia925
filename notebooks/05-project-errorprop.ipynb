{
  "cells": [
    {
      "cell_type": "markdown",
      "source": [
        "# Project: automatic error propagation\n### Michiel Stock, Bram De Jaegher, Daan Van Hauwermeiren\n### 18 December 2019\n# What is error propagation?\n\nDuring my first year of college, I really liked the physics lectures because everything was exact. In my first year of physics, I really disliked the physics labs, because everything was messy. First-year physics labs are generally disliked partially because of the uninspiring topics (measuring resistance in a wire! determining a heat transfer coefficient! measuring chirality of sugar!) and partly because this was the only lab in which 'exact' measurements had to be performed. These labs introduced the complex and unexplained rules for measurement error propagation. Without any prior statistics or probability courses, it was lost on me where these strange rules originated from, as sharp contrast to nearly everything else in physics.\n\nA year later, after plowing through a basic probability course, error propagation is less mysterious. Almost all these rules to account for the error can be derived from a simple principle:\n\n> Given two **independent** random variables $$X$$ and $$Y$$, the variance of a linear combination $$\\text{Var}[aX+bY]=a^2\\text{Var}[X] + b^2\\text{Var}[Y]$$.\n\nMeasurement errors are usually given by a standard deviation, the square root of the variance. Given this principle, error propagation is merely bookkeeping of the standard error on the measurement for various computations. This [table on error propagation](https://en.wikipedia.org/wiki/Propagation_of_uncertainty#Example_formulae) might be useful.\n\nFor nonlinear functions, we can compute an approximate uncertainty propagation using a first-order Taylor approximation. We have, for any function $f(x)$:\n\n$$\nf(x\\pm \\sigma) \\approx f(x) \\pm |f'(x)|\\sigma\\,.\n$$\n\nFor example, for squaring a function, we have\n\n$$\n(x\\pm\\sigma)^2 = x^2 \\pm 2|x|\\sigma\\,.\n$$\n\nNote that this is consistent with the above rules for multiplication. Let us implement the general formula for raising a measurement to the power $p$.\n\nWe can implement this for all the standard mathematical functions one by one. However, Julia provides use with two efficient tools to do this in one swoop: automatic differentiation and metaprogramming. We just loop a list of functions of interest and automatically generate the correct approximate rule.\n\n\nInstead of processing the measurements and the standard error separately, suppose we could just make a new type of number which contains both the observed value and its uncertainty. And suppose we could just compute something with these numbers, plugging them into our formulas where the error is automatically accounted for using the standard error propagation rules. In Julia, it is dead simple to construct such new numbers and just overload existing functions such that they compute in the correct way.\n\n# Goal of this project\n\nWe will implement a binary operator `±`, which can be used to add the standard error to a measurement.\nThe result is a new type `Measurement` containing both the value and the standard error. Standard functions will be overloaded to process this structure correctly.\n\n# Assignments\n\n1. Make an `Measurement` structure with two fields: the measured value `x` and its standard deviation `σ` (`\\sigma<TAB>`). Make sure that both `x` and `σ` are of the same type and a subtype of `Real`.\n2. Make a constructor for `Measurement`, such that an error is returned when a negative standard error is given.\n3. Make two functions `val` and `err`, which respecitivly return the value and the standard error of a measurement.\n4. Make a binary operator `±` (`\\pm<TAB>`), such that `x ± σ` returns a new instance of the type `Measurement`. Try it on a value 4.0 with a standard error of 1.2.\n5. Overload all functions of scalar multiplication, adding and substracting measurements and adding a constant such that they correctly process measurements. Try some examples.\n6. Overload the power function `^` such that one can raise `Measurement`s to a power. Note the special case `(x ± σ)^0` = `one(x) ± zero(σ)`.\n7. Run example to generate error functions for a whole range of functions using metaprogramming.\n8. Solve the small exercise using data.\n\n**Assignment 1 and 2**"
      ],
      "metadata": {}
    },
    {
      "outputs": [],
      "cell_type": "code",
      "source": [
        "struct Measurement\n    ...\n    function Measurement(...)\n        ...\n    end\nend"
      ],
      "metadata": {},
      "execution_count": null
    },
    {
      "cell_type": "markdown",
      "source": [
        "**Assignment 3**"
      ],
      "metadata": {}
    },
    {
      "outputs": [],
      "cell_type": "code",
      "source": [
        "val(m::Measurement) = ...\nerr(m::Measurement) = ..."
      ],
      "metadata": {},
      "execution_count": null
    },
    {
      "cell_type": "markdown",
      "source": [
        "**Assignment 4**\n\nDon't forget to add type annotations!"
      ],
      "metadata": {}
    },
    {
      "outputs": [],
      "cell_type": "code",
      "source": [
        "±(x, σ) = ..."
      ],
      "metadata": {},
      "execution_count": null
    },
    {
      "cell_type": "markdown",
      "source": [
        "**Assignment 5**"
      ],
      "metadata": {}
    },
    {
      "outputs": [],
      "cell_type": "code",
      "source": [
        "# scalar multiplication\nBase.:*(a::Real, m::Measurement) = ...\nBase.:/(m::Measurement, a::Real) = ...\n# adding and substracting measurements\nBase.:+(m1::Measurement, m2::Measurement) = ...\nBase.:-(m1::Measurement, m2::Measurement) = ...\nBase.:-(m::Measurement) = ...\n# adding a constant\nBase.:+(m::Measurement, a::Real) = ...\nBase.:+(a::Real, m::Measurement) = ...\n# multiplying two measurments\nBase.:*(m1::Measurement, m2::Measurement) = ..."
      ],
      "metadata": {},
      "execution_count": null
    },
    {
      "cell_type": "markdown",
      "source": [
        "**Assignment 6**"
      ],
      "metadata": {}
    },
    {
      "outputs": [],
      "cell_type": "code",
      "source": [
        "Base.:^(m::Measurement, p::Integer) = ..."
      ],
      "metadata": {},
      "execution_count": null
    },
    {
      "cell_type": "markdown",
      "source": [
        "**Assignment 7**"
      ],
      "metadata": {}
    },
    {
      "outputs": [],
      "cell_type": "code",
      "source": [
        "using ForwardDiff\n\nfor f in [:sin, :cos, :tan, :exp, :log, :log2, :log10, :sqrt, :inv]\n    eval(quote\n        # this is a line of code generated using string interpolation\n        Base.$f(m::Measurement) = $f(m.x) ± abs(ForwardDiff.derivative($f, m.x) * m.σ)\n    end)\nend"
      ],
      "metadata": {},
      "execution_count": null
    },
    {
      "cell_type": "markdown",
      "source": [
        "**Assignment 8**\n\nLet's apply this to in a somewhat realistic setting. Many methods in analytical chemistry are based on the law of [Beer-Lambert](https://en.wikipedia.org/wiki/Beer%E2%80%93Lambert_law). This law relates the absorption of a ray of light passing through a cuvet with the concentration of a solution. For a given reference intensity $I_0$ at concentration of 0 and a lower intensity $I$ when it passes through a solution of concentration $c$, we have\n\n$$\n\\log \\left(\\frac{I_0}{I}\\right) = \\varepsilon c l\\,,\n$$\n\nwith $\\varepsilon$ the molar extinction coefficient and $$l$$ the thickness of the cuvet.\n\nSuppose we want to determine the extinction coefficient for some substance, using a cuvet of thickness $0.02\\pm 0.001$ and a reference solution of a concentration of $0.73\\pm 0.02$ M.\n\nWe perform some intensity measurements, with associated measurement errors.\n\n| $I0$ | $\\sigma_{I0}$ | $I1$ | $\\sigma_{I1}$ |\n|------|---------------|------|---------------|\n| 0.8  | 0.14          | 0.2  | 0.12          |\n| 1.1  | 0.11          | 0.3  | 0.07          |\n| 1.2  | 0.08          | 0.4  | 0.101         |\n\n\n**Estimate the molecular extinction coefficient.**"
      ],
      "metadata": {}
    },
    {
      "outputs": [],
      "cell_type": "code",
      "source": [
        ""
      ],
      "metadata": {},
      "execution_count": null
    }
  ],
  "nbformat_minor": 2,
  "metadata": {
    "language_info": {
      "file_extension": ".jl",
      "mimetype": "application/julia",
      "name": "julia",
      "version": "1.0.5"
    },
    "kernelspec": {
      "name": "julia-1.0",
      "display_name": "Julia 1.0.5",
      "language": "julia"
    }
  },
  "nbformat": 4
}
