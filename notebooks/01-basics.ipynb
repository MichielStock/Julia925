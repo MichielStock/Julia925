{
  "cells": [
    {
      "cell_type": "markdown",
      "source": [
        "# Getting started with Julia\n### Michiel Stock, Bram De Jaegher, Daan Van Hauwermeiren\n### December 2019\n# Basic computing\nLet's get started with the basics. Some mathematical operations,"
      ],
      "metadata": {}
    },
    {
      "outputs": [],
      "cell_type": "code",
      "source": [
        "1 + 2       # adding integers\n\n1.0 + 2.0   # adding floats\n\n2 / 4       # standard division\n\ndiv(2, 4)   # Computes 2/4 truncated to an integer\n\n35 \\ 7      # inverse division\n\n1 // 3      # fractions\n\n1//2 + 1//4\n\n'c'        # characters (unicode)\n\n:symbol    # symbols, mostly used for macros"
      ],
      "metadata": {},
      "execution_count": null
    },
    {
      "cell_type": "markdown",
      "source": [
        "variable assignment,"
      ],
      "metadata": {}
    },
    {
      "outputs": [],
      "cell_type": "code",
      "source": [
        "x = 2\n\nτ = 1 / 37  # unicode variable names are allowed"
      ],
      "metadata": {},
      "execution_count": null
    },
    {
      "cell_type": "markdown",
      "source": [
        "unicode! In most Julia editing environments, unicode math symbols can be typed when starting with a \"\\ and hitting [TAB]."
      ],
      "metadata": {}
    },
    {
      "outputs": [],
      "cell_type": "code",
      "source": [
        "# type \\alpha  and <TAB>"
      ],
      "metadata": {},
      "execution_count": null
    },
    {
      "cell_type": "markdown",
      "source": [
        "Operators are overrated."
      ],
      "metadata": {}
    },
    {
      "outputs": [],
      "cell_type": "code",
      "source": [
        "5x         # This works"
      ],
      "metadata": {},
      "execution_count": null
    },
    {
      "cell_type": "markdown",
      "source": [
        "But strings are quite essential,"
      ],
      "metadata": {}
    },
    {
      "outputs": [],
      "cell_type": "code",
      "source": [
        "mystery = \"life, the universe and everything\""
      ],
      "metadata": {},
      "execution_count": null
    },
    {
      "cell_type": "markdown",
      "source": [
        "and string interpolation is performed with `$`."
      ],
      "metadata": {}
    },
    {
      "outputs": [],
      "cell_type": "code",
      "source": [
        "println(\"The answer to $mystery is $(3*2*7)\")"
      ],
      "metadata": {},
      "execution_count": null
    },
    {
      "cell_type": "markdown",
      "source": [
        "All binary arithmetic and bitwise operators have an updating version that assigns the result of the operation back into the left operand. The updating version of the binary operator is formed by placing a, `=`, immediately after the operator."
      ],
      "metadata": {}
    },
    {
      "outputs": [],
      "cell_type": "code",
      "source": [
        "x += 2  # inplace update of x\nx += 2  # inplace update of x"
      ],
      "metadata": {},
      "execution_count": null
    },
    {
      "cell_type": "markdown",
      "source": [
        "Similarly to Matlab, when using the REPL, Julia will print the result of every statement by default. To suppress this behavious, just end the statement with a semicolon."
      ],
      "metadata": {}
    },
    {
      "outputs": [],
      "cell_type": "code",
      "source": [
        "a = 10;  # not printed\na = 20"
      ],
      "metadata": {},
      "execution_count": null
    },
    {
      "cell_type": "markdown",
      "source": [
        "# Boolean operators\nFrom zero to one."
      ],
      "metadata": {}
    },
    {
      "outputs": [],
      "cell_type": "code",
      "source": [
        "# Boolean operators\n!true\n!false\n1 == 1\n2 == 1\n1 != 1\n2 != 1\n1 < 10\n1 > 10\n2 <= 2\n2 >= 2\n# Comparisons can be chained\n1 < 2 < 3\n2 < 3 < 2"
      ],
      "metadata": {},
      "execution_count": null
    },
    {
      "cell_type": "markdown",
      "source": [
        "Likewise, we have the Boolean logic operators `&&` (AND), `||` (OR) and `⊻` (XOR, exclusive or)."
      ],
      "metadata": {}
    },
    {
      "outputs": [],
      "cell_type": "code",
      "source": [
        "true && true\ntrue && false\ntrue || false\nfalse || false\ntrue ⊻ false\ntrue ⊻ true"
      ],
      "metadata": {},
      "execution_count": null
    },
    {
      "cell_type": "markdown",
      "source": [
        "> **Question**: predict the value of the following statements."
      ],
      "metadata": {}
    },
    {
      "outputs": [],
      "cell_type": "code",
      "source": [
        "x, y = true, false\n\n(x || y) && !(y || y)\n(x ⊻ y) && (!x ⊻ !y)\n(x || y) ⊻ (x && y)"
      ],
      "metadata": {},
      "execution_count": null
    },
    {
      "cell_type": "markdown",
      "source": [
        "# Control flow\nThe `if`, `else`, `elseif`-statement is instrumental to any programming language,"
      ],
      "metadata": {}
    },
    {
      "outputs": [],
      "cell_type": "code",
      "source": [
        "if 4 > 3\n  println(\"A\")\nelseif 3 > 4\n  println(\"B\")\nelse\n  println(\"C\")\nend"
      ],
      "metadata": {},
      "execution_count": null
    },
    {
      "cell_type": "markdown",
      "source": [
        "Julia allows for some very condense control flow structures."
      ],
      "metadata": {}
    },
    {
      "outputs": [],
      "cell_type": "code",
      "source": [
        "y = condition ? valueiftrue : valueiffalse"
      ],
      "metadata": {},
      "execution_count": null
    },
    {
      "cell_type": "markdown",
      "source": [
        "> **Assignment** Compute the clip function $\\min(0, \\max(1, x))$ for a given $x$, without making use of the functions `min` and `max`."
      ],
      "metadata": {}
    },
    {
      "outputs": [],
      "cell_type": "code",
      "source": [
        "x = 2.0\n\nclip(x) = ..."
      ],
      "metadata": {},
      "execution_count": null
    },
    {
      "cell_type": "markdown",
      "source": [
        "# Looping"
      ],
      "metadata": {}
    },
    {
      "outputs": [],
      "cell_type": "code",
      "source": [
        "characters = [\"Harry\", \"Ron\", \"Hermione\"]\n\nfor char in characters\n  println(\"Character $char\")\nend\n\nfor (i, char) in enumerate(characters)\n  println(\"$i. $char\")\nend\n\npets = [\"Hedwig\", \"Pig\", \"Crookhanks\"]\n\nfor (char, pet) in zip(characters, pets)\n  println(\"$char has $pet as a pet\")\nend"
      ],
      "metadata": {},
      "execution_count": null
    },
    {
      "outputs": [],
      "cell_type": "code",
      "source": [
        "n = 1675767616;\n\nwhile n > 1\n  println(n)\n  if n % 2 == 0\n    global n = div(n, 2)\n  else\n    global n = 3n + 1\n  end\nend"
      ],
      "metadata": {},
      "execution_count": null
    },
    {
      "cell_type": "markdown",
      "source": [
        "(Note: [they got closer to cracking this one](https://www.quantamagazine.org/mathematician-terence-tao-and-the-collatz-conjecture-20191211/?mc_cid=a3adbffb9f&mc_eid=41ed2fca13).)\n\n# Functions\nJulia puts the fun in functions. User-defined functions can be declared as follows,"
      ],
      "metadata": {}
    },
    {
      "outputs": [],
      "cell_type": "code",
      "source": [
        "function square(x)\n  result = x * x\n  return result\nend\n\nsquare(2)\n\nsquare(2.0)\n\nsquare(\"ni\")   # the multiplication of strings is defined as a concatenation"
      ],
      "metadata": {},
      "execution_count": null
    },
    {
      "cell_type": "markdown",
      "source": [
        "A more condensed version of of `square(x)`."
      ],
      "metadata": {}
    },
    {
      "outputs": [],
      "cell_type": "code",
      "source": [
        "s(x) = x * x"
      ],
      "metadata": {},
      "execution_count": null
    },
    {
      "cell_type": "markdown",
      "source": [
        "Passing an array to a function that takes a single element as argument takes a special syntax. By putting a `.` before the brackets, the function is executed on all the elements of the Array. More on this in **Part2: collections**."
      ],
      "metadata": {}
    },
    {
      "outputs": [],
      "cell_type": "code",
      "source": [
        "s([1, 2, 3, 4, 5])   # Multiplication is not defined for Arrays"
      ],
      "metadata": {},
      "execution_count": null
    },
    {
      "outputs": [],
      "cell_type": "code",
      "source": [
        "s.([1, 2, 3, 4, 5])  # This is an elements-wise execution of s()"
      ],
      "metadata": {},
      "execution_count": null
    },
    {
      "cell_type": "markdown",
      "source": [
        "Keyword arguments are defined using a semicolon in the back signature and a default value can be assigned. \"Keywords\" assigned before the semicolon are default values but their keywords are not ignored."
      ],
      "metadata": {}
    },
    {
      "outputs": [],
      "cell_type": "code",
      "source": [
        "safelog(x, offset=0.1; base=10) = log(x + offset) / log(base)\n\nsafelog(0)\n\nsafelog(0, 0.01)\n\nsafelog(0, 0.01, base=2)"
      ],
      "metadata": {},
      "execution_count": null
    },
    {
      "cell_type": "markdown",
      "source": [
        "When functions have a variable number of arguments, one can use the *slurping* `...` operator to denote a variable number of arguments. The argument will be treated as a collection. For example"
      ],
      "metadata": {}
    },
    {
      "outputs": [],
      "cell_type": "code",
      "source": [
        "function mymean(X...)\n  m = zero(first(X))  # ensures to be the same type as x\n  # m = 0.0  # alternative that is less tidy\n  for x in X\n    m += x\n  end\n  return m / length(X)\nend\n\nmymean(1, 3, 5)\n\nmymean(1, 3, 5, 7)"
      ],
      "metadata": {},
      "execution_count": null
    },
    {
      "cell_type": "markdown",
      "source": [
        "Similarly, the *splatting* operator can be used to split a collection into its individual elements."
      ],
      "metadata": {}
    },
    {
      "outputs": [],
      "cell_type": "code",
      "source": [
        "c = [1.0, 3.0, 5.0];\n\nmymean(c...)"
      ],
      "metadata": {},
      "execution_count": null
    },
    {
      "cell_type": "markdown",
      "source": [
        "When unsure of what a function does, the documentation can be viewed by adding a \"?\" in front of the function."
      ],
      "metadata": {}
    },
    {
      "outputs": [],
      "cell_type": "code",
      "source": [
        "# type ?sort and hit <ENTER>"
      ],
      "metadata": {},
      "execution_count": null
    },
    {
      "cell_type": "markdown",
      "source": [
        "For a lot of standard Julia functions a in-place version is defined. In-place means that the function changes one of the input arguments of the function. As an example, `sort()` sorts and returns the array passed as argument, it does not change the original array. In contrast, `sort!()` is the inplace version of sort and directly sorts the array passed as argument."
      ],
      "metadata": {}
    },
    {
      "outputs": [],
      "cell_type": "code",
      "source": [
        "my_unsorted_list = [4, 5, 9, 7, 1, 9]\n\nsort(my_unsorted_list)\n\nmy_unsorted_list\n\nsort!(my_unsorted_list)\n\nmy_unsorted_list"
      ],
      "metadata": {},
      "execution_count": null
    },
    {
      "cell_type": "markdown",
      "source": [
        "# Plotting\nQuite essential for scientific programming is the visualisation of the results. `Plots` is the Julia package that handles a lot of the visualisation. `rand(10)`, returns an array of 10 random floats between 0 and 1."
      ],
      "metadata": {}
    },
    {
      "outputs": [],
      "cell_type": "code",
      "source": [
        "using Plots\n\nplot(1:10, rand(10), label=\"first\")\nplot!(1:10, rand(10), label=\"second\")\n\nscatter!([1:10], randn(10), label=\"scatter\")\n\nxlabel!(\"x\")\nylabel!(\"f(x)\")\ntitle!(\"My pretty Julia plot\")\n\nplot(0:0.1:10, x -> sin(x) / x, xlabel=\"x\", ylabel=\"sin(x)/x\", legend=:none)\n\ncontour(-5:0.1:5, -10:0.1:10, (x, y) -> 3x^2-4y^2 + x*y/6)"
      ],
      "metadata": {},
      "execution_count": null
    },
    {
      "cell_type": "markdown",
      "source": [
        "# Exercise"
      ],
      "metadata": {}
    }
  ],
  "nbformat_minor": 2,
  "metadata": {
    "language_info": {
      "file_extension": ".jl",
      "mimetype": "application/julia",
      "name": "julia",
      "version": "1.0.5"
    },
    "kernelspec": {
      "name": "julia-1.0",
      "display_name": "Julia 1.0.5",
      "language": "julia"
    }
  },
  "nbformat": 4
}
