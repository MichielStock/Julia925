{
 "cells": [
  {
   "cell_type": "markdown",
   "metadata": {},
   "source": [
    "# Getting started with Julia\n",
    "### Michiel Stock\n",
    "Bram De Jaegher\n",
    "Daan?\n",
    "\n",
    "### December 2019\n",
    "# Basic computing\n",
    "Let's get started with the basics. Some mathematical operations,"
   ]
  },
  {
   "cell_type": "code",
   "execution_count": null,
   "metadata": {},
   "outputs": [],
   "source": [
    "1 + 2       # adding integers\n",
    "\n",
    "1.0 + 2.0   # adding floats\n",
    "\n",
    "2 / 4       # standard division\n",
    "\n",
    "div(2, 4)   # Computes 2/4 truncated to an integer\n",
    "\n",
    "35 \\ 7      # inverse division \n",
    "\n",
    "1 // 3      # fractions\n",
    "\n",
    "1//2 + 1//4 \n",
    "\n",
    "'c'        # characters (unicode)\n",
    "\n",
    ":symbol    # symbols, mostly used for macros"
   ]
  },
  {
   "cell_type": "markdown",
   "metadata": {},
   "source": [
    "variable assignment,"
   ]
  },
  {
   "cell_type": "code",
   "execution_count": null,
   "metadata": {},
   "outputs": [],
   "source": [
    "x = 2\n",
    "\n",
    "τ = 1 / 37  # unicode variable names are allowed"
   ]
  },
  {
   "cell_type": "markdown",
   "metadata": {},
   "source": [
    "unicode! In most Julia editing environments, unicode math symbols can be typed when starting with a \"\\ and hitting [TAB]."
   ]
  },
  {
   "cell_type": "code",
   "execution_count": null,
   "metadata": {},
   "outputs": [],
   "source": [
    "# type \\alpha  and <TAB>"
   ]
  },
  {
   "cell_type": "markdown",
   "metadata": {},
   "source": [
    "Operators are overrated."
   ]
  },
  {
   "cell_type": "code",
   "execution_count": null,
   "metadata": {},
   "outputs": [],
   "source": [
    "5x         # This works"
   ]
  },
  {
   "cell_type": "markdown",
   "metadata": {},
   "source": [
    "But strings are quite essential,"
   ]
  },
  {
   "cell_type": "code",
   "execution_count": null,
   "metadata": {},
   "outputs": [],
   "source": [
    "mystery = \"life, the universe and everything\""
   ]
  },
  {
   "cell_type": "markdown",
   "metadata": {},
   "source": [
    "and string interpolation is performed with `$`."
   ]
  },
  {
   "cell_type": "code",
   "execution_count": null,
   "metadata": {},
   "outputs": [],
   "source": [
    "println(\"The answer to $mystery is $(3*2*7)\")"
   ]
  },
  {
   "cell_type": "markdown",
   "metadata": {},
   "source": [
    "All binary arithmetic and bitwise operators have an updating version that assigns the result of the operation back into the left operand. The updating version of the binary operator is formed by placing a, `=`, immediately after the operator."
   ]
  },
  {
   "cell_type": "code",
   "execution_count": null,
   "metadata": {},
   "outputs": [],
   "source": [
    "x += 2  # inplace update of x\n",
    "x += 2  # inplace update of x"
   ]
  },
  {
   "cell_type": "markdown",
   "metadata": {},
   "source": [
    "# Boolean operators\n",
    "From zero to one."
   ]
  },
  {
   "cell_type": "code",
   "execution_count": null,
   "metadata": {},
   "outputs": [],
   "source": [
    "# Boolean operators\n",
    "!true   # => false\n",
    "!false  # => true\n",
    "1 == 1  # => true\n",
    "2 == 1  # => false\n",
    "1 != 1  # => false\n",
    "2 != 1  # => true\n",
    "1 < 10  # => true\n",
    "1 > 10  # => false\n",
    "2 <= 2  # => true\n",
    "2 >= 2  # => true\n",
    "# Comparisons can be chained\n",
    "1 < 2 < 3  # => true\n",
    "2 < 3 < 2  # => false"
   ]
  },
  {
   "cell_type": "markdown",
   "metadata": {},
   "source": [
    "# Control flow\n",
    "The `if`, `else`, `elseif`-statement is instrumental to any programming language,"
   ]
  },
  {
   "cell_type": "code",
   "execution_count": null,
   "metadata": {},
   "outputs": [],
   "source": [
    "if 4 > 3\n",
    "  println(\"A\")\n",
    "elseif 3 > 4\n",
    "  println(\"B\")\n",
    "else\n",
    "  println(\"C\")\n",
    "end"
   ]
  },
  {
   "cell_type": "markdown",
   "metadata": {},
   "source": [
    "Julia allows for some very condense control flow structures."
   ]
  },
  {
   "cell_type": "code",
   "execution_count": null,
   "metadata": {},
   "outputs": [],
   "source": [
    "y = condition ? valueiftrue : valueiffalse"
   ]
  },
  {
   "cell_type": "markdown",
   "metadata": {},
   "source": [
    "# Looping"
   ]
  },
  {
   "cell_type": "code",
   "execution_count": null,
   "metadata": {},
   "outputs": [],
   "source": [
    "characters = [\"Harry\", \"Ron\", \"Hermione\"]\n",
    "\n",
    "for char in characters\n",
    "  println(\"Character $char\")\n",
    "end\n",
    "\n",
    "for (i, char) in enumerate(characters)\n",
    "  println(\"$i. $char\")\n",
    "end\n",
    "\n",
    "pets = [\"Hedwig\", \"Pig\", \"Crookhanks\"]\n",
    "\n",
    "for (char, pet) in zip(characters, pets)\n",
    "  println(\"$char has $pet as a pet\")\n",
    "end"
   ]
  },
  {
   "cell_type": "code",
   "execution_count": null,
   "metadata": {},
   "outputs": [],
   "source": [
    "n = 1675767616;\n",
    "\n",
    "while n > 1\n",
    "  println(n)\n",
    "  if n % 2 == 0\n",
    "    global n = div(n, 2)\n",
    "  else\n",
    "    global n = 3n + 1\n",
    "  end\n",
    "end"
   ]
  },
  {
   "cell_type": "markdown",
   "metadata": {},
   "source": [
    "# Functions\n",
    "Julia puts the fun in functions. User-defined functions can be declared as follows,"
   ]
  },
  {
   "cell_type": "code",
   "execution_count": null,
   "metadata": {},
   "outputs": [],
   "source": [
    "function square(x)\n",
    "  result = x * x\n",
    "  return result\n",
    "end\n",
    "\n",
    "square(2)\n",
    "\n",
    "square(2.0)\n",
    "\n",
    "square(\"ni\")   # the multiplication of strings is defined as a concatenation"
   ]
  },
  {
   "cell_type": "markdown",
   "metadata": {},
   "source": [
    "A more condensed version of of `square(x)`."
   ]
  },
  {
   "cell_type": "code",
   "execution_count": null,
   "metadata": {},
   "outputs": [],
   "source": [
    "s(x) = x * x"
   ]
  },
  {
   "cell_type": "markdown",
   "metadata": {},
   "source": [
    "Passing an array to a function that takes a single element as argument takes a special syntax. By putting a `.` before the brackets, the function is executed on all the elements of the Array. More on this in **Part3?: collections**."
   ]
  },
  {
   "cell_type": "code",
   "execution_count": null,
   "metadata": {},
   "outputs": [],
   "source": [
    "s([1, 2, 3, 4, 5])   # Multiplication is not defined for Arrays"
   ]
  },
  {
   "cell_type": "code",
   "execution_count": null,
   "metadata": {},
   "outputs": [],
   "source": [
    "s.([1, 2, 3, 4, 5])  # This is an elements-wise execution of s()"
   ]
  },
  {
   "cell_type": "markdown",
   "metadata": {},
   "source": [
    "Keyword arguments are defined using a semicolon in the back signature and a default value can be assigned. \"Keywords\" assigned before the semicolon are default values but their keywords are not ignored."
   ]
  },
  {
   "cell_type": "code",
   "execution_count": null,
   "metadata": {},
   "outputs": [],
   "source": [
    "safelog(x, offset=0.1; base=10) = log(x + offset) / log(base)\n",
    "\n",
    "safelog(0)\n",
    "\n",
    "safelog(0, 0.01)\n",
    "\n",
    "safelog(0, 0.01, base=2)"
   ]
  },
  {
   "cell_type": "markdown",
   "metadata": {},
   "source": [
    "When unsure of what a function does, the documentation can be viewed by adding a \"?\" in front of the function."
   ]
  },
  {
   "cell_type": "code",
   "execution_count": null,
   "metadata": {},
   "outputs": [],
   "source": [
    "# type ?sort and hit <ENTER>"
   ]
  },
  {
   "cell_type": "markdown",
   "metadata": {},
   "source": [
    "For a lot of standard Julia functions a in-place version is defined. In-place means that the function changes one of the input arguments of the function. As an example, `sort()` sorts and returns the array passed as argument, it does not change the original array. In contrast, `sort!()` is the inplace version of sort and directly sorts the array passed as argument."
   ]
  },
  {
   "cell_type": "code",
   "execution_count": null,
   "metadata": {},
   "outputs": [],
   "source": [
    "my_unsorted_list = [4, 5, 9, 7, 1, 9]\n",
    "\n",
    "sort(my_unsorted_list)\n",
    "\n",
    "my_unsorted_list\n",
    "\n",
    "sort!(my_unsorted_list)\n",
    "\n",
    "my_unsorted_list"
   ]
  },
  {
   "cell_type": "markdown",
   "metadata": {},
   "source": [
    "# Plotting\n",
    "Quite essential for scientific programming is the visualisation of the results. `Plots` is the Julia package that handles a lot of the visualisation. `rand(10)`, returns an array of 10 random floats between 0 and 1."
   ]
  },
  {
   "cell_type": "code",
   "execution_count": null,
   "metadata": {},
   "outputs": [],
   "source": [
    "using Plots\n",
    "\n",
    "plot(1:10, rand(10), label=\"first\")\n",
    "plot!(1:10, rand(10), label=\"second\")\n",
    "\n",
    "scatter!([1:10], randn(10), label=\"scatter\")\n",
    "\n",
    "xlabel!(\"x\")\n",
    "ylabel!(\"f(x)\")\n",
    "title!(\"My pretty Julia plot\")\n",
    "\n",
    "plot(0:0.1:10, x -> sin(x) / x, xlabel=\"x\", ylabel=\"sin(x)/x\", legend=:none)\n",
    "\n",
    "contour(-5:0.1:5, -10:0.1:10, (x, y) -> 3x^2-4y^2 + x*y/6)"
   ]
  },
  {
   "cell_type": "markdown",
   "metadata": {},
   "source": [
    "# Exercise"
   ]
  }
 ],
 "metadata": {
  "hide_input": false,
  "kernelspec": {
   "display_name": "Julia 1.0.0",
   "language": "julia",
   "name": "julia-1.0"
  },
  "language_info": {
   "file_extension": ".jl",
   "mimetype": "application/julia",
   "name": "julia",
   "version": "1.0.0"
  },
  "varInspector": {
   "cols": {
    "lenName": 16,
    "lenType": 16,
    "lenVar": 40
   },
   "kernels_config": {
    "python": {
     "delete_cmd_postfix": "",
     "delete_cmd_prefix": "del ",
     "library": "var_list.py",
     "varRefreshCmd": "print(var_dic_list())"
    },
    "r": {
     "delete_cmd_postfix": ") ",
     "delete_cmd_prefix": "rm(",
     "library": "var_list.r",
     "varRefreshCmd": "cat(var_dic_list()) "
    }
   },
   "types_to_exclude": [
    "module",
    "function",
    "builtin_function_or_method",
    "instance",
    "_Feature"
   ],
   "window_display": true
  }
 },
 "nbformat": 4,
 "nbformat_minor": 2
}
